{
  "nbformat": 4,
  "nbformat_minor": 0,
  "metadata": {
    "kernelspec": {
      "display_name": "Python 3 (ipykernel)",
      "language": "python",
      "name": "python3"
    },
    "language_info": {
      "codemirror_mode": {
        "name": "ipython",
        "version": 3
      },
      "file_extension": ".py",
      "mimetype": "text/x-python",
      "name": "python",
      "nbconvert_exporter": "python",
      "pygments_lexer": "ipython3",
      "version": "3.8.12"
    },
    "toc-autonumbering": false,
    "toc-showcode": false,
    "toc-showmarkdowntxt": false,
    "toc-showtags": false,
    "colab": {
      "name": "mip_search_app-v1.ipynb",
      "provenance": [],
      "collapsed_sections": []
    }
  },
  "cells": [
    {
      "cell_type": "markdown",
      "metadata": {
        "tags": [],
        "id": "x5wjno2TWPIP"
      },
      "source": [
        "# MIP Search App\n",
        "\n",
        "Search facility for MIP data"
      ]
    },
    {
      "cell_type": "markdown",
      "metadata": {
        "id": "7i4PjsNWiW9l"
      },
      "source": [
        "## Setup\n",
        "Run this cell only once."
      ]
    },
    {
      "cell_type": "code",
      "metadata": {
        "colab": {
          "base_uri": "https://localhost:8080/"
        },
        "id": "CJfE_kOGWPIW",
        "outputId": "f06e53f9-edeb-4798-941c-6ec43c1301ea"
      },
      "source": [
        "#from google.colab import drive, files\n",
        "#drive.mount('/content/drive')\n",
        "print(\"Downloading source code...\")\n",
        "#!wget -q https://www.dropbox.com/s/8cq075g74yniayy/search_utils.py?dl=1 -O search_utils.py\n",
        "!wget -q https://www.dropbox.com/s/7jbbewmgdvyh3wa/museums_wattributes-2020-02-23.tsv?dl=1 -O museums_wattributes-2020-02-23.tsv\n",
        "print(\"Downloading DB...\")\n",
        "!wget -q https://www.dropbox.com/s/nnaujcnzdp5y8ua/mip_corpus_search.db.zip?dl=1  -O mip_corpus_search.db.zip\n",
        "\n",
        "#!unzip -o /content/drive/MyDrive/Colab/mip_corpus_search.db.zip -d /content/\n",
        "!unzip -o mip_corpus_search.db.zip -d /content/\n",
        "%run search_utils.py"
      ],
      "execution_count": 72,
      "outputs": [
        {
          "output_type": "stream",
          "name": "stdout",
          "text": [
            "Downloading source code...\n",
            "Downloading DB...\n",
            "^C\n",
            "Archive:  mip_corpus_search.db.zip\n",
            "  End-of-central-directory signature not found.  Either this file is not\n",
            "  a zipfile, or it constitutes one disk of a multi-part archive.  In the\n",
            "  latter case the central directory and zipfile comment will be found on\n",
            "  the last disk(s) of this archive.\n",
            "unzip:  cannot find zipfile directory in one of mip_corpus_search.db.zip or\n",
            "        mip_corpus_search.db.zip.zip, and cannot find mip_corpus_search.db.zip.ZIP, period.\n",
            "generate_derived_attributes_muse_df\n",
            "ok\n"
          ]
        }
      ]
    },
    {
      "cell_type": "markdown",
      "metadata": {
        "id": "KJYqmA8UWPIZ"
      },
      "source": [
        "## Search\n",
        "\n",
        "Syntax: * means 'any character'"
      ]
    },
    {
      "cell_type": "code",
      "metadata": {
        "id": "RcNKIXpcWPIa",
        "colab": {
          "base_uri": "https://localhost:8080/",
          "height": 1000
        },
        "outputId": "aa766f7e-97b6-49e8-9427-58a3a96c2fde"
      },
      "source": [
        "#@title Search corpus { display-mode: \"form\" }\n",
        "%run search_utils.py\n",
        "search_string = \"london\" #@param {type:\"string\"}\n",
        "case_sensitive = False #@param {type:\"boolean\"}\n",
        "search_websites = False\n",
        "search_website_sentences = True #@param {type:\"boolean\"}\n",
        "search_facebook = False #@param {type:\"boolean\"}\n",
        "search_twitter = False #@param {type:\"boolean\"}\n",
        "max_results =  130#@param {type:\"integer\"}\n",
        "context_window =  5#@param {type:\"integer\"}\n",
        "res_df = run_search(search_string, case_sensitive,\n",
        "           search_facebook, search_twitter, search_websites, \n",
        "           search_website_sentences)\n",
        "if len(res_df) > 0:\n",
        "  results_html, results_page_df = generate_html_matches(res_df, search_string, \n",
        "    case_sensitive, context_window, max_results)\n",
        "  display(HTML(results_html))\n",
        "#res_df"
      ],
      "execution_count": 170,
      "outputs": [
        {
          "output_type": "stream",
          "name": "stdout",
          "text": [
            "generate_derived_attributes_muse_df\n",
            "ok\n",
            "WEBSITES: 2773 matches found. N sessions: 2. Unique museums: 496\n",
            "search_regex: '(?i)\\blondon\\b'\n"
          ]
        },
        {
          "output_type": "display_data",
          "data": {
            "text/html": [
              "<style>\n",
              "    table, tr, th, td {\n",
              "      margin: 3px;\n",
              "      border: solid 1px gray;\n",
              "      font-size: .9em;\n",
              "      border-collapse: collapse;\n",
              "      font-family: sans-serif;\n",
              "      vertical-align: top;\n",
              "    }\n",
              "    .before_col { text-align: right; }\n",
              "    .match_col { font-weight: bold; color: blue; }\n",
              "    strong { background-color: blue; color: white; }\n",
              "    </style><h3>website_sentences (first 130)</h3><table><tr><th>res</th><th>museum_id</th><th>before</th><th>match</th><th>after</th><th>msg_time</th></tr><tr><td class=\"\">1699</td><td class=\"\">mm.wiki.485</td><td class=\"before_col\">salmon en route to </td><td class=\"match_col\">London</td><td class=\"\"></td><td class=\"\">2021-09-14</td></tr><tr><td class=\"\">1700</td><td class=\"\">mm.wiki.485</td><td class=\"before_col\">salmon en route to </td><td class=\"match_col\">London</td><td class=\"\"></td><td class=\"\">2021-09-14</td></tr><tr><td class=\"\">2734</td><td class=\"\">mm.wiki.483</td><td class=\"before_col\">Templeton – Imperial College </td><td class=\"match_col\">London</td><td class=\"\">, U</td><td class=\"\">2021-09-14</td></tr><tr><td class=\"\">2735</td><td class=\"\">mm.wiki.483</td><td class=\"before_col\">Belen Torondel – </td><td class=\"match_col\">London</td><td class=\"\"> School of Hygiene and\n",
              "Tropical</td><td class=\"\">2021-09-14</td></tr><tr><td class=\"\">2535</td><td class=\"\">mm.wiki.478</td><td class=\"before_col\">courtesy of The Illustrated </td><td class=\"match_col\">London</td><td class=\"\"> News Histor</td><td class=\"\">2021-09-14</td></tr><tr><td class=\"\">1388</td><td class=\"\">mm.wiki.475</td><td class=\"before_col\">the South East and </td><td class=\"match_col\">London</td><td class=\"\">, and which took the</td><td class=\"\">2021-09-14</td></tr><tr><td class=\"\">1613</td><td class=\"\">mm.wiki.438</td><td class=\"before_col\">week to jewellers in </td><td class=\"match_col\">London</td><td class=\"\"></td><td class=\"\">2021-09-14</td></tr><tr><td class=\"\">1523</td><td class=\"\">mm.wiki.396</td><td class=\"before_col\">during 1840s- Silver Street, </td><td class=\"match_col\">London</td><td class=\"\"> Road – listed in</td><td class=\"\">2021-09-14</td></tr><tr><td class=\"\">2491</td><td class=\"\">mm.wiki.313</td><td class=\"before_col\">Henley, an hour from </td><td class=\"match_col\">London</td><td class=\"\">, 40 minutes from Oxford</td><td class=\"\">2021-09-14</td></tr><tr><td class=\"\">1912</td><td class=\"\">mm.wiki.286</td><td class=\"before_col\">Attractions England Scotland Wales </td><td class=\"match_col\">London</td><td class=\"\"></td><td class=\"\">2021-09-14</td></tr><tr><td class=\"\">1913</td><td class=\"\">mm.wiki.286</td><td class=\"before_col\">with Wren to rebuild </td><td class=\"match_col\">London</td><td class=\"\"> after the\n",
              "Great Fire of</td><td class=\"\">2021-09-14</td></tr><tr><td class=\"\">1649</td><td class=\"\">mm.wiki.256</td><td class=\"before_col\">January Mark Middleton </td><td class=\"match_col\">London</td><td class=\"\"> to Mongolia in an</td><td class=\"\">2021-09-14</td></tr><tr><td class=\"\">1650</td><td class=\"\">mm.wiki.256</td><td class=\"before_col\">Northern Railway, later the </td><td class=\"match_col\">London</td><td class=\"\"> and North Eastern Railway,</td><td class=\"\">2021-09-14</td></tr><tr><td class=\"\">1651</td><td class=\"\">mm.wiki.256</td><td class=\"before_col\">the main line to </td><td class=\"match_col\">London</td><td class=\"\"></td><td class=\"\">2021-09-14</td></tr><tr><td class=\"\">1652</td><td class=\"\">mm.wiki.256</td><td class=\"before_col\">the Bluecoat School in </td><td class=\"match_col\">London</td><td class=\"\"></td><td class=\"\">2021-09-14</td></tr><tr><td class=\"\">1653</td><td class=\"\">mm.wiki.256</td><td class=\"before_col\">to send eels to </td><td class=\"match_col\">London</td><td class=\"\"> each day but the</td><td class=\"\">2021-09-14</td></tr><tr><td class=\"\">1654</td><td class=\"\">mm.wiki.256</td><td class=\"before_col\">Mr Tickler was at </td><td class=\"match_col\">London</td><td class=\"\"> and he didn’t get</td><td class=\"\">2021-09-14</td></tr><tr><td class=\"\">1771</td><td class=\"\">mm.wiki.248</td><td class=\"before_col\">building of the GCR’s </td><td class=\"match_col\">London</td><td class=\"\"> Extension – the line</td><td class=\"\">2021-09-14</td></tr><tr><td class=\"\">1772</td><td class=\"\">mm.wiki.248</td><td class=\"before_col\">in a bookshop in </td><td class=\"match_col\">London</td><td class=\"\"> in 1974 and supporters</td><td class=\"\">2021-09-14</td></tr><tr><td class=\"\">1769</td><td class=\"\">mm.wiki.225</td><td class=\"before_col\"></td><td class=\"match_col\">London</td><td class=\"\"> Cit</td><td class=\"\">2021-09-14</td></tr><tr><td class=\"\">1770</td><td class=\"\">mm.wiki.225</td><td class=\"before_col\">Meet Beyond </td><td class=\"match_col\">London</td><td class=\"\">\n",
              ", South Coast Dorset\n",
              "</td><td class=\"\">2021-09-14</td></tr><tr><td class=\"\">2154</td><td class=\"\">mm.wiki.220</td><td class=\"before_col\">Thames Estuary has defended </td><td class=\"match_col\">London</td><td class=\"\">'s seaward approach from Tudor</td><td class=\"\">2021-09-14</td></tr><tr><td class=\"\">1494</td><td class=\"\">mm.wiki.219</td><td class=\"before_col\">within easy reach of </td><td class=\"match_col\">London</td><td class=\"\"></td><td class=\"\">2021-09-14</td></tr><tr><td class=\"\">1413</td><td class=\"\">mm.wiki.206</td><td class=\"before_col\">35 miles north of </td><td class=\"match_col\">London</td><td class=\"\">.</td><td class=\"\">2021-09-14</td></tr><tr><td class=\"\">1739</td><td class=\"\">mm.wiki.193</td><td class=\"before_col\">direct train services from </td><td class=\"match_col\">London</td><td class=\"\">, Gatwick airport, Brighton, Southampton,</td><td class=\"\">2021-09-14</td></tr><tr><td class=\"\">1828</td><td class=\"\">mm.wiki.190</td><td class=\"before_col\">children’s bereavement charity in </td><td class=\"match_col\">London</td><td class=\"\">; a support group those</td><td class=\"\">2021-09-14</td></tr><tr><td class=\"\">1601</td><td class=\"\">mm.wiki.188</td><td class=\"before_col\">sold it to two </td><td class=\"match_col\">London</td><td class=\"\"> merchants, George and Humphrey</td><td class=\"\">2021-09-14</td></tr><tr><td class=\"\">2727</td><td class=\"\">mm.wiki.177</td><td class=\"before_col\">museum to open in </td><td class=\"match_col\">London</td><td class=\"\"> since the Horniman in</td><td class=\"\">2021-09-14</td></tr><tr><td class=\"\">2728</td><td class=\"\">mm.wiki.177</td><td class=\"before_col\">Contact: 11 Mare Street, </td><td class=\"match_col\">London</td><td class=\"\"> E8 4R</td><td class=\"\">2021-09-14</td></tr><tr><td class=\"\">2447</td><td class=\"\">mm.wiki.174</td><td class=\"before_col\">Spencer House is </td><td class=\"match_col\">London</td><td class=\"\">’s most magnificent\n",
              "eighteenth-century aristocratic palace</td><td class=\"\">2021-09-14</td></tr><tr><td class=\"\">2448</td><td class=\"\">mm.wiki.174</td><td class=\"before_col\">it is </td><td class=\"match_col\">London</td><td class=\"\">’s finest surviving eighteenth-century town</td><td class=\"\">2021-09-14</td></tr><tr><td class=\"\">2449</td><td class=\"\">mm.wiki.174</td><td class=\"before_col\">residences ever built in </td><td class=\"match_col\">London</td><td class=\"\"> and a building of</td><td class=\"\">2021-09-14</td></tr><tr><td class=\"\">2450</td><td class=\"\">mm.wiki.174</td><td class=\"before_col\"></td><td class=\"match_col\">London</td><td class=\"\"> Craft Week at Spencer</td><td class=\"\">2021-09-14</td></tr><tr><td class=\"\">2451</td><td class=\"\">mm.wiki.174</td><td class=\"before_col\"></td><td class=\"match_col\">London</td><td class=\"\"></td><td class=\"\">2021-09-14</td></tr><tr><td class=\"\">2445</td><td class=\"\">mm.wiki.173</td><td class=\"before_col\">HOUSE, 3-4 WOODHAYES ROAD, </td><td class=\"match_col\">LONDON</td><td class=\"\"> SW19 4RJ TEL: 0742792796</td><td class=\"\">2021-09-14</td></tr><tr><td class=\"\">2475</td><td class=\"\">mm.wiki.170</td><td class=\"before_col\">The Bishop of </td><td class=\"match_col\">London</td><td class=\"\"> Members of Chapter Minor</td><td class=\"\">2021-09-14</td></tr><tr><td class=\"\">2476</td><td class=\"\">mm.wiki.170</td><td class=\"before_col\">The Diocese of </td><td class=\"match_col\">London</td><td class=\"\"> Cathedral Videos Weddings &</td><td class=\"\">2021-09-14</td></tr><tr><td class=\"\">2477</td><td class=\"\">mm.wiki.170</td><td class=\"before_col\">Grinling Gibbons </td><td class=\"match_col\">London</td><td class=\"\"> Craft Week 2020</td><td class=\"\">2021-09-14</td></tr><tr><td class=\"\">2478</td><td class=\"\">mm.wiki.170</td><td class=\"before_col\">iconic feature of the </td><td class=\"match_col\">London</td><td class=\"\"> skyline</td><td class=\"\">2021-09-14</td></tr><tr><td class=\"\">2479</td><td class=\"\">mm.wiki.170</td><td class=\"before_col\">of the splendour of </td><td class=\"match_col\">London</td><td class=\"\">, St Paul’s Cathedral is</td><td class=\"\">2021-09-14</td></tr><tr><td class=\"\">2480</td><td class=\"\">mm.wiki.170</td><td class=\"before_col\">out as part of </td><td class=\"match_col\">London</td><td class=\"\">'s Festival of the Bell</td><td class=\"\">2021-09-14</td></tr><tr><td class=\"\">2481</td><td class=\"\">mm.wiki.170</td><td class=\"before_col\">The City of </td><td class=\"match_col\">London</td><td class=\"\"> was filled with the</td><td class=\"\">2021-09-14</td></tr><tr><td class=\"\">2482</td><td class=\"\">mm.wiki.170</td><td class=\"before_col\">members of Diocese of </td><td class=\"match_col\">London</td><td class=\"\"> clergy have been announced</td><td class=\"\">2021-09-14</td></tr><tr><td class=\"\">2483</td><td class=\"\">mm.wiki.170</td><td class=\"before_col\">by The Bishop of </td><td class=\"match_col\">London</td><td class=\"\">, The Rt Revd and</td><td class=\"\">2021-09-14</td></tr><tr><td class=\"\">2484</td><td class=\"\">mm.wiki.170</td><td class=\"before_col\">The Bishop of </td><td class=\"match_col\">London</td><td class=\"\"> Members of Chapter Minor</td><td class=\"\">2021-09-14</td></tr><tr><td class=\"\">2629</td><td class=\"\">mm.wiki.169</td><td class=\"before_col\">Home Visit </td><td class=\"match_col\">London</td><td class=\"\"> Buckingham Palac</td><td class=\"\">2021-09-14</td></tr><tr><td class=\"\">2630</td><td class=\"\">mm.wiki.169</td><td class=\"before_col\">Royal Mews, Buckingham Palace, </td><td class=\"match_col\">London</td><td class=\"\">, SW1W 1QH DIRECTION</td><td class=\"\">2021-09-14</td></tr><tr><td class=\"\">2631</td><td class=\"\">mm.wiki.169</td><td class=\"before_col\">By train </td><td class=\"match_col\">London</td><td class=\"\"> Victoria</td><td class=\"\">2021-09-14</td></tr><tr><td class=\"\">2632</td><td class=\"\">mm.wiki.169</td><td class=\"before_col\">information visit the\n",
              "Transport for </td><td class=\"match_col\">London</td><td class=\"\">\n",
              "website</td><td class=\"\">2021-09-14</td></tr><tr><td class=\"\">2633</td><td class=\"\">mm.wiki.169</td><td class=\"before_col\">information visit the\n",
              "Transport for </td><td class=\"match_col\">London</td><td class=\"\">\n",
              "website</td><td class=\"\">2021-09-14</td></tr><tr><td class=\"\">2634</td><td class=\"\">mm.wiki.169</td><td class=\"before_col\">View all events in </td><td class=\"match_col\">London</td><td class=\"\"> Back to top Shopping</td><td class=\"\">2021-09-14</td></tr><tr><td class=\"\">2635</td><td class=\"\">mm.wiki.169</td><td class=\"before_col\">all school sessions in </td><td class=\"match_col\">London</td><td class=\"\"> Back to top Groups</td><td class=\"\">2021-09-14</td></tr><tr><td class=\"\">2636</td><td class=\"\">mm.wiki.169</td><td class=\"before_col\">Guiding </td><td class=\"match_col\">London</td><td class=\"\"> Blue Badge Guides are</td><td class=\"\">2021-09-14</td></tr><tr><td class=\"\">2637</td><td class=\"\">mm.wiki.169</td><td class=\"before_col\">Back to top Nearby </td><td class=\"match_col\">London</td><td class=\"\"></td><td class=\"\">2021-09-14</td></tr><tr><td class=\"\">2638</td><td class=\"\">mm.wiki.169</td><td class=\"before_col\"></td><td class=\"match_col\">London</td><td class=\"\"> Buckingham Palace Garden open</td><td class=\"\">2021-09-14</td></tr><tr><td class=\"\">2639</td><td class=\"\">mm.wiki.169</td><td class=\"before_col\"></td><td class=\"match_col\">London</td><td class=\"\"> Clarence House Closed until</td><td class=\"\">2021-09-14</td></tr><tr><td class=\"\">2640</td><td class=\"\">mm.wiki.169</td><td class=\"before_col\"></td><td class=\"match_col\">London</td><td class=\"\"></td><td class=\"\">2021-09-14</td></tr><tr><td class=\"\">2641</td><td class=\"\">mm.wiki.169</td><td class=\"before_col\"></td><td class=\"match_col\">London</td><td class=\"\"> Buckingham Palace Garden open</td><td class=\"\">2021-09-14</td></tr><tr><td class=\"\">2642</td><td class=\"\">mm.wiki.169</td><td class=\"before_col\"></td><td class=\"match_col\">London</td><td class=\"\"> Clarence House Closed until</td><td class=\"\">2021-09-14</td></tr><tr><td class=\"\">2643</td><td class=\"\">mm.wiki.169</td><td class=\"before_col\"></td><td class=\"match_col\">London</td><td class=\"\"> The Royal Mews, Buckingham</td><td class=\"\">2021-09-14</td></tr><tr><td class=\"\">2315</td><td class=\"\">mm.wiki.168</td><td class=\"before_col\">palaces Back Tower of </td><td class=\"match_col\">London</td><td class=\"\"> Hampton Court Palace Banqueting</td><td class=\"\">2021-09-14</td></tr><tr><td class=\"\">2316</td><td class=\"\">mm.wiki.168</td><td class=\"before_col\">all Palaces Tower of </td><td class=\"match_col\">London</td><td class=\"\"> Hampton Court Palace Banqueting</td><td class=\"\">2021-09-14</td></tr><tr><td class=\"\">2317</td><td class=\"\">mm.wiki.168</td><td class=\"before_col\">Cottage is in a </td><td class=\"match_col\">London</td><td class=\"\"> magazine of 1774: 'The</td><td class=\"\">2021-09-14</td></tr><tr><td class=\"\">1902</td><td class=\"\">mm.wiki.164</td><td class=\"before_col\">Located in central </td><td class=\"match_col\">London</td><td class=\"\">, the nearest tube station</td><td class=\"\">2021-09-14</td></tr><tr><td class=\"\">1841</td><td class=\"\">mm.wiki.160</td><td class=\"before_col\">Armoury House City Road </td><td class=\"match_col\">London</td><td class=\"\"> EC1Y 2B</td><td class=\"\">2021-09-14</td></tr><tr><td class=\"\">1842</td><td class=\"\">mm.wiki.160</td><td class=\"before_col\">Armoury House, City Road, </td><td class=\"match_col\">London</td><td class=\"\"> EC1</td><td class=\"\">2021-09-14</td></tr><tr><td class=\"\">1687</td><td class=\"\">mm.wiki.157</td><td class=\"before_col\">Us 83 Bermondsey Street, </td><td class=\"match_col\">London</td><td class=\"\"> SE1 3XF fashiontextilemuseum@newham.ac.u</td><td class=\"\">2021-09-14</td></tr><tr><td class=\"\">1688</td><td class=\"\">mm.wiki.157</td><td class=\"before_col\">Newham College </td><td class=\"match_col\">London</td><td class=\"\"> Frequently Asked Questions Privacy</td><td class=\"\">2021-09-14</td></tr><tr><td class=\"\">1641</td><td class=\"\">mm.wiki.156</td><td class=\"before_col\">in touch 18 folgate street\n",
              "</td><td class=\"match_col\">london</td><td class=\"\"></td><td class=\"\">2021-09-14</td></tr><tr><td class=\"\">1642</td><td class=\"\">mm.wiki.156</td><td class=\"before_col\"></td><td class=\"match_col\">London</td><td class=\"\"> E1 6BX | TEl:</td><td class=\"\">2021-09-14</td></tr><tr><td class=\"\">1583</td><td class=\"\">mm.wiki.155</td><td class=\"before_col\">City of </td><td class=\"match_col\">London</td><td class=\"\"> Police Museum\n",
              "City of Londo</td><td class=\"\">2021-09-14</td></tr><tr><td class=\"\">1584</td><td class=\"\">mm.wiki.155</td><td class=\"before_col\">City of </td><td class=\"match_col\">London</td><td class=\"\"> Police Museu</td><td class=\"\">2021-09-14</td></tr><tr><td class=\"\">1585</td><td class=\"\">mm.wiki.155</td><td class=\"before_col\">The City of </td><td class=\"match_col\">London</td><td class=\"\"> Police Museum is currently</td><td class=\"\">2021-09-14</td></tr><tr><td class=\"\">1586</td><td class=\"\">mm.wiki.155</td><td class=\"before_col\">The\n",
              "City of </td><td class=\"match_col\">London</td><td class=\"\"> Police\n",
              "has been responsible for</td><td class=\"\">2021-09-14</td></tr><tr><td class=\"\">1587</td><td class=\"\">mm.wiki.155</td><td class=\"before_col\">The City of </td><td class=\"match_col\">London</td><td class=\"\"> Police Museum tells the</td><td class=\"\">2021-09-14</td></tr><tr><td class=\"\">1588</td><td class=\"\">mm.wiki.155</td><td class=\"before_col\">of the City of </td><td class=\"match_col\">London</td><td class=\"\"> Police Museum</td><td class=\"\">2021-09-14</td></tr><tr><td class=\"\">1589</td><td class=\"\">mm.wiki.155</td><td class=\"before_col\">resources\n",
              "from the City of </td><td class=\"match_col\">London</td><td class=\"\"> Police Museum, designed for</td><td class=\"\">2021-09-14</td></tr><tr><td class=\"\">1590</td><td class=\"\">mm.wiki.155</td><td class=\"before_col\">The City of </td><td class=\"match_col\">London</td><td class=\"\"> Police Museum will be</td><td class=\"\">2021-09-14</td></tr><tr><td class=\"\">1591</td><td class=\"\">mm.wiki.155</td><td class=\"before_col\">Visits Fund\n",
              "is available to </td><td class=\"match_col\">London</td><td class=\"\"> schools with at least</td><td class=\"\">2021-09-14</td></tr><tr><td class=\"\">1592</td><td class=\"\">mm.wiki.155</td><td class=\"before_col\">About the City of </td><td class=\"match_col\">London</td><td class=\"\"> Polic</td><td class=\"\">2021-09-14</td></tr><tr><td class=\"\">1593</td><td class=\"\">mm.wiki.155</td><td class=\"before_col\">The City of </td><td class=\"match_col\">London</td><td class=\"\"> Police has been responsible</td><td class=\"\">2021-09-14</td></tr><tr><td class=\"\">1594</td><td class=\"\">mm.wiki.155</td><td class=\"before_col\">The City of </td><td class=\"match_col\">London</td><td class=\"\">, the financial centre of</td><td class=\"\">2021-09-14</td></tr><tr><td class=\"\">1595</td><td class=\"\">mm.wiki.155</td><td class=\"before_col\">also The City of </td><td class=\"match_col\">London</td><td class=\"\"> Police Museum is part</td><td class=\"\">2021-09-14</td></tr><tr><td class=\"\">1596</td><td class=\"\">mm.wiki.155</td><td class=\"before_col\">© City of </td><td class=\"match_col\">London</td><td class=\"\"> Corporatio</td><td class=\"\">2021-09-14</td></tr><tr><td class=\"\">1597</td><td class=\"\">mm.wiki.155</td><td class=\"before_col\">© City of </td><td class=\"match_col\">London</td><td class=\"\"> Corporatio</td><td class=\"\">2021-09-14</td></tr><tr><td class=\"\">1598</td><td class=\"\">mm.wiki.155</td><td class=\"before_col\">City of </td><td class=\"match_col\">London</td><td class=\"\"> Corporation\n",
              "202</td><td class=\"\">2021-09-14</td></tr><tr><td class=\"\">1515</td><td class=\"\">mm.wiki.153</td><td class=\"before_col\">served as the official </td><td class=\"match_col\">London</td><td class=\"\"> residence of the UK’s</td><td class=\"\">2021-09-14</td></tr><tr><td class=\"\">1516</td><td class=\"\">mm.wiki.153</td><td class=\"before_col\">deterioration, largely due to </td><td class=\"match_col\">London</td><td class=\"\">'s notorious soot, and required</td><td class=\"\">2021-09-14</td></tr><tr><td class=\"\">1517</td><td class=\"\">mm.wiki.153</td><td class=\"before_col\">What's On in </td><td class=\"match_col\">London</td><td class=\"\"> Visi</td><td class=\"\">2021-09-14</td></tr><tr><td class=\"\">1518</td><td class=\"\">mm.wiki.153</td><td class=\"before_col\">10th anniversary of the </td><td class=\"match_col\">London</td><td class=\"\"> College of Fashion's 'Better</td><td class=\"\">2021-09-14</td></tr><tr><td class=\"\">1519</td><td class=\"\">mm.wiki.153</td><td class=\"before_col\">Duke of Edinburgh celebrates </td><td class=\"match_col\">London</td><td class=\"\"> Youth's 130th anniversary Published</td><td class=\"\">2021-09-14</td></tr><tr><td class=\"\">1487</td><td class=\"\">mm.wiki.152</td><td class=\"before_col\">Skip to content Accessibility </td><td class=\"match_col\">London</td><td class=\"\"> Borough of Hounslow Login</td><td class=\"\">2021-09-14</td></tr><tr><td class=\"\">1488</td><td class=\"\">mm.wiki.152</td><td class=\"before_col\">is one of West </td><td class=\"match_col\">London</td><td class=\"\">’s lesser-known gems and a</td><td class=\"\">2021-09-14</td></tr><tr><td class=\"\">1489</td><td class=\"\">mm.wiki.152</td><td class=\"before_col\">Fund, Historic England, Greater </td><td class=\"match_col\">London</td><td class=\"\"> Authority (GLA</td><td class=\"\">2021-09-14</td></tr><tr><td class=\"\">1490</td><td class=\"\">mm.wiki.152</td><td class=\"before_col\">Trust, the Heritage of </td><td class=\"match_col\">London</td><td class=\"\"> Trust and the John</td><td class=\"\">2021-09-14</td></tr><tr><td class=\"\">1491</td><td class=\"\">mm.wiki.152</td><td class=\"before_col\">Fund, Historic England, Greater </td><td class=\"match_col\">London</td><td class=\"\"> Authority (GLA</td><td class=\"\">2021-09-14</td></tr><tr><td class=\"\">1492</td><td class=\"\">mm.wiki.152</td><td class=\"before_col\">Trust, the Heritage of </td><td class=\"match_col\">London</td><td class=\"\"> Trust and the John</td><td class=\"\">2021-09-14</td></tr><tr><td class=\"\">1493</td><td class=\"\">mm.wiki.152</td><td class=\"before_col\">Copyright 2021 </td><td class=\"match_col\">London</td><td class=\"\"> Borough of Hounslow Contact</td><td class=\"\">2021-09-14</td></tr><tr><td class=\"\">1482</td><td class=\"\">mm.wiki.151</td><td class=\"before_col\">of LSBU’s research on </td><td class=\"match_col\">London</td><td class=\"\"> About Us About U</td><td class=\"\">2021-09-14</td></tr><tr><td class=\"\">1483</td><td class=\"\">mm.wiki.151</td><td class=\"before_col\">conditions Modern slavery statement </td><td class=\"match_col\">London</td><td class=\"\"> South Bank Universit</td><td class=\"\">2021-09-14</td></tr><tr><td class=\"\">1484</td><td class=\"\">mm.wiki.151</td><td class=\"before_col\"></td><td class=\"match_col\">London</td><td class=\"\"> SE1 0A</td><td class=\"\">2021-09-14</td></tr><tr><td class=\"\">1485</td><td class=\"\">mm.wiki.151</td><td class=\"before_col\">Twitter YouTube © </td><td class=\"match_col\">London</td><td class=\"\"> South Bank University Privacy</td><td class=\"\">2021-09-14</td></tr><tr><td class=\"\">1824</td><td class=\"\">mm.wiki.131</td><td class=\"before_col\">by families (mainly from </td><td class=\"match_col\">London</td><td class=\"\">'s East End) who bought</td><td class=\"\">2021-09-14</td></tr><tr><td class=\"\">1698</td><td class=\"\">mm.wiki.124</td><td class=\"before_col\">than an hour from </td><td class=\"match_col\">London</td><td class=\"\"> is the 15th century</td><td class=\"\">2021-09-14</td></tr><tr><td class=\"\">2285</td><td class=\"\">mm.wiki.115</td><td class=\"before_col\">some amusing anecdotes\n",
              "John M, </td><td class=\"match_col\">London</td><td class=\"\"> Terms of us</td><td class=\"\">2021-09-14</td></tr><tr><td class=\"\">2131</td><td class=\"\">mm.wiki.114</td><td class=\"before_col\">Budapest Chicago </td><td class=\"match_col\">London</td><td class=\"\"> Los Angeles Mexico Cit</td><td class=\"\">2021-09-14</td></tr><tr><td class=\"\">1703</td><td class=\"\">mm.wiki.100</td><td class=\"before_col\">Events at Trinity House, </td><td class=\"match_col\">London</td><td class=\"\"> Let us help you</td><td class=\"\">2021-09-14</td></tr><tr><td class=\"\">1704</td><td class=\"\">mm.wiki.100</td><td class=\"before_col\">Weddings at Trinity House, </td><td class=\"match_col\">London</td><td class=\"\"> A stunning venue for</td><td class=\"\">2021-09-14</td></tr><tr><td class=\"\">1705</td><td class=\"\">mm.wiki.100</td><td class=\"before_col\">House 2016 Design by\n",
              "UXB </td><td class=\"match_col\">London</td><td class=\"\"></td><td class=\"\">2021-09-14</td></tr><tr><td class=\"\">1706</td><td class=\"\">mm.wiki.100</td><td class=\"before_col\">Trinity House Tower Hill </td><td class=\"match_col\">London</td><td class=\"\"></td><td class=\"\">2021-09-14</td></tr><tr><td class=\"\">1411</td><td class=\"\">mm.wiki.093</td><td class=\"before_col\">Spanish art outside of </td><td class=\"match_col\">London</td><td class=\"\"> including El Greco, Murillo</td><td class=\"\">2021-09-14</td></tr><tr><td class=\"\">2512</td><td class=\"\">mm.wiki.087</td><td class=\"before_col\">route connecting Plymouth to </td><td class=\"match_col\">London</td><td class=\"\">, but is now a</td><td class=\"\">2021-09-14</td></tr><tr><td class=\"\">2513</td><td class=\"\">mm.wiki.087</td><td class=\"before_col\">Plymouth and the main </td><td class=\"match_col\">London</td><td class=\"\"> - Penzance railway</td><td class=\"\">2021-09-14</td></tr><tr><td class=\"\">2409</td><td class=\"\">mm.wiki.074</td><td class=\"before_col\">we work East Midlands </td><td class=\"match_col\">London</td><td class=\"\"> & South East North</td><td class=\"\">2021-09-14</td></tr><tr><td class=\"\">2410</td><td class=\"\">mm.wiki.074</td><td class=\"before_col\">North Wales Little Venice, </td><td class=\"match_col\">London</td><td class=\"\"> Foxton Locks, Leicestershire Caen</td><td class=\"\">2021-09-14</td></tr><tr><td class=\"\">2411</td><td class=\"\">mm.wiki.074</td><td class=\"before_col\"></td><td class=\"match_col\">London</td><td class=\"\"> Road Derbyshir</td><td class=\"\">2021-09-14</td></tr><tr><td class=\"\">1639</td><td class=\"\">mm.wiki.066</td><td class=\"before_col\"></td><td class=\"match_col\">London</td><td class=\"\"> stainless steel\n",
              "City stainless stee</td><td class=\"\">2021-09-14</td></tr><tr><td class=\"\">2420</td><td class=\"\">mm.wiki.044</td><td class=\"before_col\">and agricultural vehicles, including </td><td class=\"match_col\">London</td><td class=\"\"> horse bus and 1902</td><td class=\"\">2021-09-14</td></tr><tr><td class=\"\">1946</td><td class=\"\">mm.wiki.037</td><td class=\"before_col\">Events at Trinity House, </td><td class=\"match_col\">London</td><td class=\"\"> Let us help you</td><td class=\"\">2021-09-14</td></tr><tr><td class=\"\">1947</td><td class=\"\">mm.wiki.037</td><td class=\"before_col\">Weddings at Trinity House, </td><td class=\"match_col\">London</td><td class=\"\"> A stunning venue for</td><td class=\"\">2021-09-14</td></tr><tr><td class=\"\">1948</td><td class=\"\">mm.wiki.037</td><td class=\"before_col\">House 2016 Design by\n",
              "UXB </td><td class=\"match_col\">London</td><td class=\"\"></td><td class=\"\">2021-09-14</td></tr><tr><td class=\"\">1949</td><td class=\"\">mm.wiki.037</td><td class=\"before_col\">Trinity House Tower Hill </td><td class=\"match_col\">London</td><td class=\"\"></td><td class=\"\">2021-09-14</td></tr><tr><td class=\"\">2760</td><td class=\"\">mm.wiki.008</td><td class=\"before_col\">from the Tower of </td><td class=\"match_col\">London</td><td class=\"\"> and intended to guard</td><td class=\"\">2021-09-14</td></tr><tr><td class=\"\">2761</td><td class=\"\">mm.wiki.008</td><td class=\"before_col\">trial and execution in </td><td class=\"match_col\">London</td><td class=\"\">; his body was brought</td><td class=\"\">2021-09-14</td></tr><tr><td class=\"\">2762</td><td class=\"\">mm.wiki.008</td><td class=\"before_col\">the war effort in </td><td class=\"match_col\">London</td><td class=\"\"> and around the country</td><td class=\"\">2021-09-14</td></tr><tr><td class=\"\">2322</td><td class=\"\">mm.wiki.003</td><td class=\"before_col\">Bomber Command Memorial in </td><td class=\"match_col\">London</td><td class=\"\">, the museum went live</td><td class=\"\">2021-09-14</td></tr><tr><td class=\"\">1686</td><td class=\"\">mm.nimc.026</td><td class=\"before_col\">He died in </td><td class=\"match_col\">London</td><td class=\"\"> in 1992 and the</td><td class=\"\">2021-09-14</td></tr><tr><td class=\"\">2773</td><td class=\"\">mm.musa.389</td><td class=\"before_col\">came from Corby and </td><td class=\"match_col\">London</td><td class=\"\">, the overhead lighting panels</td><td class=\"\">2021-09-14</td></tr><tr><td class=\"\">2759</td><td class=\"\">mm.musa.386</td><td class=\"before_col\">Web Design </td><td class=\"match_col\">London</td><td class=\"\">\n",
              "b</td><td class=\"\">2021-09-14</td></tr><tr><td class=\"\">2740</td><td class=\"\">mm.musa.379</td><td class=\"before_col\">direct connection to the </td><td class=\"match_col\">London</td><td class=\"\"> War Cabinet</td><td class=\"\">2021-09-14</td></tr></table>"
            ],
            "text/plain": [
              "<IPython.core.display.HTML object>"
            ]
          },
          "metadata": {}
        }
      ]
    },
    {
      "cell_type": "markdown",
      "metadata": {
        "id": "lcFMk7gOdO3H"
      },
      "source": [
        "# Analyse search results"
      ]
    },
    {
      "cell_type": "code",
      "metadata": {
        "colab": {
          "base_uri": "https://localhost:8080/",
          "height": 1000
        },
        "id": "vm03nEIedT9j",
        "outputId": "1eb67ffe-7548-4abe-a2df-ccf22a277dac"
      },
      "source": [
        "%run search_utils.py\n",
        "#@title Default title text\n",
        "token_context_size =  10#@param {type:\"integer\"}\n",
        "assert len(res_df) > 0\n",
        "res_attr_df = an_results(res_df, search_string, case_sensitive, token_context_size)\n",
        "#res_attr_df"
      ],
      "execution_count": 171,
      "outputs": [
        {
          "output_type": "stream",
          "name": "stdout",
          "text": [
            "generate_derived_attributes_muse_df\n",
            "ok\n",
            "N results: 2773 • N unique museums: 496\n",
            "                   n_results\n",
            "website_sentences       2773\n"
          ]
        },
        {
          "output_type": "display_data",
          "data": {
            "text/html": [
              "<h3>Tokens before 'london'</h3>"
            ],
            "text/plain": [
              "<IPython.core.display.HTML object>"
            ]
          },
          "metadata": {}
        },
        {
          "output_type": "stream",
          "name": "stdout",
          "text": [
            "museum (285) house (192) tower (101) road (98) street (93) city (87) royal (85) \n",
            "collection (82) home (79) us (69) one (66) history (63) miles (62) find (62) \n",
            "east (61) visit (58) palace (56) new (56) south (56) centre (55) "
          ]
        },
        {
          "output_type": "display_data",
          "data": {
            "text/html": [
              "<h3>Tokens after 'london'</h3>"
            ],
            "text/plain": [
              "<IPython.core.display.HTML object>"
            ]
          },
          "metadata": {}
        },
        {
          "output_type": "stream",
          "name": "stdout",
          "text": [
            "museum (258) london (243) road (117) house (99) palace (96) hospital (71) miles (62) \n",
            "collection (61) new (57) trust (56) national (53) film (53) transport (50) closed (48) \n",
            "borough (47) hous (47) history (46) south (46) st (42) gardens (41) \n",
            "\n",
            "Unique museum results: 496\n"
          ]
        },
        {
          "output_type": "display_data",
          "data": {
            "text/html": [
              "<h3>By governance</h3>"
            ],
            "text/plain": [
              "<IPython.core.display.HTML object>"
            ]
          },
          "metadata": {}
        },
        {
          "output_type": "display_data",
          "data": {
            "text/html": [
              "<div>\n",
              "<style scoped>\n",
              "    .dataframe tbody tr th:only-of-type {\n",
              "        vertical-align: middle;\n",
              "    }\n",
              "\n",
              "    .dataframe tbody tr th {\n",
              "        vertical-align: top;\n",
              "    }\n",
              "\n",
              "    .dataframe thead th {\n",
              "        text-align: right;\n",
              "    }\n",
              "</style>\n",
              "<table border=\"1\" class=\"dataframe\">\n",
              "  <thead>\n",
              "    <tr style=\"text-align: right;\">\n",
              "      <th></th>\n",
              "      <th>attribute_value</th>\n",
              "      <th>n_museums</th>\n",
              "      <th>museum_result_pc</th>\n",
              "      <th>n_tot_museums</th>\n",
              "      <th>museum_attribute_pc</th>\n",
              "    </tr>\n",
              "  </thead>\n",
              "  <tbody>\n",
              "    <tr>\n",
              "      <th>0</th>\n",
              "      <td>Independent:Not for profit</td>\n",
              "      <td>236</td>\n",
              "      <td>47.6</td>\n",
              "      <td>1534</td>\n",
              "      <td>15.4</td>\n",
              "    </tr>\n",
              "    <tr>\n",
              "      <th>1</th>\n",
              "      <td>Government:Local Authority</td>\n",
              "      <td>75</td>\n",
              "      <td>15.1</td>\n",
              "      <td>718</td>\n",
              "      <td>10.4</td>\n",
              "    </tr>\n",
              "    <tr>\n",
              "      <th>2</th>\n",
              "      <td>Independent:Private</td>\n",
              "      <td>67</td>\n",
              "      <td>13.5</td>\n",
              "      <td>472</td>\n",
              "      <td>14.2</td>\n",
              "    </tr>\n",
              "    <tr>\n",
              "      <th>3</th>\n",
              "      <td>Government:National</td>\n",
              "      <td>27</td>\n",
              "      <td>5.4</td>\n",
              "      <td>69</td>\n",
              "      <td>39.1</td>\n",
              "    </tr>\n",
              "    <tr>\n",
              "      <th>4</th>\n",
              "      <td>Independent:National Trust</td>\n",
              "      <td>27</td>\n",
              "      <td>5.4</td>\n",
              "      <td>183</td>\n",
              "      <td>14.8</td>\n",
              "    </tr>\n",
              "    <tr>\n",
              "      <th>5</th>\n",
              "      <td>University</td>\n",
              "      <td>21</td>\n",
              "      <td>4.2</td>\n",
              "      <td>92</td>\n",
              "      <td>22.8</td>\n",
              "    </tr>\n",
              "    <tr>\n",
              "      <th>6</th>\n",
              "      <td>Independent:Unknown</td>\n",
              "      <td>15</td>\n",
              "      <td>3.0</td>\n",
              "      <td>113</td>\n",
              "      <td>13.3</td>\n",
              "    </tr>\n",
              "    <tr>\n",
              "      <th>7</th>\n",
              "      <td>Independent:English Heritage</td>\n",
              "      <td>13</td>\n",
              "      <td>2.6</td>\n",
              "      <td>52</td>\n",
              "      <td>25.0</td>\n",
              "    </tr>\n",
              "    <tr>\n",
              "      <th>8</th>\n",
              "      <td>Unknown</td>\n",
              "      <td>12</td>\n",
              "      <td>2.4</td>\n",
              "      <td>55</td>\n",
              "      <td>21.8</td>\n",
              "    </tr>\n",
              "    <tr>\n",
              "      <th>9</th>\n",
              "      <td>Independent:National Trust for Scotland</td>\n",
              "      <td>2</td>\n",
              "      <td>0.4</td>\n",
              "      <td>26</td>\n",
              "      <td>7.7</td>\n",
              "    </tr>\n",
              "  </tbody>\n",
              "</table>\n",
              "</div>"
            ],
            "text/plain": [
              "                           attribute_value  ...  museum_attribute_pc\n",
              "0               Independent:Not for profit  ...                 15.4\n",
              "1               Government:Local Authority  ...                 10.4\n",
              "2                      Independent:Private  ...                 14.2\n",
              "3                      Government:National  ...                 39.1\n",
              "4               Independent:National Trust  ...                 14.8\n",
              "5                               University  ...                 22.8\n",
              "6                      Independent:Unknown  ...                 13.3\n",
              "7             Independent:English Heritage  ...                 25.0\n",
              "8                                  Unknown  ...                 21.8\n",
              "9  Independent:National Trust for Scotland  ...                  7.7\n",
              "\n",
              "[10 rows x 5 columns]"
            ]
          },
          "metadata": {}
        },
        {
          "output_type": "display_data",
          "data": {
            "text/html": [
              "<h3>By region</h3>"
            ],
            "text/plain": [
              "<IPython.core.display.HTML object>"
            ]
          },
          "metadata": {}
        },
        {
          "output_type": "display_data",
          "data": {
            "text/html": [
              "<div>\n",
              "<style scoped>\n",
              "    .dataframe tbody tr th:only-of-type {\n",
              "        vertical-align: middle;\n",
              "    }\n",
              "\n",
              "    .dataframe tbody tr th {\n",
              "        vertical-align: top;\n",
              "    }\n",
              "\n",
              "    .dataframe thead th {\n",
              "        text-align: right;\n",
              "    }\n",
              "</style>\n",
              "<table border=\"1\" class=\"dataframe\">\n",
              "  <thead>\n",
              "    <tr style=\"text-align: right;\">\n",
              "      <th></th>\n",
              "      <th>attribute_value</th>\n",
              "      <th>n_museums</th>\n",
              "      <th>museum_result_pc</th>\n",
              "      <th>n_tot_museums</th>\n",
              "      <th>museum_attribute_pc</th>\n",
              "    </tr>\n",
              "  </thead>\n",
              "  <tbody>\n",
              "    <tr>\n",
              "      <th>10</th>\n",
              "      <td>London</td>\n",
              "      <td>199</td>\n",
              "      <td>40.1</td>\n",
              "      <td>238</td>\n",
              "      <td>83.6</td>\n",
              "    </tr>\n",
              "    <tr>\n",
              "      <th>11</th>\n",
              "      <td>South East</td>\n",
              "      <td>72</td>\n",
              "      <td>14.5</td>\n",
              "      <td>476</td>\n",
              "      <td>15.1</td>\n",
              "    </tr>\n",
              "    <tr>\n",
              "      <th>12</th>\n",
              "      <td>East of England</td>\n",
              "      <td>43</td>\n",
              "      <td>8.7</td>\n",
              "      <td>333</td>\n",
              "      <td>12.9</td>\n",
              "    </tr>\n",
              "    <tr>\n",
              "      <th>13</th>\n",
              "      <td>South West</td>\n",
              "      <td>36</td>\n",
              "      <td>7.3</td>\n",
              "      <td>422</td>\n",
              "      <td>8.5</td>\n",
              "    </tr>\n",
              "    <tr>\n",
              "      <th>14</th>\n",
              "      <td>Scotland</td>\n",
              "      <td>32</td>\n",
              "      <td>6.5</td>\n",
              "      <td>494</td>\n",
              "      <td>6.5</td>\n",
              "    </tr>\n",
              "    <tr>\n",
              "      <th>15</th>\n",
              "      <td>Northern Ireland</td>\n",
              "      <td>28</td>\n",
              "      <td>5.6</td>\n",
              "      <td>94</td>\n",
              "      <td>29.8</td>\n",
              "    </tr>\n",
              "    <tr>\n",
              "      <th>16</th>\n",
              "      <td>East Midlands</td>\n",
              "      <td>19</td>\n",
              "      <td>3.8</td>\n",
              "      <td>229</td>\n",
              "      <td>8.3</td>\n",
              "    </tr>\n",
              "    <tr>\n",
              "      <th>17</th>\n",
              "      <td>North West</td>\n",
              "      <td>18</td>\n",
              "      <td>3.6</td>\n",
              "      <td>247</td>\n",
              "      <td>7.3</td>\n",
              "    </tr>\n",
              "    <tr>\n",
              "      <th>18</th>\n",
              "      <td>West Midlands</td>\n",
              "      <td>15</td>\n",
              "      <td>3.0</td>\n",
              "      <td>228</td>\n",
              "      <td>6.6</td>\n",
              "    </tr>\n",
              "    <tr>\n",
              "      <th>19</th>\n",
              "      <td>Wales</td>\n",
              "      <td>14</td>\n",
              "      <td>2.8</td>\n",
              "      <td>207</td>\n",
              "      <td>6.8</td>\n",
              "    </tr>\n",
              "    <tr>\n",
              "      <th>20</th>\n",
              "      <td>Yorkshire and The Humber</td>\n",
              "      <td>10</td>\n",
              "      <td>2.0</td>\n",
              "      <td>229</td>\n",
              "      <td>4.4</td>\n",
              "    </tr>\n",
              "    <tr>\n",
              "      <th>21</th>\n",
              "      <td>North East</td>\n",
              "      <td>6</td>\n",
              "      <td>1.2</td>\n",
              "      <td>105</td>\n",
              "      <td>5.7</td>\n",
              "    </tr>\n",
              "    <tr>\n",
              "      <th>22</th>\n",
              "      <td>Isle of Man</td>\n",
              "      <td>2</td>\n",
              "      <td>0.4</td>\n",
              "      <td>15</td>\n",
              "      <td>13.3</td>\n",
              "    </tr>\n",
              "    <tr>\n",
              "      <th>23</th>\n",
              "      <td>Channel Islands</td>\n",
              "      <td>1</td>\n",
              "      <td>0.2</td>\n",
              "      <td>24</td>\n",
              "      <td>4.2</td>\n",
              "    </tr>\n",
              "  </tbody>\n",
              "</table>\n",
              "</div>"
            ],
            "text/plain": [
              "              attribute_value  n_museums  ...  n_tot_museums  museum_attribute_pc\n",
              "10                    London         199  ...            238                 83.6\n",
              "11                South East          72  ...            476                 15.1\n",
              "12           East of England          43  ...            333                 12.9\n",
              "13                South West          36  ...            422                  8.5\n",
              "14                   Scotland         32  ...            494                  6.5\n",
              "15           Northern Ireland         28  ...             94                 29.8\n",
              "16             East Midlands          19  ...            229                  8.3\n",
              "17                North West          18  ...            247                  7.3\n",
              "18             West Midlands          15  ...            228                  6.6\n",
              "19                      Wales         14  ...            207                  6.8\n",
              "20  Yorkshire and The Humber          10  ...            229                  4.4\n",
              "21                North East           6  ...            105                  5.7\n",
              "22                Isle of Man          2  ...             15                 13.3\n",
              "23            Channel Islands          1  ...             24                  4.2\n",
              "\n",
              "[14 rows x 5 columns]"
            ]
          },
          "metadata": {}
        },
        {
          "output_type": "display_data",
          "data": {
            "text/html": [
              "<h3>By size</h3>"
            ],
            "text/plain": [
              "<IPython.core.display.HTML object>"
            ]
          },
          "metadata": {}
        },
        {
          "output_type": "display_data",
          "data": {
            "text/html": [
              "<div>\n",
              "<style scoped>\n",
              "    .dataframe tbody tr th:only-of-type {\n",
              "        vertical-align: middle;\n",
              "    }\n",
              "\n",
              "    .dataframe tbody tr th {\n",
              "        vertical-align: top;\n",
              "    }\n",
              "\n",
              "    .dataframe thead th {\n",
              "        text-align: right;\n",
              "    }\n",
              "</style>\n",
              "<table border=\"1\" class=\"dataframe\">\n",
              "  <thead>\n",
              "    <tr style=\"text-align: right;\">\n",
              "      <th></th>\n",
              "      <th>attribute_value</th>\n",
              "      <th>n_museums</th>\n",
              "      <th>museum_result_pc</th>\n",
              "      <th>n_tot_museums</th>\n",
              "      <th>museum_attribute_pc</th>\n",
              "    </tr>\n",
              "  </thead>\n",
              "  <tbody>\n",
              "    <tr>\n",
              "      <th>24</th>\n",
              "      <td>small</td>\n",
              "      <td>271</td>\n",
              "      <td>54.6</td>\n",
              "      <td>1825</td>\n",
              "      <td>14.8</td>\n",
              "    </tr>\n",
              "    <tr>\n",
              "      <th>25</th>\n",
              "      <td>medium</td>\n",
              "      <td>106</td>\n",
              "      <td>21.4</td>\n",
              "      <td>865</td>\n",
              "      <td>12.3</td>\n",
              "    </tr>\n",
              "    <tr>\n",
              "      <th>26</th>\n",
              "      <td>large</td>\n",
              "      <td>88</td>\n",
              "      <td>17.7</td>\n",
              "      <td>498</td>\n",
              "      <td>17.7</td>\n",
              "    </tr>\n",
              "    <tr>\n",
              "      <th>27</th>\n",
              "      <td>unknown</td>\n",
              "      <td>20</td>\n",
              "      <td>4.0</td>\n",
              "      <td>141</td>\n",
              "      <td>14.2</td>\n",
              "    </tr>\n",
              "    <tr>\n",
              "      <th>28</th>\n",
              "      <td>huge</td>\n",
              "      <td>10</td>\n",
              "      <td>2.0</td>\n",
              "      <td>12</td>\n",
              "      <td>83.3</td>\n",
              "    </tr>\n",
              "  </tbody>\n",
              "</table>\n",
              "</div>"
            ],
            "text/plain": [
              "   attribute_value  n_museums  ...  n_tot_museums  museum_attribute_pc\n",
              "24           small        271  ...           1825                 14.8\n",
              "25          medium        106  ...            865                 12.3\n",
              "26           large         88  ...            498                 17.7\n",
              "27         unknown         20  ...            141                 14.2\n",
              "28            huge         10  ...             12                 83.3\n",
              "\n",
              "[5 rows x 5 columns]"
            ]
          },
          "metadata": {}
        },
        {
          "output_type": "display_data",
          "data": {
            "text/html": [
              "<h3>By subject_matter_simpl</h3>"
            ],
            "text/plain": [
              "<IPython.core.display.HTML object>"
            ]
          },
          "metadata": {}
        },
        {
          "output_type": "display_data",
          "data": {
            "text/html": [
              "<div>\n",
              "<style scoped>\n",
              "    .dataframe tbody tr th:only-of-type {\n",
              "        vertical-align: middle;\n",
              "    }\n",
              "\n",
              "    .dataframe tbody tr th {\n",
              "        vertical-align: top;\n",
              "    }\n",
              "\n",
              "    .dataframe thead th {\n",
              "        text-align: right;\n",
              "    }\n",
              "</style>\n",
              "<table border=\"1\" class=\"dataframe\">\n",
              "  <thead>\n",
              "    <tr style=\"text-align: right;\">\n",
              "      <th></th>\n",
              "      <th>attribute_value</th>\n",
              "      <th>n_museums</th>\n",
              "      <th>museum_result_pc</th>\n",
              "      <th>n_tot_museums</th>\n",
              "      <th>museum_attribute_pc</th>\n",
              "    </tr>\n",
              "  </thead>\n",
              "  <tbody>\n",
              "    <tr>\n",
              "      <th>29</th>\n",
              "      <td>Buildings</td>\n",
              "      <td>92</td>\n",
              "      <td>18.5</td>\n",
              "      <td>553</td>\n",
              "      <td>16.6</td>\n",
              "    </tr>\n",
              "    <tr>\n",
              "      <th>30</th>\n",
              "      <td>Local Histories</td>\n",
              "      <td>67</td>\n",
              "      <td>13.5</td>\n",
              "      <td>764</td>\n",
              "      <td>8.8</td>\n",
              "    </tr>\n",
              "    <tr>\n",
              "      <th>31</th>\n",
              "      <td>Arts</td>\n",
              "      <td>61</td>\n",
              "      <td>12.3</td>\n",
              "      <td>247</td>\n",
              "      <td>24.7</td>\n",
              "    </tr>\n",
              "    <tr>\n",
              "      <th>32</th>\n",
              "      <td>Personality</td>\n",
              "      <td>47</td>\n",
              "      <td>9.5</td>\n",
              "      <td>176</td>\n",
              "      <td>26.7</td>\n",
              "    </tr>\n",
              "    <tr>\n",
              "      <th>33</th>\n",
              "      <td>War and conflict</td>\n",
              "      <td>44</td>\n",
              "      <td>8.9</td>\n",
              "      <td>333</td>\n",
              "      <td>13.2</td>\n",
              "    </tr>\n",
              "    <tr>\n",
              "      <th>34</th>\n",
              "      <td>Transport</td>\n",
              "      <td>28</td>\n",
              "      <td>5.6</td>\n",
              "      <td>224</td>\n",
              "      <td>12.5</td>\n",
              "    </tr>\n",
              "    <tr>\n",
              "      <th>35</th>\n",
              "      <td>Belief and identity</td>\n",
              "      <td>23</td>\n",
              "      <td>4.6</td>\n",
              "      <td>96</td>\n",
              "      <td>24.0</td>\n",
              "    </tr>\n",
              "    <tr>\n",
              "      <th>36</th>\n",
              "      <td>Leisure and sport</td>\n",
              "      <td>17</td>\n",
              "      <td>3.4</td>\n",
              "      <td>87</td>\n",
              "      <td>19.5</td>\n",
              "    </tr>\n",
              "    <tr>\n",
              "      <th>37</th>\n",
              "      <td>Sea and seafaring</td>\n",
              "      <td>16</td>\n",
              "      <td>3.2</td>\n",
              "      <td>102</td>\n",
              "      <td>15.7</td>\n",
              "    </tr>\n",
              "    <tr>\n",
              "      <th>38</th>\n",
              "      <td>Mixed</td>\n",
              "      <td>15</td>\n",
              "      <td>3.0</td>\n",
              "      <td>166</td>\n",
              "      <td>9.0</td>\n",
              "    </tr>\n",
              "    <tr>\n",
              "      <th>39</th>\n",
              "      <td>Medicine and health</td>\n",
              "      <td>15</td>\n",
              "      <td>3.0</td>\n",
              "      <td>34</td>\n",
              "      <td>44.1</td>\n",
              "    </tr>\n",
              "    <tr>\n",
              "      <th>40</th>\n",
              "      <td>Other</td>\n",
              "      <td>14</td>\n",
              "      <td>2.8</td>\n",
              "      <td>43</td>\n",
              "      <td>32.6</td>\n",
              "    </tr>\n",
              "    <tr>\n",
              "      <th>41</th>\n",
              "      <td>Rural Industry</td>\n",
              "      <td>11</td>\n",
              "      <td>2.2</td>\n",
              "      <td>111</td>\n",
              "      <td>9.9</td>\n",
              "    </tr>\n",
              "    <tr>\n",
              "      <th>42</th>\n",
              "      <td>Industry and manufacture</td>\n",
              "      <td>10</td>\n",
              "      <td>2.0</td>\n",
              "      <td>151</td>\n",
              "      <td>6.6</td>\n",
              "    </tr>\n",
              "    <tr>\n",
              "      <th>43</th>\n",
              "      <td>Natural world</td>\n",
              "      <td>8</td>\n",
              "      <td>1.6</td>\n",
              "      <td>47</td>\n",
              "      <td>17.0</td>\n",
              "    </tr>\n",
              "    <tr>\n",
              "      <th>44</th>\n",
              "      <td>Services</td>\n",
              "      <td>7</td>\n",
              "      <td>1.4</td>\n",
              "      <td>34</td>\n",
              "      <td>20.6</td>\n",
              "    </tr>\n",
              "    <tr>\n",
              "      <th>45</th>\n",
              "      <td>Archaeology</td>\n",
              "      <td>7</td>\n",
              "      <td>1.4</td>\n",
              "      <td>91</td>\n",
              "      <td>7.7</td>\n",
              "    </tr>\n",
              "    <tr>\n",
              "      <th>46</th>\n",
              "      <td>Utilities</td>\n",
              "      <td>6</td>\n",
              "      <td>1.2</td>\n",
              "      <td>33</td>\n",
              "      <td>18.2</td>\n",
              "    </tr>\n",
              "    <tr>\n",
              "      <th>47</th>\n",
              "      <td>Communications</td>\n",
              "      <td>4</td>\n",
              "      <td>0.8</td>\n",
              "      <td>13</td>\n",
              "      <td>30.8</td>\n",
              "    </tr>\n",
              "    <tr>\n",
              "      <th>48</th>\n",
              "      <td>Science and technology</td>\n",
              "      <td>2</td>\n",
              "      <td>0.4</td>\n",
              "      <td>21</td>\n",
              "      <td>9.5</td>\n",
              "    </tr>\n",
              "    <tr>\n",
              "      <th>49</th>\n",
              "      <td>Food and drink</td>\n",
              "      <td>1</td>\n",
              "      <td>0.2</td>\n",
              "      <td>15</td>\n",
              "      <td>6.7</td>\n",
              "    </tr>\n",
              "  </tbody>\n",
              "</table>\n",
              "</div>"
            ],
            "text/plain": [
              "             attribute_value  n_museums  ...  n_tot_museums  museum_attribute_pc\n",
              "29                 Buildings         92  ...            553                 16.6\n",
              "30           Local Histories         67  ...            764                  8.8\n",
              "31                      Arts         61  ...            247                 24.7\n",
              "32               Personality         47  ...            176                 26.7\n",
              "33          War and conflict         44  ...            333                 13.2\n",
              "34                 Transport         28  ...            224                 12.5\n",
              "35       Belief and identity         23  ...             96                 24.0\n",
              "36         Leisure and sport         17  ...             87                 19.5\n",
              "37         Sea and seafaring         16  ...            102                 15.7\n",
              "38                     Mixed         15  ...            166                  9.0\n",
              "39       Medicine and health         15  ...             34                 44.1\n",
              "40                     Other         14  ...             43                 32.6\n",
              "41            Rural Industry         11  ...            111                  9.9\n",
              "42  Industry and manufacture         10  ...            151                  6.6\n",
              "43             Natural world          8  ...             47                 17.0\n",
              "44                  Services          7  ...             34                 20.6\n",
              "45               Archaeology          7  ...             91                  7.7\n",
              "46                 Utilities          6  ...             33                 18.2\n",
              "47            Communications          4  ...             13                 30.8\n",
              "48    Science and technology          2  ...             21                  9.5\n",
              "49            Food and drink          1  ...             15                  6.7\n",
              "\n",
              "[21 rows x 5 columns]"
            ]
          },
          "metadata": {}
        }
      ]
    },
    {
      "cell_type": "markdown",
      "metadata": {
        "id": "5f2oaR20o68a"
      },
      "source": [
        "### Download results as Excel"
      ]
    },
    {
      "cell_type": "code",
      "metadata": {
        "colab": {
          "base_uri": "https://localhost:8080/",
          "height": 17
        },
        "id": "GW7uKN3nnLeR",
        "outputId": "31a7d16e-2c3b-404f-fa60-988726de6d7c"
      },
      "source": [
        "# click here to download the complete results\n",
        "fn = 'search_results_{}.xlsx'.format(get_now_string())\n",
        "df = results_page_df.copy()\n",
        "df['search'] = search_string\n",
        "df.to_excel(fn, index=False)\n",
        "files.download(fn)"
      ],
      "execution_count": 80,
      "outputs": [
        {
          "output_type": "display_data",
          "data": {
            "application/javascript": [
              "\n",
              "    async function download(id, filename, size) {\n",
              "      if (!google.colab.kernel.accessAllowed) {\n",
              "        return;\n",
              "      }\n",
              "      const div = document.createElement('div');\n",
              "      const label = document.createElement('label');\n",
              "      label.textContent = `Downloading \"${filename}\": `;\n",
              "      div.appendChild(label);\n",
              "      const progress = document.createElement('progress');\n",
              "      progress.max = size;\n",
              "      div.appendChild(progress);\n",
              "      document.body.appendChild(div);\n",
              "\n",
              "      const buffers = [];\n",
              "      let downloaded = 0;\n",
              "\n",
              "      const channel = await google.colab.kernel.comms.open(id);\n",
              "      // Send a message to notify the kernel that we're ready.\n",
              "      channel.send({})\n",
              "\n",
              "      for await (const message of channel.messages) {\n",
              "        // Send a message to notify the kernel that we're ready.\n",
              "        channel.send({})\n",
              "        if (message.buffers) {\n",
              "          for (const buffer of message.buffers) {\n",
              "            buffers.push(buffer);\n",
              "            downloaded += buffer.byteLength;\n",
              "            progress.value = downloaded;\n",
              "          }\n",
              "        }\n",
              "      }\n",
              "      const blob = new Blob(buffers, {type: 'application/binary'});\n",
              "      const a = document.createElement('a');\n",
              "      a.href = window.URL.createObjectURL(blob);\n",
              "      a.download = filename;\n",
              "      div.appendChild(a);\n",
              "      a.click();\n",
              "      div.remove();\n",
              "    }\n",
              "  "
            ],
            "text/plain": [
              "<IPython.core.display.Javascript object>"
            ]
          },
          "metadata": {}
        },
        {
          "output_type": "display_data",
          "data": {
            "application/javascript": [
              "download(\"download_e6333ccc-e4a9-4514-9442-c3d11e5bc550\", \"search_results_20211123-172506.xlsx\", 7305)"
            ],
            "text/plain": [
              "<IPython.core.display.Javascript object>"
            ]
          },
          "metadata": {}
        }
      ]
    },
    {
      "cell_type": "code",
      "metadata": {
        "colab": {
          "base_uri": "https://localhost:8080/",
          "height": 17
        },
        "id": "RU_o0DCe0mWF",
        "outputId": "ff147c3e-f8f2-40e6-8a9f-9368c7356d50"
      },
      "source": [
        "# click here to download the attribute analysis of results\n",
        "fn = 'search_results_attributes_{}.xlsx'.format(get_now_string())\n",
        "df = res_attr_df.copy()\n",
        "df['search'] = search_string\n",
        "df.to_excel(fn, index=False)\n",
        "files.download(fn)"
      ],
      "execution_count": 85,
      "outputs": [
        {
          "output_type": "display_data",
          "data": {
            "application/javascript": [
              "\n",
              "    async function download(id, filename, size) {\n",
              "      if (!google.colab.kernel.accessAllowed) {\n",
              "        return;\n",
              "      }\n",
              "      const div = document.createElement('div');\n",
              "      const label = document.createElement('label');\n",
              "      label.textContent = `Downloading \"${filename}\": `;\n",
              "      div.appendChild(label);\n",
              "      const progress = document.createElement('progress');\n",
              "      progress.max = size;\n",
              "      div.appendChild(progress);\n",
              "      document.body.appendChild(div);\n",
              "\n",
              "      const buffers = [];\n",
              "      let downloaded = 0;\n",
              "\n",
              "      const channel = await google.colab.kernel.comms.open(id);\n",
              "      // Send a message to notify the kernel that we're ready.\n",
              "      channel.send({})\n",
              "\n",
              "      for await (const message of channel.messages) {\n",
              "        // Send a message to notify the kernel that we're ready.\n",
              "        channel.send({})\n",
              "        if (message.buffers) {\n",
              "          for (const buffer of message.buffers) {\n",
              "            buffers.push(buffer);\n",
              "            downloaded += buffer.byteLength;\n",
              "            progress.value = downloaded;\n",
              "          }\n",
              "        }\n",
              "      }\n",
              "      const blob = new Blob(buffers, {type: 'application/binary'});\n",
              "      const a = document.createElement('a');\n",
              "      a.href = window.URL.createObjectURL(blob);\n",
              "      a.download = filename;\n",
              "      div.appendChild(a);\n",
              "      a.click();\n",
              "      div.remove();\n",
              "    }\n",
              "  "
            ],
            "text/plain": [
              "<IPython.core.display.Javascript object>"
            ]
          },
          "metadata": {}
        },
        {
          "output_type": "display_data",
          "data": {
            "application/javascript": [
              "download(\"download_e34b32d4-7ee6-4d31-8d66-9e005c41a6fa\", \"search_results_attributes_20211123-172642.xlsx\", 5458)"
            ],
            "text/plain": [
              "<IPython.core.display.Javascript object>"
            ]
          },
          "metadata": {}
        }
      ]
    },
    {
      "cell_type": "markdown",
      "metadata": {
        "id": "QM5pIonivg2C"
      },
      "source": [
        "### Backup application"
      ]
    },
    {
      "cell_type": "code",
      "metadata": {
        "colab": {
          "base_uri": "https://localhost:8080/",
          "height": 17
        },
        "id": "qlczUd9QvkW-",
        "outputId": "1fb7c3ee-f493-4ea2-e27c-f12fa0900bd4"
      },
      "source": [
        "from google.colab import drive, files\n",
        "files.download('search_utils.py')\n",
        "#files.download('mip_search_app-v1.ipynb')"
      ],
      "execution_count": 163,
      "outputs": [
        {
          "output_type": "display_data",
          "data": {
            "application/javascript": [
              "\n",
              "    async function download(id, filename, size) {\n",
              "      if (!google.colab.kernel.accessAllowed) {\n",
              "        return;\n",
              "      }\n",
              "      const div = document.createElement('div');\n",
              "      const label = document.createElement('label');\n",
              "      label.textContent = `Downloading \"${filename}\": `;\n",
              "      div.appendChild(label);\n",
              "      const progress = document.createElement('progress');\n",
              "      progress.max = size;\n",
              "      div.appendChild(progress);\n",
              "      document.body.appendChild(div);\n",
              "\n",
              "      const buffers = [];\n",
              "      let downloaded = 0;\n",
              "\n",
              "      const channel = await google.colab.kernel.comms.open(id);\n",
              "      // Send a message to notify the kernel that we're ready.\n",
              "      channel.send({})\n",
              "\n",
              "      for await (const message of channel.messages) {\n",
              "        // Send a message to notify the kernel that we're ready.\n",
              "        channel.send({})\n",
              "        if (message.buffers) {\n",
              "          for (const buffer of message.buffers) {\n",
              "            buffers.push(buffer);\n",
              "            downloaded += buffer.byteLength;\n",
              "            progress.value = downloaded;\n",
              "          }\n",
              "        }\n",
              "      }\n",
              "      const blob = new Blob(buffers, {type: 'application/binary'});\n",
              "      const a = document.createElement('a');\n",
              "      a.href = window.URL.createObjectURL(blob);\n",
              "      a.download = filename;\n",
              "      div.appendChild(a);\n",
              "      a.click();\n",
              "      div.remove();\n",
              "    }\n",
              "  "
            ],
            "text/plain": [
              "<IPython.core.display.Javascript object>"
            ]
          },
          "metadata": {}
        },
        {
          "output_type": "display_data",
          "data": {
            "application/javascript": [
              "download(\"download_566be211-8042-44a8-8f32-00550a933be2\", \"search_utils.py\", 13487)"
            ],
            "text/plain": [
              "<IPython.core.display.Javascript object>"
            ]
          },
          "metadata": {}
        }
      ]
    }
  ]
}