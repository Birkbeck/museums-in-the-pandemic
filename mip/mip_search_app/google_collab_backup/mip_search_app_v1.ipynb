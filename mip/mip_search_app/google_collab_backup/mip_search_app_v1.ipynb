{
  "nbformat": 4,
  "nbformat_minor": 0,
  "metadata": {
    "kernelspec": {
      "display_name": "Python 3 (ipykernel)",
      "language": "python",
      "name": "python3"
    },
    "language_info": {
      "codemirror_mode": {
        "name": "ipython",
        "version": 3
      },
      "file_extension": ".py",
      "mimetype": "text/x-python",
      "name": "python",
      "nbconvert_exporter": "python",
      "pygments_lexer": "ipython3",
      "version": "3.8.12"
    },
    "toc-autonumbering": false,
    "toc-showcode": false,
    "toc-showmarkdowntxt": false,
    "toc-showtags": false,
    "colab": {
      "name": "mip_search_app-v1.ipynb",
      "provenance": [],
      "collapsed_sections": []
    }
  },
  "cells": [
    {
      "cell_type": "markdown",
      "metadata": {
        "tags": [],
        "id": "x5wjno2TWPIP"
      },
      "source": [
        "# MIP Search App\n",
        "\n",
        "Search facility for Museums in the Pandemic project. \n",
        "Birkbeck, University of London and King's College London.\n",
        "\n",
        "Author & maintainer: andrea.ballatore [at] kcl.ac.uk"
      ]
    },
    {
      "cell_type": "markdown",
      "metadata": {
        "id": "7i4PjsNWiW9l"
      },
      "source": [
        "## Setup\n",
        "Run this cell only once and the app should keep working for several days. It will take up to 5 minutes to download and install the necessary files. If the page stops working, reload it and run this cell again."
      ]
    },
    {
      "cell_type": "code",
      "metadata": {
        "colab": {
          "base_uri": "https://localhost:8080/"
        },
        "id": "CJfE_kOGWPIW",
        "outputId": "be524248-61a9-47c5-bd23-4b12150035d3"
      },
      "source": [
        "print(\"Downloading source code...\")\n",
        "!wget -q https://www.dropbox.com/s/at7z91d2lidordi/search_utils.py?dl=1 -O search_utils.py\n",
        "!wget -q https://www.dropbox.com/s/7jbbewmgdvyh3wa/museums_wattributes-2020-02-23.tsv?dl=1 -O museums_wattributes-2020-02-23.tsv\n",
        "print(\"Downloading DB...\")\n",
        "!wget -q https://www.dropbox.com/s/b52zdrf4cbcmcwx/mip_corpus_search.db.gz?dl=1 -O mip_corpus_search.db.gz\n",
        "print(\"Uncompressing DB...\")\n",
        "!gunzip mip_corpus_search.db.gz\n",
        "%run search_utils.py"
      ],
      "execution_count": 1,
      "outputs": [
        {
          "output_type": "stream",
          "name": "stdout",
          "text": [
            "Downloading source code...\n",
            "Downloading DB...\n",
            "Uncompressing DB...\n",
            "ok\n"
          ]
        }
      ]
    },
    {
      "cell_type": "markdown",
      "metadata": {
        "id": "KJYqmA8UWPIZ"
      },
      "source": [
        "## Search\n",
        "\n",
        "Syntax: * means 'any character'"
      ]
    },
    {
      "cell_type": "code",
      "metadata": {
        "id": "RcNKIXpcWPIa",
        "colab": {
          "base_uri": "https://localhost:8080/",
          "height": 1000
        },
        "outputId": "072dddf6-5bab-4389-b7be-68a0756e8098"
      },
      "source": [
        "#@title Search corpus { display-mode: \"form\" }\n",
        "%run search_utils.py\n",
        "search_string = \"closure\" #@param {type:\"string\"}\n",
        "search_string_not = \"road\" #@param {type:\"string\"}\n",
        "case_sensitive = False #@param {type:\"boolean\"}\n",
        "search_websites = False\n",
        "search_website_sentences = True #@param {type:\"boolean\"}\n",
        "search_facebook = True #@param {type:\"boolean\"}\n",
        "search_twitter = True #@param {type:\"boolean\"}\n",
        "museum_name = \"\" #@param {type:\"string\"}\n",
        "museum_governance = \"\" #@param {type:\"string\"}\n",
        "museum_size = \"small\" #@param {type:\"string\"}\n",
        "begin_date = \"2019-01-01\" #@param {type:\"date\"}\n",
        "end_date = \"2021-11-28\" #@param {type:\"date\"}\n",
        "max_results =  50#@param {type:\"integer\"}\n",
        "context_window =  10#@param {type:\"integer\"}\n",
        "\n",
        "res_df = run_search(search_string, search_string_not, case_sensitive,\n",
        "           search_facebook, search_twitter, search_websites, \n",
        "           search_website_sentences, \n",
        "           museum_name, museum_governance, museum_size, \n",
        "           begin_date, end_date)\n",
        "if len(res_df) > 0:\n",
        "  results_html, results_page_df = generate_html_matches(res_df, search_string, \n",
        "    case_sensitive, context_window, max_results)\n",
        "  display(HTML(results_html))\n",
        "#res_df"
      ],
      "execution_count": 58,
      "outputs": [
        {
          "output_type": "stream",
          "name": "stdout",
          "text": [
            "ok\n",
            "Date range: 2019-01-01 to 2021-11-28\n",
            "Excluding 'road' from results.\n",
            "Searching only 1825 museums with name:'', governance:'', size:'small'\n",
            "WEBSITES: 1340 matches found. N sessions: 10. Unique museums: 173\n",
            "FACEBOOK: 1196 matches found. Unique museums: 202\n",
            "TWITTER: 2768 matches found. Unique museums: 276\n",
            "Duplicates removed (from 5304 to 3890)\n",
            "search_regex: '(?i)\\bclosure\\b'\n"
          ]
        },
        {
          "output_type": "display_data",
          "data": {
            "text/html": [
              "<style>\n",
              "    table, tr, th, td {\n",
              "      margin: 3px;\n",
              "      border: solid 1px gray;\n",
              "      font-size: .9em;\n",
              "      border-collapse: collapse;\n",
              "      font-family: sans-serif;\n",
              "      vertical-align: top;\n",
              "    }\n",
              "    .before_col { text-align: right; }\n",
              "    .match_col { font-weight: bold; color: blue; }\n",
              "    strong { background-color: blue; color: white; }\n",
              "    </style><h3>facebook (first 50)</h3><table><tr><th>res</th><th>museum_id</th><th>account</th><th>before</th><th>match</th><th>after</th><th>msg_time</th></tr><tr><td class=\"\">766</td><td class=\"\">mm.mgs.418</td><td class=\"\">MorayCouncil</td><td class=\"before_col\">⛔️ Marywell Footbridge </td><td class=\"match_col\">closure</td><td class=\"\"> ⛔️ Marywell Footbridge is closed to pedestrians until further</td><td class=\"\">2021-10-15</td></tr><tr><td class=\"\">155</td><td class=\"\">mm.fcm.090</td><td class=\"\">edencamp</td><td class=\"before_col\">📣Temporary </td><td class=\"match_col\">Closure</td><td class=\"\"> Notice📣 Due to necessary restoration of our 80year old</td><td class=\"\">2021-10-13</td></tr><tr><td class=\"\">379</td><td class=\"\">mm.aim.0600</td><td class=\"\">ExperienceWakefield</td><td class=\"before_col\">his wife Bridget Gill showing what comes after the </td><td class=\"match_col\">closure</td><td class=\"\"> of an area's main industry and focal point. The</td><td class=\"\">2021-10-13</td></tr><tr><td class=\"\">622</td><td class=\"\">mm.musa.386</td><td class=\"\">winchestercathedral</td><td class=\"before_col\">to 4:00pm for a funeral service. Please check the </td><td class=\"match_col\">Closure</td><td class=\"\"> Notices when planning your visit: https://www.winchester-cathedral.org.uk/planning-your-visit/closure-notices</td><td class=\"\">2021-10-12</td></tr><tr><td class=\"\">542</td><td class=\"\">mm.domus.SC269</td><td class=\"\">TaighChearsabhagh</td><td class=\"before_col\">✖️ </td><td class=\"match_col\">CLOSURE</td><td class=\"\"> DAY: THURSDAY ✖️ Due to a planned electricity interruption,</td><td class=\"\">2021-10-12</td></tr><tr><td class=\"\">620</td><td class=\"\">mm.musa.386</td><td class=\"\">winchestercathedral</td><td class=\"before_col\">watch this service via the Live Stream 💻 All </td><td class=\"match_col\">closure</td><td class=\"\"> notices are available on the website: http://ow.ly/ZN1H50GozG</td><td class=\"\">2021-10-08</td></tr><tr><td class=\"\">33</td><td class=\"\">mm.ace.1213</td><td class=\"\">Brighton.Toy.Museum</td><td class=\"before_col\">Christmas. We hope you understand, and that our brief </td><td class=\"match_col\">closure</td><td class=\"\"> won't cause too much disappointment</td><td class=\"\">2021-10-02</td></tr><tr><td class=\"\">571</td><td class=\"\">mm.mgs.372</td><td class=\"\">NHSTayside</td><td class=\"before_col\">can be made available for someone else. Following the </td><td class=\"match_col\">closure</td><td class=\"\"> of the Caird Hall as a community vaccination centre,</td><td class=\"\">2021-09-24</td></tr><tr><td class=\"\">681</td><td class=\"\">mm.wiki.452</td><td class=\"\">CadwWales</td><td class=\"before_col\">SITE </td><td class=\"match_col\">CLOSURE</td><td class=\"\"> - TINTERN ABBEY Due to a planned power cut</td><td class=\"\">2021-09-20</td></tr><tr><td class=\"\">362</td><td class=\"\">mm.mald.082</td><td class=\"\">CadwWales</td><td class=\"before_col\">SITE </td><td class=\"match_col\">CLOSURE</td><td class=\"\"> - TINTERN ABBEY Due to a planned power cut</td><td class=\"\">2021-09-20</td></tr><tr><td class=\"\">228</td><td class=\"\">mm.aim.0753</td><td class=\"\">poldarkmine</td><td class=\"before_col\">progressing steadily but rather slowly during our extended temporary </td><td class=\"match_col\">closure</td><td class=\"\">. As many of our followers and most readers of</td><td class=\"\">2021-09-18</td></tr><tr><td class=\"\">682</td><td class=\"\">mm.wiki.452</td><td class=\"\">CadwWales</td><td class=\"before_col\">Updated: Site </td><td class=\"match_col\">Closure</td><td class=\"\"> and restricted access – Neath Abbey and Gatehouse Please</td><td class=\"\">2021-09-15</td></tr><tr><td class=\"\">683</td><td class=\"\">mm.wiki.452</td><td class=\"\">CadwWales</td><td class=\"before_col\">UPDATE: Site </td><td class=\"match_col\">Closure</td><td class=\"\"> – Caerphilly Castle Please note Caerphilly Castle will be</td><td class=\"\">2021-09-15</td></tr><tr><td class=\"\">684</td><td class=\"\">mm.wiki.452</td><td class=\"\">CadwWales</td><td class=\"before_col\">⭐⭐⭐⭐️⭐️ Conwy Castle </td><td class=\"match_col\">closure</td><td class=\"\"> announcement ⭐⭐⭐ ⭐️⭐️ Conwy Castle will be closed on</td><td class=\"\">2021-09-15</td></tr><tr><td class=\"\">363</td><td class=\"\">mm.mald.082</td><td class=\"\">CadwWales</td><td class=\"before_col\">Updated: Site </td><td class=\"match_col\">Closure</td><td class=\"\"> and restricted access – Neath Abbey and Gatehouse Please</td><td class=\"\">2021-09-15</td></tr><tr><td class=\"\">364</td><td class=\"\">mm.mald.082</td><td class=\"\">CadwWales</td><td class=\"before_col\">UPDATE: Site </td><td class=\"match_col\">Closure</td><td class=\"\"> – Caerphilly Castle Please note Caerphilly Castle will be</td><td class=\"\">2021-09-15</td></tr><tr><td class=\"\">365</td><td class=\"\">mm.mald.082</td><td class=\"\">CadwWales</td><td class=\"before_col\">⭐⭐⭐⭐️⭐️ Conwy Castle </td><td class=\"match_col\">closure</td><td class=\"\"> announcement ⭐⭐⭐ ⭐️⭐️ Conwy Castle will be closed on</td><td class=\"\">2021-09-15</td></tr><tr><td class=\"\">685</td><td class=\"\">mm.wiki.452</td><td class=\"\">CadwWales</td><td class=\"before_col\">⭐️⭐️⭐️⭐️ Site </td><td class=\"match_col\">closure</td><td class=\"\"> and online tickets announcement ⭐️⭐️⭐️⭐️ After Monday 20 September</td><td class=\"\">2021-09-13</td></tr><tr><td class=\"\">366</td><td class=\"\">mm.mald.082</td><td class=\"\">CadwWales</td><td class=\"before_col\">⭐️⭐️⭐️⭐️ Site </td><td class=\"match_col\">closure</td><td class=\"\"> and online tickets announcement ⭐️⭐️⭐️⭐️ After Monday 20 September</td><td class=\"\">2021-09-13</td></tr><tr><td class=\"\">200</td><td class=\"\">mm.domus.NI036</td><td class=\"\">MEABoroughCouncil</td><td class=\"before_col\">No new bookings can be made during this temporary </td><td class=\"match_col\">closure</td><td class=\"\">. Please go online and book the next available slot</td><td class=\"\">2021-09-09</td></tr><tr><td class=\"\">572</td><td class=\"\">mm.mgs.372</td><td class=\"\">NHSTayside</td><td class=\"before_col\">BRECHIN LFD SITE </td><td class=\"match_col\">CLOSURE</td><td class=\"\"> The LFD testing site at Maisondieu Car Park will</td><td class=\"\">2021-09-08</td></tr><tr><td class=\"\">201</td><td class=\"\">mm.domus.NI036</td><td class=\"\">MEABoroughCouncil</td><td class=\"before_col\">No new bookings can be made during this temporary </td><td class=\"match_col\">closure</td><td class=\"\">. Please go online and book the next available slot</td><td class=\"\">2021-09-08</td></tr><tr><td class=\"\">295</td><td class=\"\">mm.domus.YH162</td><td class=\"\">NELCouncil</td><td class=\"before_col\">temporary traffic lights. From Monday 20 September, a full </td><td class=\"match_col\">closure</td><td class=\"\"> will be in place between the A18/A46 roundabout to</td><td class=\"\">2021-09-02</td></tr><tr><td class=\"\">628</td><td class=\"\">mm.musa.387</td><td class=\"\">welcometoyorkshire</td><td class=\"before_col\">into Kirkleatham Walled Garden 🍃 After 30 years of </td><td class=\"match_col\">closure</td><td class=\"\">, the Grade II listed garden is now open to</td><td class=\"\">2021-08-29</td></tr><tr><td class=\"\">686</td><td class=\"\">mm.wiki.452</td><td class=\"\">CadwWales</td><td class=\"before_col\">⭐️⭐️ Tintern Abbey </td><td class=\"match_col\">closure</td><td class=\"\"> and tickets announcement ⭐️⭐️ Tintern Abbey will be closed</td><td class=\"\">2021-08-27</td></tr><tr><td class=\"\">367</td><td class=\"\">mm.mald.082</td><td class=\"\">CadwWales</td><td class=\"before_col\">⭐️⭐️ Tintern Abbey </td><td class=\"match_col\">closure</td><td class=\"\"> and tickets announcement ⭐️⭐️ Tintern Abbey will be closed</td><td class=\"\">2021-08-27</td></tr><tr><td class=\"\">715</td><td class=\"\">mm.fcm.186</td><td class=\"\">thenmm</td><td class=\"before_col\">and 1000cc twin-cylinder designs that survived until the company’s </td><td class=\"match_col\">closure</td><td class=\"\"> in 1955. The big vee twin was the fastest</td><td class=\"\">2021-08-23</td></tr><tr><td class=\"\">573</td><td class=\"\">mm.mgs.372</td><td class=\"\">NHSTayside</td><td class=\"before_col\">TEMPORARY </td><td class=\"match_col\">CLOSURE</td><td class=\"\"> OF NINEWELLS CAR PARK 5 FOR ESSENTIAL WORKS On</td><td class=\"\">2021-08-22</td></tr><tr><td class=\"\">296</td><td class=\"\">mm.domus.YH162</td><td class=\"\">NELCouncil</td><td class=\"before_col\">a method of renewing a bus pass, following the </td><td class=\"match_col\">closure</td><td class=\"\"> of the issuing sites, in line with Government guidance</td><td class=\"\">2021-08-22</td></tr><tr><td class=\"\">574</td><td class=\"\">mm.mgs.372</td><td class=\"\">NHSTayside</td><td class=\"before_col\">TEMPORARY </td><td class=\"match_col\">CLOSURE</td><td class=\"\"> OF NINEWELLS CAR PARK 5 FOR ESSENTIAL WORKS On</td><td class=\"\">2021-08-21</td></tr><tr><td class=\"\">575</td><td class=\"\">mm.mgs.372</td><td class=\"\">NHSTayside</td><td class=\"before_col\">TEMPORARY </td><td class=\"match_col\">CLOSURE</td><td class=\"\"> OF NINEWELLS CAR PARK 5 FOR ESSENTIAL WORKS On</td><td class=\"\">2021-08-19</td></tr><tr><td class=\"\">315</td><td class=\"\">mm.hha.033</td><td class=\"\">Trewithengardens</td><td class=\"before_col\">TEA SHED </td><td class=\"match_col\">CLOSURE</td><td class=\"\"> Sadly we are having to close our doors at</td><td class=\"\">2021-08-18</td></tr><tr><td class=\"\">316</td><td class=\"\">mm.hha.033</td><td class=\"\">Trewithengardens</td><td class=\"before_col\">TEA SHED </td><td class=\"match_col\">CLOSURE</td><td class=\"\"> Sadly we are having to close our doors at</td><td class=\"\">2021-08-18</td></tr><tr><td class=\"\">576</td><td class=\"\">mm.mgs.372</td><td class=\"\">NHSTayside</td><td class=\"before_col\">TEMPORARY </td><td class=\"match_col\">CLOSURE</td><td class=\"\"> OF NINEWELLS CAR PARK 5 FOR ESSENTIAL WORKS On</td><td class=\"\">2021-08-17</td></tr><tr><td class=\"\">141</td><td class=\"\">mm.mgs.303</td><td class=\"\">EastLothianCouncil</td><td class=\"before_col\">be closed from 16-20 August for utility works. The </td><td class=\"match_col\">closure</td><td class=\"\"> is in place between the Westgate and West Port</td><td class=\"\">2021-08-16</td></tr><tr><td class=\"\">229</td><td class=\"\">mm.aim.0753</td><td class=\"\">poldarkmine</td><td class=\"before_col\">The Cornish Heritage Collection, especially during the present temporary </td><td class=\"match_col\">closure</td><td class=\"\"> which started in early 2020 and is set to</td><td class=\"\">2021-08-11</td></tr><tr><td class=\"\">606</td><td class=\"\">mm.musa.379</td><td class=\"\">westernapproachesHQ</td><td class=\"before_col\">THURSDAY 12TH AUGUST 2021 - </td><td class=\"match_col\">Closure</td><td class=\"\"> Please note that on Thursday 12th August 2021 we</td><td class=\"\">2021-08-08</td></tr><tr><td class=\"\">537</td><td class=\"\">mm.domus.SE260</td><td class=\"\">dartfordtogether</td><td class=\"before_col\">Please note the planned </td><td class=\"match_col\">closure</td><td class=\"\"> of the A2 this weekend has been cancelled. Further</td><td class=\"\">2021-08-02</td></tr><tr><td class=\"\">36</td><td class=\"\">mm.aim82NM.022</td><td class=\"\">britishairways</td><td class=\"before_col\">International Airport - JFK lounge today, following a 16-months </td><td class=\"match_col\">closure</td><td class=\"\"> due to the Covid-19 pandemic ✈️🇺</td><td class=\"\">2021-08-01</td></tr><tr><td class=\"\">165</td><td class=\"\">mm.domus.SE423</td><td class=\"\">TheWilliamMorrisSociety</td><td class=\"before_col\">*Update on Society </td><td class=\"match_col\">Closure</td><td class=\"\">* The William Morris Society will remain temporarily closed due</td><td class=\"\">2021-07-27</td></tr><tr><td class=\"\">466</td><td class=\"\">mm.domus.SE492</td><td class=\"\">southendmuseums</td><td class=\"before_col\">Building </td><td class=\"match_col\">closure</td><td class=\"\"> notice: Thursday 29th July, Saturday 30th July and Sunday</td><td class=\"\">2021-07-21</td></tr><tr><td class=\"\">105</td><td class=\"\">mm.domus.NI019</td><td class=\"\">downrail</td><td class=\"before_col\">on our carriages and diesel locomotives. During the long </td><td class=\"match_col\">closure</td><td class=\"\">, Inch Abbey station has suffered badly at the hands</td><td class=\"\">2021-07-16</td></tr><tr><td class=\"\">35</td><td class=\"\">mm.domus.SW143</td><td class=\"\">bristoluniversity</td><td class=\"before_col\">research tracking illegal CFC emissions that could delay the </td><td class=\"match_col\">closure</td><td class=\"\"> of the ozone hole is supporting environmental legislation 🌎</td><td class=\"\">2021-07-15</td></tr><tr><td class=\"\">713</td><td class=\"\">mm.domus.SE160</td><td class=\"\">SocietyofAntiquariesofLondon</td><td class=\"before_col\">third round of Culture Recovery Fund and the threatened </td><td class=\"match_col\">closure</td><td class=\"\"> of Swindon Museum & Art Gallery. #SALON #SocAntiquaries #Newslette</td><td class=\"\">2021-07-08</td></tr><tr><td class=\"\">170</td><td class=\"\">mm.hha.076</td><td class=\"\">KnebworthHouse</td><td class=\"before_col\">the hospital as its president from 1914 to its </td><td class=\"match_col\">closure</td><td class=\"\"> in 1919. In the Knebworth House Archive we are</td><td class=\"\">2021-07-06</td></tr><tr><td class=\"\">662</td><td class=\"\">mm.ace.1238</td><td class=\"\">barrowhillroundhouse</td><td class=\"before_col\">updates. Thank you for your patience during our extended </td><td class=\"match_col\">closure</td><td class=\"\">. We are really looking forward to welcoming you all</td><td class=\"\">2021-06-30</td></tr><tr><td class=\"\">788</td><td class=\"\">mm.domus.WA009</td><td class=\"\">CyngorGwyneddCouncil</td><td class=\"before_col\">and the community. The Council has issued a Premises </td><td class=\"match_col\">Closure</td><td class=\"\"> Notice under Covid-19 Regulations after the licensed restaurant has</td><td class=\"\">2021-06-29</td></tr><tr><td class=\"\">115</td><td class=\"\">mm.domus.SW106</td><td class=\"\">DrJennersHouse</td><td class=\"before_col\">Dr Jenner’s House is reopening after 14 months of </td><td class=\"match_col\">closure</td><td class=\"\"> and we cannot wait to welcome you back. Tickets</td><td class=\"\">2021-06-29</td></tr><tr><td class=\"\">496</td><td class=\"\">mm.domus.SE353</td><td class=\"\">SurreyHeath</td><td class=\"before_col\">to The Square shopping centre in Camberley and the </td><td class=\"match_col\">closure</td><td class=\"\"> of the burial ground in at St Peter’s Churchyard,</td><td class=\"\">2021-06-28</td></tr><tr><td class=\"\">302</td><td class=\"\">mm.domus.YH162</td><td class=\"\">NELCouncil</td><td class=\"before_col\">weeks. This will be done under a single lane </td><td class=\"match_col\">closure</td><td class=\"\"> on the bridge between 9.30am and 3.30pm Monday to</td><td class=\"\">2021-06-24</td></tr></table><h3>twitter (first 50)</h3><table><tr><th>res</th><th>museum_id</th><th>account</th><th>before</th><th>match</th><th>after</th><th>msg_time</th></tr><tr><td class=\"\">1437</td><td class=\"\">mm.musa.386</td><td class=\"\">wincathedral</td><td class=\"before_col\">12:00pm to 4:00pm for a funeral service.\n",
              "\n",
              "Please check the </td><td class=\"match_col\">Closure</td><td class=\"\"> Notices when planning your visit: https://t.co/Ct5uY8bKmC https://t.co/74DG3EMiq</td><td class=\"\">2021-10-12</td></tr><tr><td class=\"\">1676</td><td class=\"\">mm.domus.SC269</td><td class=\"\">taigh_c</td><td class=\"before_col\">✖️ </td><td class=\"match_col\">CLOSURE</td><td class=\"\"> DAY: THURSDAY ✖️\n",
              "Due to a planned electricity interruption Taigh</td><td class=\"\">2021-10-12</td></tr><tr><td class=\"\">1438</td><td class=\"\">mm.musa.386</td><td class=\"\">wincathedral</td><td class=\"before_col\">to watch this service via the Live Stream 💻\n",
              "\n",
              "All </td><td class=\"match_col\">closure</td><td class=\"\"> notices are available on the website: https://t.co/GAKmAQVp2o https://t.co/AifDmCssh</td><td class=\"\">2021-10-08</td></tr><tr><td class=\"\">1449</td><td class=\"\">mm.domus.SE395</td><td class=\"\">wallingfordmus</td><td class=\"before_col\">RT @Pitt_Rivers: MUSEUM </td><td class=\"match_col\">CLOSURE</td><td class=\"\">: Please note that the Museum will be closed on</td><td class=\"\">2021-10-06</td></tr><tr><td class=\"\">1156</td><td class=\"\">mm.domus.SC301</td><td class=\"\">trimontiumtrust</td><td class=\"before_col\">RT @Pitt_Rivers: MUSEUM </td><td class=\"match_col\">CLOSURE</td><td class=\"\">: Please note that the Museum will be closed on</td><td class=\"\">2021-10-06</td></tr><tr><td class=\"\">627</td><td class=\"\">mm.domus.SE483</td><td class=\"\">kent_police</td><td class=\"before_col\">journey times and 4 miles of congestion following the </td><td class=\"match_col\">closure</td><td class=\"\"> of t</td><td class=\"\">2021-10-04</td></tr><tr><td class=\"\">665</td><td class=\"\">mm.domus.NE035</td><td class=\"\">sunderlanduk</td><td class=\"before_col\">Sunderland City Council has secured </td><td class=\"match_col\">closure</td><td class=\"\"> orders against properties in Southwick &amp; Redhouse following complaints</td><td class=\"\">2021-10-02</td></tr><tr><td class=\"\">6</td><td class=\"\">mm.domus.SC270</td><td class=\"\">glencoe_museum</td><td class=\"before_col\">Thank you for your patience and understanding about our </td><td class=\"match_col\">closure</td><td class=\"\"> yesterday! We had a very exciting day with Paper</td><td class=\"\">2021-10-01</td></tr><tr><td class=\"\">79</td><td class=\"\">mm.domus.WA009</td><td class=\"\">cyngorgwynedd</td><td class=\"before_col\">@CyngorGwynedd are a disgrace \n",
              "</td><td class=\"match_col\">Closure</td><td class=\"\"> of school could leave Abersoch 'a ghost town' https://t.co/XOpDu10mM</td><td class=\"\">2021-09-30</td></tr><tr><td class=\"\">904</td><td class=\"\">mm.aim.0459</td><td class=\"\">huguenotmuseum</td><td class=\"before_col\">I sincerely hope this is only a very temporary </td><td class=\"match_col\">closure</td><td class=\"\"> as we so need museums and their knowledg</td><td class=\"\">2021-09-29</td></tr><tr><td class=\"\">1196</td><td class=\"\">mm.domus.SE316</td><td class=\"\">islingtonbc</td><td class=\"before_col\">cancel any tickets received as a result of this </td><td class=\"match_col\">closure</td><td class=\"\"> and apologise for any inconvenience caused</td><td class=\"\">2021-09-24</td></tr><tr><td class=\"\">364</td><td class=\"\">mm.mgs.303</td><td class=\"\">elcouncil</td><td class=\"before_col\">*Service Diversions*\n",
              "From Monday 27th September - Due to the </td><td class=\"match_col\">closure</td><td class=\"\"> of the A6137 between Haddington and Ballencrieff fo</td><td class=\"\">2021-09-23</td></tr><tr><td class=\"\">724</td><td class=\"\">mm.domus.WM093</td><td class=\"\">waterworkmuseum</td><td class=\"before_col\">We reopened cautiously after #Covid </td><td class=\"match_col\">closure</td><td class=\"\"> but #Volunteers ⁦@WaterworkMuseum⁩ #Hereford are looking to scale up</td><td class=\"\">2021-09-22</td></tr><tr><td class=\"\">53</td><td class=\"\">mm.aim.0430</td><td class=\"\">waterworkmuseum</td><td class=\"before_col\">We reopened cautiously after #Covid </td><td class=\"match_col\">closure</td><td class=\"\"> but #Volunteers ⁦@WaterworkMuseum⁩ #Hereford are looking to scale up</td><td class=\"\">2021-09-22</td></tr><tr><td class=\"\">666</td><td class=\"\">mm.domus.NE035</td><td class=\"\">sunderlanduk</td><td class=\"before_col\">🔐</td><td class=\"match_col\">Closure</td><td class=\"\"> order secured 77 Eglinton Street, Monkwearmouth 🔐\n",
              "\n",
              "After complaints about</td><td class=\"\">2021-09-16</td></tr><tr><td class=\"\">1545</td><td class=\"\">mm.aim.1316</td><td class=\"\">sportinghistory</td><td class=\"before_col\">RT @TeessideArchive: 2021 marks 25 years since the </td><td class=\"match_col\">closure</td><td class=\"\"> of Cleveland Park stadium. To mark the anniversary we</td><td class=\"\">2021-09-15</td></tr><tr><td class=\"\">66</td><td class=\"\">mm.mgs.356</td><td class=\"\">newcastleton</td><td class=\"before_col\">holds a rally to mark 36 years since the </td><td class=\"match_col\">closure</td><td class=\"\"> of the Waverley Line</td><td class=\"\">2021-09-10</td></tr><tr><td class=\"\">451</td><td class=\"\">mm.musa.230</td><td class=\"\">derbyshirecc</td><td class=\"before_col\">@RossShippy Hi Ross, I have been advised that the </td><td class=\"match_col\">closure</td><td class=\"\"> has been extended to 14th December 2021. For details</td><td class=\"\">2021-09-09</td></tr><tr><td class=\"\">830</td><td class=\"\">mm.domus.SW223</td><td class=\"\">ntsouthwest</td><td class=\"before_col\">RT @DunsterCastleNT: Hurrah! After yesterday's unplanned </td><td class=\"match_col\">closure</td><td class=\"\">, we are open today. There's plenty to see around</td><td class=\"\">2021-09-09</td></tr><tr><td class=\"\">1493</td><td class=\"\">mm.wiki.008</td><td class=\"\">clarencehouse</td><td class=\"before_col\">gallery and museum. 🖼 \n",
              "\n",
              "By the time of its </td><td class=\"match_col\">closure</td><td class=\"\"> for restoration in 2003 it was established as the</td><td class=\"\">2021-09-08</td></tr><tr><td class=\"\">1680</td><td class=\"\">mm.domus.SE410</td><td class=\"\">metmuseum</td><td class=\"before_col\">Is the Medici exhibition gallery open today after yesterday’s </td><td class=\"match_col\">closure</td><td class=\"\">? Thanks</td><td class=\"\">2021-09-03</td></tr><tr><td class=\"\">1570</td><td class=\"\">mm.domus.YH162</td><td class=\"\">nelcouncil</td><td class=\"before_col\">3-way temporary traffic lights.\n",
              "\n",
              "From Monday 20 September, a full </td><td class=\"match_col\">closure</td><td class=\"\"> will be in place between the A18/A46 roundabout to</td><td class=\"\">2021-09-02</td></tr><tr><td class=\"\">905</td><td class=\"\">mm.domus.SW197</td><td class=\"\">bdcmuseum</td><td class=\"before_col\">we WILL now be open this weekend (4-5 Sept). </td><td class=\"match_col\">Closure</td><td class=\"\"> now likely to be 11-12 September. Sorry again for</td><td class=\"\">2021-09-02</td></tr><tr><td class=\"\">341</td><td class=\"\">mm.domus.SC100</td><td class=\"\">bdcmuseum</td><td class=\"before_col\">we WILL now be open this weekend (4-5 Sept). </td><td class=\"match_col\">Closure</td><td class=\"\"> now likely to be 11-12 September. Sorry again for</td><td class=\"\">2021-09-02</td></tr><tr><td class=\"\">1231</td><td class=\"\">mm.mald.062</td><td class=\"\">NatGalleriesSco</td><td class=\"before_col\">@LordWoolamaloo Please accept our apologies for the </td><td class=\"match_col\">closure</td><td class=\"\"> of the steps. We are working hard to get</td><td class=\"\">2021-08-31</td></tr><tr><td class=\"\">941</td><td class=\"\">mm.domus.SC267</td><td class=\"\">NatGalleriesSco</td><td class=\"before_col\">@LordWoolamaloo Please accept our apologies for the </td><td class=\"match_col\">closure</td><td class=\"\"> of the steps. We are working hard to get</td><td class=\"\">2021-08-31</td></tr><tr><td class=\"\">1529</td><td class=\"\">mm.aim.0077</td><td class=\"\">bembridgepc</td><td class=\"before_col\"></td><td class=\"match_col\">Closure</td><td class=\"\"> of Footpath BB3, Lynchens - The Isle of Wight</td><td class=\"\">2021-08-31</td></tr><tr><td class=\"\">1499</td><td class=\"\">mm.aim.0560</td><td class=\"\">myldn</td><td class=\"before_col\">Greenwich pub Star and Garter faces </td><td class=\"match_col\">closure</td><td class=\"\"> after man stabbed inside https://t.co/64V2rzdhH</td><td class=\"\">2021-08-25</td></tr><tr><td class=\"\">469</td><td class=\"\">mm.aim.0738</td><td class=\"\">pdheritagecent</td><td class=\"before_col\">control building at RAF Pembroke Dock, shortly after its </td><td class=\"match_col\">closure</td><td class=\"\">.\n",
              "This was just a 'roof extension' of one of the</td><td class=\"\">2021-08-24</td></tr><tr><td class=\"\">1235</td><td class=\"\">mm.aim.0213</td><td class=\"\">visitcolchester</td><td class=\"before_col\">need to contact @yourcolchester for the detail regarding the </td><td class=\"match_col\">closure</td><td class=\"\">, but if you've got a specific concern about not</td><td class=\"\">2021-08-24</td></tr><tr><td class=\"\">1548</td><td class=\"\">mm.aim.1245</td><td class=\"\">ThreeRiversDC</td><td class=\"before_col\">@ThreeRiversDC Wouldn’t think so in Rickmansworth.  Maybe </td><td class=\"match_col\">closure</td><td class=\"\"> of High St has an influence. How many shops</td><td class=\"\">2021-08-20</td></tr><tr><td class=\"\">365</td><td class=\"\">mm.mgs.303</td><td class=\"\">elcouncil</td><td class=\"before_col\">RT @prentice_info: *Advanced Warning of service disruption*\n",
              "\n",
              "Due to the </td><td class=\"match_col\">closure</td><td class=\"\"> of Mall Avenue for utility works Temporary Timetables will</td><td class=\"\">2021-08-19</td></tr><tr><td class=\"\">1089</td><td class=\"\">mm.musa.112</td><td class=\"\">thanetcouncil</td><td class=\"before_col\">RT @canterburycc: ⛔️ Important advanced notice - A2 </td><td class=\"match_col\">closure</td><td class=\"\"> - Wincheap to Brenley Corner ⛔️\n",
              "\n",
              "@HighwaysEngland has informed us</td><td class=\"\">2021-08-18</td></tr><tr><td class=\"\">1153</td><td class=\"\">mm.hha.033</td><td class=\"\">trewithengarden</td><td class=\"before_col\">TEA SHED </td><td class=\"match_col\">CLOSURE</td><td class=\"\">\n",
              "Sadly we have to close the doors of the Tea</td><td class=\"\">2021-08-18</td></tr><tr><td class=\"\">1170</td><td class=\"\">mm.domus.SC301</td><td class=\"\">trimontiumtrust</td><td class=\"before_col\">RT @Raksha_Digs: Another archaeology university department </td><td class=\"match_col\">closure</td><td class=\"\"> @worcester_uni -  a worrying trend as more Unis</td><td class=\"\">2021-08-18</td></tr><tr><td class=\"\">366</td><td class=\"\">mm.mgs.303</td><td class=\"\">elcouncil</td><td class=\"before_col\">be closed from 16-20 August for utility works. The </td><td class=\"match_col\">closure</td><td class=\"\"> is in place between the Westgate and West Port</td><td class=\"\">2021-08-16</td></tr><tr><td class=\"\">628</td><td class=\"\">mm.domus.SE483</td><td class=\"\">kent_police</td><td class=\"before_col\">Update ⚠️\n",
              "This is now a lane 1 &amp; 2 </td><td class=\"match_col\">closure</td><td class=\"\"> only now lanes 3 &amp; 4 are open passed</td><td class=\"\">2021-08-16</td></tr><tr><td class=\"\">470</td><td class=\"\">mm.aim.0738</td><td class=\"\">pdheritagecent</td><td class=\"before_col\">The Royal Dockyard, just a short time after its </td><td class=\"match_col\">closure</td><td class=\"\">. Much of this infrastructure would soon be demolished or</td><td class=\"\">2021-08-13</td></tr><tr><td class=\"\">888</td><td class=\"\">mm.domus.SW085</td><td class=\"\">perranzabuloe</td><td class=\"before_col\">After their </td><td class=\"match_col\">closure</td><td class=\"\"> many Chapels across #Cornwall have been converted into dwellings</td><td class=\"\">2021-08-09</td></tr><tr><td class=\"\">951</td><td class=\"\">mm.misc.107</td><td class=\"\">Tate</td><td class=\"before_col\">@Tate | Encore Presentation: Cut Short By COVID-19 </td><td class=\"match_col\">Closure</td><td class=\"\">, Lynette Yiadom-Boakye’s Tate Britain Exhibition is Returning in Fall</td><td class=\"\">2021-08-06</td></tr><tr><td class=\"\">367</td><td class=\"\">mm.mgs.303</td><td class=\"\">elcouncil</td><td class=\"before_col\">*118 Diversion in Prestonpans from 9th August*\n",
              "Due to the </td><td class=\"match_col\">closure</td><td class=\"\"> of West Loan for resurfacing route 118 will divert</td><td class=\"\">2021-08-05</td></tr><tr><td class=\"\">452</td><td class=\"\">mm.musa.230</td><td class=\"\">derbyshirecc</td><td class=\"before_col\">the surface dressing works, giving dates  of the </td><td class=\"match_col\">closure</td><td class=\"\">  for 5 nights   from 2 August</td><td class=\"\">2021-08-03</td></tr><tr><td class=\"\">629</td><td class=\"\">mm.domus.SE483</td><td class=\"\">kent_police</td><td class=\"before_col\">A property in #Faversham has been issued with a </td><td class=\"match_col\">Closure</td><td class=\"\"> Order after our officers were called to 23 reports</td><td class=\"\">2021-08-03</td></tr><tr><td class=\"\">418</td><td class=\"\">mm.wiki.498</td><td class=\"\">dundonaldcastle</td><td class=\"before_col\">🏰 DUNDONALD CASTLE </td><td class=\"match_col\">CLOSURE</td><td class=\"\"> UPDATE 🏰\n",
              "\n",
              "The castle is currently closed as a precautionary</td><td class=\"\">2021-07-30</td></tr><tr><td class=\"\">1260</td><td class=\"\">mm.domus.WM089</td><td class=\"\">royalacademy</td><td class=\"before_col\">looking for annual membership with zero refund on further </td><td class=\"match_col\">closure</td><td class=\"\"> / lockdown.    Lost 6 months on</td><td class=\"\">2021-07-29</td></tr><tr><td class=\"\">667</td><td class=\"\">mm.domus.NE035</td><td class=\"\">sunderlanduk</td><td class=\"before_col\">❗</td><td class=\"match_col\">Closure</td><td class=\"\"> order issued for problem property❗🏠\n",
              "\n",
              "Sunderland City Council has secured</td><td class=\"\">2021-07-27</td></tr><tr><td class=\"\">1549</td><td class=\"\">mm.aim.1245</td><td class=\"\">ThreeRiversDC</td><td class=\"before_col\"></td><td class=\"match_col\">Closure</td><td class=\"\"> notice issued after noise disturbance in Hunton Bridge\n",
              "\n",
              "A venue</td><td class=\"\">2021-07-23</td></tr><tr><td class=\"\">747</td><td class=\"\">mm.New.11</td><td class=\"\">kewgardens</td><td class=\"before_col\">I would suggest checking this page: https://t.co/Q0IbjYWcG4 as the </td><td class=\"match_col\">closure</td><td class=\"\"> message will be removed once we are able to</td><td class=\"\">2021-07-16</td></tr><tr><td class=\"\">1152</td><td class=\"\">mm.domus.SW184</td><td class=\"\">stagnesturtle</td><td class=\"before_col\">at 10:30am after more than 20 long months of </td><td class=\"match_col\">closure</td><td class=\"\">. More details ⏬\n",
              "\n",
              "https://t.co/EbCf26RQp</td><td class=\"\">2021-07-13</td></tr><tr><td class=\"\">1450</td><td class=\"\">mm.domus.SE395</td><td class=\"\">wallingfordmus</td><td class=\"before_col\">RT @mao_gallery: EARLY </td><td class=\"match_col\">CLOSURE</td><td class=\"\"> NOTICE: Today Modern Art Oxford's galleries and Shop will</td><td class=\"\">2021-07-08</td></tr></table><h3>website_sentences (first 50)</h3><table><tr><th>res</th><th>museum_id</th><th>before</th><th>match</th><th>after</th><th>msg_time</th></tr><tr><td class=\"\">1228</td><td class=\"\">mm.wiki.504</td><td class=\"before_col\">Learn More News and Events Museum </td><td class=\"match_col\">Closure</td><td class=\"\"> - July 11, 202</td><td class=\"\">2021-11-08</td></tr><tr><td class=\"\">1240</td><td class=\"\">mm.wiki.402</td><td class=\"before_col\">Open Bank Holidays Winter </td><td class=\"match_col\">closure</td><td class=\"\"></td><td class=\"\">2021-11-08</td></tr><tr><td class=\"\">1238</td><td class=\"\">mm.wiki.378</td><td class=\"before_col\">hosts many events throughout the year resulting in the </td><td class=\"match_col\">closure</td><td class=\"\"> of the gardens</td><td class=\"\">2021-11-08</td></tr><tr><td class=\"\">1306</td><td class=\"\">mm.wiki.359</td><td class=\"before_col\">Following its </td><td class=\"match_col\">closure</td><td class=\"\"> it was given to Send and Ripley History Society</td><td class=\"\">2021-11-08</td></tr><tr><td class=\"\">1289</td><td class=\"\">mm.wiki.285</td><td class=\"before_col\">Featured Support the Mid-Norfolk Railway - Coronavirus </td><td class=\"match_col\">Closure</td><td class=\"\"> Fun</td><td class=\"\">2021-11-08</td></tr><tr><td class=\"\">1266</td><td class=\"\">mm.wiki.193</td><td class=\"before_col\">TEMPORARY </td><td class=\"match_col\">CLOSURE</td><td class=\"\"></td><td class=\"\">2021-11-08</td></tr><tr><td class=\"\">1275</td><td class=\"\">mm.wiki.191</td><td class=\"before_col\">sense of local pride in the wake of the </td><td class=\"match_col\">closure</td><td class=\"\"> of Horwich Locomotive Works the previous year</td><td class=\"\">2021-11-08</td></tr><tr><td class=\"\">1259</td><td class=\"\">mm.wiki.144</td><td class=\"before_col\">Re-opening </td><td class=\"match_col\">Closure</td><td class=\"\"> update Temporary Closure Recent Comments Proudly powered by WordPress</td><td class=\"\">2021-11-08</td></tr><tr><td class=\"\">1327</td><td class=\"\">mm.wiki.005</td><td class=\"before_col\">After almost ten weeks of </td><td class=\"match_col\">closure</td><td class=\"\"> for repairs to its glazed roof, the Shuttleworth Swiss</td><td class=\"\">2021-11-08</td></tr><tr><td class=\"\">1301</td><td class=\"\">mm.wiki.003</td><td class=\"before_col\">With the threat of the </td><td class=\"match_col\">closure</td><td class=\"\"> of RAF Henlow which has now been put back</td><td class=\"\">2021-11-08</td></tr><tr><td class=\"\">1332</td><td class=\"\">mm.musa.374</td><td class=\"before_col\">After the </td><td class=\"match_col\">closure</td><td class=\"\"> of the base, it was reduced in size and</td><td class=\"\">2021-11-08</td></tr><tr><td class=\"\">1296</td><td class=\"\">mm.musa.263</td><td class=\"before_col\">painting North Bridge Iron Bridge,looking west Swan Revived Railway </td><td class=\"match_col\">closure</td><td class=\"\"> St.Peter & St</td><td class=\"\">2021-11-08</td></tr><tr><td class=\"\">1261</td><td class=\"\">mm.musa.120</td><td class=\"before_col\">St Osyth Parish Council Home/News Chairman’s Report OFFICE </td><td class=\"match_col\">CLOSURE</td><td class=\"\"> UPDATES Primary School</td><td class=\"\">2021-11-08</td></tr><tr><td class=\"\">1243</td><td class=\"\">mm.musa.081</td><td class=\"before_col\">were delighted to reopen in July after our long </td><td class=\"match_col\">closure</td><td class=\"\"> due to the Covid pandemic</td><td class=\"\">2021-11-08</td></tr><tr><td class=\"\">1235</td><td class=\"\">mm.musa.039</td><td class=\"before_col\">**** </td><td class=\"match_col\">CLOSURE</td><td class=\"\"> OF VISITOR CENTR</td><td class=\"\">2021-11-08</td></tr><tr><td class=\"\">1282</td><td class=\"\">mm.misc.140</td><td class=\"before_col\">Seasonal </td><td class=\"match_col\">Closure</td><td class=\"\"></td><td class=\"\">2021-11-08</td></tr><tr><td class=\"\">1273</td><td class=\"\">mm.misc.116</td><td class=\"before_col\">is due to the current Covid-19 pandemic and the </td><td class=\"match_col\">closure</td><td class=\"\"> of all cultural public buildings</td><td class=\"\">2021-11-08</td></tr><tr><td class=\"\">1230</td><td class=\"\">mm.misc.112</td><td class=\"before_col\">major round of cuts to Britain's\n",
              "railways\n",
              "in 1966 included the </td><td class=\"match_col\">closure</td><td class=\"\"> of this line, and Alford's railway history came to</td><td class=\"\">2021-11-08</td></tr><tr><td class=\"\">1242</td><td class=\"\">mm.mald.028</td><td class=\"before_col\">Recent News Temporary </td><td class=\"match_col\">Closure</td><td class=\"\"> Updat</td><td class=\"\">2021-11-08</td></tr><tr><td class=\"\">1241</td><td class=\"\">mm.hha.143</td><td class=\"before_col\">Winter </td><td class=\"match_col\">Closure</td><td class=\"\"></td><td class=\"\">2021-11-08</td></tr><tr><td class=\"\">1281</td><td class=\"\">mm.domus.WM072</td><td class=\"before_col\">Our temporary </td><td class=\"match_col\">closure</td><td class=\"\"> will have a serious financial impact</td><td class=\"\">2021-11-08</td></tr><tr><td class=\"\">1328</td><td class=\"\">mm.domus.WM008</td><td class=\"before_col\">A Christmas </td><td class=\"match_col\">Closure</td><td class=\"\"> will take place from December 21st until the first</td><td class=\"\">2021-11-08</td></tr><tr><td class=\"\">1309</td><td class=\"\">mm.domus.WA071</td><td class=\"before_col\">Police Heritage Centre Covid Alert </td><td class=\"match_col\">closure</td><td class=\"\"> of Heritage Centre A statement from the Heritage Centre</td><td class=\"\">2021-11-08</td></tr><tr><td class=\"\">1280</td><td class=\"\">mm.domus.WA046</td><td class=\"before_col\">have visited our bug hotel Latest News News Temporary </td><td class=\"match_col\">closure</td><td class=\"\"> of Llanyrafon Manor Description</td><td class=\"\">2021-11-08</td></tr><tr><td class=\"\">1316</td><td class=\"\">mm.domus.SW197</td><td class=\"before_col\">hours are 10am to 5pm every day (except for </td><td class=\"match_col\">closure</td><td class=\"\"> between Christmas and New Year), Leading film critic Mark</td><td class=\"\">2021-11-08</td></tr><tr><td class=\"\">1317</td><td class=\"\">mm.domus.SW197</td><td class=\"before_col\">out more Search the collection Search Advanced search Building </td><td class=\"match_col\">Closure</td><td class=\"\"> weekend of 11-12 September 2021 25 Aug 2021</td><td class=\"\">2021-11-08</td></tr><tr><td class=\"\">1257</td><td class=\"\">mm.domus.SW106</td><td class=\"before_col\">media messages will continue to be checked throughout the </td><td class=\"match_col\">closure</td><td class=\"\">, however due to a significant change in staff working</td><td class=\"\">2021-11-08</td></tr><tr><td class=\"\">1251</td><td class=\"\">mm.domus.SW104</td><td class=\"before_col\">are open throughout the winter except for our Christmas </td><td class=\"match_col\">closure</td><td class=\"\">, 24th December to 4th January</td><td class=\"\">2021-11-08</td></tr><tr><td class=\"\">1278</td><td class=\"\">mm.domus.SE483</td><td class=\"before_col\">Following its temporary </td><td class=\"match_col\">closure</td><td class=\"\"> and subsequent relocation to Faversham Police Station, we are</td><td class=\"\">2021-11-08</td></tr><tr><td class=\"\">1295</td><td class=\"\">mm.domus.SE481</td><td class=\"before_col\">Currently we using this enforced </td><td class=\"match_col\">closure</td><td class=\"\"> to refurbish the museum entrance area</td><td class=\"\">2021-11-08</td></tr><tr><td class=\"\">1300</td><td class=\"\">mm.domus.SE386</td><td class=\"before_col\">Temporary </td><td class=\"match_col\">closure</td><td class=\"\"> of the Petrie Museum Revealing the characters behind the</td><td class=\"\">2021-11-08</td></tr><tr><td class=\"\">1339</td><td class=\"\">mm.domus.SE382</td><td class=\"before_col\">Temporary </td><td class=\"match_col\">Closure</td><td class=\"\"> of MOCA 10.8.17 Closure for installation of a new</td><td class=\"\">2021-11-08</td></tr><tr><td class=\"\">1329</td><td class=\"\">mm.domus.SE367</td><td class=\"before_col\">income has been severely impacted due to the pandemic </td><td class=\"match_col\">closure</td><td class=\"\"></td><td class=\"\">2021-11-08</td></tr><tr><td class=\"\">1233</td><td class=\"\">mm.domus.SE248</td><td class=\"before_col\">We are now in our normal seasonal </td><td class=\"match_col\">closure</td><td class=\"\"> period, during which we will review our displays and</td><td class=\"\">2021-11-08</td></tr><tr><td class=\"\">1308</td><td class=\"\">mm.domus.SE160</td><td class=\"before_col\">In August, usually the Society’s annual </td><td class=\"match_col\">closure</td><td class=\"\"> period, we will be opening the Library on\n",
              "Wednesdays\n",
              "(4th, 11th,</td><td class=\"\">2021-11-08</td></tr><tr><td class=\"\">1254</td><td class=\"\">mm.domus.SE154</td><td class=\"before_col\">We will be evaluating this </td><td class=\"match_col\">closure</td><td class=\"\"> and hope to re-open as soon as possible</td><td class=\"\">2021-11-08</td></tr><tr><td class=\"\">1263</td><td class=\"\">mm.domus.SE126</td><td class=\"before_col\">After </td><td class=\"match_col\">closure</td><td class=\"\"> and the demolition of all other gas works in</td><td class=\"\">2021-11-08</td></tr><tr><td class=\"\">1264</td><td class=\"\">mm.domus.SE126</td><td class=\"before_col\">from the heating of coal for 120 years before </td><td class=\"match_col\">closure</td><td class=\"\"> in 1965</td><td class=\"\">2021-11-08</td></tr><tr><td class=\"\">1255</td><td class=\"\">mm.domus.SC099</td><td class=\"before_col\">From the 1950s until </td><td class=\"match_col\">closure</td><td class=\"\"> to passengers in 1964</td><td class=\"\">2021-11-08</td></tr><tr><td class=\"\">1252</td><td class=\"\">mm.domus.SC090</td><td class=\"before_col\">airfield history from the First World War until its </td><td class=\"match_col\">closure</td><td class=\"\"> in 1960 (HMS Jackdaw, Fleet Air Arm Station, HMS</td><td class=\"\">2021-11-08</td></tr><tr><td class=\"\">1249</td><td class=\"\">mm.domus.SC079</td><td class=\"before_col\">Exhibition </td><td class=\"match_col\">Closure</td><td class=\"\"></td><td class=\"\">2021-11-08</td></tr><tr><td class=\"\">1231</td><td class=\"\">mm.domus.NI022</td><td class=\"before_col\">Morning </td><td class=\"match_col\">Closure</td><td class=\"\"> Library Nov 25 Featured 7:00 p</td><td class=\"\">2021-11-08</td></tr><tr><td class=\"\">1256</td><td class=\"\">mm.domus.NI019</td><td class=\"before_col\">Read our latest update here Covid </td><td class=\"match_col\">closure</td><td class=\"\"> update We won’t be opening the railway until Christmas</td><td class=\"\">2021-11-08</td></tr><tr><td class=\"\">1331</td><td class=\"\">mm.domus.NE061</td><td class=\"before_col\">Us DONATE COVID-19 </td><td class=\"match_col\">Closure</td><td class=\"\"> Notice\n",
              "</td><td class=\"\">2021-11-08</td></tr><tr><td class=\"\">1330</td><td class=\"\">mm.domus.NE035</td><td class=\"before_col\">Following </td><td class=\"match_col\">closure</td><td class=\"\"> the NCB presented the winding house and headgear to</td><td class=\"\">2021-11-08</td></tr><tr><td class=\"\">1304</td><td class=\"\">mm.domus.EM068</td><td class=\"before_col\">With the </td><td class=\"match_col\">closure</td><td class=\"\"> of the Depot in 1960 and following an agreement</td><td class=\"\">2021-11-08</td></tr><tr><td class=\"\">1338</td><td class=\"\">mm.aim.1342</td><td class=\"before_col\">The 28th July marks 15 years since the official </td><td class=\"match_col\">closure</td><td class=\"\"> of Corus rail mill</td><td class=\"\">2021-11-08</td></tr><tr><td class=\"\">1318</td><td class=\"\">mm.aim.1023</td><td class=\"before_col\">After 18 months </td><td class=\"match_col\">closure</td><td class=\"\"> due to COVID, we are finally open again for</td><td class=\"\">2021-11-08</td></tr><tr><td class=\"\">1244</td><td class=\"\">mm.aim.0796</td><td class=\"before_col\">Blue Badge holders are exempt from this </td><td class=\"match_col\">closure</td><td class=\"\"></td><td class=\"\">2021-11-08</td></tr><tr><td class=\"\">1302</td><td class=\"\">mm.aim.0790</td><td class=\"before_col\">strong place to deal with the ramifications of this </td><td class=\"match_col\">closure</td><td class=\"\"> and our Social media outlets will remain open to</td><td class=\"\">2021-11-08</td></tr></table>"
            ],
            "text/plain": [
              "<IPython.core.display.HTML object>"
            ]
          },
          "metadata": {}
        }
      ]
    },
    {
      "cell_type": "markdown",
      "metadata": {
        "id": "lcFMk7gOdO3H"
      },
      "source": [
        "# Analyse search results\n",
        "\n",
        "Run this cell to get an analysis of the composition of search results generated above in terms of museum attributes (governance, size, etc)."
      ]
    },
    {
      "cell_type": "code",
      "metadata": {
        "colab": {
          "base_uri": "https://localhost:8080/",
          "height": 1000
        },
        "id": "vm03nEIedT9j",
        "outputId": "e76a283d-93cd-43bd-fd59-d55f2248642d"
      },
      "source": [
        "%run search_utils.py\n",
        "#@title Analysis options { display-mode: \"form\" }\n",
        "token_context_size =  10#@param {type:\"integer\"}\n",
        "list_before_after_words_limit =  20#@param {type:\"integer\"}\n",
        "assert len(res_df) > 0\n",
        "res_attr_df = an_results(res_df, search_string, case_sensitive, token_context_size, list_before_after_words_limit)\n",
        "#res_attr_df"
      ],
      "execution_count": 45,
      "outputs": [
        {
          "output_type": "stream",
          "name": "stdout",
          "text": [
            "ok\n",
            "Search: \"closure\" • Date range: 2019-01-01 to 2021-11-28 • \n",
            "N results: 97 • N unique museums: 11\n"
          ]
        },
        {
          "output_type": "display_data",
          "data": {
            "text/html": [
              "\n",
              "  <div id=\"df-18fb7335-cafd-4634-b488-0f9a8900816d\">\n",
              "    <div class=\"colab-df-container\">\n",
              "      <div>\n",
              "<style scoped>\n",
              "    .dataframe tbody tr th:only-of-type {\n",
              "        vertical-align: middle;\n",
              "    }\n",
              "\n",
              "    .dataframe tbody tr th {\n",
              "        vertical-align: top;\n",
              "    }\n",
              "\n",
              "    .dataframe thead th {\n",
              "        text-align: right;\n",
              "    }\n",
              "</style>\n",
              "<table border=\"1\" class=\"dataframe\">\n",
              "  <thead>\n",
              "    <tr style=\"text-align: right;\">\n",
              "      <th></th>\n",
              "      <th>platform</th>\n",
              "      <th>n_results</th>\n",
              "      <th>museum_id</th>\n",
              "    </tr>\n",
              "  </thead>\n",
              "  <tbody>\n",
              "    <tr>\n",
              "      <th>0</th>\n",
              "      <td>twitter</td>\n",
              "      <td>64</td>\n",
              "      <td>6</td>\n",
              "    </tr>\n",
              "    <tr>\n",
              "      <th>1</th>\n",
              "      <td>website_sentences</td>\n",
              "      <td>20</td>\n",
              "      <td>2</td>\n",
              "    </tr>\n",
              "    <tr>\n",
              "      <th>2</th>\n",
              "      <td>facebook</td>\n",
              "      <td>13</td>\n",
              "      <td>7</td>\n",
              "    </tr>\n",
              "  </tbody>\n",
              "</table>\n",
              "</div>\n",
              "      <button class=\"colab-df-convert\" onclick=\"convertToInteractive('df-18fb7335-cafd-4634-b488-0f9a8900816d')\"\n",
              "              title=\"Convert this dataframe to an interactive table.\"\n",
              "              style=\"display:none;\">\n",
              "        \n",
              "  <svg xmlns=\"http://www.w3.org/2000/svg\" height=\"24px\"viewBox=\"0 0 24 24\"\n",
              "       width=\"24px\">\n",
              "    <path d=\"M0 0h24v24H0V0z\" fill=\"none\"/>\n",
              "    <path d=\"M18.56 5.44l.94 2.06.94-2.06 2.06-.94-2.06-.94-.94-2.06-.94 2.06-2.06.94zm-11 1L8.5 8.5l.94-2.06 2.06-.94-2.06-.94L8.5 2.5l-.94 2.06-2.06.94zm10 10l.94 2.06.94-2.06 2.06-.94-2.06-.94-.94-2.06-.94 2.06-2.06.94z\"/><path d=\"M17.41 7.96l-1.37-1.37c-.4-.4-.92-.59-1.43-.59-.52 0-1.04.2-1.43.59L10.3 9.45l-7.72 7.72c-.78.78-.78 2.05 0 2.83L4 21.41c.39.39.9.59 1.41.59.51 0 1.02-.2 1.41-.59l7.78-7.78 2.81-2.81c.8-.78.8-2.07 0-2.86zM5.41 20L4 18.59l7.72-7.72 1.47 1.35L5.41 20z\"/>\n",
              "  </svg>\n",
              "      </button>\n",
              "      \n",
              "  <style>\n",
              "    .colab-df-container {\n",
              "      display:flex;\n",
              "      flex-wrap:wrap;\n",
              "      gap: 12px;\n",
              "    }\n",
              "\n",
              "    .colab-df-convert {\n",
              "      background-color: #E8F0FE;\n",
              "      border: none;\n",
              "      border-radius: 50%;\n",
              "      cursor: pointer;\n",
              "      display: none;\n",
              "      fill: #1967D2;\n",
              "      height: 32px;\n",
              "      padding: 0 0 0 0;\n",
              "      width: 32px;\n",
              "    }\n",
              "\n",
              "    .colab-df-convert:hover {\n",
              "      background-color: #E2EBFA;\n",
              "      box-shadow: 0px 1px 2px rgba(60, 64, 67, 0.3), 0px 1px 3px 1px rgba(60, 64, 67, 0.15);\n",
              "      fill: #174EA6;\n",
              "    }\n",
              "\n",
              "    [theme=dark] .colab-df-convert {\n",
              "      background-color: #3B4455;\n",
              "      fill: #D2E3FC;\n",
              "    }\n",
              "\n",
              "    [theme=dark] .colab-df-convert:hover {\n",
              "      background-color: #434B5C;\n",
              "      box-shadow: 0px 1px 3px 1px rgba(0, 0, 0, 0.15);\n",
              "      filter: drop-shadow(0px 1px 2px rgba(0, 0, 0, 0.3));\n",
              "      fill: #FFFFFF;\n",
              "    }\n",
              "  </style>\n",
              "\n",
              "      <script>\n",
              "        const buttonEl =\n",
              "          document.querySelector('#df-18fb7335-cafd-4634-b488-0f9a8900816d button.colab-df-convert');\n",
              "        buttonEl.style.display =\n",
              "          google.colab.kernel.accessAllowed ? 'block' : 'none';\n",
              "\n",
              "        async function convertToInteractive(key) {\n",
              "          const element = document.querySelector('#df-18fb7335-cafd-4634-b488-0f9a8900816d');\n",
              "          const dataTable =\n",
              "            await google.colab.kernel.invokeFunction('convertToInteractive',\n",
              "                                                     [key], {});\n",
              "          if (!dataTable) return;\n",
              "\n",
              "          const docLinkHtml = 'Like what you see? Visit the ' +\n",
              "            '<a target=\"_blank\" href=https://colab.research.google.com/notebooks/data_table.ipynb>data table notebook</a>'\n",
              "            + ' to learn more about interactive tables.';\n",
              "          element.innerHTML = '';\n",
              "          dataTable['output_type'] = 'display_data';\n",
              "          await google.colab.output.renderOutput(dataTable, element);\n",
              "          const docLink = document.createElement('div');\n",
              "          docLink.innerHTML = docLinkHtml;\n",
              "          element.appendChild(docLink);\n",
              "        }\n",
              "      </script>\n",
              "    </div>\n",
              "  </div>\n",
              "  "
            ],
            "text/plain": [
              "            platform  n_results  museum_id\n",
              "0            twitter         64          6\n",
              "1  website_sentences         20          2\n",
              "2           facebook         13          7"
            ]
          },
          "metadata": {}
        },
        {
          "output_type": "display_data",
          "data": {
            "image/png": "[encoded data removed]",
            "text/plain": [
              "<Figure size 432x288 with 1 Axes>"
            ]
          },
          "metadata": {}
        },
        {
          "output_type": "display_data",
          "data": {
            "text/html": [
              "<h3>Top 20 tokens before 'closure'</h3>"
            ],
            "text/plain": [
              "<IPython.core.display.HTML object>"
            ]
          },
          "metadata": {}
        },
        {
          "output_type": "stream",
          "name": "stdout",
          "text": [
            "rt (18) closed (17) help (11) coronavirus (11) spread (11) restrict (11) please (9) \n",
            "staff (8) hi (7) gardens (7) kewgardens (6) visitors (6) hello (6) aware (6) \n",
            "caused (5) 'm (5) full (5) open (5) sorry (5) trust (4) "
          ]
        },
        {
          "output_type": "display_data",
          "data": {
            "text/html": [
              "<h3>Top 20 tokens after 'closure'</h3>"
            ],
            "text/plain": [
              "<IPython.core.display.HTML object>"
            ]
          },
          "metadata": {}
        },
        {
          "output_type": "stream",
          "name": "stdout",
          "text": [
            "page (10) regards (6) kind (6) 1/2 (6) ^z (5) monitored (5) support (5) \n",
            "today (4) beauty (4) government (4) remain (4) home (4) nature (4) hand (4) \n",
            "continuing (4) call (4) share (4) help (4) everybody (4) thank (4) \n",
            "\n"
          ]
        },
        {
          "output_type": "display_data",
          "data": {
            "text/html": [
              "<h3>Temporal analysis</h3>"
            ],
            "text/plain": [
              "<IPython.core.display.HTML object>"
            ]
          },
          "metadata": {}
        },
        {
          "output_type": "display_data",
          "data": {
            "text/html": [
              "\n",
              "  <div id=\"df-e93d7e63-cef4-47db-84c5-60cc240a4a5b\">\n",
              "    <div class=\"colab-df-container\">\n",
              "      <div>\n",
              "<style scoped>\n",
              "    .dataframe tbody tr th:only-of-type {\n",
              "        vertical-align: middle;\n",
              "    }\n",
              "\n",
              "    .dataframe tbody tr th {\n",
              "        vertical-align: top;\n",
              "    }\n",
              "\n",
              "    .dataframe thead th {\n",
              "        text-align: right;\n",
              "    }\n",
              "</style>\n",
              "<table border=\"1\" class=\"dataframe\">\n",
              "  <thead>\n",
              "    <tr style=\"text-align: right;\">\n",
              "      <th></th>\n",
              "      <th>msg_time</th>\n",
              "      <th>size</th>\n",
              "      <th>session_id</th>\n",
              "    </tr>\n",
              "  </thead>\n",
              "  <tbody>\n",
              "    <tr>\n",
              "      <th>0</th>\n",
              "      <td>2021-03-04</td>\n",
              "      <td>2</td>\n",
              "      <td>2021-03-04</td>\n",
              "    </tr>\n",
              "    <tr>\n",
              "      <th>1</th>\n",
              "      <td>2021-04-04</td>\n",
              "      <td>2</td>\n",
              "      <td>2021-04-04</td>\n",
              "    </tr>\n",
              "    <tr>\n",
              "      <th>2</th>\n",
              "      <td>2021-05-03</td>\n",
              "      <td>2</td>\n",
              "      <td>2021-05-03</td>\n",
              "    </tr>\n",
              "    <tr>\n",
              "      <th>3</th>\n",
              "      <td>2021-06-03</td>\n",
              "      <td>2</td>\n",
              "      <td>2021-06-03</td>\n",
              "    </tr>\n",
              "    <tr>\n",
              "      <th>4</th>\n",
              "      <td>2021-07-12</td>\n",
              "      <td>2</td>\n",
              "      <td>2021-07-12</td>\n",
              "    </tr>\n",
              "    <tr>\n",
              "      <th>5</th>\n",
              "      <td>2021-08-09</td>\n",
              "      <td>2</td>\n",
              "      <td>2021-08-09</td>\n",
              "    </tr>\n",
              "    <tr>\n",
              "      <th>6</th>\n",
              "      <td>2021-09-01</td>\n",
              "      <td>2</td>\n",
              "      <td>2021-09-01</td>\n",
              "    </tr>\n",
              "    <tr>\n",
              "      <th>7</th>\n",
              "      <td>2021-09-27</td>\n",
              "      <td>2</td>\n",
              "      <td>2021-09-27</td>\n",
              "    </tr>\n",
              "    <tr>\n",
              "      <th>8</th>\n",
              "      <td>2021-10-25</td>\n",
              "      <td>2</td>\n",
              "      <td>2021-10-25</td>\n",
              "    </tr>\n",
              "    <tr>\n",
              "      <th>9</th>\n",
              "      <td>2021-11-08</td>\n",
              "      <td>2</td>\n",
              "      <td>2021-11-08</td>\n",
              "    </tr>\n",
              "  </tbody>\n",
              "</table>\n",
              "</div>\n",
              "      <button class=\"colab-df-convert\" onclick=\"convertToInteractive('df-e93d7e63-cef4-47db-84c5-60cc240a4a5b')\"\n",
              "              title=\"Convert this dataframe to an interactive table.\"\n",
              "              style=\"display:none;\">\n",
              "        \n",
              "  <svg xmlns=\"http://www.w3.org/2000/svg\" height=\"24px\"viewBox=\"0 0 24 24\"\n",
              "       width=\"24px\">\n",
              "    <path d=\"M0 0h24v24H0V0z\" fill=\"none\"/>\n",
              "    <path d=\"M18.56 5.44l.94 2.06.94-2.06 2.06-.94-2.06-.94-.94-2.06-.94 2.06-2.06.94zm-11 1L8.5 8.5l.94-2.06 2.06-.94-2.06-.94L8.5 2.5l-.94 2.06-2.06.94zm10 10l.94 2.06.94-2.06 2.06-.94-2.06-.94-.94-2.06-.94 2.06-2.06.94z\"/><path d=\"M17.41 7.96l-1.37-1.37c-.4-.4-.92-.59-1.43-.59-.52 0-1.04.2-1.43.59L10.3 9.45l-7.72 7.72c-.78.78-.78 2.05 0 2.83L4 21.41c.39.39.9.59 1.41.59.51 0 1.02-.2 1.41-.59l7.78-7.78 2.81-2.81c.8-.78.8-2.07 0-2.86zM5.41 20L4 18.59l7.72-7.72 1.47 1.35L5.41 20z\"/>\n",
              "  </svg>\n",
              "      </button>\n",
              "      \n",
              "  <style>\n",
              "    .colab-df-container {\n",
              "      display:flex;\n",
              "      flex-wrap:wrap;\n",
              "      gap: 12px;\n",
              "    }\n",
              "\n",
              "    .colab-df-convert {\n",
              "      background-color: #E8F0FE;\n",
              "      border: none;\n",
              "      border-radius: 50%;\n",
              "      cursor: pointer;\n",
              "      display: none;\n",
              "      fill: #1967D2;\n",
              "      height: 32px;\n",
              "      padding: 0 0 0 0;\n",
              "      width: 32px;\n",
              "    }\n",
              "\n",
              "    .colab-df-convert:hover {\n",
              "      background-color: #E2EBFA;\n",
              "      box-shadow: 0px 1px 2px rgba(60, 64, 67, 0.3), 0px 1px 3px 1px rgba(60, 64, 67, 0.15);\n",
              "      fill: #174EA6;\n",
              "    }\n",
              "\n",
              "    [theme=dark] .colab-df-convert {\n",
              "      background-color: #3B4455;\n",
              "      fill: #D2E3FC;\n",
              "    }\n",
              "\n",
              "    [theme=dark] .colab-df-convert:hover {\n",
              "      background-color: #434B5C;\n",
              "      box-shadow: 0px 1px 3px 1px rgba(0, 0, 0, 0.15);\n",
              "      filter: drop-shadow(0px 1px 2px rgba(0, 0, 0, 0.3));\n",
              "      fill: #FFFFFF;\n",
              "    }\n",
              "  </style>\n",
              "\n",
              "      <script>\n",
              "        const buttonEl =\n",
              "          document.querySelector('#df-e93d7e63-cef4-47db-84c5-60cc240a4a5b button.colab-df-convert');\n",
              "        buttonEl.style.display =\n",
              "          google.colab.kernel.accessAllowed ? 'block' : 'none';\n",
              "\n",
              "        async function convertToInteractive(key) {\n",
              "          const element = document.querySelector('#df-e93d7e63-cef4-47db-84c5-60cc240a4a5b');\n",
              "          const dataTable =\n",
              "            await google.colab.kernel.invokeFunction('convertToInteractive',\n",
              "                                                     [key], {});\n",
              "          if (!dataTable) return;\n",
              "\n",
              "          const docLinkHtml = 'Like what you see? Visit the ' +\n",
              "            '<a target=\"_blank\" href=https://colab.research.google.com/notebooks/data_table.ipynb>data table notebook</a>'\n",
              "            + ' to learn more about interactive tables.';\n",
              "          element.innerHTML = '';\n",
              "          dataTable['output_type'] = 'display_data';\n",
              "          await google.colab.output.renderOutput(dataTable, element);\n",
              "          const docLink = document.createElement('div');\n",
              "          docLink.innerHTML = docLinkHtml;\n",
              "          element.appendChild(docLink);\n",
              "        }\n",
              "      </script>\n",
              "    </div>\n",
              "  </div>\n",
              "  "
            ],
            "text/plain": [
              "    msg_time  size  session_id\n",
              "0 2021-03-04     2  2021-03-04\n",
              "1 2021-04-04     2  2021-04-04\n",
              "2 2021-05-03     2  2021-05-03\n",
              "3 2021-06-03     2  2021-06-03\n",
              "4 2021-07-12     2  2021-07-12\n",
              "5 2021-08-09     2  2021-08-09\n",
              "6 2021-09-01     2  2021-09-01\n",
              "7 2021-09-27     2  2021-09-27\n",
              "8 2021-10-25     2  2021-10-25\n",
              "9 2021-11-08     2  2021-11-08"
            ]
          },
          "metadata": {}
        },
        {
          "output_type": "display_data",
          "data": {
            "image/png": "[encoded data removed]",
            "text/plain": [
              "<Figure size 432x288 with 1 Axes>"
            ]
          },
          "metadata": {}
        },
        {
          "output_type": "display_data",
          "data": {
            "image/png": "[encoded data removed]",
            "text/plain": [
              "<Figure size 432x288 with 1 Axes>"
            ]
          },
          "metadata": {}
        },
        {
          "output_type": "stream",
          "name": "stdout",
          "text": [
            "Unique museum results: 15\n"
          ]
        },
        {
          "output_type": "display_data",
          "data": {
            "text/html": [
              "<h3>By governance</h3>"
            ],
            "text/plain": [
              "<IPython.core.display.HTML object>"
            ]
          },
          "metadata": {}
        },
        {
          "output_type": "display_data",
          "data": {
            "text/html": [
              "\n",
              "  <div id=\"df-426713ed-3308-4dd6-a162-70e01933a194\">\n",
              "    <div class=\"colab-df-container\">\n",
              "      <div>\n",
              "<style scoped>\n",
              "    .dataframe tbody tr th:only-of-type {\n",
              "        vertical-align: middle;\n",
              "    }\n",
              "\n",
              "    .dataframe tbody tr th {\n",
              "        vertical-align: top;\n",
              "    }\n",
              "\n",
              "    .dataframe thead th {\n",
              "        text-align: right;\n",
              "    }\n",
              "</style>\n",
              "<table border=\"1\" class=\"dataframe\">\n",
              "  <thead>\n",
              "    <tr style=\"text-align: right;\">\n",
              "      <th></th>\n",
              "      <th>attribute_value</th>\n",
              "      <th>n_museums</th>\n",
              "      <th>museum_result_pc</th>\n",
              "      <th>n_tot_museums</th>\n",
              "      <th>res_museum_attribute_pc</th>\n",
              "      <th>tot_museum_attribute_pc</th>\n",
              "      <th>divergence_pc</th>\n",
              "    </tr>\n",
              "  </thead>\n",
              "  <tbody>\n",
              "    <tr>\n",
              "      <th>0</th>\n",
              "      <td>Independent:National Trust</td>\n",
              "      <td>10</td>\n",
              "      <td>66.7</td>\n",
              "      <td>183</td>\n",
              "      <td>5.5</td>\n",
              "      <td>5.5</td>\n",
              "      <td>61.2</td>\n",
              "    </tr>\n",
              "    <tr>\n",
              "      <th>1</th>\n",
              "      <td>Government:National</td>\n",
              "      <td>5</td>\n",
              "      <td>33.3</td>\n",
              "      <td>69</td>\n",
              "      <td>7.2</td>\n",
              "      <td>2.1</td>\n",
              "      <td>31.2</td>\n",
              "    </tr>\n",
              "  </tbody>\n",
              "</table>\n",
              "</div>\n",
              "      <button class=\"colab-df-convert\" onclick=\"convertToInteractive('df-426713ed-3308-4dd6-a162-70e01933a194')\"\n",
              "              title=\"Convert this dataframe to an interactive table.\"\n",
              "              style=\"display:none;\">\n",
              "        \n",
              "  <svg xmlns=\"http://www.w3.org/2000/svg\" height=\"24px\"viewBox=\"0 0 24 24\"\n",
              "       width=\"24px\">\n",
              "    <path d=\"M0 0h24v24H0V0z\" fill=\"none\"/>\n",
              "    <path d=\"M18.56 5.44l.94 2.06.94-2.06 2.06-.94-2.06-.94-.94-2.06-.94 2.06-2.06.94zm-11 1L8.5 8.5l.94-2.06 2.06-.94-2.06-.94L8.5 2.5l-.94 2.06-2.06.94zm10 10l.94 2.06.94-2.06 2.06-.94-2.06-.94-.94-2.06-.94 2.06-2.06.94z\"/><path d=\"M17.41 7.96l-1.37-1.37c-.4-.4-.92-.59-1.43-.59-.52 0-1.04.2-1.43.59L10.3 9.45l-7.72 7.72c-.78.78-.78 2.05 0 2.83L4 21.41c.39.39.9.59 1.41.59.51 0 1.02-.2 1.41-.59l7.78-7.78 2.81-2.81c.8-.78.8-2.07 0-2.86zM5.41 20L4 18.59l7.72-7.72 1.47 1.35L5.41 20z\"/>\n",
              "  </svg>\n",
              "      </button>\n",
              "      \n",
              "  <style>\n",
              "    .colab-df-container {\n",
              "      display:flex;\n",
              "      flex-wrap:wrap;\n",
              "      gap: 12px;\n",
              "    }\n",
              "\n",
              "    .colab-df-convert {\n",
              "      background-color: #E8F0FE;\n",
              "      border: none;\n",
              "      border-radius: 50%;\n",
              "      cursor: pointer;\n",
              "      display: none;\n",
              "      fill: #1967D2;\n",
              "      height: 32px;\n",
              "      padding: 0 0 0 0;\n",
              "      width: 32px;\n",
              "    }\n",
              "\n",
              "    .colab-df-convert:hover {\n",
              "      background-color: #E2EBFA;\n",
              "      box-shadow: 0px 1px 2px rgba(60, 64, 67, 0.3), 0px 1px 3px 1px rgba(60, 64, 67, 0.15);\n",
              "      fill: #174EA6;\n",
              "    }\n",
              "\n",
              "    [theme=dark] .colab-df-convert {\n",
              "      background-color: #3B4455;\n",
              "      fill: #D2E3FC;\n",
              "    }\n",
              "\n",
              "    [theme=dark] .colab-df-convert:hover {\n",
              "      background-color: #434B5C;\n",
              "      box-shadow: 0px 1px 3px 1px rgba(0, 0, 0, 0.15);\n",
              "      filter: drop-shadow(0px 1px 2px rgba(0, 0, 0, 0.3));\n",
              "      fill: #FFFFFF;\n",
              "    }\n",
              "  </style>\n",
              "\n",
              "      <script>\n",
              "        const buttonEl =\n",
              "          document.querySelector('#df-426713ed-3308-4dd6-a162-70e01933a194 button.colab-df-convert');\n",
              "        buttonEl.style.display =\n",
              "          google.colab.kernel.accessAllowed ? 'block' : 'none';\n",
              "\n",
              "        async function convertToInteractive(key) {\n",
              "          const element = document.querySelector('#df-426713ed-3308-4dd6-a162-70e01933a194');\n",
              "          const dataTable =\n",
              "            await google.colab.kernel.invokeFunction('convertToInteractive',\n",
              "                                                     [key], {});\n",
              "          if (!dataTable) return;\n",
              "\n",
              "          const docLinkHtml = 'Like what you see? Visit the ' +\n",
              "            '<a target=\"_blank\" href=https://colab.research.google.com/notebooks/data_table.ipynb>data table notebook</a>'\n",
              "            + ' to learn more about interactive tables.';\n",
              "          element.innerHTML = '';\n",
              "          dataTable['output_type'] = 'display_data';\n",
              "          await google.colab.output.renderOutput(dataTable, element);\n",
              "          const docLink = document.createElement('div');\n",
              "          docLink.innerHTML = docLinkHtml;\n",
              "          element.appendChild(docLink);\n",
              "        }\n",
              "      </script>\n",
              "    </div>\n",
              "  </div>\n",
              "  "
            ],
            "text/plain": [
              "              attribute_value  ...  divergence_pc\n",
              "0  Independent:National Trust  ...           61.2\n",
              "1         Government:National  ...           31.2\n",
              "\n",
              "[2 rows x 7 columns]"
            ]
          },
          "metadata": {}
        },
        {
          "output_type": "display_data",
          "data": {
            "image/png": "[encoded data removed]",
            "text/plain": [
              "<Figure size 432x288 with 1 Axes>"
            ]
          },
          "metadata": {}
        },
        {
          "output_type": "display_data",
          "data": {
            "image/png": "[encoded data removed]",
            "text/plain": [
              "<Figure size 432x288 with 1 Axes>"
            ]
          },
          "metadata": {}
        },
        {
          "output_type": "display_data",
          "data": {
            "text/html": [
              "<h3>By region</h3>"
            ],
            "text/plain": [
              "<IPython.core.display.HTML object>"
            ]
          },
          "metadata": {}
        },
        {
          "output_type": "display_data",
          "data": {
            "text/html": [
              "\n",
              "  <div id=\"df-ff6108f3-1d41-4a78-a91d-77e5bb94eb48\">\n",
              "    <div class=\"colab-df-container\">\n",
              "      <div>\n",
              "<style scoped>\n",
              "    .dataframe tbody tr th:only-of-type {\n",
              "        vertical-align: middle;\n",
              "    }\n",
              "\n",
              "    .dataframe tbody tr th {\n",
              "        vertical-align: top;\n",
              "    }\n",
              "\n",
              "    .dataframe thead th {\n",
              "        text-align: right;\n",
              "    }\n",
              "</style>\n",
              "<table border=\"1\" class=\"dataframe\">\n",
              "  <thead>\n",
              "    <tr style=\"text-align: right;\">\n",
              "      <th></th>\n",
              "      <th>attribute_value</th>\n",
              "      <th>n_museums</th>\n",
              "      <th>museum_result_pc</th>\n",
              "      <th>n_tot_museums</th>\n",
              "      <th>res_museum_attribute_pc</th>\n",
              "      <th>tot_museum_attribute_pc</th>\n",
              "      <th>divergence_pc</th>\n",
              "    </tr>\n",
              "  </thead>\n",
              "  <tbody>\n",
              "    <tr>\n",
              "      <th>2</th>\n",
              "      <td>London</td>\n",
              "      <td>6</td>\n",
              "      <td>40.0</td>\n",
              "      <td>238</td>\n",
              "      <td>2.5</td>\n",
              "      <td>7.1</td>\n",
              "      <td>32.9</td>\n",
              "    </tr>\n",
              "    <tr>\n",
              "      <th>3</th>\n",
              "      <td>East Midlands</td>\n",
              "      <td>3</td>\n",
              "      <td>20.0</td>\n",
              "      <td>229</td>\n",
              "      <td>1.3</td>\n",
              "      <td>6.9</td>\n",
              "      <td>13.1</td>\n",
              "    </tr>\n",
              "    <tr>\n",
              "      <th>4</th>\n",
              "      <td>Northern Ireland</td>\n",
              "      <td>2</td>\n",
              "      <td>13.3</td>\n",
              "      <td>94</td>\n",
              "      <td>2.1</td>\n",
              "      <td>2.8</td>\n",
              "      <td>10.5</td>\n",
              "    </tr>\n",
              "    <tr>\n",
              "      <th>5</th>\n",
              "      <td>East of England</td>\n",
              "      <td>1</td>\n",
              "      <td>6.7</td>\n",
              "      <td>333</td>\n",
              "      <td>0.3</td>\n",
              "      <td>10.0</td>\n",
              "      <td>-3.3</td>\n",
              "    </tr>\n",
              "    <tr>\n",
              "      <th>6</th>\n",
              "      <td>South West</td>\n",
              "      <td>1</td>\n",
              "      <td>6.7</td>\n",
              "      <td>422</td>\n",
              "      <td>0.2</td>\n",
              "      <td>12.6</td>\n",
              "      <td>-5.9</td>\n",
              "    </tr>\n",
              "    <tr>\n",
              "      <th>7</th>\n",
              "      <td>Wales</td>\n",
              "      <td>1</td>\n",
              "      <td>6.7</td>\n",
              "      <td>207</td>\n",
              "      <td>0.5</td>\n",
              "      <td>6.2</td>\n",
              "      <td>0.5</td>\n",
              "    </tr>\n",
              "    <tr>\n",
              "      <th>8</th>\n",
              "      <td>West Midlands</td>\n",
              "      <td>1</td>\n",
              "      <td>6.7</td>\n",
              "      <td>228</td>\n",
              "      <td>0.4</td>\n",
              "      <td>6.8</td>\n",
              "      <td>-0.1</td>\n",
              "    </tr>\n",
              "  </tbody>\n",
              "</table>\n",
              "</div>\n",
              "      <button class=\"colab-df-convert\" onclick=\"convertToInteractive('df-ff6108f3-1d41-4a78-a91d-77e5bb94eb48')\"\n",
              "              title=\"Convert this dataframe to an interactive table.\"\n",
              "              style=\"display:none;\">\n",
              "        \n",
              "  <svg xmlns=\"http://www.w3.org/2000/svg\" height=\"24px\"viewBox=\"0 0 24 24\"\n",
              "       width=\"24px\">\n",
              "    <path d=\"M0 0h24v24H0V0z\" fill=\"none\"/>\n",
              "    <path d=\"M18.56 5.44l.94 2.06.94-2.06 2.06-.94-2.06-.94-.94-2.06-.94 2.06-2.06.94zm-11 1L8.5 8.5l.94-2.06 2.06-.94-2.06-.94L8.5 2.5l-.94 2.06-2.06.94zm10 10l.94 2.06.94-2.06 2.06-.94-2.06-.94-.94-2.06-.94 2.06-2.06.94z\"/><path d=\"M17.41 7.96l-1.37-1.37c-.4-.4-.92-.59-1.43-.59-.52 0-1.04.2-1.43.59L10.3 9.45l-7.72 7.72c-.78.78-.78 2.05 0 2.83L4 21.41c.39.39.9.59 1.41.59.51 0 1.02-.2 1.41-.59l7.78-7.78 2.81-2.81c.8-.78.8-2.07 0-2.86zM5.41 20L4 18.59l7.72-7.72 1.47 1.35L5.41 20z\"/>\n",
              "  </svg>\n",
              "      </button>\n",
              "      \n",
              "  <style>\n",
              "    .colab-df-container {\n",
              "      display:flex;\n",
              "      flex-wrap:wrap;\n",
              "      gap: 12px;\n",
              "    }\n",
              "\n",
              "    .colab-df-convert {\n",
              "      background-color: #E8F0FE;\n",
              "      border: none;\n",
              "      border-radius: 50%;\n",
              "      cursor: pointer;\n",
              "      display: none;\n",
              "      fill: #1967D2;\n",
              "      height: 32px;\n",
              "      padding: 0 0 0 0;\n",
              "      width: 32px;\n",
              "    }\n",
              "\n",
              "    .colab-df-convert:hover {\n",
              "      background-color: #E2EBFA;\n",
              "      box-shadow: 0px 1px 2px rgba(60, 64, 67, 0.3), 0px 1px 3px 1px rgba(60, 64, 67, 0.15);\n",
              "      fill: #174EA6;\n",
              "    }\n",
              "\n",
              "    [theme=dark] .colab-df-convert {\n",
              "      background-color: #3B4455;\n",
              "      fill: #D2E3FC;\n",
              "    }\n",
              "\n",
              "    [theme=dark] .colab-df-convert:hover {\n",
              "      background-color: #434B5C;\n",
              "      box-shadow: 0px 1px 3px 1px rgba(0, 0, 0, 0.15);\n",
              "      filter: drop-shadow(0px 1px 2px rgba(0, 0, 0, 0.3));\n",
              "      fill: #FFFFFF;\n",
              "    }\n",
              "  </style>\n",
              "\n",
              "      <script>\n",
              "        const buttonEl =\n",
              "          document.querySelector('#df-ff6108f3-1d41-4a78-a91d-77e5bb94eb48 button.colab-df-convert');\n",
              "        buttonEl.style.display =\n",
              "          google.colab.kernel.accessAllowed ? 'block' : 'none';\n",
              "\n",
              "        async function convertToInteractive(key) {\n",
              "          const element = document.querySelector('#df-ff6108f3-1d41-4a78-a91d-77e5bb94eb48');\n",
              "          const dataTable =\n",
              "            await google.colab.kernel.invokeFunction('convertToInteractive',\n",
              "                                                     [key], {});\n",
              "          if (!dataTable) return;\n",
              "\n",
              "          const docLinkHtml = 'Like what you see? Visit the ' +\n",
              "            '<a target=\"_blank\" href=https://colab.research.google.com/notebooks/data_table.ipynb>data table notebook</a>'\n",
              "            + ' to learn more about interactive tables.';\n",
              "          element.innerHTML = '';\n",
              "          dataTable['output_type'] = 'display_data';\n",
              "          await google.colab.output.renderOutput(dataTable, element);\n",
              "          const docLink = document.createElement('div');\n",
              "          docLink.innerHTML = docLinkHtml;\n",
              "          element.appendChild(docLink);\n",
              "        }\n",
              "      </script>\n",
              "    </div>\n",
              "  </div>\n",
              "  "
            ],
            "text/plain": [
              "    attribute_value  n_museums  ...  tot_museum_attribute_pc  divergence_pc\n",
              "2            London          6  ...                      7.1           32.9\n",
              "3     East Midlands          3  ...                      6.9           13.1\n",
              "4  Northern Ireland          2  ...                      2.8           10.5\n",
              "5   East of England          1  ...                     10.0           -3.3\n",
              "6        South West          1  ...                     12.6           -5.9\n",
              "7             Wales          1  ...                      6.2            0.5\n",
              "8     West Midlands          1  ...                      6.8           -0.1\n",
              "\n",
              "[7 rows x 7 columns]"
            ]
          },
          "metadata": {}
        },
        {
          "output_type": "display_data",
          "data": {
            "image/png": "[encoded data removed]",
            "text/plain": [
              "<Figure size 432x288 with 1 Axes>"
            ]
          },
          "metadata": {}
        },
        {
          "output_type": "display_data",
          "data": {
            "image/png": "[encoded data removed]",
            "text/plain": [
              "<Figure size 432x288 with 1 Axes>"
            ]
          },
          "metadata": {}
        },
        {
          "output_type": "display_data",
          "data": {
            "text/html": [
              "<h3>By size</h3>"
            ],
            "text/plain": [
              "<IPython.core.display.HTML object>"
            ]
          },
          "metadata": {}
        },
        {
          "output_type": "display_data",
          "data": {
            "text/html": [
              "\n",
              "  <div id=\"df-a8576a06-4e60-4fbf-9d28-7a3df154f417\">\n",
              "    <div class=\"colab-df-container\">\n",
              "      <div>\n",
              "<style scoped>\n",
              "    .dataframe tbody tr th:only-of-type {\n",
              "        vertical-align: middle;\n",
              "    }\n",
              "\n",
              "    .dataframe tbody tr th {\n",
              "        vertical-align: top;\n",
              "    }\n",
              "\n",
              "    .dataframe thead th {\n",
              "        text-align: right;\n",
              "    }\n",
              "</style>\n",
              "<table border=\"1\" class=\"dataframe\">\n",
              "  <thead>\n",
              "    <tr style=\"text-align: right;\">\n",
              "      <th></th>\n",
              "      <th>attribute_value</th>\n",
              "      <th>n_museums</th>\n",
              "      <th>museum_result_pc</th>\n",
              "      <th>n_tot_museums</th>\n",
              "      <th>res_museum_attribute_pc</th>\n",
              "      <th>tot_museum_attribute_pc</th>\n",
              "      <th>divergence_pc</th>\n",
              "    </tr>\n",
              "  </thead>\n",
              "  <tbody>\n",
              "    <tr>\n",
              "      <th>9</th>\n",
              "      <td>small</td>\n",
              "      <td>15</td>\n",
              "      <td>100.0</td>\n",
              "      <td>1825</td>\n",
              "      <td>0.8</td>\n",
              "      <td>54.6</td>\n",
              "      <td>45.4</td>\n",
              "    </tr>\n",
              "  </tbody>\n",
              "</table>\n",
              "</div>\n",
              "      <button class=\"colab-df-convert\" onclick=\"convertToInteractive('df-a8576a06-4e60-4fbf-9d28-7a3df154f417')\"\n",
              "              title=\"Convert this dataframe to an interactive table.\"\n",
              "              style=\"display:none;\">\n",
              "        \n",
              "  <svg xmlns=\"http://www.w3.org/2000/svg\" height=\"24px\"viewBox=\"0 0 24 24\"\n",
              "       width=\"24px\">\n",
              "    <path d=\"M0 0h24v24H0V0z\" fill=\"none\"/>\n",
              "    <path d=\"M18.56 5.44l.94 2.06.94-2.06 2.06-.94-2.06-.94-.94-2.06-.94 2.06-2.06.94zm-11 1L8.5 8.5l.94-2.06 2.06-.94-2.06-.94L8.5 2.5l-.94 2.06-2.06.94zm10 10l.94 2.06.94-2.06 2.06-.94-2.06-.94-.94-2.06-.94 2.06-2.06.94z\"/><path d=\"M17.41 7.96l-1.37-1.37c-.4-.4-.92-.59-1.43-.59-.52 0-1.04.2-1.43.59L10.3 9.45l-7.72 7.72c-.78.78-.78 2.05 0 2.83L4 21.41c.39.39.9.59 1.41.59.51 0 1.02-.2 1.41-.59l7.78-7.78 2.81-2.81c.8-.78.8-2.07 0-2.86zM5.41 20L4 18.59l7.72-7.72 1.47 1.35L5.41 20z\"/>\n",
              "  </svg>\n",
              "      </button>\n",
              "      \n",
              "  <style>\n",
              "    .colab-df-container {\n",
              "      display:flex;\n",
              "      flex-wrap:wrap;\n",
              "      gap: 12px;\n",
              "    }\n",
              "\n",
              "    .colab-df-convert {\n",
              "      background-color: #E8F0FE;\n",
              "      border: none;\n",
              "      border-radius: 50%;\n",
              "      cursor: pointer;\n",
              "      display: none;\n",
              "      fill: #1967D2;\n",
              "      height: 32px;\n",
              "      padding: 0 0 0 0;\n",
              "      width: 32px;\n",
              "    }\n",
              "\n",
              "    .colab-df-convert:hover {\n",
              "      background-color: #E2EBFA;\n",
              "      box-shadow: 0px 1px 2px rgba(60, 64, 67, 0.3), 0px 1px 3px 1px rgba(60, 64, 67, 0.15);\n",
              "      fill: #174EA6;\n",
              "    }\n",
              "\n",
              "    [theme=dark] .colab-df-convert {\n",
              "      background-color: #3B4455;\n",
              "      fill: #D2E3FC;\n",
              "    }\n",
              "\n",
              "    [theme=dark] .colab-df-convert:hover {\n",
              "      background-color: #434B5C;\n",
              "      box-shadow: 0px 1px 3px 1px rgba(0, 0, 0, 0.15);\n",
              "      filter: drop-shadow(0px 1px 2px rgba(0, 0, 0, 0.3));\n",
              "      fill: #FFFFFF;\n",
              "    }\n",
              "  </style>\n",
              "\n",
              "      <script>\n",
              "        const buttonEl =\n",
              "          document.querySelector('#df-a8576a06-4e60-4fbf-9d28-7a3df154f417 button.colab-df-convert');\n",
              "        buttonEl.style.display =\n",
              "          google.colab.kernel.accessAllowed ? 'block' : 'none';\n",
              "\n",
              "        async function convertToInteractive(key) {\n",
              "          const element = document.querySelector('#df-a8576a06-4e60-4fbf-9d28-7a3df154f417');\n",
              "          const dataTable =\n",
              "            await google.colab.kernel.invokeFunction('convertToInteractive',\n",
              "                                                     [key], {});\n",
              "          if (!dataTable) return;\n",
              "\n",
              "          const docLinkHtml = 'Like what you see? Visit the ' +\n",
              "            '<a target=\"_blank\" href=https://colab.research.google.com/notebooks/data_table.ipynb>data table notebook</a>'\n",
              "            + ' to learn more about interactive tables.';\n",
              "          element.innerHTML = '';\n",
              "          dataTable['output_type'] = 'display_data';\n",
              "          await google.colab.output.renderOutput(dataTable, element);\n",
              "          const docLink = document.createElement('div');\n",
              "          docLink.innerHTML = docLinkHtml;\n",
              "          element.appendChild(docLink);\n",
              "        }\n",
              "      </script>\n",
              "    </div>\n",
              "  </div>\n",
              "  "
            ],
            "text/plain": [
              "  attribute_value  n_museums  ...  tot_museum_attribute_pc  divergence_pc\n",
              "9           small         15  ...                     54.6           45.4\n",
              "\n",
              "[1 rows x 7 columns]"
            ]
          },
          "metadata": {}
        },
        {
          "output_type": "display_data",
          "data": {
            "image/png": "[encoded data removed]",
            "text/plain": [
              "<Figure size 432x288 with 1 Axes>"
            ]
          },
          "metadata": {}
        },
        {
          "output_type": "display_data",
          "data": {
            "image/png": "[encoded data removed]",
            "text/plain": [
              "<Figure size 432x288 with 1 Axes>"
            ]
          },
          "metadata": {}
        },
        {
          "output_type": "display_data",
          "data": {
            "text/html": [
              "<h3>By subject_matter_simpl</h3>"
            ],
            "text/plain": [
              "<IPython.core.display.HTML object>"
            ]
          },
          "metadata": {}
        },
        {
          "output_type": "display_data",
          "data": {
            "text/html": [
              "\n",
              "  <div id=\"df-27c44ed0-ac2e-4c37-877b-0a1f3fb43c2b\">\n",
              "    <div class=\"colab-df-container\">\n",
              "      <div>\n",
              "<style scoped>\n",
              "    .dataframe tbody tr th:only-of-type {\n",
              "        vertical-align: middle;\n",
              "    }\n",
              "\n",
              "    .dataframe tbody tr th {\n",
              "        vertical-align: top;\n",
              "    }\n",
              "\n",
              "    .dataframe thead th {\n",
              "        text-align: right;\n",
              "    }\n",
              "</style>\n",
              "<table border=\"1\" class=\"dataframe\">\n",
              "  <thead>\n",
              "    <tr style=\"text-align: right;\">\n",
              "      <th></th>\n",
              "      <th>attribute_value</th>\n",
              "      <th>n_museums</th>\n",
              "      <th>museum_result_pc</th>\n",
              "      <th>n_tot_museums</th>\n",
              "      <th>res_museum_attribute_pc</th>\n",
              "      <th>tot_museum_attribute_pc</th>\n",
              "      <th>divergence_pc</th>\n",
              "    </tr>\n",
              "  </thead>\n",
              "  <tbody>\n",
              "    <tr>\n",
              "      <th>10</th>\n",
              "      <td>Buildings</td>\n",
              "      <td>9</td>\n",
              "      <td>60.0</td>\n",
              "      <td>553</td>\n",
              "      <td>1.6</td>\n",
              "      <td>16.6</td>\n",
              "      <td>43.4</td>\n",
              "    </tr>\n",
              "    <tr>\n",
              "      <th>11</th>\n",
              "      <td>Arts</td>\n",
              "      <td>3</td>\n",
              "      <td>20.0</td>\n",
              "      <td>247</td>\n",
              "      <td>1.2</td>\n",
              "      <td>7.4</td>\n",
              "      <td>12.6</td>\n",
              "    </tr>\n",
              "    <tr>\n",
              "      <th>12</th>\n",
              "      <td>Personality</td>\n",
              "      <td>3</td>\n",
              "      <td>20.0</td>\n",
              "      <td>176</td>\n",
              "      <td>1.7</td>\n",
              "      <td>5.3</td>\n",
              "      <td>14.7</td>\n",
              "    </tr>\n",
              "  </tbody>\n",
              "</table>\n",
              "</div>\n",
              "      <button class=\"colab-df-convert\" onclick=\"convertToInteractive('df-27c44ed0-ac2e-4c37-877b-0a1f3fb43c2b')\"\n",
              "              title=\"Convert this dataframe to an interactive table.\"\n",
              "              style=\"display:none;\">\n",
              "        \n",
              "  <svg xmlns=\"http://www.w3.org/2000/svg\" height=\"24px\"viewBox=\"0 0 24 24\"\n",
              "       width=\"24px\">\n",
              "    <path d=\"M0 0h24v24H0V0z\" fill=\"none\"/>\n",
              "    <path d=\"M18.56 5.44l.94 2.06.94-2.06 2.06-.94-2.06-.94-.94-2.06-.94 2.06-2.06.94zm-11 1L8.5 8.5l.94-2.06 2.06-.94-2.06-.94L8.5 2.5l-.94 2.06-2.06.94zm10 10l.94 2.06.94-2.06 2.06-.94-2.06-.94-.94-2.06-.94 2.06-2.06.94z\"/><path d=\"M17.41 7.96l-1.37-1.37c-.4-.4-.92-.59-1.43-.59-.52 0-1.04.2-1.43.59L10.3 9.45l-7.72 7.72c-.78.78-.78 2.05 0 2.83L4 21.41c.39.39.9.59 1.41.59.51 0 1.02-.2 1.41-.59l7.78-7.78 2.81-2.81c.8-.78.8-2.07 0-2.86zM5.41 20L4 18.59l7.72-7.72 1.47 1.35L5.41 20z\"/>\n",
              "  </svg>\n",
              "      </button>\n",
              "      \n",
              "  <style>\n",
              "    .colab-df-container {\n",
              "      display:flex;\n",
              "      flex-wrap:wrap;\n",
              "      gap: 12px;\n",
              "    }\n",
              "\n",
              "    .colab-df-convert {\n",
              "      background-color: #E8F0FE;\n",
              "      border: none;\n",
              "      border-radius: 50%;\n",
              "      cursor: pointer;\n",
              "      display: none;\n",
              "      fill: #1967D2;\n",
              "      height: 32px;\n",
              "      padding: 0 0 0 0;\n",
              "      width: 32px;\n",
              "    }\n",
              "\n",
              "    .colab-df-convert:hover {\n",
              "      background-color: #E2EBFA;\n",
              "      box-shadow: 0px 1px 2px rgba(60, 64, 67, 0.3), 0px 1px 3px 1px rgba(60, 64, 67, 0.15);\n",
              "      fill: #174EA6;\n",
              "    }\n",
              "\n",
              "    [theme=dark] .colab-df-convert {\n",
              "      background-color: #3B4455;\n",
              "      fill: #D2E3FC;\n",
              "    }\n",
              "\n",
              "    [theme=dark] .colab-df-convert:hover {\n",
              "      background-color: #434B5C;\n",
              "      box-shadow: 0px 1px 3px 1px rgba(0, 0, 0, 0.15);\n",
              "      filter: drop-shadow(0px 1px 2px rgba(0, 0, 0, 0.3));\n",
              "      fill: #FFFFFF;\n",
              "    }\n",
              "  </style>\n",
              "\n",
              "      <script>\n",
              "        const buttonEl =\n",
              "          document.querySelector('#df-27c44ed0-ac2e-4c37-877b-0a1f3fb43c2b button.colab-df-convert');\n",
              "        buttonEl.style.display =\n",
              "          google.colab.kernel.accessAllowed ? 'block' : 'none';\n",
              "\n",
              "        async function convertToInteractive(key) {\n",
              "          const element = document.querySelector('#df-27c44ed0-ac2e-4c37-877b-0a1f3fb43c2b');\n",
              "          const dataTable =\n",
              "            await google.colab.kernel.invokeFunction('convertToInteractive',\n",
              "                                                     [key], {});\n",
              "          if (!dataTable) return;\n",
              "\n",
              "          const docLinkHtml = 'Like what you see? Visit the ' +\n",
              "            '<a target=\"_blank\" href=https://colab.research.google.com/notebooks/data_table.ipynb>data table notebook</a>'\n",
              "            + ' to learn more about interactive tables.';\n",
              "          element.innerHTML = '';\n",
              "          dataTable['output_type'] = 'display_data';\n",
              "          await google.colab.output.renderOutput(dataTable, element);\n",
              "          const docLink = document.createElement('div');\n",
              "          docLink.innerHTML = docLinkHtml;\n",
              "          element.appendChild(docLink);\n",
              "        }\n",
              "      </script>\n",
              "    </div>\n",
              "  </div>\n",
              "  "
            ],
            "text/plain": [
              "   attribute_value  n_museums  ...  tot_museum_attribute_pc  divergence_pc\n",
              "10       Buildings          9  ...                     16.6           43.4\n",
              "11            Arts          3  ...                      7.4           12.6\n",
              "12     Personality          3  ...                      5.3           14.7\n",
              "\n",
              "[3 rows x 7 columns]"
            ]
          },
          "metadata": {}
        },
        {
          "output_type": "display_data",
          "data": {
            "image/png": "[encoded data removed]",
            "text/plain": [
              "<Figure size 432x288 with 1 Axes>"
            ]
          },
          "metadata": {}
        },
        {
          "output_type": "display_data",
          "data": {
            "image/png": "[encoded data removed]",
            "text/plain": [
              "<Figure size 432x288 with 1 Axes>"
            ]
          },
          "metadata": {}
        }
      ]
    },
    {
      "cell_type": "markdown",
      "metadata": {
        "id": "5f2oaR20o68a"
      },
      "source": [
        "### Download results as Excel or CSV\n",
        "\n",
        "If save as Excel fails, try CSV."
      ]
    },
    {
      "cell_type": "code",
      "metadata": {
        "colab": {
          "base_uri": "https://localhost:8080/",
          "height": 17
        },
        "id": "GW7uKN3nnLeR",
        "outputId": "746aff96-23dc-48bd-a099-70355547e38d"
      },
      "source": [
        "# click here to download the complete search results as EXCEL\n",
        "fn = 'search_results_{}.xlsx'.format(get_now_string())\n",
        "df = results_page_df.copy()\n",
        "df['search'] = search_string\n",
        "df.to_excel(fn, index=False)\n",
        "files.download(fn)"
      ],
      "execution_count": null,
      "outputs": [
        {
          "output_type": "display_data",
          "data": {
            "application/javascript": [
              "\n",
              "    async function download(id, filename, size) {\n",
              "      if (!google.colab.kernel.accessAllowed) {\n",
              "        return;\n",
              "      }\n",
              "      const div = document.createElement('div');\n",
              "      const label = document.createElement('label');\n",
              "      label.textContent = `Downloading \"${filename}\": `;\n",
              "      div.appendChild(label);\n",
              "      const progress = document.createElement('progress');\n",
              "      progress.max = size;\n",
              "      div.appendChild(progress);\n",
              "      document.body.appendChild(div);\n",
              "\n",
              "      const buffers = [];\n",
              "      let downloaded = 0;\n",
              "\n",
              "      const channel = await google.colab.kernel.comms.open(id);\n",
              "      // Send a message to notify the kernel that we're ready.\n",
              "      channel.send({})\n",
              "\n",
              "      for await (const message of channel.messages) {\n",
              "        // Send a message to notify the kernel that we're ready.\n",
              "        channel.send({})\n",
              "        if (message.buffers) {\n",
              "          for (const buffer of message.buffers) {\n",
              "            buffers.push(buffer);\n",
              "            downloaded += buffer.byteLength;\n",
              "            progress.value = downloaded;\n",
              "          }\n",
              "        }\n",
              "      }\n",
              "      const blob = new Blob(buffers, {type: 'application/binary'});\n",
              "      const a = document.createElement('a');\n",
              "      a.href = window.URL.createObjectURL(blob);\n",
              "      a.download = filename;\n",
              "      div.appendChild(a);\n",
              "      a.click();\n",
              "      div.remove();\n",
              "    }\n",
              "  "
            ],
            "text/plain": [
              "<IPython.core.display.Javascript object>"
            ]
          },
          "metadata": {}
        },
        {
          "output_type": "display_data",
          "data": {
            "application/javascript": [
              "download(\"download_322c3f72-c1ec-43a5-a501-7e151c0f7873\", \"search_results_20211208-161643.xlsx\", 69822)"
            ],
            "text/plain": [
              "<IPython.core.display.Javascript object>"
            ]
          },
          "metadata": {}
        }
      ]
    },
    {
      "cell_type": "code",
      "metadata": {
        "colab": {
          "base_uri": "https://localhost:8080/",
          "height": 17
        },
        "id": "Ld4UWMQ8_OLI",
        "outputId": "21e14dd0-e3de-4794-ee70-1ac33f312ee7"
      },
      "source": [
        "# click here to download the complete search results as CSV\n",
        "fn = 'search_results_{}.csv'.format(get_now_string())\n",
        "df = results_page_df.copy()\n",
        "df['search'] = search_string\n",
        "df.to_csv(fn, index=False)\n",
        "files.download(fn)"
      ],
      "execution_count": null,
      "outputs": [
        {
          "output_type": "display_data",
          "data": {
            "application/javascript": [
              "\n",
              "    async function download(id, filename, size) {\n",
              "      if (!google.colab.kernel.accessAllowed) {\n",
              "        return;\n",
              "      }\n",
              "      const div = document.createElement('div');\n",
              "      const label = document.createElement('label');\n",
              "      label.textContent = `Downloading \"${filename}\": `;\n",
              "      div.appendChild(label);\n",
              "      const progress = document.createElement('progress');\n",
              "      progress.max = size;\n",
              "      div.appendChild(progress);\n",
              "      document.body.appendChild(div);\n",
              "\n",
              "      const buffers = [];\n",
              "      let downloaded = 0;\n",
              "\n",
              "      const channel = await google.colab.kernel.comms.open(id);\n",
              "      // Send a message to notify the kernel that we're ready.\n",
              "      channel.send({})\n",
              "\n",
              "      for await (const message of channel.messages) {\n",
              "        // Send a message to notify the kernel that we're ready.\n",
              "        channel.send({})\n",
              "        if (message.buffers) {\n",
              "          for (const buffer of message.buffers) {\n",
              "            buffers.push(buffer);\n",
              "            downloaded += buffer.byteLength;\n",
              "            progress.value = downloaded;\n",
              "          }\n",
              "        }\n",
              "      }\n",
              "      const blob = new Blob(buffers, {type: 'application/binary'});\n",
              "      const a = document.createElement('a');\n",
              "      a.href = window.URL.createObjectURL(blob);\n",
              "      a.download = filename;\n",
              "      div.appendChild(a);\n",
              "      a.click();\n",
              "      div.remove();\n",
              "    }\n",
              "  "
            ],
            "text/plain": [
              "<IPython.core.display.Javascript object>"
            ]
          },
          "metadata": {}
        },
        {
          "output_type": "display_data",
          "data": {
            "application/javascript": [
              "download(\"download_1c2718b1-aa30-48f9-b987-0c7066e899d1\", \"search_results_20211127-200250.csv\", 503734)"
            ],
            "text/plain": [
              "<IPython.core.display.Javascript object>"
            ]
          },
          "metadata": {}
        }
      ]
    },
    {
      "cell_type": "code",
      "metadata": {
        "colab": {
          "base_uri": "https://localhost:8080/",
          "height": 17
        },
        "id": "RU_o0DCe0mWF",
        "outputId": "76326696-4432-43f0-e5fd-c2d22b0b63fd"
      },
      "source": [
        "# click here to download the attribute analysis of results\n",
        "fn = 'search_results_attributes_{}.xlsx'.format(get_now_string())\n",
        "df = res_attr_df.copy()\n",
        "df['search'] = search_string\n",
        "df.to_excel(fn, index=False)\n",
        "files.download(fn)"
      ],
      "execution_count": null,
      "outputs": [
        {
          "output_type": "display_data",
          "data": {
            "application/javascript": [
              "\n",
              "    async function download(id, filename, size) {\n",
              "      if (!google.colab.kernel.accessAllowed) {\n",
              "        return;\n",
              "      }\n",
              "      const div = document.createElement('div');\n",
              "      const label = document.createElement('label');\n",
              "      label.textContent = `Downloading \"${filename}\": `;\n",
              "      div.appendChild(label);\n",
              "      const progress = document.createElement('progress');\n",
              "      progress.max = size;\n",
              "      div.appendChild(progress);\n",
              "      document.body.appendChild(div);\n",
              "\n",
              "      const buffers = [];\n",
              "      let downloaded = 0;\n",
              "\n",
              "      const channel = await google.colab.kernel.comms.open(id);\n",
              "      // Send a message to notify the kernel that we're ready.\n",
              "      channel.send({})\n",
              "\n",
              "      for await (const message of channel.messages) {\n",
              "        // Send a message to notify the kernel that we're ready.\n",
              "        channel.send({})\n",
              "        if (message.buffers) {\n",
              "          for (const buffer of message.buffers) {\n",
              "            buffers.push(buffer);\n",
              "            downloaded += buffer.byteLength;\n",
              "            progress.value = downloaded;\n",
              "          }\n",
              "        }\n",
              "      }\n",
              "      const blob = new Blob(buffers, {type: 'application/binary'});\n",
              "      const a = document.createElement('a');\n",
              "      a.href = window.URL.createObjectURL(blob);\n",
              "      a.download = filename;\n",
              "      div.appendChild(a);\n",
              "      a.click();\n",
              "      div.remove();\n",
              "    }\n",
              "  "
            ],
            "text/plain": [
              "<IPython.core.display.Javascript object>"
            ]
          },
          "metadata": {}
        },
        {
          "output_type": "display_data",
          "data": {
            "application/javascript": [
              "download(\"download_78c29224-3428-44e2-ade2-6d4634185b4c\", \"search_results_attributes_20211208-161731.xlsx\", 8252)"
            ],
            "text/plain": [
              "<IPython.core.display.Javascript object>"
            ]
          },
          "metadata": {}
        }
      ]
    },
    {
      "cell_type": "markdown",
      "metadata": {
        "id": "QM5pIonivg2C"
      },
      "source": [
        "### Backup application\n",
        "\n",
        "This is for the platform's developer."
      ]
    },
    {
      "cell_type": "code",
      "metadata": {
        "colab": {
          "base_uri": "https://localhost:8080/",
          "height": 17
        },
        "id": "qlczUd9QvkW-",
        "outputId": "09707e8d-3f92-4f1b-96bc-459bda13ac00"
      },
      "source": [
        "files.download('search_utils.py')"
      ],
      "execution_count": null,
      "outputs": [
        {
          "output_type": "display_data",
          "data": {
            "application/javascript": [
              "\n",
              "    async function download(id, filename, size) {\n",
              "      if (!google.colab.kernel.accessAllowed) {\n",
              "        return;\n",
              "      }\n",
              "      const div = document.createElement('div');\n",
              "      const label = document.createElement('label');\n",
              "      label.textContent = `Downloading \"${filename}\": `;\n",
              "      div.appendChild(label);\n",
              "      const progress = document.createElement('progress');\n",
              "      progress.max = size;\n",
              "      div.appendChild(progress);\n",
              "      document.body.appendChild(div);\n",
              "\n",
              "      const buffers = [];\n",
              "      let downloaded = 0;\n",
              "\n",
              "      const channel = await google.colab.kernel.comms.open(id);\n",
              "      // Send a message to notify the kernel that we're ready.\n",
              "      channel.send({})\n",
              "\n",
              "      for await (const message of channel.messages) {\n",
              "        // Send a message to notify the kernel that we're ready.\n",
              "        channel.send({})\n",
              "        if (message.buffers) {\n",
              "          for (const buffer of message.buffers) {\n",
              "            buffers.push(buffer);\n",
              "            downloaded += buffer.byteLength;\n",
              "            progress.value = downloaded;\n",
              "          }\n",
              "        }\n",
              "      }\n",
              "      const blob = new Blob(buffers, {type: 'application/binary'});\n",
              "      const a = document.createElement('a');\n",
              "      a.href = window.URL.createObjectURL(blob);\n",
              "      a.download = filename;\n",
              "      div.appendChild(a);\n",
              "      a.click();\n",
              "      div.remove();\n",
              "    }\n",
              "  "
            ],
            "text/plain": [
              "<IPython.core.display.Javascript object>"
            ]
          },
          "metadata": {}
        },
        {
          "output_type": "display_data",
          "data": {
            "application/javascript": [
              "download(\"download_fe459504-9c32-49a5-8a2a-1f95aa5bd696\", \"search_utils.py\", 19139)"
            ],
            "text/plain": [
              "<IPython.core.display.Javascript object>"
            ]
          },
          "metadata": {}
        }
      ]
    }
  ]
}