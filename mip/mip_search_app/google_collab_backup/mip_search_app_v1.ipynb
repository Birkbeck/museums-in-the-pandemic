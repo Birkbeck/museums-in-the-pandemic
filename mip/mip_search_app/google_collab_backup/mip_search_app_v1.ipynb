{
  "nbformat": 4,
  "nbformat_minor": 0,
  "metadata": {
    "kernelspec": {
      "display_name": "Python 3 (ipykernel)",
      "language": "python",
      "name": "python3"
    },
    "language_info": {
      "codemirror_mode": {
        "name": "ipython",
        "version": 3
      },
      "file_extension": ".py",
      "mimetype": "text/x-python",
      "name": "python",
      "nbconvert_exporter": "python",
      "pygments_lexer": "ipython3",
      "version": "3.8.12"
    },
    "toc-autonumbering": false,
    "toc-showcode": false,
    "toc-showmarkdowntxt": false,
    "toc-showtags": false,
    "colab": {
      "name": "mip_search_app-v1.ipynb",
      "provenance": [],
      "collapsed_sections": []
    }
  },
  "cells": [
    {
      "cell_type": "markdown",
      "metadata": {
        "tags": [],
        "id": "x5wjno2TWPIP"
      },
      "source": [
        "# MIP Search App\n",
        "\n",
        "Search facility for Museums in the Pandemic project. \n",
        "Birkbeck, University of London and King's College London.\n",
        "\n",
        "Author & maintainer: andrea.ballatore [at] kcl.ac.uk"
      ]
    },
    {
      "cell_type": "markdown",
      "metadata": {
        "id": "7i4PjsNWiW9l"
      },
      "source": [
        "## Setup\n",
        "Run this cell only once. It will take a couple of minutes. If the page stops working, reload it and run this cell again."
      ]
    },
    {
      "cell_type": "code",
      "metadata": {
        "colab": {
          "base_uri": "https://localhost:8080/"
        },
        "id": "CJfE_kOGWPIW",
        "outputId": "eac3f3bf-88ce-4207-a698-f2dc7d6eca69"
      },
      "source": [
        "print(\"Downloading source code...\")\n",
        "!wget -q https://www.dropbox.com/s/at7z91d2lidordi/search_utils.py?dl=1 -O search_utils.py\n",
        "!wget -q https://www.dropbox.com/s/7jbbewmgdvyh3wa/museums_wattributes-2020-02-23.tsv?dl=1 -O museums_wattributes-2020-02-23.tsv\n",
        "print(\"Downloading DB...\")\n",
        "!wget -q https://www.dropbox.com/s/nnaujcnzdp5y8ua/mip_corpus_search.db.zip?dl=1  -O mip_corpus_search.db.zip\n",
        "!unzip -o mip_corpus_search.db.zip -d /content/\n",
        "%run search_utils.py"
      ],
      "execution_count": null,
      "outputs": [
        {
          "output_type": "stream",
          "name": "stdout",
          "text": [
            "Downloading source code...\n",
            "Downloading DB...\n",
            "Archive:  mip_corpus_search.db.zip\n",
            "  inflating: /content/mip_corpus_search.db  "
          ]
        }
      ]
    },
    {
      "cell_type": "markdown",
      "metadata": {
        "id": "KJYqmA8UWPIZ"
      },
      "source": [
        "## Search\n",
        "\n",
        "Syntax: * means 'any character'"
      ]
    },
    {
      "cell_type": "code",
      "metadata": {
        "id": "RcNKIXpcWPIa",
        "colab": {
          "base_uri": "https://localhost:8080/",
          "height": 300
        },
        "outputId": "cea9d703-243d-4b24-de33-50610fc2b548"
      },
      "source": [
        "#@title Search corpus { display-mode: \"form\" }\n",
        "%run search_utils.py\n",
        "search_string = \"museum is closed\" #@param {type:\"string\"}\n",
        "case_sensitive = False #@param {type:\"boolean\"}\n",
        "search_websites = False\n",
        "search_website_sentences = True #@param {type:\"boolean\"}\n",
        "search_facebook = True #@param {type:\"boolean\"}\n",
        "search_twitter = True #@param {type:\"boolean\"}\n",
        "begin_date = \"2020-11-12\" #@param {type:\"date\"}\n",
        "end_date = \"2020-11-13\" #@param {type:\"date\"}\n",
        "max_results =  50#@param {type:\"integer\"}\n",
        "context_window =  10#@param {type:\"integer\"}\n",
        "\n",
        "res_df = run_search(search_string, case_sensitive,\n",
        "           search_facebook, search_twitter, search_websites, \n",
        "           search_website_sentences, begin_date, end_date)\n",
        "if len(res_df) > 0:\n",
        "  results_html, results_page_df = generate_html_matches(res_df, search_string, \n",
        "    case_sensitive, context_window, max_results)\n",
        "  display(HTML(results_html))\n",
        "#res_df"
      ],
      "execution_count": 27,
      "outputs": [
        {
          "output_type": "stream",
          "name": "stdout",
          "text": [
            "ok\n",
            "Date range: 2020-11-12 to 2020-11-13\n",
            "WEBSITES: no matches found.\n",
            "FACEBOOK: 1 matches found. Unique museums: 1\n",
            "TWITTER: 1 matches found. Unique museums: 1\n",
            "search_regex: '(?i)\\bmuseum is closed\\b'\n"
          ]
        },
        {
          "output_type": "display_data",
          "data": {
            "text/html": [
              "<style>\n",
              "    table, tr, th, td {\n",
              "      margin: 3px;\n",
              "      border: solid 1px gray;\n",
              "      font-size: .9em;\n",
              "      border-collapse: collapse;\n",
              "      font-family: sans-serif;\n",
              "      vertical-align: top;\n",
              "    }\n",
              "    .before_col { text-align: right; }\n",
              "    .match_col { font-weight: bold; color: blue; }\n",
              "    strong { background-color: blue; color: white; }\n",
              "    </style><h3>facebook (first 50)</h3><table><tr><th>res</th><th>museum_id</th><th>account</th><th>before</th><th>match</th><th>after</th><th>msg_time</th></tr><tr><td class=\"\">1</td><td class=\"\">mm.ace.569</td><td class=\"\">MuseumofEnglishRuralLife</td><td class=\"before_col\">hold another of our popular MERL Lates. Although the </td><td class=\"match_col\">Museum is closed</td><td class=\"\">, we're thrilled to say that we've brought the programme</td><td class=\"\">2020-11-12</td></tr></table><h3>twitter (first 50)</h3><table><tr><th>res</th><th>museum_id</th><th>account</th><th>before</th><th>match</th><th>after</th><th>msg_time</th></tr><tr><td class=\"\">1</td><td class=\"\">mm.domus.NW060</td><td class=\"\">nwmuseum</td><td class=\"before_col\">Team are busy working on the vessels whilst the </td><td class=\"match_col\">museum is closed</td><td class=\"\">. This icebreaker had a very important job to do</td><td class=\"\">2020-11-12</td></tr></table>"
            ],
            "text/plain": [
              "<IPython.core.display.HTML object>"
            ]
          },
          "metadata": {}
        },
        {
          "output_type": "display_data",
          "data": {
            "text/plain": [
              "<Figure size 432x288 with 0 Axes>"
            ]
          },
          "metadata": {}
        }
      ]
    },
    {
      "cell_type": "markdown",
      "metadata": {
        "id": "lcFMk7gOdO3H"
      },
      "source": [
        "# Analyse search results\n",
        "\n",
        "Run this cell to get an analysis of the composition of search results generated above in terms of museum attributes (governance, size, etc)."
      ]
    },
    {
      "cell_type": "code",
      "metadata": {
        "colab": {
          "base_uri": "https://localhost:8080/",
          "height": 1000
        },
        "id": "vm03nEIedT9j",
        "outputId": "4ce6c145-9916-4c3d-f1a8-2d2a7293073d"
      },
      "source": [
        "%run search_utils.py\n",
        "#@title Default title text\n",
        "token_context_size =  10#@param {type:\"integer\"}\n",
        "assert len(res_df) > 0\n",
        "res_attr_df = an_results(res_df, search_string, case_sensitive, token_context_size)\n",
        "#res_attr_df"
      ],
      "execution_count": 28,
      "outputs": [
        {
          "output_type": "stream",
          "name": "stdout",
          "text": [
            "ok\n",
            "Search: \"museum is closed\" • Date range: 2020-11-12 to 2020-11-13 • \n",
            "N results: 2 • N unique museums: 2\n"
          ]
        },
        {
          "output_type": "display_data",
          "data": {
            "text/html": [
              "<div>\n",
              "<style scoped>\n",
              "    .dataframe tbody tr th:only-of-type {\n",
              "        vertical-align: middle;\n",
              "    }\n",
              "\n",
              "    .dataframe tbody tr th {\n",
              "        vertical-align: top;\n",
              "    }\n",
              "\n",
              "    .dataframe thead th {\n",
              "        text-align: right;\n",
              "    }\n",
              "</style>\n",
              "<table border=\"1\" class=\"dataframe\">\n",
              "  <thead>\n",
              "    <tr style=\"text-align: right;\">\n",
              "      <th></th>\n",
              "      <th>platform</th>\n",
              "      <th>n_results</th>\n",
              "      <th>museum_id</th>\n",
              "    </tr>\n",
              "  </thead>\n",
              "  <tbody>\n",
              "    <tr>\n",
              "      <th>0</th>\n",
              "      <td>twitter</td>\n",
              "      <td>1</td>\n",
              "      <td>1</td>\n",
              "    </tr>\n",
              "    <tr>\n",
              "      <th>1</th>\n",
              "      <td>facebook</td>\n",
              "      <td>1</td>\n",
              "      <td>1</td>\n",
              "    </tr>\n",
              "  </tbody>\n",
              "</table>\n",
              "</div>"
            ],
            "text/plain": [
              "   platform  n_results  museum_id\n",
              "0   twitter          1          1\n",
              "1  facebook          1          1"
            ]
          },
          "metadata": {}
        },
        {
          "output_type": "display_data",
          "data": {
            "image/png": "[encoded data removed]",
            "text/plain": [
              "<Figure size 432x288 with 1 Axes>"
            ]
          },
          "metadata": {
            "needs_background": "light"
          }
        },
        {
          "output_type": "display_data",
          "data": {
            "text/html": [
              "<h3>Tokens before 'museum is closed'</h3>"
            ],
            "text/plain": [
              "<IPython.core.display.HTML object>"
            ]
          },
          "metadata": {}
        },
        {
          "output_type": "stream",
          "name": "stdout",
          "text": [
            "planned (1) festival (1) lates (1) another (1) whilst (1) although (1) collections (1) \n",
            "merl (1) hold (1) working (1) human (1) year (1) vessels (1) team (1) \n",
            "popular (1) busy (1) "
          ]
        },
        {
          "output_type": "display_data",
          "data": {
            "text/html": [
              "<h3>Tokens after 'museum is closed'</h3>"
            ],
            "text/plain": [
              "<IPython.core.display.HTML object>"
            ]
          },
          "metadata": {}
        },
        {
          "output_type": "stream",
          "name": "stdout",
          "text": [
            "side (2) boat (2) programme (1) brought (1) rock (1) next (1) days (1) \n",
            "online (1) invite (1) would (1) 've (1) night (1) talks (1) 're (1) \n",
            "year (1) say (1) important (1) 20 (1) thrilled (1) celebration (1) \n",
            "\n",
            "Unique museum results: 2\n"
          ]
        },
        {
          "output_type": "display_data",
          "data": {
            "text/html": [
              "<h3>By governance</h3>"
            ],
            "text/plain": [
              "<IPython.core.display.HTML object>"
            ]
          },
          "metadata": {}
        },
        {
          "output_type": "display_data",
          "data": {
            "text/html": [
              "<div>\n",
              "<style scoped>\n",
              "    .dataframe tbody tr th:only-of-type {\n",
              "        vertical-align: middle;\n",
              "    }\n",
              "\n",
              "    .dataframe tbody tr th {\n",
              "        vertical-align: top;\n",
              "    }\n",
              "\n",
              "    .dataframe thead th {\n",
              "        text-align: right;\n",
              "    }\n",
              "</style>\n",
              "<table border=\"1\" class=\"dataframe\">\n",
              "  <thead>\n",
              "    <tr style=\"text-align: right;\">\n",
              "      <th></th>\n",
              "      <th>attribute_value</th>\n",
              "      <th>n_museums</th>\n",
              "      <th>museum_result_pc</th>\n",
              "      <th>n_tot_museums</th>\n",
              "      <th>museum_attribute_pc</th>\n",
              "    </tr>\n",
              "  </thead>\n",
              "  <tbody>\n",
              "    <tr>\n",
              "      <th>0</th>\n",
              "      <td>Independent:Not for profit</td>\n",
              "      <td>1</td>\n",
              "      <td>50.0</td>\n",
              "      <td>1534</td>\n",
              "      <td>0.1</td>\n",
              "    </tr>\n",
              "    <tr>\n",
              "      <th>1</th>\n",
              "      <td>University</td>\n",
              "      <td>1</td>\n",
              "      <td>50.0</td>\n",
              "      <td>92</td>\n",
              "      <td>1.1</td>\n",
              "    </tr>\n",
              "  </tbody>\n",
              "</table>\n",
              "</div>"
            ],
            "text/plain": [
              "              attribute_value  n_museums  ...  n_tot_museums  museum_attribute_pc\n",
              "0  Independent:Not for profit          1  ...           1534                  0.1\n",
              "1                  University          1  ...             92                  1.1\n",
              "\n",
              "[2 rows x 5 columns]"
            ]
          },
          "metadata": {}
        },
        {
          "output_type": "display_data",
          "data": {
            "image/png": "[encoded data removed]",
            "text/plain": [
              "<Figure size 432x288 with 1 Axes>"
            ]
          },
          "metadata": {
            "needs_background": "light"
          }
        },
        {
          "output_type": "display_data",
          "data": {
            "text/html": [
              "<h3>By region</h3>"
            ],
            "text/plain": [
              "<IPython.core.display.HTML object>"
            ]
          },
          "metadata": {}
        },
        {
          "output_type": "display_data",
          "data": {
            "text/html": [
              "<div>\n",
              "<style scoped>\n",
              "    .dataframe tbody tr th:only-of-type {\n",
              "        vertical-align: middle;\n",
              "    }\n",
              "\n",
              "    .dataframe tbody tr th {\n",
              "        vertical-align: top;\n",
              "    }\n",
              "\n",
              "    .dataframe thead th {\n",
              "        text-align: right;\n",
              "    }\n",
              "</style>\n",
              "<table border=\"1\" class=\"dataframe\">\n",
              "  <thead>\n",
              "    <tr style=\"text-align: right;\">\n",
              "      <th></th>\n",
              "      <th>attribute_value</th>\n",
              "      <th>n_museums</th>\n",
              "      <th>museum_result_pc</th>\n",
              "      <th>n_tot_museums</th>\n",
              "      <th>museum_attribute_pc</th>\n",
              "    </tr>\n",
              "  </thead>\n",
              "  <tbody>\n",
              "    <tr>\n",
              "      <th>2</th>\n",
              "      <td>North West</td>\n",
              "      <td>1</td>\n",
              "      <td>50.0</td>\n",
              "      <td>247</td>\n",
              "      <td>0.4</td>\n",
              "    </tr>\n",
              "    <tr>\n",
              "      <th>3</th>\n",
              "      <td>South East</td>\n",
              "      <td>1</td>\n",
              "      <td>50.0</td>\n",
              "      <td>476</td>\n",
              "      <td>0.2</td>\n",
              "    </tr>\n",
              "  </tbody>\n",
              "</table>\n",
              "</div>"
            ],
            "text/plain": [
              "  attribute_value  n_museums  ...  n_tot_museums  museum_attribute_pc\n",
              "2      North West          1  ...            247                  0.4\n",
              "3      South East          1  ...            476                  0.2\n",
              "\n",
              "[2 rows x 5 columns]"
            ]
          },
          "metadata": {}
        },
        {
          "output_type": "display_data",
          "data": {
            "image/png": "[encoded data removed]",
            "text/plain": [
              "<Figure size 432x288 with 1 Axes>"
            ]
          },
          "metadata": {
            "needs_background": "light"
          }
        },
        {
          "output_type": "display_data",
          "data": {
            "text/html": [
              "<h3>By size</h3>"
            ],
            "text/plain": [
              "<IPython.core.display.HTML object>"
            ]
          },
          "metadata": {}
        },
        {
          "output_type": "display_data",
          "data": {
            "text/html": [
              "<div>\n",
              "<style scoped>\n",
              "    .dataframe tbody tr th:only-of-type {\n",
              "        vertical-align: middle;\n",
              "    }\n",
              "\n",
              "    .dataframe tbody tr th {\n",
              "        vertical-align: top;\n",
              "    }\n",
              "\n",
              "    .dataframe thead th {\n",
              "        text-align: right;\n",
              "    }\n",
              "</style>\n",
              "<table border=\"1\" class=\"dataframe\">\n",
              "  <thead>\n",
              "    <tr style=\"text-align: right;\">\n",
              "      <th></th>\n",
              "      <th>attribute_value</th>\n",
              "      <th>n_museums</th>\n",
              "      <th>museum_result_pc</th>\n",
              "      <th>n_tot_museums</th>\n",
              "      <th>museum_attribute_pc</th>\n",
              "    </tr>\n",
              "  </thead>\n",
              "  <tbody>\n",
              "    <tr>\n",
              "      <th>4</th>\n",
              "      <td>large</td>\n",
              "      <td>1</td>\n",
              "      <td>50.0</td>\n",
              "      <td>498</td>\n",
              "      <td>0.2</td>\n",
              "    </tr>\n",
              "    <tr>\n",
              "      <th>5</th>\n",
              "      <td>medium</td>\n",
              "      <td>1</td>\n",
              "      <td>50.0</td>\n",
              "      <td>865</td>\n",
              "      <td>0.1</td>\n",
              "    </tr>\n",
              "  </tbody>\n",
              "</table>\n",
              "</div>"
            ],
            "text/plain": [
              "  attribute_value  n_museums  ...  n_tot_museums  museum_attribute_pc\n",
              "4           large          1  ...            498                  0.2\n",
              "5          medium          1  ...            865                  0.1\n",
              "\n",
              "[2 rows x 5 columns]"
            ]
          },
          "metadata": {}
        },
        {
          "output_type": "display_data",
          "data": {
            "image/png": "[encoded data removed]",
            "text/plain": [
              "<Figure size 432x288 with 1 Axes>"
            ]
          },
          "metadata": {
            "needs_background": "light"
          }
        },
        {
          "output_type": "display_data",
          "data": {
            "text/html": [
              "<h3>By subject_matter_simpl</h3>"
            ],
            "text/plain": [
              "<IPython.core.display.HTML object>"
            ]
          },
          "metadata": {}
        },
        {
          "output_type": "display_data",
          "data": {
            "text/html": [
              "<div>\n",
              "<style scoped>\n",
              "    .dataframe tbody tr th:only-of-type {\n",
              "        vertical-align: middle;\n",
              "    }\n",
              "\n",
              "    .dataframe tbody tr th {\n",
              "        vertical-align: top;\n",
              "    }\n",
              "\n",
              "    .dataframe thead th {\n",
              "        text-align: right;\n",
              "    }\n",
              "</style>\n",
              "<table border=\"1\" class=\"dataframe\">\n",
              "  <thead>\n",
              "    <tr style=\"text-align: right;\">\n",
              "      <th></th>\n",
              "      <th>attribute_value</th>\n",
              "      <th>n_museums</th>\n",
              "      <th>museum_result_pc</th>\n",
              "      <th>n_tot_museums</th>\n",
              "      <th>museum_attribute_pc</th>\n",
              "    </tr>\n",
              "  </thead>\n",
              "  <tbody>\n",
              "    <tr>\n",
              "      <th>6</th>\n",
              "      <td>Rural Industry</td>\n",
              "      <td>1</td>\n",
              "      <td>50.0</td>\n",
              "      <td>111</td>\n",
              "      <td>0.9</td>\n",
              "    </tr>\n",
              "    <tr>\n",
              "      <th>7</th>\n",
              "      <td>Transport</td>\n",
              "      <td>1</td>\n",
              "      <td>50.0</td>\n",
              "      <td>224</td>\n",
              "      <td>0.4</td>\n",
              "    </tr>\n",
              "  </tbody>\n",
              "</table>\n",
              "</div>"
            ],
            "text/plain": [
              "  attribute_value  n_museums  ...  n_tot_museums  museum_attribute_pc\n",
              "6  Rural Industry          1  ...            111                  0.9\n",
              "7       Transport          1  ...            224                  0.4\n",
              "\n",
              "[2 rows x 5 columns]"
            ]
          },
          "metadata": {}
        },
        {
          "output_type": "display_data",
          "data": {
            "image/png": "[encoded data removed]",
            "text/plain": [
              "<Figure size 432x288 with 1 Axes>"
            ]
          },
          "metadata": {
            "needs_background": "light"
          }
        }
      ]
    },
    {
      "cell_type": "markdown",
      "metadata": {
        "id": "5f2oaR20o68a"
      },
      "source": [
        "### Download results as Excel"
      ]
    },
    {
      "cell_type": "code",
      "metadata": {
        "colab": {
          "base_uri": "https://localhost:8080/",
          "height": 17
        },
        "id": "GW7uKN3nnLeR",
        "outputId": "70e07065-8124-4d80-825b-16cdc4f9c12b"
      },
      "source": [
        "# click here to download the complete search results\n",
        "fn = 'search_results_{}.xlsx'.format(get_now_string())\n",
        "df = results_page_df.copy()\n",
        "df['search'] = search_string\n",
        "df.to_excel(fn, index=False)\n",
        "files.download(fn)"
      ],
      "execution_count": 29,
      "outputs": [
        {
          "output_type": "display_data",
          "data": {
            "application/javascript": [
              "\n",
              "    async function download(id, filename, size) {\n",
              "      if (!google.colab.kernel.accessAllowed) {\n",
              "        return;\n",
              "      }\n",
              "      const div = document.createElement('div');\n",
              "      const label = document.createElement('label');\n",
              "      label.textContent = `Downloading \"${filename}\": `;\n",
              "      div.appendChild(label);\n",
              "      const progress = document.createElement('progress');\n",
              "      progress.max = size;\n",
              "      div.appendChild(progress);\n",
              "      document.body.appendChild(div);\n",
              "\n",
              "      const buffers = [];\n",
              "      let downloaded = 0;\n",
              "\n",
              "      const channel = await google.colab.kernel.comms.open(id);\n",
              "      // Send a message to notify the kernel that we're ready.\n",
              "      channel.send({})\n",
              "\n",
              "      for await (const message of channel.messages) {\n",
              "        // Send a message to notify the kernel that we're ready.\n",
              "        channel.send({})\n",
              "        if (message.buffers) {\n",
              "          for (const buffer of message.buffers) {\n",
              "            buffers.push(buffer);\n",
              "            downloaded += buffer.byteLength;\n",
              "            progress.value = downloaded;\n",
              "          }\n",
              "        }\n",
              "      }\n",
              "      const blob = new Blob(buffers, {type: 'application/binary'});\n",
              "      const a = document.createElement('a');\n",
              "      a.href = window.URL.createObjectURL(blob);\n",
              "      a.download = filename;\n",
              "      div.appendChild(a);\n",
              "      a.click();\n",
              "      div.remove();\n",
              "    }\n",
              "  "
            ],
            "text/plain": [
              "<IPython.core.display.Javascript object>"
            ]
          },
          "metadata": {}
        },
        {
          "output_type": "display_data",
          "data": {
            "application/javascript": [
              "download(\"download_a6e55d2a-c20d-44a3-b45c-2d4b7016aead\", \"search_results_20211127-181231.xlsx\", 5355)"
            ],
            "text/plain": [
              "<IPython.core.display.Javascript object>"
            ]
          },
          "metadata": {}
        }
      ]
    },
    {
      "cell_type": "code",
      "metadata": {
        "colab": {
          "base_uri": "https://localhost:8080/",
          "height": 17
        },
        "id": "RU_o0DCe0mWF",
        "outputId": "e8d89c24-7fe5-400d-9b1f-cae63829b77a"
      },
      "source": [
        "# click here to download the attribute analysis of results\n",
        "fn = 'search_results_attributes_{}.xlsx'.format(get_now_string())\n",
        "df = res_attr_df.copy()\n",
        "df['search'] = search_string\n",
        "df.to_excel(fn, index=False)\n",
        "files.download(fn)"
      ],
      "execution_count": 30,
      "outputs": [
        {
          "output_type": "display_data",
          "data": {
            "application/javascript": [
              "\n",
              "    async function download(id, filename, size) {\n",
              "      if (!google.colab.kernel.accessAllowed) {\n",
              "        return;\n",
              "      }\n",
              "      const div = document.createElement('div');\n",
              "      const label = document.createElement('label');\n",
              "      label.textContent = `Downloading \"${filename}\": `;\n",
              "      div.appendChild(label);\n",
              "      const progress = document.createElement('progress');\n",
              "      progress.max = size;\n",
              "      div.appendChild(progress);\n",
              "      document.body.appendChild(div);\n",
              "\n",
              "      const buffers = [];\n",
              "      let downloaded = 0;\n",
              "\n",
              "      const channel = await google.colab.kernel.comms.open(id);\n",
              "      // Send a message to notify the kernel that we're ready.\n",
              "      channel.send({})\n",
              "\n",
              "      for await (const message of channel.messages) {\n",
              "        // Send a message to notify the kernel that we're ready.\n",
              "        channel.send({})\n",
              "        if (message.buffers) {\n",
              "          for (const buffer of message.buffers) {\n",
              "            buffers.push(buffer);\n",
              "            downloaded += buffer.byteLength;\n",
              "            progress.value = downloaded;\n",
              "          }\n",
              "        }\n",
              "      }\n",
              "      const blob = new Blob(buffers, {type: 'application/binary'});\n",
              "      const a = document.createElement('a');\n",
              "      a.href = window.URL.createObjectURL(blob);\n",
              "      a.download = filename;\n",
              "      div.appendChild(a);\n",
              "      a.click();\n",
              "      div.remove();\n",
              "    }\n",
              "  "
            ],
            "text/plain": [
              "<IPython.core.display.Javascript object>"
            ]
          },
          "metadata": {}
        },
        {
          "output_type": "display_data",
          "data": {
            "application/javascript": [
              "download(\"download_8487f567-7775-4ddf-b7ed-576f52732f02\", \"search_results_attributes_20211127-181237.xlsx\", 5382)"
            ],
            "text/plain": [
              "<IPython.core.display.Javascript object>"
            ]
          },
          "metadata": {}
        }
      ]
    },
    {
      "cell_type": "markdown",
      "metadata": {
        "id": "QM5pIonivg2C"
      },
      "source": [
        "### Backup application\n",
        "\n",
        "This is for the platform's developer."
      ]
    },
    {
      "cell_type": "code",
      "metadata": {
        "colab": {
          "base_uri": "https://localhost:8080/",
          "height": 17
        },
        "id": "qlczUd9QvkW-",
        "outputId": "be7b4bdb-c44d-4093-8b9a-ce3f21c0460d"
      },
      "source": [
        "files.download('search_utils.py')"
      ],
      "execution_count": 31,
      "outputs": [
        {
          "output_type": "display_data",
          "data": {
            "application/javascript": [
              "\n",
              "    async function download(id, filename, size) {\n",
              "      if (!google.colab.kernel.accessAllowed) {\n",
              "        return;\n",
              "      }\n",
              "      const div = document.createElement('div');\n",
              "      const label = document.createElement('label');\n",
              "      label.textContent = `Downloading \"${filename}\": `;\n",
              "      div.appendChild(label);\n",
              "      const progress = document.createElement('progress');\n",
              "      progress.max = size;\n",
              "      div.appendChild(progress);\n",
              "      document.body.appendChild(div);\n",
              "\n",
              "      const buffers = [];\n",
              "      let downloaded = 0;\n",
              "\n",
              "      const channel = await google.colab.kernel.comms.open(id);\n",
              "      // Send a message to notify the kernel that we're ready.\n",
              "      channel.send({})\n",
              "\n",
              "      for await (const message of channel.messages) {\n",
              "        // Send a message to notify the kernel that we're ready.\n",
              "        channel.send({})\n",
              "        if (message.buffers) {\n",
              "          for (const buffer of message.buffers) {\n",
              "            buffers.push(buffer);\n",
              "            downloaded += buffer.byteLength;\n",
              "            progress.value = downloaded;\n",
              "          }\n",
              "        }\n",
              "      }\n",
              "      const blob = new Blob(buffers, {type: 'application/binary'});\n",
              "      const a = document.createElement('a');\n",
              "      a.href = window.URL.createObjectURL(blob);\n",
              "      a.download = filename;\n",
              "      div.appendChild(a);\n",
              "      a.click();\n",
              "      div.remove();\n",
              "    }\n",
              "  "
            ],
            "text/plain": [
              "<IPython.core.display.Javascript object>"
            ]
          },
          "metadata": {}
        },
        {
          "output_type": "display_data",
          "data": {
            "application/javascript": [
              "download(\"download_c507db4a-8942-41cc-9a73-e2604fea7958\", \"search_utils.py\", 16137)"
            ],
            "text/plain": [
              "<IPython.core.display.Javascript object>"
            ]
          },
          "metadata": {}
        }
      ]
    }
  ]
}