{
  "nbformat": 4,
  "nbformat_minor": 0,
  "metadata": {
    "kernelspec": {
      "display_name": "Python 3 (ipykernel)",
      "language": "python",
      "name": "python3"
    },
    "language_info": {
      "codemirror_mode": {
        "name": "ipython",
        "version": 3
      },
      "file_extension": ".py",
      "mimetype": "text/x-python",
      "name": "python",
      "nbconvert_exporter": "python",
      "pygments_lexer": "ipython3",
      "version": "3.8.12"
    },
    "toc-autonumbering": false,
    "toc-showcode": false,
    "toc-showmarkdowntxt": false,
    "toc-showtags": false,
    "colab": {
      "name": "mip_search_app-v1.ipynb",
      "provenance": [],
      "collapsed_sections": []
    }
  },
  "cells": [
    {
      "cell_type": "markdown",
      "metadata": {
        "tags": [],
        "id": "x5wjno2TWPIP"
      },
      "source": [
        "# MIP Search App\n",
        "\n",
        "Search facility for MIP data"
      ]
    },
    {
      "cell_type": "markdown",
      "metadata": {
        "id": "7i4PjsNWiW9l"
      },
      "source": [
        "## Setup\n",
        "Run this cell only once."
      ]
    },
    {
      "cell_type": "code",
      "metadata": {
        "colab": {
          "base_uri": "https://localhost:8080/"
        },
        "id": "CJfE_kOGWPIW",
        "outputId": "f06e53f9-edeb-4798-941c-6ec43c1301ea"
      },
      "source": [
        "#from google.colab import drive, files\n",
        "#drive.mount('/content/drive')\n",
        "print(\"Downloading source code...\")\n",
        "#!wget -q https://www.dropbox.com/s/8cq075g74yniayy/search_utils.py?dl=1 -O search_utils.py\n",
        "!wget -q https://www.dropbox.com/s/7jbbewmgdvyh3wa/museums_wattributes-2020-02-23.tsv?dl=1 -O museums_wattributes-2020-02-23.tsv\n",
        "print(\"Downloading DB...\")\n",
        "!wget -q https://www.dropbox.com/s/nnaujcnzdp5y8ua/mip_corpus_search.db.zip?dl=1  -O mip_corpus_search.db.zip\n",
        "\n",
        "#!unzip -o /content/drive/MyDrive/Colab/mip_corpus_search.db.zip -d /content/\n",
        "!unzip -o mip_corpus_search.db.zip -d /content/\n",
        "%run search_utils.py"
      ],
      "execution_count": 72,
      "outputs": [
        {
          "output_type": "stream",
          "name": "stdout",
          "text": [
            "Downloading source code...\n",
            "Downloading DB...\n",
            "^C\n",
            "Archive:  mip_corpus_search.db.zip\n",
            "  End-of-central-directory signature not found.  Either this file is not\n",
            "  a zipfile, or it constitutes one disk of a multi-part archive.  In the\n",
            "  latter case the central directory and zipfile comment will be found on\n",
            "  the last disk(s) of this archive.\n",
            "unzip:  cannot find zipfile directory in one of mip_corpus_search.db.zip or\n",
            "        mip_corpus_search.db.zip.zip, and cannot find mip_corpus_search.db.zip.ZIP, period.\n",
            "generate_derived_attributes_muse_df\n",
            "ok\n"
          ]
        }
      ]
    },
    {
      "cell_type": "markdown",
      "metadata": {
        "id": "KJYqmA8UWPIZ"
      },
      "source": [
        "## Search\n",
        "\n",
        "Syntax: * means 'any character'"
      ]
    },
    {
      "cell_type": "code",
      "metadata": {
        "id": "RcNKIXpcWPIa",
        "colab": {
          "base_uri": "https://localhost:8080/",
          "height": 534
        },
        "outputId": "a37735e8-d5cd-46d2-d0bb-0a46f3e46fe2"
      },
      "source": [
        "#@title Search corpus { display-mode: \"form\" }\n",
        "%run search_utils.py\n",
        "search_string = \"london\" #@param {type:\"string\"}\n",
        "case_sensitive = False #@param {type:\"boolean\"}\n",
        "search_websites = False\n",
        "search_website_sentences = True #@param {type:\"boolean\"}\n",
        "search_facebook = True #@param {type:\"boolean\"}\n",
        "search_twitter = False #@param {type:\"boolean\"}\n",
        "max_results =  10#@param {type:\"integer\"}\n",
        "context_window =  7#@param {type:\"integer\"}\n",
        "res_df = run_search(search_string, case_sensitive,\n",
        "           search_facebook, search_twitter, search_websites, \n",
        "           search_website_sentences)\n",
        "if len(res_df) > 0:\n",
        "  results_html, results_page_df = generate_html_matches(res_df, search_string, \n",
        "    case_sensitive, context_window, max_results)\n",
        "  display(HTML(results_html))\n",
        "#res_df"
      ],
      "execution_count": 161,
      "outputs": [
        {
          "output_type": "stream",
          "name": "stdout",
          "text": [
            "generate_derived_attributes_muse_df\n",
            "ok\n",
            "WEBSITES: 2773 matches found. N sessions: 2. Unique museums: 496\n",
            "FACEBOOK: 28353 matches found. Unique museums: 669\n",
            "search_regex: '(?i)\\blondon\\b'\n"
          ]
        },
        {
          "output_type": "display_data",
          "data": {
            "text/html": [
              "<style>\n",
              "    table, tr, th, td {\n",
              "      margin: 3px;\n",
              "      border: solid 1px gray;\n",
              "      font-size: .9em;\n",
              "      border-collapse: collapse;\n",
              "      font-family: sans-serif;\n",
              "      vertical-align: top;\n",
              "    }\n",
              "    .before_col { text-align: right; }\n",
              "    .match_col { font-weight: bold; color: blue; }\n",
              "    strong { background-color: blue; color: white; }\n",
              "    </style><h3>facebook (first 10)</h3><table><tr><th>res</th><th>museum_id</th><th>account</th><th>before</th><th>match</th><th>after</th><th>msg_time</th></tr><tr><td class=\"\">25039</td><td class=\"\">mm.musa.368</td><td class=\"\">WaddesdonManor</td><td class=\"before_col\">inspired by the Illuminated River in </td><td class=\"match_col\">London</td><td class=\"\">. Help create a festive display that</td><td class=\"\">2021-10-20</td></tr><tr><td class=\"\">8973</td><td class=\"\">mm.mgs.299</td><td class=\"\">thetallship</td><td class=\"before_col\">the ship’s lengthiest voyages, which visited </td><td class=\"match_col\">London</td><td class=\"\">, Gravesend, Delagoa Bay, Newcastle Australia, Callao,</td><td class=\"\">2021-10-20</td></tr><tr><td class=\"\">19217</td><td class=\"\">mm.mgs.299</td><td class=\"\">thetallship</td><td class=\"before_col\">the ship’s lengthiest voyages, which visited </td><td class=\"match_col\">London</td><td class=\"\">, Gravesend, Delagoa Bay, Newcastle Australia, Callao,</td><td class=\"\">2021-10-20</td></tr><tr><td class=\"\">26187</td><td class=\"\">mm.mgs.299</td><td class=\"\">thetallship</td><td class=\"before_col\">the ship’s lengthiest voyages, which visited </td><td class=\"match_col\">London</td><td class=\"\">, Gravesend, Delagoa Bay, Newcastle Australia, Callao,</td><td class=\"\">2021-10-20</td></tr><tr><td class=\"\">8777</td><td class=\"\">mm.aim82NM.096</td><td class=\"\">DayOutWithTheKids</td><td class=\"before_col\">Raiders experience at the Tower of </td><td class=\"match_col\">London</td><td class=\"\">, we’re giving away ONE FREE FAMILY</td><td class=\"\">2021-10-20</td></tr><tr><td class=\"\">19021</td><td class=\"\">mm.aim82NM.096</td><td class=\"\">DayOutWithTheKids</td><td class=\"before_col\">Raiders experience at the Tower of </td><td class=\"match_col\">London</td><td class=\"\">, we’re giving away ONE FREE FAMILY</td><td class=\"\">2021-10-20</td></tr><tr><td class=\"\">25991</td><td class=\"\">mm.aim82NM.096</td><td class=\"\">DayOutWithTheKids</td><td class=\"before_col\">Raiders experience at the Tower of </td><td class=\"match_col\">London</td><td class=\"\">, we’re giving away ONE FREE FAMILY</td><td class=\"\">2021-10-20</td></tr><tr><td class=\"\">8403</td><td class=\"\">mm.aim.1161</td><td class=\"\">thepostalmuseum</td><td class=\"before_col\">on its way from Exeter to </td><td class=\"match_col\">London</td><td class=\"\">, was attacked by a lioness near</td><td class=\"\">2021-10-20</td></tr><tr><td class=\"\">18647</td><td class=\"\">mm.aim.1161</td><td class=\"\">thepostalmuseum</td><td class=\"before_col\">on its way from Exeter to </td><td class=\"match_col\">London</td><td class=\"\">, was attacked by a lioness near</td><td class=\"\">2021-10-20</td></tr><tr><td class=\"\">25617</td><td class=\"\">mm.aim.1161</td><td class=\"\">thepostalmuseum</td><td class=\"before_col\">on its way from Exeter to </td><td class=\"match_col\">London</td><td class=\"\">, was attacked by a lioness near</td><td class=\"\">2021-10-20</td></tr></table><h3>website_sentences (first 10)</h3><table><tr><th>res</th><th>museum_id</th><th>before</th><th>match</th><th>after</th><th>msg_time</th></tr><tr><td class=\"\">1699</td><td class=\"\">mm.wiki.485</td><td class=\"before_col\">packing the salmon en route to </td><td class=\"match_col\">London</td><td class=\"\"></td><td class=\"\">2021-09-14</td></tr><tr><td class=\"\">1700</td><td class=\"\">mm.wiki.485</td><td class=\"before_col\">packing the salmon en route to </td><td class=\"match_col\">London</td><td class=\"\"></td><td class=\"\">2021-09-14</td></tr><tr><td class=\"\">2734</td><td class=\"\">mm.wiki.483</td><td class=\"before_col\">Michael Templeton – Imperial College </td><td class=\"match_col\">London</td><td class=\"\">, U</td><td class=\"\">2021-09-14</td></tr><tr><td class=\"\">2735</td><td class=\"\">mm.wiki.483</td><td class=\"before_col\">Belen Torondel – </td><td class=\"match_col\">London</td><td class=\"\"> School of Hygiene and\n",
              "Tropical Medicine</td><td class=\"\">2021-09-14</td></tr><tr><td class=\"\">2535</td><td class=\"\">mm.wiki.478</td><td class=\"before_col\">Trust Image courtesy of The Illustrated </td><td class=\"match_col\">London</td><td class=\"\"> News Histor</td><td class=\"\">2021-09-14</td></tr><tr><td class=\"\">1388</td><td class=\"\">mm.wiki.475</td><td class=\"before_col\">which controlled the South East and </td><td class=\"match_col\">London</td><td class=\"\">, and which took the brunt of</td><td class=\"\">2021-09-14</td></tr><tr><td class=\"\">1613</td><td class=\"\">mm.wiki.438</td><td class=\"before_col\">sent each week to jewellers in </td><td class=\"match_col\">London</td><td class=\"\"></td><td class=\"\">2021-09-14</td></tr><tr><td class=\"\">1523</td><td class=\"\">mm.wiki.396</td><td class=\"before_col\">different premises during 1840s- Silver Street, </td><td class=\"match_col\">London</td><td class=\"\"> Road – listed in trade directories</td><td class=\"\">2021-09-14</td></tr><tr><td class=\"\">2491</td><td class=\"\">mm.wiki.313</td><td class=\"before_col\">drive from Henley, an hour from </td><td class=\"match_col\">London</td><td class=\"\">, 40 minutes from Oxford and Heathrow</td><td class=\"\">2021-09-14</td></tr><tr><td class=\"\">1912</td><td class=\"\">mm.wiki.286</td><td class=\"before_col\">Toggle navigation Attractions England Scotland Wales </td><td class=\"match_col\">London</td><td class=\"\"></td><td class=\"\">2021-09-14</td></tr></table>"
            ],
            "text/plain": [
              "<IPython.core.display.HTML object>"
            ]
          },
          "metadata": {}
        }
      ]
    },
    {
      "cell_type": "markdown",
      "metadata": {
        "id": "lcFMk7gOdO3H"
      },
      "source": [
        "# Analyse search results"
      ]
    },
    {
      "cell_type": "code",
      "metadata": {
        "colab": {
          "base_uri": "https://localhost:8080/",
          "height": 1000
        },
        "id": "vm03nEIedT9j",
        "outputId": "b7554100-7e39-47cf-ecb5-a13a62ed58f2"
      },
      "source": [
        "%run search_utils.py\n",
        "#@title Default title text\n",
        "token_context_size =  10#@param {type:\"integer\"}\n",
        "assert len(res_df) > 0\n",
        "res_attr_df = an_results(res_df, search_string, case_sensitive, token_context_size)\n",
        "#res_attr_df"
      ],
      "execution_count": 162,
      "outputs": [
        {
          "output_type": "stream",
          "name": "stdout",
          "text": [
            "generate_derived_attributes_muse_df\n",
            "ok\n",
            "N results: 31126 • N unique museums: 1029\n",
            "                   n_results\n",
            "facebook               28353\n",
            "website_sentences       2773\n"
          ]
        },
        {
          "output_type": "display_data",
          "data": {
            "text/html": [
              "<h3>Tokens before 'london'</h3>"
            ],
            "text/plain": [
              "<IPython.core.display.HTML object>"
            ]
          },
          "metadata": {}
        },
        {
          "output_type": "stream",
          "name": "stdout",
          "text": [
            "museum (3447) one (3025) day (2727) new (2555) first (2532) today (2179) exhibition (1979) \n",
            "art (1916) time (1902) gallery (1795) years (1767) collection (1755) us (1743) history (1722) \n",
            "work (1632) royal (1575) born (1565) two (1517) year (1483) part (1434) "
          ]
        },
        {
          "output_type": "display_data",
          "data": {
            "text/html": [
              "<h3>Tokens after 'london'</h3>"
            ],
            "text/plain": [
              "<IPython.core.display.HTML object>"
            ]
          },
          "metadata": {}
        },
        {
          "output_type": "stream",
          "name": "stdout",
          "text": [
            "london (5317) museum (3133) one (2671) new (2594) also (2270) road (2234) time (2211) \n",
            "first (2160) find (2052) work (2012) us (1968) years (1882) two (1705) would (1675) \n",
            "day (1663) visit (1568) art (1552) see (1495) exhibition (1486) people (1481) \n",
            "\n",
            "Unique museum results: 1165\n"
          ]
        },
        {
          "output_type": "display_data",
          "data": {
            "text/html": [
              "<h3>By governance</h3>"
            ],
            "text/plain": [
              "<IPython.core.display.HTML object>"
            ]
          },
          "metadata": {}
        },
        {
          "output_type": "display_data",
          "data": {
            "text/html": [
              "<div>\n",
              "<style scoped>\n",
              "    .dataframe tbody tr th:only-of-type {\n",
              "        vertical-align: middle;\n",
              "    }\n",
              "\n",
              "    .dataframe tbody tr th {\n",
              "        vertical-align: top;\n",
              "    }\n",
              "\n",
              "    .dataframe thead th {\n",
              "        text-align: right;\n",
              "    }\n",
              "</style>\n",
              "<table border=\"1\" class=\"dataframe\">\n",
              "  <thead>\n",
              "    <tr style=\"text-align: right;\">\n",
              "      <th></th>\n",
              "      <th>attribute_value</th>\n",
              "      <th>n_museums</th>\n",
              "      <th>museum_result_pc</th>\n",
              "      <th>n_tot_museums</th>\n",
              "      <th>museum_attribute_pc</th>\n",
              "    </tr>\n",
              "  </thead>\n",
              "  <tbody>\n",
              "    <tr>\n",
              "      <th>0</th>\n",
              "      <td>Independent:Not for profit</td>\n",
              "      <td>524</td>\n",
              "      <td>45.0</td>\n",
              "      <td>1534</td>\n",
              "      <td>34.2</td>\n",
              "    </tr>\n",
              "    <tr>\n",
              "      <th>1</th>\n",
              "      <td>Government:Local Authority</td>\n",
              "      <td>256</td>\n",
              "      <td>22.0</td>\n",
              "      <td>718</td>\n",
              "      <td>35.7</td>\n",
              "    </tr>\n",
              "    <tr>\n",
              "      <th>2</th>\n",
              "      <td>Independent:Private</td>\n",
              "      <td>132</td>\n",
              "      <td>11.3</td>\n",
              "      <td>472</td>\n",
              "      <td>28.0</td>\n",
              "    </tr>\n",
              "    <tr>\n",
              "      <th>3</th>\n",
              "      <td>Independent:National Trust</td>\n",
              "      <td>65</td>\n",
              "      <td>5.6</td>\n",
              "      <td>183</td>\n",
              "      <td>35.5</td>\n",
              "    </tr>\n",
              "    <tr>\n",
              "      <th>4</th>\n",
              "      <td>Government:National</td>\n",
              "      <td>55</td>\n",
              "      <td>4.7</td>\n",
              "      <td>69</td>\n",
              "      <td>79.7</td>\n",
              "    </tr>\n",
              "    <tr>\n",
              "      <th>5</th>\n",
              "      <td>University</td>\n",
              "      <td>51</td>\n",
              "      <td>4.4</td>\n",
              "      <td>92</td>\n",
              "      <td>55.4</td>\n",
              "    </tr>\n",
              "    <tr>\n",
              "      <th>6</th>\n",
              "      <td>Independent:Unknown</td>\n",
              "      <td>34</td>\n",
              "      <td>2.9</td>\n",
              "      <td>113</td>\n",
              "      <td>30.1</td>\n",
              "    </tr>\n",
              "    <tr>\n",
              "      <th>7</th>\n",
              "      <td>Independent:English Heritage</td>\n",
              "      <td>20</td>\n",
              "      <td>1.7</td>\n",
              "      <td>52</td>\n",
              "      <td>38.5</td>\n",
              "    </tr>\n",
              "    <tr>\n",
              "      <th>8</th>\n",
              "      <td>Unknown</td>\n",
              "      <td>19</td>\n",
              "      <td>1.6</td>\n",
              "      <td>55</td>\n",
              "      <td>34.5</td>\n",
              "    </tr>\n",
              "    <tr>\n",
              "      <th>9</th>\n",
              "      <td>Independent:National Trust for Scotland</td>\n",
              "      <td>3</td>\n",
              "      <td>0.3</td>\n",
              "      <td>26</td>\n",
              "      <td>11.5</td>\n",
              "    </tr>\n",
              "    <tr>\n",
              "      <th>10</th>\n",
              "      <td>Government:Cadw</td>\n",
              "      <td>2</td>\n",
              "      <td>0.2</td>\n",
              "      <td>3</td>\n",
              "      <td>66.7</td>\n",
              "    </tr>\n",
              "    <tr>\n",
              "      <th>11</th>\n",
              "      <td>Independent:Historic Environment Scotland</td>\n",
              "      <td>2</td>\n",
              "      <td>0.2</td>\n",
              "      <td>19</td>\n",
              "      <td>10.5</td>\n",
              "    </tr>\n",
              "    <tr>\n",
              "      <th>12</th>\n",
              "      <td>Government:Other</td>\n",
              "      <td>1</td>\n",
              "      <td>0.1</td>\n",
              "      <td>5</td>\n",
              "      <td>20.0</td>\n",
              "    </tr>\n",
              "  </tbody>\n",
              "</table>\n",
              "</div>"
            ],
            "text/plain": [
              "                              attribute_value  ...  museum_attribute_pc\n",
              "0                  Independent:Not for profit  ...                 34.2\n",
              "1                  Government:Local Authority  ...                 35.7\n",
              "2                         Independent:Private  ...                 28.0\n",
              "3                  Independent:National Trust  ...                 35.5\n",
              "4                         Government:National  ...                 79.7\n",
              "5                                  University  ...                 55.4\n",
              "6                         Independent:Unknown  ...                 30.1\n",
              "7                Independent:English Heritage  ...                 38.5\n",
              "8                                     Unknown  ...                 34.5\n",
              "9     Independent:National Trust for Scotland  ...                 11.5\n",
              "10                            Government:Cadw  ...                 66.7\n",
              "11  Independent:Historic Environment Scotland  ...                 10.5\n",
              "12                           Government:Other  ...                 20.0\n",
              "\n",
              "[13 rows x 5 columns]"
            ]
          },
          "metadata": {}
        },
        {
          "output_type": "display_data",
          "data": {
            "text/html": [
              "<h3>By region</h3>"
            ],
            "text/plain": [
              "<IPython.core.display.HTML object>"
            ]
          },
          "metadata": {}
        },
        {
          "output_type": "display_data",
          "data": {
            "text/html": [
              "<div>\n",
              "<style scoped>\n",
              "    .dataframe tbody tr th:only-of-type {\n",
              "        vertical-align: middle;\n",
              "    }\n",
              "\n",
              "    .dataframe tbody tr th {\n",
              "        vertical-align: top;\n",
              "    }\n",
              "\n",
              "    .dataframe thead th {\n",
              "        text-align: right;\n",
              "    }\n",
              "</style>\n",
              "<table border=\"1\" class=\"dataframe\">\n",
              "  <thead>\n",
              "    <tr style=\"text-align: right;\">\n",
              "      <th></th>\n",
              "      <th>attribute_value</th>\n",
              "      <th>n_museums</th>\n",
              "      <th>museum_result_pc</th>\n",
              "      <th>n_tot_museums</th>\n",
              "      <th>museum_attribute_pc</th>\n",
              "    </tr>\n",
              "  </thead>\n",
              "  <tbody>\n",
              "    <tr>\n",
              "      <th>13</th>\n",
              "      <td>London</td>\n",
              "      <td>280</td>\n",
              "      <td>24.0</td>\n",
              "      <td>238</td>\n",
              "      <td>117.6</td>\n",
              "    </tr>\n",
              "    <tr>\n",
              "      <th>14</th>\n",
              "      <td>South East</td>\n",
              "      <td>173</td>\n",
              "      <td>14.8</td>\n",
              "      <td>476</td>\n",
              "      <td>36.3</td>\n",
              "    </tr>\n",
              "    <tr>\n",
              "      <th>15</th>\n",
              "      <td>Scotland</td>\n",
              "      <td>105</td>\n",
              "      <td>9.0</td>\n",
              "      <td>494</td>\n",
              "      <td>21.3</td>\n",
              "    </tr>\n",
              "    <tr>\n",
              "      <th>16</th>\n",
              "      <td>South West</td>\n",
              "      <td>101</td>\n",
              "      <td>8.7</td>\n",
              "      <td>422</td>\n",
              "      <td>23.9</td>\n",
              "    </tr>\n",
              "    <tr>\n",
              "      <th>17</th>\n",
              "      <td>East of England</td>\n",
              "      <td>98</td>\n",
              "      <td>8.4</td>\n",
              "      <td>333</td>\n",
              "      <td>29.4</td>\n",
              "    </tr>\n",
              "    <tr>\n",
              "      <th>18</th>\n",
              "      <td>North West</td>\n",
              "      <td>80</td>\n",
              "      <td>6.9</td>\n",
              "      <td>247</td>\n",
              "      <td>32.4</td>\n",
              "    </tr>\n",
              "    <tr>\n",
              "      <th>19</th>\n",
              "      <td>East Midlands</td>\n",
              "      <td>71</td>\n",
              "      <td>6.1</td>\n",
              "      <td>229</td>\n",
              "      <td>31.0</td>\n",
              "    </tr>\n",
              "    <tr>\n",
              "      <th>20</th>\n",
              "      <td>West Midlands</td>\n",
              "      <td>60</td>\n",
              "      <td>5.2</td>\n",
              "      <td>228</td>\n",
              "      <td>26.3</td>\n",
              "    </tr>\n",
              "    <tr>\n",
              "      <th>21</th>\n",
              "      <td>Wales</td>\n",
              "      <td>58</td>\n",
              "      <td>5.0</td>\n",
              "      <td>207</td>\n",
              "      <td>28.0</td>\n",
              "    </tr>\n",
              "    <tr>\n",
              "      <th>22</th>\n",
              "      <td>Yorkshire and The Humber</td>\n",
              "      <td>56</td>\n",
              "      <td>4.8</td>\n",
              "      <td>229</td>\n",
              "      <td>24.5</td>\n",
              "    </tr>\n",
              "    <tr>\n",
              "      <th>23</th>\n",
              "      <td>Northern Ireland</td>\n",
              "      <td>44</td>\n",
              "      <td>3.8</td>\n",
              "      <td>94</td>\n",
              "      <td>46.8</td>\n",
              "    </tr>\n",
              "    <tr>\n",
              "      <th>24</th>\n",
              "      <td>North East</td>\n",
              "      <td>33</td>\n",
              "      <td>2.8</td>\n",
              "      <td>105</td>\n",
              "      <td>31.4</td>\n",
              "    </tr>\n",
              "    <tr>\n",
              "      <th>25</th>\n",
              "      <td>Isle of Man</td>\n",
              "      <td>3</td>\n",
              "      <td>0.3</td>\n",
              "      <td>15</td>\n",
              "      <td>20.0</td>\n",
              "    </tr>\n",
              "    <tr>\n",
              "      <th>26</th>\n",
              "      <td>Channel Islands</td>\n",
              "      <td>2</td>\n",
              "      <td>0.2</td>\n",
              "      <td>24</td>\n",
              "      <td>8.3</td>\n",
              "    </tr>\n",
              "  </tbody>\n",
              "</table>\n",
              "</div>"
            ],
            "text/plain": [
              "              attribute_value  n_museums  ...  n_tot_museums  museum_attribute_pc\n",
              "13                    London         280  ...            238                117.6\n",
              "14                South East         173  ...            476                 36.3\n",
              "15                   Scotland        105  ...            494                 21.3\n",
              "16                South West         101  ...            422                 23.9\n",
              "17           East of England          98  ...            333                 29.4\n",
              "18                North West          80  ...            247                 32.4\n",
              "19             East Midlands          71  ...            229                 31.0\n",
              "20             West Midlands          60  ...            228                 26.3\n",
              "21                      Wales         58  ...            207                 28.0\n",
              "22  Yorkshire and The Humber          56  ...            229                 24.5\n",
              "23           Northern Ireland         44  ...             94                 46.8\n",
              "24                North East          33  ...            105                 31.4\n",
              "25                Isle of Man          3  ...             15                 20.0\n",
              "26            Channel Islands          2  ...             24                  8.3\n",
              "\n",
              "[14 rows x 5 columns]"
            ]
          },
          "metadata": {}
        },
        {
          "output_type": "display_data",
          "data": {
            "text/html": [
              "<h3>By size</h3>"
            ],
            "text/plain": [
              "<IPython.core.display.HTML object>"
            ]
          },
          "metadata": {}
        },
        {
          "output_type": "display_data",
          "data": {
            "text/html": [
              "<div>\n",
              "<style scoped>\n",
              "    .dataframe tbody tr th:only-of-type {\n",
              "        vertical-align: middle;\n",
              "    }\n",
              "\n",
              "    .dataframe tbody tr th {\n",
              "        vertical-align: top;\n",
              "    }\n",
              "\n",
              "    .dataframe thead th {\n",
              "        text-align: right;\n",
              "    }\n",
              "</style>\n",
              "<table border=\"1\" class=\"dataframe\">\n",
              "  <thead>\n",
              "    <tr style=\"text-align: right;\">\n",
              "      <th></th>\n",
              "      <th>attribute_value</th>\n",
              "      <th>n_museums</th>\n",
              "      <th>museum_result_pc</th>\n",
              "      <th>n_tot_museums</th>\n",
              "      <th>museum_attribute_pc</th>\n",
              "    </tr>\n",
              "  </thead>\n",
              "  <tbody>\n",
              "    <tr>\n",
              "      <th>27</th>\n",
              "      <td>small</td>\n",
              "      <td>517</td>\n",
              "      <td>44.4</td>\n",
              "      <td>1825</td>\n",
              "      <td>28.3</td>\n",
              "    </tr>\n",
              "    <tr>\n",
              "      <th>28</th>\n",
              "      <td>medium</td>\n",
              "      <td>305</td>\n",
              "      <td>26.2</td>\n",
              "      <td>865</td>\n",
              "      <td>35.3</td>\n",
              "    </tr>\n",
              "    <tr>\n",
              "      <th>29</th>\n",
              "      <td>large</td>\n",
              "      <td>277</td>\n",
              "      <td>23.8</td>\n",
              "      <td>498</td>\n",
              "      <td>55.6</td>\n",
              "    </tr>\n",
              "    <tr>\n",
              "      <th>30</th>\n",
              "      <td>unknown</td>\n",
              "      <td>47</td>\n",
              "      <td>4.0</td>\n",
              "      <td>141</td>\n",
              "      <td>33.3</td>\n",
              "    </tr>\n",
              "    <tr>\n",
              "      <th>31</th>\n",
              "      <td>huge</td>\n",
              "      <td>18</td>\n",
              "      <td>1.5</td>\n",
              "      <td>12</td>\n",
              "      <td>150.0</td>\n",
              "    </tr>\n",
              "  </tbody>\n",
              "</table>\n",
              "</div>"
            ],
            "text/plain": [
              "   attribute_value  n_museums  ...  n_tot_museums  museum_attribute_pc\n",
              "27           small        517  ...           1825                 28.3\n",
              "28          medium        305  ...            865                 35.3\n",
              "29           large        277  ...            498                 55.6\n",
              "30         unknown         47  ...            141                 33.3\n",
              "31            huge         18  ...             12                150.0\n",
              "\n",
              "[5 rows x 5 columns]"
            ]
          },
          "metadata": {}
        },
        {
          "output_type": "display_data",
          "data": {
            "text/html": [
              "<h3>By subject_matter_simpl</h3>"
            ],
            "text/plain": [
              "<IPython.core.display.HTML object>"
            ]
          },
          "metadata": {}
        },
        {
          "output_type": "display_data",
          "data": {
            "text/html": [
              "<div>\n",
              "<style scoped>\n",
              "    .dataframe tbody tr th:only-of-type {\n",
              "        vertical-align: middle;\n",
              "    }\n",
              "\n",
              "    .dataframe tbody tr th {\n",
              "        vertical-align: top;\n",
              "    }\n",
              "\n",
              "    .dataframe thead th {\n",
              "        text-align: right;\n",
              "    }\n",
              "</style>\n",
              "<table border=\"1\" class=\"dataframe\">\n",
              "  <thead>\n",
              "    <tr style=\"text-align: right;\">\n",
              "      <th></th>\n",
              "      <th>attribute_value</th>\n",
              "      <th>n_museums</th>\n",
              "      <th>museum_result_pc</th>\n",
              "      <th>n_tot_museums</th>\n",
              "      <th>museum_attribute_pc</th>\n",
              "    </tr>\n",
              "  </thead>\n",
              "  <tbody>\n",
              "    <tr>\n",
              "      <th>32</th>\n",
              "      <td>Buildings</td>\n",
              "      <td>206</td>\n",
              "      <td>17.7</td>\n",
              "      <td>553</td>\n",
              "      <td>37.3</td>\n",
              "    </tr>\n",
              "    <tr>\n",
              "      <th>33</th>\n",
              "      <td>Local Histories</td>\n",
              "      <td>192</td>\n",
              "      <td>16.5</td>\n",
              "      <td>764</td>\n",
              "      <td>25.1</td>\n",
              "    </tr>\n",
              "    <tr>\n",
              "      <th>34</th>\n",
              "      <td>Arts</td>\n",
              "      <td>136</td>\n",
              "      <td>11.7</td>\n",
              "      <td>247</td>\n",
              "      <td>55.1</td>\n",
              "    </tr>\n",
              "    <tr>\n",
              "      <th>35</th>\n",
              "      <td>War and conflict</td>\n",
              "      <td>99</td>\n",
              "      <td>8.5</td>\n",
              "      <td>333</td>\n",
              "      <td>29.7</td>\n",
              "    </tr>\n",
              "    <tr>\n",
              "      <th>36</th>\n",
              "      <td>Transport</td>\n",
              "      <td>81</td>\n",
              "      <td>7.0</td>\n",
              "      <td>224</td>\n",
              "      <td>36.2</td>\n",
              "    </tr>\n",
              "    <tr>\n",
              "      <th>37</th>\n",
              "      <td>Mixed</td>\n",
              "      <td>76</td>\n",
              "      <td>6.5</td>\n",
              "      <td>166</td>\n",
              "      <td>45.8</td>\n",
              "    </tr>\n",
              "    <tr>\n",
              "      <th>38</th>\n",
              "      <td>Personality</td>\n",
              "      <td>75</td>\n",
              "      <td>6.4</td>\n",
              "      <td>176</td>\n",
              "      <td>42.6</td>\n",
              "    </tr>\n",
              "    <tr>\n",
              "      <th>39</th>\n",
              "      <td>Industry and manufacture</td>\n",
              "      <td>43</td>\n",
              "      <td>3.7</td>\n",
              "      <td>151</td>\n",
              "      <td>28.5</td>\n",
              "    </tr>\n",
              "    <tr>\n",
              "      <th>40</th>\n",
              "      <td>Belief and identity</td>\n",
              "      <td>39</td>\n",
              "      <td>3.3</td>\n",
              "      <td>96</td>\n",
              "      <td>40.6</td>\n",
              "    </tr>\n",
              "    <tr>\n",
              "      <th>41</th>\n",
              "      <td>Sea and seafaring</td>\n",
              "      <td>34</td>\n",
              "      <td>2.9</td>\n",
              "      <td>102</td>\n",
              "      <td>33.3</td>\n",
              "    </tr>\n",
              "    <tr>\n",
              "      <th>42</th>\n",
              "      <td>Leisure and sport</td>\n",
              "      <td>32</td>\n",
              "      <td>2.7</td>\n",
              "      <td>87</td>\n",
              "      <td>36.8</td>\n",
              "    </tr>\n",
              "    <tr>\n",
              "      <th>43</th>\n",
              "      <td>Other</td>\n",
              "      <td>26</td>\n",
              "      <td>2.2</td>\n",
              "      <td>43</td>\n",
              "      <td>60.5</td>\n",
              "    </tr>\n",
              "    <tr>\n",
              "      <th>44</th>\n",
              "      <td>Medicine and health</td>\n",
              "      <td>24</td>\n",
              "      <td>2.1</td>\n",
              "      <td>34</td>\n",
              "      <td>70.6</td>\n",
              "    </tr>\n",
              "    <tr>\n",
              "      <th>45</th>\n",
              "      <td>Rural Industry</td>\n",
              "      <td>21</td>\n",
              "      <td>1.8</td>\n",
              "      <td>111</td>\n",
              "      <td>18.9</td>\n",
              "    </tr>\n",
              "    <tr>\n",
              "      <th>46</th>\n",
              "      <td>Natural world</td>\n",
              "      <td>17</td>\n",
              "      <td>1.5</td>\n",
              "      <td>47</td>\n",
              "      <td>36.2</td>\n",
              "    </tr>\n",
              "    <tr>\n",
              "      <th>47</th>\n",
              "      <td>Archaeology</td>\n",
              "      <td>17</td>\n",
              "      <td>1.5</td>\n",
              "      <td>91</td>\n",
              "      <td>18.7</td>\n",
              "    </tr>\n",
              "    <tr>\n",
              "      <th>48</th>\n",
              "      <td>Services</td>\n",
              "      <td>15</td>\n",
              "      <td>1.3</td>\n",
              "      <td>34</td>\n",
              "      <td>44.1</td>\n",
              "    </tr>\n",
              "    <tr>\n",
              "      <th>49</th>\n",
              "      <td>Science and technology</td>\n",
              "      <td>10</td>\n",
              "      <td>0.9</td>\n",
              "      <td>21</td>\n",
              "      <td>47.6</td>\n",
              "    </tr>\n",
              "    <tr>\n",
              "      <th>50</th>\n",
              "      <td>Communications</td>\n",
              "      <td>9</td>\n",
              "      <td>0.8</td>\n",
              "      <td>13</td>\n",
              "      <td>69.2</td>\n",
              "    </tr>\n",
              "    <tr>\n",
              "      <th>51</th>\n",
              "      <td>Utilities</td>\n",
              "      <td>8</td>\n",
              "      <td>0.7</td>\n",
              "      <td>33</td>\n",
              "      <td>24.2</td>\n",
              "    </tr>\n",
              "    <tr>\n",
              "      <th>52</th>\n",
              "      <td>Food and drink</td>\n",
              "      <td>4</td>\n",
              "      <td>0.3</td>\n",
              "      <td>15</td>\n",
              "      <td>26.7</td>\n",
              "    </tr>\n",
              "  </tbody>\n",
              "</table>\n",
              "</div>"
            ],
            "text/plain": [
              "             attribute_value  n_museums  ...  n_tot_museums  museum_attribute_pc\n",
              "32                 Buildings        206  ...            553                 37.3\n",
              "33           Local Histories        192  ...            764                 25.1\n",
              "34                      Arts        136  ...            247                 55.1\n",
              "35          War and conflict         99  ...            333                 29.7\n",
              "36                 Transport         81  ...            224                 36.2\n",
              "37                     Mixed         76  ...            166                 45.8\n",
              "38               Personality         75  ...            176                 42.6\n",
              "39  Industry and manufacture         43  ...            151                 28.5\n",
              "40       Belief and identity         39  ...             96                 40.6\n",
              "41         Sea and seafaring         34  ...            102                 33.3\n",
              "42         Leisure and sport         32  ...             87                 36.8\n",
              "43                     Other         26  ...             43                 60.5\n",
              "44       Medicine and health         24  ...             34                 70.6\n",
              "45            Rural Industry         21  ...            111                 18.9\n",
              "46             Natural world         17  ...             47                 36.2\n",
              "47               Archaeology         17  ...             91                 18.7\n",
              "48                  Services         15  ...             34                 44.1\n",
              "49    Science and technology         10  ...             21                 47.6\n",
              "50            Communications          9  ...             13                 69.2\n",
              "51                 Utilities          8  ...             33                 24.2\n",
              "52            Food and drink          4  ...             15                 26.7\n",
              "\n",
              "[21 rows x 5 columns]"
            ]
          },
          "metadata": {}
        }
      ]
    },
    {
      "cell_type": "markdown",
      "metadata": {
        "id": "5f2oaR20o68a"
      },
      "source": [
        "### Download results as Excel"
      ]
    },
    {
      "cell_type": "code",
      "metadata": {
        "colab": {
          "base_uri": "https://localhost:8080/",
          "height": 17
        },
        "id": "GW7uKN3nnLeR",
        "outputId": "31a7d16e-2c3b-404f-fa60-988726de6d7c"
      },
      "source": [
        "# click here to download the complete results\n",
        "fn = 'search_results_{}.xlsx'.format(get_now_string())\n",
        "df = results_page_df.copy()\n",
        "df['search'] = search_string\n",
        "df.to_excel(fn, index=False)\n",
        "files.download(fn)"
      ],
      "execution_count": 80,
      "outputs": [
        {
          "output_type": "display_data",
          "data": {
            "application/javascript": [
              "\n",
              "    async function download(id, filename, size) {\n",
              "      if (!google.colab.kernel.accessAllowed) {\n",
              "        return;\n",
              "      }\n",
              "      const div = document.createElement('div');\n",
              "      const label = document.createElement('label');\n",
              "      label.textContent = `Downloading \"${filename}\": `;\n",
              "      div.appendChild(label);\n",
              "      const progress = document.createElement('progress');\n",
              "      progress.max = size;\n",
              "      div.appendChild(progress);\n",
              "      document.body.appendChild(div);\n",
              "\n",
              "      const buffers = [];\n",
              "      let downloaded = 0;\n",
              "\n",
              "      const channel = await google.colab.kernel.comms.open(id);\n",
              "      // Send a message to notify the kernel that we're ready.\n",
              "      channel.send({})\n",
              "\n",
              "      for await (const message of channel.messages) {\n",
              "        // Send a message to notify the kernel that we're ready.\n",
              "        channel.send({})\n",
              "        if (message.buffers) {\n",
              "          for (const buffer of message.buffers) {\n",
              "            buffers.push(buffer);\n",
              "            downloaded += buffer.byteLength;\n",
              "            progress.value = downloaded;\n",
              "          }\n",
              "        }\n",
              "      }\n",
              "      const blob = new Blob(buffers, {type: 'application/binary'});\n",
              "      const a = document.createElement('a');\n",
              "      a.href = window.URL.createObjectURL(blob);\n",
              "      a.download = filename;\n",
              "      div.appendChild(a);\n",
              "      a.click();\n",
              "      div.remove();\n",
              "    }\n",
              "  "
            ],
            "text/plain": [
              "<IPython.core.display.Javascript object>"
            ]
          },
          "metadata": {}
        },
        {
          "output_type": "display_data",
          "data": {
            "application/javascript": [
              "download(\"download_e6333ccc-e4a9-4514-9442-c3d11e5bc550\", \"search_results_20211123-172506.xlsx\", 7305)"
            ],
            "text/plain": [
              "<IPython.core.display.Javascript object>"
            ]
          },
          "metadata": {}
        }
      ]
    },
    {
      "cell_type": "code",
      "metadata": {
        "colab": {
          "base_uri": "https://localhost:8080/",
          "height": 17
        },
        "id": "RU_o0DCe0mWF",
        "outputId": "ff147c3e-f8f2-40e6-8a9f-9368c7356d50"
      },
      "source": [
        "# click here to download the attribute analysis of results\n",
        "fn = 'search_results_attributes_{}.xlsx'.format(get_now_string())\n",
        "df = res_attr_df.copy()\n",
        "df['search'] = search_string\n",
        "df.to_excel(fn, index=False)\n",
        "files.download(fn)"
      ],
      "execution_count": 85,
      "outputs": [
        {
          "output_type": "display_data",
          "data": {
            "application/javascript": [
              "\n",
              "    async function download(id, filename, size) {\n",
              "      if (!google.colab.kernel.accessAllowed) {\n",
              "        return;\n",
              "      }\n",
              "      const div = document.createElement('div');\n",
              "      const label = document.createElement('label');\n",
              "      label.textContent = `Downloading \"${filename}\": `;\n",
              "      div.appendChild(label);\n",
              "      const progress = document.createElement('progress');\n",
              "      progress.max = size;\n",
              "      div.appendChild(progress);\n",
              "      document.body.appendChild(div);\n",
              "\n",
              "      const buffers = [];\n",
              "      let downloaded = 0;\n",
              "\n",
              "      const channel = await google.colab.kernel.comms.open(id);\n",
              "      // Send a message to notify the kernel that we're ready.\n",
              "      channel.send({})\n",
              "\n",
              "      for await (const message of channel.messages) {\n",
              "        // Send a message to notify the kernel that we're ready.\n",
              "        channel.send({})\n",
              "        if (message.buffers) {\n",
              "          for (const buffer of message.buffers) {\n",
              "            buffers.push(buffer);\n",
              "            downloaded += buffer.byteLength;\n",
              "            progress.value = downloaded;\n",
              "          }\n",
              "        }\n",
              "      }\n",
              "      const blob = new Blob(buffers, {type: 'application/binary'});\n",
              "      const a = document.createElement('a');\n",
              "      a.href = window.URL.createObjectURL(blob);\n",
              "      a.download = filename;\n",
              "      div.appendChild(a);\n",
              "      a.click();\n",
              "      div.remove();\n",
              "    }\n",
              "  "
            ],
            "text/plain": [
              "<IPython.core.display.Javascript object>"
            ]
          },
          "metadata": {}
        },
        {
          "output_type": "display_data",
          "data": {
            "application/javascript": [
              "download(\"download_e34b32d4-7ee6-4d31-8d66-9e005c41a6fa\", \"search_results_attributes_20211123-172642.xlsx\", 5458)"
            ],
            "text/plain": [
              "<IPython.core.display.Javascript object>"
            ]
          },
          "metadata": {}
        }
      ]
    },
    {
      "cell_type": "markdown",
      "metadata": {
        "id": "QM5pIonivg2C"
      },
      "source": [
        "### Backup application"
      ]
    },
    {
      "cell_type": "code",
      "metadata": {
        "colab": {
          "base_uri": "https://localhost:8080/",
          "height": 17
        },
        "id": "qlczUd9QvkW-",
        "outputId": "1fb7c3ee-f493-4ea2-e27c-f12fa0900bd4"
      },
      "source": [
        "from google.colab import drive, files\n",
        "files.download('search_utils.py')\n",
        "#files.download('mip_search_app-v1.ipynb')"
      ],
      "execution_count": 163,
      "outputs": [
        {
          "output_type": "display_data",
          "data": {
            "application/javascript": [
              "\n",
              "    async function download(id, filename, size) {\n",
              "      if (!google.colab.kernel.accessAllowed) {\n",
              "        return;\n",
              "      }\n",
              "      const div = document.createElement('div');\n",
              "      const label = document.createElement('label');\n",
              "      label.textContent = `Downloading \"${filename}\": `;\n",
              "      div.appendChild(label);\n",
              "      const progress = document.createElement('progress');\n",
              "      progress.max = size;\n",
              "      div.appendChild(progress);\n",
              "      document.body.appendChild(div);\n",
              "\n",
              "      const buffers = [];\n",
              "      let downloaded = 0;\n",
              "\n",
              "      const channel = await google.colab.kernel.comms.open(id);\n",
              "      // Send a message to notify the kernel that we're ready.\n",
              "      channel.send({})\n",
              "\n",
              "      for await (const message of channel.messages) {\n",
              "        // Send a message to notify the kernel that we're ready.\n",
              "        channel.send({})\n",
              "        if (message.buffers) {\n",
              "          for (const buffer of message.buffers) {\n",
              "            buffers.push(buffer);\n",
              "            downloaded += buffer.byteLength;\n",
              "            progress.value = downloaded;\n",
              "          }\n",
              "        }\n",
              "      }\n",
              "      const blob = new Blob(buffers, {type: 'application/binary'});\n",
              "      const a = document.createElement('a');\n",
              "      a.href = window.URL.createObjectURL(blob);\n",
              "      a.download = filename;\n",
              "      div.appendChild(a);\n",
              "      a.click();\n",
              "      div.remove();\n",
              "    }\n",
              "  "
            ],
            "text/plain": [
              "<IPython.core.display.Javascript object>"
            ]
          },
          "metadata": {}
        },
        {
          "output_type": "display_data",
          "data": {
            "application/javascript": [
              "download(\"download_566be211-8042-44a8-8f32-00550a933be2\", \"search_utils.py\", 13487)"
            ],
            "text/plain": [
              "<IPython.core.display.Javascript object>"
            ]
          },
          "metadata": {}
        }
      ]
    }
  ]
}