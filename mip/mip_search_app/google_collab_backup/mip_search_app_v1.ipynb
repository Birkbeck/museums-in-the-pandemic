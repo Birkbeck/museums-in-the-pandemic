{
  "nbformat": 4,
  "nbformat_minor": 0,
  "metadata": {
    "kernelspec": {
      "display_name": "Python 3 (ipykernel)",
      "language": "python",
      "name": "python3"
    },
    "language_info": {
      "codemirror_mode": {
        "name": "ipython",
        "version": 3
      },
      "file_extension": ".py",
      "mimetype": "text/x-python",
      "name": "python",
      "nbconvert_exporter": "python",
      "pygments_lexer": "ipython3",
      "version": "3.8.12"
    },
    "toc-autonumbering": false,
    "toc-showcode": false,
    "toc-showmarkdowntxt": false,
    "toc-showtags": false,
    "colab": {
      "name": "mip_search_app-v1.ipynb",
      "provenance": [],
      "collapsed_sections": []
    }
  },
  "cells": [
    {
      "cell_type": "markdown",
      "metadata": {
        "tags": [],
        "id": "x5wjno2TWPIP"
      },
      "source": [
        "# MIP Search App\n",
        "\n",
        "Search facility for MIP data"
      ]
    },
    {
      "cell_type": "code",
      "metadata": {
        "colab": {
          "base_uri": "https://localhost:8080/"
        },
        "id": "CJfE_kOGWPIW",
        "outputId": "ef3ab2a5-34ff-433c-c2b2-7fc2c69193a9"
      },
      "source": [
        "from google.colab import drive, files\n",
        "drive.mount('/content/drive')\n",
        "#!unzip -o /content/drive/MyDrive/Colab/mip_corpus_search.db.zip -d /content/\n",
        "%run /content/drive/MyDrive/Colab/search_utils.py\n",
        "# !wget https://drive.google.com/uc?export=download&id=1q6ZWaAMk6f1abKrFUCMbrucANy7nso3t"
      ],
      "execution_count": 194,
      "outputs": [
        {
          "output_type": "stream",
          "name": "stdout",
          "text": [
            "Drive already mounted at /content/drive; to attempt to forcibly remount, call drive.mount(\"/content/drive\", force_remount=True).\n",
            "ok\n"
          ]
        }
      ]
    },
    {
      "cell_type": "markdown",
      "metadata": {
        "id": "KJYqmA8UWPIZ"
      },
      "source": [
        "## Search"
      ]
    },
    {
      "cell_type": "code",
      "metadata": {
        "id": "RcNKIXpcWPIa",
        "colab": {
          "base_uri": "https://localhost:8080/",
          "height": 497
        },
        "outputId": "f3c74d13-3dc2-4ccd-ee6c-a71bd77ca754"
      },
      "source": [
        "#@title Search corpus { display-mode: \"form\" }\n",
        "search_string = \"community museum\" #@param {type:\"string\"}\n",
        "case_sensitive = False #@param {type:\"boolean\"}\n",
        "search_websites = False #@param {type:\"boolean\"}\n",
        "search_website_sentences = True #@param {type:\"boolean\"}\n",
        "search_facebook = False #@param {type:\"boolean\"}\n",
        "search_twitter = True #@param {type:\"boolean\"}\n",
        "max_results =  10#@param {type:\"integer\"}\n",
        "context_window =  5#@param {type:\"integer\"}\n",
        "res_df = run_search(search_string, case_sensitive,\n",
        "           search_facebook, search_twitter, search_websites, \n",
        "           search_website_sentences)\n",
        "results_html, results_page_df = generate_html_matches(res_df, search_string, \n",
        "    case_sensitive, context_window, max_results)\n",
        "display(HTML(results_html))\n",
        "#res_df"
      ],
      "execution_count": 196,
      "outputs": [
        {
          "output_type": "stream",
          "name": "stdout",
          "text": [
            "Website sentences: 58 matches found. Unique museums: 18 - N sessions: 2\n",
            "Social media: 36 matches found. Unique museums: 20\n",
            "search_regex: '(?i)community museum'\n"
          ]
        },
        {
          "output_type": "display_data",
          "data": {
            "text/html": [
              "<style>\n",
              "  table, tr, th, td {\n",
              "    margin: 3px red;\n",
              "    border: solid 1px gray;\n",
              "    font-size: .9em;\n",
              "    border-collapse: collapse;\n",
              "    font-family: sans-serif;\n",
              "    vertical-align: top;\n",
              "    }\n",
              "  .before_col { text-align: right; }\n",
              "  .match_col { font-weight: bold; color: blue; }\n",
              "  strong { background-color: blue; color: white; }\n",
              "  </style><h3>twitter</h3><table><tr><th>res</th><th>museum_id</th><th>before</th><th>match</th><th>after</th><th>msg_time</th></tr><tr><td class=\"\">1</td><td class=\"\">mm.domus.SE603</td><td class=\"before_col\">true! We are a </td><td class=\"match_col\">community museum</td><td class=\"\"> managed and run by</td><td class=\"\">2019-09-17 08:45:56.000000</td></tr><tr><td class=\"\">2</td><td class=\"\">mm.domus.SW140</td><td class=\"before_col\">@meloonameloona Ooh. Pop-up </td><td class=\"match_col\">community museum</td><td class=\"\">.. Mine’s a Guinness #idea</td><td class=\"\">2021-02-22 21:07:29.000000</td></tr><tr><td class=\"\">3</td><td class=\"\">mm.domus.YH106</td><td class=\"before_col\">from @GairlochMuseum. The Ross-Shire </td><td class=\"match_col\">community museum</td><td class=\"\">has taken its own place</td><td class=\"\">2020-10-13 13:10:56.000000</td></tr><tr><td class=\"\">4</td><td class=\"\">mm.domus.SC208</td><td class=\"before_col\">on 'What is a </td><td class=\"match_col\">Community Museum</td><td class=\"\">in your region?' You can</td><td class=\"\">2019-08-20 06:30:00.000000</td></tr><tr><td class=\"\">5</td><td class=\"\">mm.domus.SC208</td><td class=\"before_col\">of @univofstandrews  GCRF </td><td class=\"match_col\">community museum</td><td class=\"\">#kilwakisiwani thanks for inspiration @EULACMuseums</td><td class=\"\">2020-06-15 11:38:12.000000</td></tr><tr><td class=\"\">6</td><td class=\"\">mm.domus.SE051</td><td class=\"before_col\">Mill Green is a </td><td class=\"match_col\">community museum</td><td class=\"\">passionate about representing all our</td><td class=\"\">2020-10-15 16:11:35.000000</td></tr><tr><td class=\"\">7</td><td class=\"\">mm.mgs.303</td><td class=\"before_col\">museums directly, support 3 </td><td class=\"match_col\">community museum</td><td class=\"\">, provide loan collections to</td><td class=\"\">2021-07-16 19:03:08.000000</td></tr><tr><td class=\"\">8</td><td class=\"\">mm.mgs.303</td><td class=\"before_col\">wider museums team &amp; </td><td class=\"match_col\">community museum</td><td class=\"\">partners to support exhibitions and</td><td class=\"\">2020-11-22 15:01:11.000000</td></tr><tr><td class=\"\">9</td><td class=\"\">mm.domus.WM115</td><td class=\"before_col\">together. Without people and </td><td class=\"match_col\">community museum</td><td class=\"\">are just things https://t.co/x9CfgyHr4</td><td class=\"\">2019-11-14 11:45:44.000000</td></tr><tr><td class=\"\">10</td><td class=\"\">mm.domus.SE034</td><td class=\"before_col\">Mill Green is a </td><td class=\"match_col\">community museum</td><td class=\"\">passionate about representing all our</td><td class=\"\">2020-10-15 16:02:54.000000</td></tr></table><h3>website_sentences</h3><table><tr><th>res</th><th>museum_id</th><th>before</th><th>match</th><th>after</th><th>msg_time</th></tr><tr><td class=\"\">1</td><td class=\"\">mm.domus.SE418</td><td class=\"before_col\">World War One Project </td><td class=\"match_col\">Community Museum</td><td class=\"\">at Beccles Librar</td><td class=\"\">2021-04-04 00:00:00</td></tr><tr><td class=\"\">2</td><td class=\"\">mm.ace.1118</td><td class=\"before_col\">also holds the Beverley </td><td class=\"match_col\">Community Museum</td><td class=\"\"></td><td class=\"\">2021-04-04 00:00:00</td></tr><tr><td class=\"\">3</td><td class=\"\">mm.ace.1118</td><td class=\"before_col\">permanent display in the </td><td class=\"match_col\">Community Museum</td><td class=\"\"></td><td class=\"\">2021-04-04 00:00:00</td></tr><tr><td class=\"\">4</td><td class=\"\">mm.ace.1118</td><td class=\"before_col\">In the </td><td class=\"match_col\">community museum</td><td class=\"\"> we hold a computer</td><td class=\"\">2021-04-04 00:00:00</td></tr><tr><td class=\"\">5</td><td class=\"\">mm.domus.SC309</td><td class=\"before_col\">and Heritage Museums Blackridge </td><td class=\"match_col\">Community Museum</td><td class=\"\">Blackridge Community Museu</td><td class=\"\">2021-04-04 00:00:00</td></tr><tr><td class=\"\">6</td><td class=\"\">mm.domus.SC309</td><td class=\"before_col\">social distancing, the Council's </td><td class=\"match_col\">Community Museum</td><td class=\"\"> are closed until further</td><td class=\"\">2021-04-04 00:00:00</td></tr><tr><td class=\"\">7</td><td class=\"\">mm.domus.SC309</td><td class=\"before_col\">Facebook page\n",
              "Blackridge </td><td class=\"match_col\">Community Museum</td><td class=\"\"></td><td class=\"\">2021-04-04 00:00:00</td></tr><tr><td class=\"\">8</td><td class=\"\">mm.mald.014</td><td class=\"before_col\">Twitter Search Blaenavon </td><td class=\"match_col\">Community Museum</td><td class=\"\">Location</td><td class=\"\">2021-04-04 00:00:00</td></tr><tr><td class=\"\">9</td><td class=\"\">mm.mald.014</td><td class=\"before_col\">friendly volunteers, the Blaenavon </td><td class=\"match_col\">Community Museum</td><td class=\"\">celebrates the proud cultural heritage</td><td class=\"\">2021-04-04 00:00:00</td></tr><tr><td class=\"\">10</td><td class=\"\">mm.wiki.402</td><td class=\"before_col\">This </td><td class=\"match_col\">community Museum</td><td class=\"\">has a memorandum of understanding</td><td class=\"\">2021-04-04 00:00:00</td></tr></table>"
            ],
            "text/plain": [
              "<IPython.core.display.HTML object>"
            ]
          },
          "metadata": {}
        }
      ]
    },
    {
      "cell_type": "markdown",
      "metadata": {
        "id": "lcFMk7gOdO3H"
      },
      "source": [
        "# Analyse search results"
      ]
    },
    {
      "cell_type": "code",
      "metadata": {
        "colab": {
          "base_uri": "https://localhost:8080/"
        },
        "id": "vm03nEIedT9j",
        "outputId": "55513f1c-9b2a-4131-a073-14ab4f73cf62"
      },
      "source": [
        "#@title Default title text\n",
        "context_size = 5 #@param {type:\"integer\"}\n",
        "an_results(res_df, search_string, case_sensitive, context_size)"
      ],
      "execution_count": 14,
      "outputs": [
        {
          "output_type": "stream",
          "name": "stdout",
          "text": [
            "N results:  0\n",
            "N museums:  0\n",
            "Platforms:\n",
            " Series([], Name: platform, dtype: int64)\n",
            "before\n",
            "\n",
            "\n",
            "Series([], dtype: int64)\n",
            "after\n",
            "\n",
            "\n",
            "Series([], dtype: int64)\n"
          ]
        }
      ]
    },
    {
      "cell_type": "markdown",
      "metadata": {
        "id": "5f2oaR20o68a"
      },
      "source": [
        "### Download results as Excel"
      ]
    },
    {
      "cell_type": "code",
      "metadata": {
        "colab": {
          "base_uri": "https://localhost:8080/",
          "height": 34
        },
        "id": "GW7uKN3nnLeR",
        "outputId": "dc4d1450-8f49-42d6-ac26-1544b5682baa"
      },
      "source": [
        "fn = 'search_results_{}.xlsx'.format(get_now_string())\n",
        "results_page_df.to_excel(fn, index=False)\n",
        "files.download(fn)"
      ],
      "execution_count": null,
      "outputs": [
        {
          "output_type": "display_data",
          "data": {
            "application/javascript": [
              "\n",
              "    async function download(id, filename, size) {\n",
              "      if (!google.colab.kernel.accessAllowed) {\n",
              "        return;\n",
              "      }\n",
              "      const div = document.createElement('div');\n",
              "      const label = document.createElement('label');\n",
              "      label.textContent = `Downloading \"${filename}\": `;\n",
              "      div.appendChild(label);\n",
              "      const progress = document.createElement('progress');\n",
              "      progress.max = size;\n",
              "      div.appendChild(progress);\n",
              "      document.body.appendChild(div);\n",
              "\n",
              "      const buffers = [];\n",
              "      let downloaded = 0;\n",
              "\n",
              "      const channel = await google.colab.kernel.comms.open(id);\n",
              "      // Send a message to notify the kernel that we're ready.\n",
              "      channel.send({})\n",
              "\n",
              "      for await (const message of channel.messages) {\n",
              "        // Send a message to notify the kernel that we're ready.\n",
              "        channel.send({})\n",
              "        if (message.buffers) {\n",
              "          for (const buffer of message.buffers) {\n",
              "            buffers.push(buffer);\n",
              "            downloaded += buffer.byteLength;\n",
              "            progress.value = downloaded;\n",
              "          }\n",
              "        }\n",
              "      }\n",
              "      const blob = new Blob(buffers, {type: 'application/binary'});\n",
              "      const a = document.createElement('a');\n",
              "      a.href = window.URL.createObjectURL(blob);\n",
              "      a.download = filename;\n",
              "      div.appendChild(a);\n",
              "      a.click();\n",
              "      div.remove();\n",
              "    }\n",
              "  "
            ],
            "text/plain": [
              "<IPython.core.display.Javascript object>"
            ]
          },
          "metadata": {}
        },
        {
          "output_type": "display_data",
          "data": {
            "application/javascript": [
              "download(\"download_778d2a0d-7b04-4760-ae09-15d562906e09\", \"search_results_20211121-182347.xlsx\", 64902)"
            ],
            "text/plain": [
              "<IPython.core.display.Javascript object>"
            ]
          },
          "metadata": {}
        }
      ]
    },
    {
      "cell_type": "markdown",
      "metadata": {
        "id": "QM5pIonivg2C"
      },
      "source": [
        "### Backup application"
      ]
    },
    {
      "cell_type": "code",
      "metadata": {
        "colab": {
          "base_uri": "https://localhost:8080/",
          "height": 17
        },
        "id": "qlczUd9QvkW-",
        "outputId": "3b13c6bb-f8c3-4652-b17b-afac7ab3cd19"
      },
      "source": [
        "files.download('/content/drive/MyDrive/Colab/search_utils.py')\n",
        "#files.download('mip_search_app-v1.ipynb')"
      ],
      "execution_count": 197,
      "outputs": [
        {
          "output_type": "display_data",
          "data": {
            "application/javascript": [
              "\n",
              "    async function download(id, filename, size) {\n",
              "      if (!google.colab.kernel.accessAllowed) {\n",
              "        return;\n",
              "      }\n",
              "      const div = document.createElement('div');\n",
              "      const label = document.createElement('label');\n",
              "      label.textContent = `Downloading \"${filename}\": `;\n",
              "      div.appendChild(label);\n",
              "      const progress = document.createElement('progress');\n",
              "      progress.max = size;\n",
              "      div.appendChild(progress);\n",
              "      document.body.appendChild(div);\n",
              "\n",
              "      const buffers = [];\n",
              "      let downloaded = 0;\n",
              "\n",
              "      const channel = await google.colab.kernel.comms.open(id);\n",
              "      // Send a message to notify the kernel that we're ready.\n",
              "      channel.send({})\n",
              "\n",
              "      for await (const message of channel.messages) {\n",
              "        // Send a message to notify the kernel that we're ready.\n",
              "        channel.send({})\n",
              "        if (message.buffers) {\n",
              "          for (const buffer of message.buffers) {\n",
              "            buffers.push(buffer);\n",
              "            downloaded += buffer.byteLength;\n",
              "            progress.value = downloaded;\n",
              "          }\n",
              "        }\n",
              "      }\n",
              "      const blob = new Blob(buffers, {type: 'application/binary'});\n",
              "      const a = document.createElement('a');\n",
              "      a.href = window.URL.createObjectURL(blob);\n",
              "      a.download = filename;\n",
              "      div.appendChild(a);\n",
              "      a.click();\n",
              "      div.remove();\n",
              "    }\n",
              "  "
            ],
            "text/plain": [
              "<IPython.core.display.Javascript object>"
            ]
          },
          "metadata": {}
        },
        {
          "output_type": "display_data",
          "data": {
            "application/javascript": [
              "download(\"download_7dd0f105-8d83-4f15-9f60-133dbcd3bcc3\", \"search_utils.py\", 9342)"
            ],
            "text/plain": [
              "<IPython.core.display.Javascript object>"
            ]
          },
          "metadata": {}
        }
      ]
    }
  ]
}