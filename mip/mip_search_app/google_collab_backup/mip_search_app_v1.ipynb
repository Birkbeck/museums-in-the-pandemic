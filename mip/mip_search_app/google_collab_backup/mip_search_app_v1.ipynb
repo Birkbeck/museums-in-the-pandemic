{
  "nbformat": 4,
  "nbformat_minor": 0,
  "metadata": {
    "kernelspec": {
      "display_name": "Python 3 (ipykernel)",
      "language": "python",
      "name": "python3"
    },
    "language_info": {
      "codemirror_mode": {
        "name": "ipython",
        "version": 3
      },
      "file_extension": ".py",
      "mimetype": "text/x-python",
      "name": "python",
      "nbconvert_exporter": "python",
      "pygments_lexer": "ipython3",
      "version": "3.8.12"
    },
    "toc-autonumbering": false,
    "toc-showcode": false,
    "toc-showmarkdowntxt": false,
    "toc-showtags": false,
    "colab": {
      "name": "mip_search_app-v1.ipynb",
      "provenance": [],
      "collapsed_sections": []
    }
  },
  "cells": [
    {
      "cell_type": "markdown",
      "metadata": {
        "tags": [],
        "id": "x5wjno2TWPIP"
      },
      "source": [
        "# MIP Search App\n",
        "\n",
        "Search facility for Museums in the Pandemic project. \n",
        "Birkbeck, University of London and King's College London.\n",
        "\n",
        "Author & maintainer: andrea.ballatore [at] kcl.ac.uk"
      ]
    },
    {
      "cell_type": "markdown",
      "metadata": {
        "id": "7i4PjsNWiW9l"
      },
      "source": [
        "## Setup\n",
        "Run this cell only once. It will take a couple of minutes. If the page stops working, reload it and run this cell again."
      ]
    },
    {
      "cell_type": "code",
      "metadata": {
        "colab": {
          "base_uri": "https://localhost:8080/"
        },
        "id": "CJfE_kOGWPIW",
        "outputId": "3cbb285f-4a0d-4a3e-b693-79533aabba5f"
      },
      "source": [
        "print(\"Downloading source code...\")\n",
        "!wget -q https://www.dropbox.com/s/at7z91d2lidordi/search_utils.py?dl=1 -O search_utils.py\n",
        "!wget -q https://www.dropbox.com/s/7jbbewmgdvyh3wa/museums_wattributes-2020-02-23.tsv?dl=1 -O museums_wattributes-2020-02-23.tsv\n",
        "print(\"Downloading DB...\")\n",
        "!wget -q https://www.dropbox.com/s/nnaujcnzdp5y8ua/mip_corpus_search.db.zip?dl=1  -O mip_corpus_search.db.zip\n",
        "!unzip -o mip_corpus_search.db.zip -d /content/\n",
        "%run search_utils.py"
      ],
      "execution_count": null,
      "outputs": [
        {
          "output_type": "stream",
          "name": "stdout",
          "text": [
            "Downloading source code...\n",
            "Downloading DB...\n",
            "Archive:  mip_corpus_search.db.zip\n",
            "  inflating: /content/mip_corpus_search.db  \n",
            "  inflating: /content/__MACOSX/._mip_corpus_search.db  \n",
            "generate_derived_attributes_muse_df\n",
            "ok\n"
          ]
        }
      ]
    },
    {
      "cell_type": "markdown",
      "metadata": {
        "id": "KJYqmA8UWPIZ"
      },
      "source": [
        "## Search\n",
        "\n",
        "Syntax: * means 'any character'"
      ]
    },
    {
      "cell_type": "code",
      "metadata": {
        "id": "RcNKIXpcWPIa",
        "colab": {
          "base_uri": "https://localhost:8080/",
          "height": 1000
        },
        "outputId": "813ef108-acc7-4128-8ea0-11646062ce07"
      },
      "source": [
        "#@title Search corpus { display-mode: \"form\" }\n",
        "%run search_utils.py\n",
        "search_string = \"closure\" #@param {type:\"string\"}\n",
        "case_sensitive = False #@param {type:\"boolean\"}\n",
        "search_websites = False\n",
        "search_website_sentences = True #@param {type:\"boolean\"}\n",
        "search_facebook = True #@param {type:\"boolean\"}\n",
        "search_twitter = True #@param {type:\"boolean\"}\n",
        "max_results =  50#@param {type:\"integer\"}\n",
        "context_window =  10#@param {type:\"integer\"}\n",
        "#beg_time = \"2021-11-24\" #@param {type:\"date\"}\n",
        "res_df = run_search(search_string, case_sensitive,\n",
        "           search_facebook, search_twitter, search_websites, \n",
        "           search_website_sentences)\n",
        "if len(res_df) > 0:\n",
        "  results_html, results_page_df = generate_html_matches(res_df, search_string, \n",
        "    case_sensitive, context_window, max_results)\n",
        "  display(HTML(results_html))\n",
        "#res_df"
      ],
      "execution_count": 95,
      "outputs": [
        {
          "output_type": "stream",
          "name": "stdout",
          "text": [
            "ok\n",
            "WEBSITES: 679 matches found. N sessions: 2. Unique museums: 367\n",
            "FACEBOOK: 6413 matches found. Unique museums: 563\n",
            "TWITTER: 8976 matches found. Unique museums: 714\n",
            "Duplicates removed (from 16068 to 11138)\n",
            "search_regex: '(?i)\\bclosure\\b'\n"
          ]
        },
        {
          "output_type": "display_data",
          "data": {
            "text/html": [
              "<style>\n",
              "    table, tr, th, td {\n",
              "      margin: 3px;\n",
              "      border: solid 1px gray;\n",
              "      font-size: .9em;\n",
              "      border-collapse: collapse;\n",
              "      font-family: sans-serif;\n",
              "      vertical-align: top;\n",
              "    }\n",
              "    .before_col { text-align: right; }\n",
              "    .match_col { font-weight: bold; color: blue; }\n",
              "    strong { background-color: blue; color: white; }\n",
              "    </style><h3>facebook (first 50)</h3><table><tr><th>res</th><th>museum_id</th><th>account</th><th>before</th><th>match</th><th>after</th><th>msg_time</th></tr><tr><td class=\"\">3178</td><td class=\"\">mm.wiki.448</td><td class=\"\">countytimes</td><td class=\"before_col\">The </td><td class=\"match_col\">closure</td><td class=\"\"> was described as temporary when it was announced last</td><td class=\"\">2021-10-20</td></tr><tr><td class=\"\">2668</td><td class=\"\">mm.musa.252</td><td class=\"\">NationalSpaceCentre</td><td class=\"before_col\">doors in 2020 to protect our visitors and staff. </td><td class=\"match_col\">Closure</td><td class=\"\"> of the doors did not stop our goal to</td><td class=\"\">2021-10-18</td></tr><tr><td class=\"\">2494</td><td class=\"\">mm.mgs.321</td><td class=\"\">PortsoySalmonBothy</td><td class=\"before_col\">Please take note of this upcoming road </td><td class=\"match_col\">closure</td><td class=\"\"> which takes effect from 1 November for five days.</td><td class=\"\">2021-10-18</td></tr><tr><td class=\"\">3179</td><td class=\"\">mm.wiki.448</td><td class=\"\">countytimes</td><td class=\"before_col\">The trust cited a worsening staff shortage for the </td><td class=\"match_col\">closure</td><td class=\"\"></td><td class=\"\">2021-10-15</td></tr><tr><td class=\"\">2756</td><td class=\"\">mm.mgs.418</td><td class=\"\">MorayCouncil</td><td class=\"before_col\">⛔️ Marywell Footbridge </td><td class=\"match_col\">closure</td><td class=\"\"> ⛔️ Marywell Footbridge is closed to pedestrians until further</td><td class=\"\">2021-10-15</td></tr><tr><td class=\"\">4268</td><td class=\"\">mm.domus.SW201</td><td class=\"\">Lanhydrock</td><td class=\"before_col\">Update on the Stables tea-rooms </td><td class=\"match_col\">closure</td><td class=\"\">: now also closed on Friday 15 October. Thank you</td><td class=\"\">2021-10-14</td></tr><tr><td class=\"\">4179</td><td class=\"\">mm.domus.SE483</td><td class=\"\">kentpolice</td><td class=\"before_col\">the victim's family and friends with a sense of </td><td class=\"match_col\">closure</td><td class=\"\"> after what must have been a very distressing time</td><td class=\"\">2021-10-14</td></tr><tr><td class=\"\">4180</td><td class=\"\">mm.domus.SE483</td><td class=\"\">kentpolice</td><td class=\"before_col\">and are now in a position to apply for </td><td class=\"match_col\">closure</td><td class=\"\"> orders in connection to some of the businesses.</td><td class=\"\">2021-10-14</td></tr><tr><td class=\"\">2337</td><td class=\"\">mm.fcm.090</td><td class=\"\">edencamp</td><td class=\"before_col\">📣Temporary </td><td class=\"match_col\">Closure</td><td class=\"\"> Notice📣 Due to necessary restoration of our 80year old</td><td class=\"\">2021-10-13</td></tr><tr><td class=\"\">4212</td><td class=\"\">mm.domus.SW237</td><td class=\"\">Killerton</td><td class=\"before_col\">(please see the map showing the closed area). This </td><td class=\"match_col\">closure</td><td class=\"\"> will not affect the lower ‘Cubby Close’ track or</td><td class=\"\">2021-10-13</td></tr><tr><td class=\"\">882</td><td class=\"\">mm.aim.0600</td><td class=\"\">ExperienceWakefield</td><td class=\"before_col\">his wife Bridget Gill showing what comes after the </td><td class=\"match_col\">closure</td><td class=\"\"> of an area's main industry and focal point. The</td><td class=\"\">2021-10-13</td></tr><tr><td class=\"\">3280</td><td class=\"\">mm.aim.0579</td><td class=\"\">manchesterunited</td><td class=\"before_col\">of functional pockets, with a full zip & button </td><td class=\"match_col\">closure</td><td class=\"\">, and branded patches on the chest. A celebration of</td><td class=\"\">2021-10-13</td></tr><tr><td class=\"\">2290</td><td class=\"\">mm.New.141</td><td class=\"\">manchesterunited</td><td class=\"before_col\">of functional pockets, with a full zip & button </td><td class=\"match_col\">closure</td><td class=\"\">, and branded patches on the chest. A celebration of</td><td class=\"\">2021-10-13</td></tr><tr><td class=\"\">3865</td><td class=\"\">mm.domus.YH077</td><td class=\"\">northlincscouncil</td><td class=\"before_col\">⚠️ Car park </td><td class=\"match_col\">closure</td><td class=\"\"> ⚠️ The Allanby Street car park in Scunthorpe has</td><td class=\"\">2021-10-11</td></tr><tr><td class=\"\">2891</td><td class=\"\">mm.domus.WM110</td><td class=\"\">herefordmuseums</td><td class=\"before_col\">Grayson Perry Exhibition </td><td class=\"match_col\">closure</td><td class=\"\"> | The Grayson Perry exhibition has had to temporarily</td><td class=\"\">2021-10-11</td></tr><tr><td class=\"\">627</td><td class=\"\">mm.domus.WM108</td><td class=\"\">herefordmuseums</td><td class=\"before_col\">Grayson Perry Exhibition </td><td class=\"match_col\">closure</td><td class=\"\"> | The Grayson Perry exhibition has had to temporarily</td><td class=\"\">2021-10-11</td></tr><tr><td class=\"\">805</td><td class=\"\">mm.domus.WM108</td><td class=\"\">hfdscouncil</td><td class=\"before_col\">Grayson Perry Exhibition </td><td class=\"match_col\">closure</td><td class=\"\"> | The Grayson Perry exhibition has had to temporarily</td><td class=\"\">2021-10-11</td></tr><tr><td class=\"\">446</td><td class=\"\">mm.domus.SE383</td><td class=\"\">TheCourtauld</td><td class=\"before_col\">November 19 2021, following its biggest transformation project and </td><td class=\"match_col\">closure</td><td class=\"\"> since 2018. Don’t miss out on seeing our world-class</td><td class=\"\">2021-10-11</td></tr><tr><td class=\"\">479</td><td class=\"\">mm.domus.NW052</td><td class=\"\">VisitLiverpool</td><td class=\"before_col\">𝙇𝙪𝙩𝙮𝙚𝙣𝙨 𝘾𝙧𝙮𝙥𝙩 𝙍𝙚𝙖𝙬𝙖𝙠𝙚𝙣𝙨 ✨ Following 18 months of </td><td class=\"match_col\">closure</td><td class=\"\"> The Lutyens Crypt at Liverpool Metropolitan Cathedral has reopened</td><td class=\"\">2021-10-11</td></tr><tr><td class=\"\">1297</td><td class=\"\">mm.domus.NW070</td><td class=\"\">scienceandindustrymuseum</td><td class=\"before_col\">the museum make sure you check your journey here: https://www.manchestermarathon.co.uk/route/road-</td><td class=\"match_col\">closure</td><td class=\"\">-info</td><td class=\"\">2021-10-10</td></tr><tr><td class=\"\">3180</td><td class=\"\">mm.wiki.448</td><td class=\"\">countytimes</td><td class=\"before_col\">Emergency road </td><td class=\"match_col\">closure</td><td class=\"\"> to hit north Powys bus users </td><td class=\"\">2021-10-09</td></tr><tr><td class=\"\">3863</td><td class=\"\">mm.domus.YH077</td><td class=\"\">northlincscouncil</td><td class=\"before_col\">⚠️ Car park </td><td class=\"match_col\">closure</td><td class=\"\"> ⚠️ The Allanby Street car park in Scunthorpe has</td><td class=\"\">2021-10-09</td></tr><tr><td class=\"\">3864</td><td class=\"\">mm.domus.YH077</td><td class=\"\">northlincscouncil</td><td class=\"before_col\">⚠️ Car park </td><td class=\"match_col\">closure</td><td class=\"\"> ⚠️ The Allanby Street car park in Scunthorpe has</td><td class=\"\">2021-10-08</td></tr><tr><td class=\"\">806</td><td class=\"\">mm.domus.WM108</td><td class=\"\">hfdscouncil</td><td class=\"before_col\">Road </td><td class=\"match_col\">Closure</td><td class=\"\"> | A49 near to the Pilgrim Hotel (Callow), Much</td><td class=\"\">2021-10-08</td></tr><tr><td class=\"\">308</td><td class=\"\">mm.domus.SE209</td><td class=\"\">EpsomEwellBC</td><td class=\"before_col\">see update from #SurreyHighways on an emergency 24/7 road </td><td class=\"match_col\">closure</td><td class=\"\"> in place on Kingston Road, #Ewell between J/W London</td><td class=\"\">2021-10-08</td></tr><tr><td class=\"\">3364</td><td class=\"\">mm.domus.SC162</td><td class=\"\">InverclydeCouncil</td><td class=\"before_col\">completed a day early so there will be no </td><td class=\"match_col\">closure</td><td class=\"\"> tonight Traffic Scotland Amey South West Trunk Road</td><td class=\"\">2021-10-08</td></tr><tr><td class=\"\">4244</td><td class=\"\">mm.domus.NE026</td><td class=\"\">laingartgallery</td><td class=\"before_col\">Following temporary </td><td class=\"match_col\">closure</td><td class=\"\"> of Portrait of an Artist this week, we are</td><td class=\"\">2021-10-08</td></tr><tr><td class=\"\">3182</td><td class=\"\">mm.wiki.448</td><td class=\"\">countytimes</td><td class=\"before_col\">warned it is in for \"long fight\" over school </td><td class=\"match_col\">closure</td><td class=\"\"> </td><td class=\"\">2021-10-07</td></tr><tr><td class=\"\">3088</td><td class=\"\">mm.misc.066</td><td class=\"\">TheScottishDailyRecord</td><td class=\"before_col\">\"Give me and my family the </td><td class=\"match_col\">closure</td><td class=\"\"> we need. Tell us where she is.</td><td class=\"\">2021-10-07</td></tr><tr><td class=\"\">2758</td><td class=\"\">mm.mgs.418</td><td class=\"\">MorayCouncil</td><td class=\"before_col\">⛔ Road </td><td class=\"match_col\">closure</td><td class=\"\">: C25E Alves to Roseisle Road (from Burghead Road, Alves</td><td class=\"\">2021-10-07</td></tr><tr><td class=\"\">3183</td><td class=\"\">mm.wiki.448</td><td class=\"\">countytimes</td><td class=\"before_col\">partially collapsed last week resulting in an indefinite road </td><td class=\"match_col\">closure</td><td class=\"\"> ⚠</td><td class=\"\">2021-10-06</td></tr><tr><td class=\"\">3184</td><td class=\"\">mm.wiki.448</td><td class=\"\">countytimes</td><td class=\"before_col\">house sale really save a Powys primary school from </td><td class=\"match_col\">closure</td><td class=\"\">? </td><td class=\"\">2021-10-06</td></tr><tr><td class=\"\">3866</td><td class=\"\">mm.domus.YH077</td><td class=\"\">northlincscouncil</td><td class=\"before_col\">⚠️ Car park </td><td class=\"match_col\">closure</td><td class=\"\"> ⚠️ The Allanby Street car park in Scunthorpe has</td><td class=\"\">2021-10-06</td></tr><tr><td class=\"\">3062</td><td class=\"\">mm.domus.SE393</td><td class=\"\">pittriversmuseum</td><td class=\"before_col\">MUSEUM </td><td class=\"match_col\">CLOSURE</td><td class=\"\">: Please note that the Museum will be closed on</td><td class=\"\">2021-10-06</td></tr><tr><td class=\"\">1366</td><td class=\"\">mm.musa.305</td><td class=\"\">ShakespearesGlobe</td><td class=\"before_col\">After 19 months of </td><td class=\"match_col\">closure</td><td class=\"\">, the doors to our Library & Archive will (fittingly)</td><td class=\"\">2021-10-05</td></tr><tr><td class=\"\">1382</td><td class=\"\">mm.domus.NE029</td><td class=\"\">shipleyartgallery</td><td class=\"before_col\">UPDATE: Following on from our gallery </td><td class=\"match_col\">closure</td><td class=\"\"> today, we will be open as normal tomorrow, 6</td><td class=\"\">2021-10-05</td></tr><tr><td class=\"\">329</td><td class=\"\">mm.ace.1213</td><td class=\"\">Brighton.Toy.Museum</td><td class=\"before_col\">Christmas. We hope you understand, and that our brief </td><td class=\"match_col\">closure</td><td class=\"\"> won't cause too much disappointment</td><td class=\"\">2021-10-02</td></tr><tr><td class=\"\">292</td><td class=\"\">mm.wiki.152</td><td class=\"\">HounslowCouncil</td><td class=\"before_col\">⚠️Space Waye </td><td class=\"match_col\">closure</td><td class=\"\"> notice for Friday 1 October ⚠️ Due to severe</td><td class=\"\">2021-10-01</td></tr><tr><td class=\"\">2312</td><td class=\"\">mm.wiki.123</td><td class=\"\">castlepoint.broughcouncil</td><td class=\"before_col\">Road </td><td class=\"match_col\">closure</td><td class=\"\"> notice: Rectory Road in Hadleigh will be closed on</td><td class=\"\">2021-10-01</td></tr><tr><td class=\"\">518</td><td class=\"\">mm.hha.054</td><td class=\"\">SpottedQuedgeleyKingswayHardwicke</td><td class=\"before_col\">off the road. Police are aware so a road </td><td class=\"match_col\">closure</td><td class=\"\"> may happen</td><td class=\"\">2021-10-01</td></tr><tr><td class=\"\">4181</td><td class=\"\">mm.domus.SE483</td><td class=\"\">kentpolice</td><td class=\"before_col\">Officers from Dartford’s Community Safety Unit applied for the </td><td class=\"match_col\">closure</td><td class=\"\"> order following repeated calls to the house in Hill</td><td class=\"\">2021-10-01</td></tr><tr><td class=\"\">1887</td><td class=\"\">mm.domus.SW128</td><td class=\"\">SalisburyMuseum</td><td class=\"before_col\">Early Room </td><td class=\"match_col\">Closure</td><td class=\"\"> Notice: Please note that the Kings Room and Brixie</td><td class=\"\">2021-09-30</td></tr><tr><td class=\"\">4141</td><td class=\"\">mm.domus.YH021</td><td class=\"\">kelhamislandmuseum</td><td class=\"before_col\">paintings will have been distributed to employees following the </td><td class=\"match_col\">closure</td><td class=\"\"> of the Sheffield works. They are probably in private</td><td class=\"\">2021-09-28</td></tr><tr><td class=\"\">338</td><td class=\"\">mm.domus.SE008</td><td class=\"\">thebritishdentalassociation</td><td class=\"before_col\">Health and Social Care (HSC) reform ahead of the </td><td class=\"match_col\">closure</td><td class=\"\"> of the Health and Social Care Board next March.</td><td class=\"\">2021-09-28</td></tr><tr><td class=\"\">4317</td><td class=\"\">mm.domus.WM082</td><td class=\"\">barberinstitute</td><td class=\"before_col\">together through lockdowns and the periods of the Barber’s </td><td class=\"match_col\">closure</td><td class=\"\">, providing creative and social support for each other. Our</td><td class=\"\">2021-09-27</td></tr><tr><td class=\"\">1888</td><td class=\"\">mm.domus.SW128</td><td class=\"\">SalisburyMuseum</td><td class=\"before_col\">Early Room </td><td class=\"match_col\">Closure</td><td class=\"\"> Notice: Please note that the Kings Room and Brixie</td><td class=\"\">2021-09-27</td></tr><tr><td class=\"\">3482</td><td class=\"\">mm.aim.0167</td><td class=\"\">northyorkmoorsnationalpark</td><td class=\"before_col\">due to an event and the Sutton Bank road </td><td class=\"match_col\">closure</td><td class=\"\">. Sutton Bank Bikes are holding their hugely popular #topoftherock</td><td class=\"\">2021-09-25</td></tr><tr><td class=\"\">1000</td><td class=\"\">mm.musa.230</td><td class=\"\">derbyshirecc</td><td class=\"before_col\">place and if you will be affected by the </td><td class=\"match_col\">closure</td><td class=\"\"> please accept our apologies for any inconvenience</td><td class=\"\">2021-09-24</td></tr><tr><td class=\"\">499</td><td class=\"\">mm.domus.WA030</td><td class=\"\">cynonvalleymuseum</td><td class=\"before_col\">of the museum to reopen after its 15 month </td><td class=\"match_col\">closure</td><td class=\"\"> and their work to plan for the the future</td><td class=\"\">2021-09-24</td></tr><tr><td class=\"\">3403</td><td class=\"\">mm.domus.EM106</td><td class=\"\">derbyshirecc</td><td class=\"before_col\">place and if you will be affected by the </td><td class=\"match_col\">closure</td><td class=\"\"> please accept our apologies for any inconvenience</td><td class=\"\">2021-09-24</td></tr></table><h3>twitter (first 50)</h3><table><tr><th>res</th><th>museum_id</th><th>account</th><th>before</th><th>match</th><th>after</th><th>msg_time</th></tr><tr><td class=\"\">5991</td><td class=\"\">mm.misc.105</td><td class=\"\">yorkshireccc</td><td class=\"before_col\">@JumbledUpJim: @YorkshireCCC Not one penny more until @AzeemRafiq30 gets </td><td class=\"match_col\">closure</td><td class=\"\"></td><td class=\"\">2021-10-14</td></tr><tr><td class=\"\">5992</td><td class=\"\">mm.misc.105</td><td class=\"\">yorkshireccc</td><td class=\"before_col\">@YorkshireCCC Not one penny more until @AzeemRafiq30 gets </td><td class=\"match_col\">closure</td><td class=\"\"></td><td class=\"\">2021-10-14</td></tr><tr><td class=\"\">5828</td><td class=\"\">mm.domus.SE111</td><td class=\"\">lynn_museum</td><td class=\"before_col\">we are closed today between 10am-1pm for a school visit.\n",
              "\n",
              "</td><td class=\"match_col\">Closure</td><td class=\"\"> is to ensure Covid safety for children and staff</td><td class=\"\">2021-10-14</td></tr><tr><td class=\"\">5059</td><td class=\"\">mm.domus.SW237</td><td class=\"\">ntkillerton</td><td class=\"before_col\">Our contractors plan to start working weekends so the </td><td class=\"match_col\">closure</td><td class=\"\"> will remain in place 7 days a week. We're</td><td class=\"\">2021-10-13</td></tr><tr><td class=\"\">5060</td><td class=\"\">mm.domus.SW237</td><td class=\"\">ntkillerton</td><td class=\"before_col\">This </td><td class=\"match_col\">closure</td><td class=\"\"> will not affect the lower ‘Cubby Close’ track or</td><td class=\"\">2021-10-13</td></tr><tr><td class=\"\">2980</td><td class=\"\">mm.musa.386</td><td class=\"\">wincathedral</td><td class=\"before_col\">12:00pm to 4:00pm for a funeral service.\n",
              "\n",
              "Please check the </td><td class=\"match_col\">Closure</td><td class=\"\"> Notices when planning your visit: https://t.co/Ct5uY8bKmC https://t.co/74DG3EMiq</td><td class=\"\">2021-10-12</td></tr><tr><td class=\"\">5829</td><td class=\"\">mm.domus.SE111</td><td class=\"\">lynn_museum</td><td class=\"before_col\">we are closed today between 10am-3.30pm for a school visit.\n",
              "\n",
              "</td><td class=\"match_col\">Closure</td><td class=\"\"> is to ensure Covid safety for children and staff</td><td class=\"\">2021-10-12</td></tr><tr><td class=\"\">3356</td><td class=\"\">mm.domus.SC269</td><td class=\"\">taigh_c</td><td class=\"before_col\">✖️ </td><td class=\"match_col\">CLOSURE</td><td class=\"\"> DAY: THURSDAY ✖️\n",
              "Due to a planned electricity interruption Taigh</td><td class=\"\">2021-10-12</td></tr><tr><td class=\"\">5917</td><td class=\"\">mm.domus.NW085</td><td class=\"\">harrispreston</td><td class=\"before_col\">Harris has changed over the years particularly during its </td><td class=\"match_col\">closure</td><td class=\"\"></td><td class=\"\">2021-10-12</td></tr><tr><td class=\"\">5918</td><td class=\"\">mm.domus.NW085</td><td class=\"\">harrispreston</td><td class=\"before_col\">intend to bring items out of storage during the </td><td class=\"match_col\">closure</td><td class=\"\">, to feature in temporary pop up exhibitions and we</td><td class=\"\">2021-10-12</td></tr><tr><td class=\"\">3587</td><td class=\"\">mm.domus.WA003</td><td class=\"\">monlifeofficial</td><td class=\"before_col\">we supported the intro of a trial 3 weeks </td><td class=\"match_col\">closure</td><td class=\"\"> on Newport Rd as part of active travel focus</td><td class=\"\">2021-10-11</td></tr><tr><td class=\"\">376</td><td class=\"\">mm.domus.SE209</td><td class=\"\">epsomewellbc</td><td class=\"before_col\">see their tweet for updates regarding the emergency road </td><td class=\"match_col\">closure</td><td class=\"\">: https://t.co/ekuYs9fedk or visit their website where you can also</td><td class=\"\">2021-10-11</td></tr><tr><td class=\"\">5830</td><td class=\"\">mm.domus.SE111</td><td class=\"\">lynn_museum</td><td class=\"before_col\">Oct. 10am-3.30pm\n",
              "- Thur. 14th Oct. 10am-1pm\n",
              "- Fri. 15th Oct. 10am-1pm\n",
              "\n",
              "</td><td class=\"match_col\">Closure</td><td class=\"\"> is to ensure Covid safety for children and staff</td><td class=\"\">2021-10-11</td></tr><tr><td class=\"\">614</td><td class=\"\">mm.domus.NW052</td><td class=\"\">visitliverpool</td><td class=\"before_col\">𝙇𝙪𝙩𝙮𝙚𝙣𝙨 𝘾𝙧𝙮𝙥𝙩 𝙍𝙚𝙖𝙬𝙖𝙠𝙚𝙣𝙨 ✨\n",
              "\n",
              "Following 18 months of </td><td class=\"match_col\">closure</td><td class=\"\"> The Lutyens Crypt at @LiverpoolMet has reopened with a</td><td class=\"\">2021-10-11</td></tr><tr><td class=\"\">4444</td><td class=\"\">mm.aim.0600</td><td class=\"\">expwakefield</td><td class=\"before_col\">a series of photos showing what comes after the </td><td class=\"match_col\">closure</td><td class=\"\"> of an area's main industry.\n",
              "Fri-Tue until 23 Oct.\n",
              "https://t.co/zzJ6KRMbpE https://t.co/nT0AxeuLZ</td><td class=\"\">2021-10-10</td></tr><tr><td class=\"\">4250</td><td class=\"\">mm.aim.0393</td><td class=\"\">manchesterfire</td><td class=\"before_col\">of a burst main on Oxford Road, Manchester\n",
              "\n",
              "A road </td><td class=\"match_col\">closure</td><td class=\"\"> is in place at the junction of Oxford Road</td><td class=\"\">2021-10-10</td></tr><tr><td class=\"\">377</td><td class=\"\">mm.domus.SE209</td><td class=\"\">epsomewellbc</td><td class=\"before_col\">you, and this is a major thoroughfare and it’s </td><td class=\"match_col\">closure</td><td class=\"\"> is causing chaos</td><td class=\"\">2021-10-09</td></tr><tr><td class=\"\">2981</td><td class=\"\">mm.musa.386</td><td class=\"\">wincathedral</td><td class=\"before_col\">to watch this service via the Live Stream 💻\n",
              "\n",
              "All </td><td class=\"match_col\">closure</td><td class=\"\"> notices are available on the website: https://t.co/GAKmAQVp2o https://t.co/AifDmCssh</td><td class=\"\">2021-10-08</td></tr><tr><td class=\"\">4065</td><td class=\"\">mm.musa.304</td><td class=\"\">svrofficialsite</td><td class=\"before_col\">Just a reminder to passengers that, despite the road </td><td class=\"match_col\">closure</td><td class=\"\"> between the Ringway and Hoo Road, we are OPEN!</td><td class=\"\">2021-10-08</td></tr><tr><td class=\"\">378</td><td class=\"\">mm.domus.SE209</td><td class=\"\">epsomewellbc</td><td class=\"before_col\">RT @HighwaysSurrey: Emergency 24/7 road </td><td class=\"match_col\">closure</td><td class=\"\"> in place on Kingston Road, #Ewell between J/W London</td><td class=\"\">2021-10-08</td></tr><tr><td class=\"\">5831</td><td class=\"\">mm.domus.SE111</td><td class=\"\">lynn_museum</td><td class=\"before_col\">are closed today between 10am-3pm  for a school visit.\n",
              "\n",
              "</td><td class=\"match_col\">Closure</td><td class=\"\"> is to ensure Covid safety for children and staff</td><td class=\"\">2021-10-08</td></tr><tr><td class=\"\">2130</td><td class=\"\">mm.domus.SE008</td><td class=\"\">TheBDA</td><td class=\"before_col\">and think ‘What if that was me?’ Apologising gives </td><td class=\"match_col\">closure</td><td class=\"\"> 🙏 Consent matters</td><td class=\"\">2021-10-08</td></tr><tr><td class=\"\">2138</td><td class=\"\">mm.domus.SE008</td><td class=\"\">thebda</td><td class=\"before_col\">and think ‘What if that was me?’ Apologising gives </td><td class=\"match_col\">closure</td><td class=\"\"> 🙏 Consent matters</td><td class=\"\">2021-10-08</td></tr><tr><td class=\"\">1098</td><td class=\"\">mm.domus.YH145</td><td class=\"\">railwaymuseum</td><td class=\"before_col\">&amp; Motion' to commemorate the 50th anniversary of the </td><td class=\"match_col\">closure</td><td class=\"\"> of Kirkby-in-Ashfield Loco Shed &amp; Siding in #Nottinghamshire It</td><td class=\"\">2021-10-07</td></tr><tr><td class=\"\">4126</td><td class=\"\">mm.domus.YH077</td><td class=\"\">northlincscnews</td><td class=\"before_col\">⚠️ Car park </td><td class=\"match_col\">closure</td><td class=\"\"> ⚠️\n",
              "Allanby Street car park in Scunthorpe is closed to</td><td class=\"\">2021-10-06</td></tr><tr><td class=\"\">754</td><td class=\"\">mm.domus.SE395</td><td class=\"\">wallingfordmus</td><td class=\"before_col\">RT @Pitt_Rivers: MUSEUM </td><td class=\"match_col\">CLOSURE</td><td class=\"\">: Please note that the Museum will be closed on</td><td class=\"\">2021-10-06</td></tr><tr><td class=\"\">22</td><td class=\"\">mm.domus.SE170</td><td class=\"\">wallingfordmus</td><td class=\"before_col\">RT @Pitt_Rivers: MUSEUM </td><td class=\"match_col\">CLOSURE</td><td class=\"\">: Please note that the Museum will be closed on</td><td class=\"\">2021-10-06</td></tr><tr><td class=\"\">5832</td><td class=\"\">mm.domus.SE111</td><td class=\"\">lynn_museum</td><td class=\"before_col\">visitors for a school visit on Friday 8th October 10am-3pm.\n",
              "\n",
              "</td><td class=\"match_col\">Closure</td><td class=\"\"> is to ensure Covid safety for children and staff</td><td class=\"\">2021-10-06</td></tr><tr><td class=\"\">1754</td><td class=\"\">mm.domus.SC301</td><td class=\"\">trimontiumtrust</td><td class=\"before_col\">RT @Pitt_Rivers: MUSEUM </td><td class=\"match_col\">CLOSURE</td><td class=\"\">: Please note that the Museum will be closed on</td><td class=\"\">2021-10-06</td></tr><tr><td class=\"\">3167</td><td class=\"\">mm.ace.1120</td><td class=\"\">essexpoliceuk</td><td class=\"before_col\">including advice on what to do in a road </td><td class=\"match_col\">closure</td><td class=\"\">:\n",
              "\n",
              "https://t.co/uSSr2x1fNG https://t.co/4stuqw0pb</td><td class=\"\">2021-10-06</td></tr><tr><td class=\"\">4069</td><td class=\"\">mm.musa.305</td><td class=\"\">the_globe</td><td class=\"before_col\">After 19 months of </td><td class=\"match_col\">closure</td><td class=\"\">, the doors to our Library &amp; Archive will (fittingly) reopen once</td><td class=\"\">2021-10-04</td></tr><tr><td class=\"\">3115</td><td class=\"\">mm.mgs.093</td><td class=\"\">uoacollections</td><td class=\"before_col\">grew in size but financial difficulties led to its </td><td class=\"match_col\">closure</td><td class=\"\"> in 1977. These buildings were never built but their</td><td class=\"\">2021-10-04</td></tr><tr><td class=\"\">4945</td><td class=\"\">mm.domus.SE483</td><td class=\"\">kent_police</td><td class=\"before_col\">journey times and 4 miles of congestion following the </td><td class=\"match_col\">closure</td><td class=\"\"> of t</td><td class=\"\">2021-10-04</td></tr><tr><td class=\"\">1830</td><td class=\"\">mm.New.41</td><td class=\"\">belfastcc</td><td class=\"before_col\">Laura, sorry to hear your day was disrupted. Road </td><td class=\"match_col\">closure</td><td class=\"\"> info was posted on our own &amp; @marathonbcm website,</td><td class=\"\">2021-10-04</td></tr><tr><td class=\"\">4409</td><td class=\"\">mm.New.3</td><td class=\"\">ssnomadic</td><td class=\"before_col\">🚢 SS Nomadic Exceptional </td><td class=\"match_col\">Closure</td><td class=\"\"> 🚢\n",
              "\n",
              "Please note that @SSNomadic will be closed on Saturday</td><td class=\"\">2021-10-04</td></tr><tr><td class=\"\">2828</td><td class=\"\">mm.domus.SW074</td><td class=\"\">swindoncouncil</td><td class=\"before_col\">@SwindonCouncil Oh good, yet another road </td><td class=\"match_col\">closure</td><td class=\"\">. How about finishing one lot of horribly delayed roadworks</td><td class=\"\">2021-10-03</td></tr><tr><td class=\"\">1832</td><td class=\"\">mm.New.41</td><td class=\"\">belfastcc</td><td class=\"before_col\">is different this year, so check https://t.co/MrBNOqV1pa for road </td><td class=\"match_col\">closure</td><td class=\"\"> details. All events (except Fun Run) finish in Ormeau</td><td class=\"\">2021-10-03</td></tr><tr><td class=\"\">4593</td><td class=\"\">mm.wiki.123</td><td class=\"\">castlepointbc</td><td class=\"before_col\">Road </td><td class=\"match_col\">closure</td><td class=\"\"> notice: Rectory Road in Hadleigh will be closed on</td><td class=\"\">2021-10-01</td></tr><tr><td class=\"\">3005</td><td class=\"\">mm.domus.SC270</td><td class=\"\">glencoe_museum</td><td class=\"before_col\">Thank you for your patience and understanding about our </td><td class=\"match_col\">closure</td><td class=\"\"> yesterday! We had a very exciting day with Paper</td><td class=\"\">2021-10-01</td></tr><tr><td class=\"\">1607</td><td class=\"\">mm.domus.NW131</td><td class=\"\">coopheritage</td><td class=\"before_col\">Museum </td><td class=\"match_col\">Closure</td><td class=\"\">!\n",
              "\n",
              "The Museum is shut all day today Friday 1st October</td><td class=\"\">2021-10-01</td></tr><tr><td class=\"\">1608</td><td class=\"\">mm.domus.NW131</td><td class=\"\">coopheritage</td><td class=\"before_col\">Museum </td><td class=\"match_col\">Closure</td><td class=\"\">!\n",
              "\n",
              "The Museum is shut all day today Friday 1st October</td><td class=\"\">2021-10-01</td></tr><tr><td class=\"\">1609</td><td class=\"\">mm.domus.NW131</td><td class=\"\">coopheritage</td><td class=\"before_col\">Museum </td><td class=\"match_col\">Closure</td><td class=\"\">!\n",
              "\n",
              "The Museum is shut all day today Friday 1st October</td><td class=\"\">2021-10-01</td></tr><tr><td class=\"\">4907</td><td class=\"\">mm.domus.WA074</td><td class=\"\">cyngorgwynedd</td><td class=\"before_col\">@CyngorGwynedd are a disgrace \n",
              "</td><td class=\"match_col\">Closure</td><td class=\"\"> of school could leave Abersoch 'a ghost town' https://t.co/XOpDu10mM</td><td class=\"\">2021-09-30</td></tr><tr><td class=\"\">4320</td><td class=\"\">mm.domus.SW128</td><td class=\"\">salisburymuseum</td><td class=\"before_col\">Early Room </td><td class=\"match_col\">Closure</td><td class=\"\"> Notice:\n",
              "Please note that the Kings Room and Brixie Jarvis</td><td class=\"\">2021-09-30</td></tr><tr><td class=\"\">1252</td><td class=\"\">mm.domus.SE439</td><td class=\"\">dorchesterox</td><td class=\"before_col\">https://t.co/9YtGNKPPDa -\n",
              " Temporary Road </td><td class=\"match_col\">Closure</td><td class=\"\">, Dorchester on Thames, Queen Street - https://t.co/9YtGNKPPDa https://t.co/1yk01LIS7</td><td class=\"\">2021-09-30</td></tr><tr><td class=\"\">1610</td><td class=\"\">mm.domus.NW131</td><td class=\"\">coopheritage</td><td class=\"before_col\">Museum </td><td class=\"match_col\">Closure</td><td class=\"\">!\n",
              "\n",
              "The Museum is shut all day tomorrow Friday 1st October</td><td class=\"\">2021-09-30</td></tr><tr><td class=\"\">1611</td><td class=\"\">mm.domus.NW131</td><td class=\"\">coopheritage</td><td class=\"before_col\">Museum </td><td class=\"match_col\">Closure</td><td class=\"\">!\n",
              "\n",
              "The Museum is shut all day tomorrow Friday 1st October</td><td class=\"\">2021-09-30</td></tr><tr><td class=\"\">5140</td><td class=\"\">mm.domus.WM035</td><td class=\"\">shropcouncil</td><td class=\"before_col\">@ShropCouncil⁩ </td><td class=\"match_col\">Closure</td><td class=\"\"> of 2/5 #Road  Depots\n",
              "\n",
              "#potholes #tyres #alignment \n",
              "\n",
              "⁦@MPritchardUK⁩ ⁦@Dunne4Ludlow⁩</td><td class=\"\">2021-09-29</td></tr><tr><td class=\"\">2789</td><td class=\"\">mm.aim.0459</td><td class=\"\">huguenotmuseum</td><td class=\"before_col\">I sincerely hope this is only a very temporary </td><td class=\"match_col\">closure</td><td class=\"\"> as we so need museums and their knowledg</td><td class=\"\">2021-09-29</td></tr><tr><td class=\"\">2829</td><td class=\"\">mm.domus.SW074</td><td class=\"\">swindoncouncil</td><td class=\"before_col\">Road and St Mary’s Roundabout, with a temporary road </td><td class=\"match_col\">closure</td><td class=\"\"> in place. Diversion signs will be in place and</td><td class=\"\">2021-09-28</td></tr></table><h3>website_sentences (first 50)</h3><table><tr><th>res</th><th>museum_id</th><th>before</th><th>match</th><th>after</th><th>msg_time</th></tr><tr><td class=\"\">397</td><td class=\"\">mm.wiki.504</td><td class=\"before_col\">Learn More News and Events Museum </td><td class=\"match_col\">Closure</td><td class=\"\"> - July 11, 202</td><td class=\"\">2021-09-14</td></tr><tr><td class=\"\">422</td><td class=\"\">mm.wiki.402</td><td class=\"before_col\">Open Bank Holidays Winter </td><td class=\"match_col\">closure</td><td class=\"\"></td><td class=\"\">2021-09-14</td></tr><tr><td class=\"\">586</td><td class=\"\">mm.wiki.359</td><td class=\"before_col\">Following its </td><td class=\"match_col\">closure</td><td class=\"\"> it was given to Send and Ripley History Society</td><td class=\"\">2021-09-14</td></tr><tr><td class=\"\">537</td><td class=\"\">mm.wiki.285</td><td class=\"before_col\">Featured Support the Mid-Norfolk Railway - Coronavirus </td><td class=\"match_col\">Closure</td><td class=\"\"> Fun</td><td class=\"\">2021-09-14</td></tr><tr><td class=\"\">456</td><td class=\"\">mm.wiki.256</td><td class=\"before_col\">We now anticipate a total </td><td class=\"match_col\">closure</td><td class=\"\"> for the majority of 2020 while work is concluded</td><td class=\"\">2021-09-14</td></tr><tr><td class=\"\">470</td><td class=\"\">mm.wiki.245</td><td class=\"before_col\">During our </td><td class=\"match_col\">closure</td><td class=\"\"> there have been a lot of changes at the</td><td class=\"\">2021-09-14</td></tr><tr><td class=\"\">483</td><td class=\"\">mm.wiki.193</td><td class=\"before_col\">TEMPORARY </td><td class=\"match_col\">CLOSURE</td><td class=\"\"></td><td class=\"\">2021-09-14</td></tr><tr><td class=\"\">502</td><td class=\"\">mm.wiki.191</td><td class=\"before_col\">sense of local pride in the wake of the </td><td class=\"match_col\">closure</td><td class=\"\"> of Horwich Locomotive Works the previous year</td><td class=\"\">2021-09-14</td></tr><tr><td class=\"\">466</td><td class=\"\">mm.wiki.144</td><td class=\"before_col\">Re-opening </td><td class=\"match_col\">Closure</td><td class=\"\"> update Temporary Closure Recent Comments Proudly powered by WordPress</td><td class=\"\">2021-09-14</td></tr><tr><td class=\"\">636</td><td class=\"\">mm.wiki.013</td><td class=\"before_col\">2019–20 Prize-giving Unfortunately, due to the </td><td class=\"match_col\">closure</td><td class=\"\"> of the college during the coronavirus epidemic, it was</td><td class=\"\">2021-09-14</td></tr><tr><td class=\"\">567</td><td class=\"\">mm.wiki.003</td><td class=\"before_col\">With the threat of the </td><td class=\"match_col\">closure</td><td class=\"\"> of RAF Henlow which has now been put back</td><td class=\"\">2021-09-14</td></tr><tr><td class=\"\">543</td><td class=\"\">mm.nimc.038</td><td class=\"before_col\">who worked there from the 1800s to the mill’s </td><td class=\"match_col\">closure</td><td class=\"\"> in 1996</td><td class=\"\">2021-09-14</td></tr><tr><td class=\"\">677</td><td class=\"\">mm.musa.396</td><td class=\"before_col\">The Corona virus outbreak and subsequent </td><td class=\"match_col\">closure</td><td class=\"\"> of Wiltshire Council libraries means that our galleries are</td><td class=\"\">2021-09-14</td></tr><tr><td class=\"\">662</td><td class=\"\">mm.musa.374</td><td class=\"before_col\">After the </td><td class=\"match_col\">closure</td><td class=\"\"> of the base, it was reduced in size and</td><td class=\"\">2021-09-14</td></tr><tr><td class=\"\">649</td><td class=\"\">mm.musa.361</td><td class=\"before_col\">TEMPORARY </td><td class=\"match_col\">CLOSURE</td><td class=\"\"></td><td class=\"\">2021-09-14</td></tr><tr><td class=\"\">593</td><td class=\"\">mm.musa.313</td><td class=\"before_col\">of Sittingbourne Mill”\n",
              "Originally published by M-Real to mark the </td><td class=\"match_col\">closure</td><td class=\"\"> of the paper mill in Sittingbourne, we thought this</td><td class=\"\">2021-09-14</td></tr><tr><td class=\"\">554</td><td class=\"\">mm.musa.263</td><td class=\"before_col\">painting North Bridge Iron Bridge,looking west Swan Revived Railway </td><td class=\"match_col\">closure</td><td class=\"\"> St.Peter & St</td><td class=\"\">2021-09-14</td></tr><tr><td class=\"\">469</td><td class=\"\">mm.musa.120</td><td class=\"before_col\">St Osyth Parish Council Home/News Chairman’s Report OFFICE </td><td class=\"match_col\">CLOSURE</td><td class=\"\"> UPDATES Primary School</td><td class=\"\">2021-09-14</td></tr><tr><td class=\"\">413</td><td class=\"\">mm.musa.039</td><td class=\"before_col\">**** </td><td class=\"match_col\">CLOSURE</td><td class=\"\"> OF VISITOR CENTR</td><td class=\"\">2021-09-14</td></tr><tr><td class=\"\">408</td><td class=\"\">mm.musa.023</td><td class=\"before_col\">Our </td><td class=\"match_col\">closure</td><td class=\"\"> in March co-incided with the period when the various</td><td class=\"\">2021-09-14</td></tr><tr><td class=\"\">527</td><td class=\"\">mm.misc.140</td><td class=\"before_col\">Seasonal </td><td class=\"match_col\">Closure</td><td class=\"\"></td><td class=\"\">2021-09-14</td></tr><tr><td class=\"\">410</td><td class=\"\">mm.misc.137</td><td class=\"before_col\">Uncategorized Coronavirus Museum </td><td class=\"match_col\">Closure</td><td class=\"\"></td><td class=\"\">2021-09-14</td></tr><tr><td class=\"\">411</td><td class=\"\">mm.misc.137</td><td class=\"before_col\">Coronavirus Museum </td><td class=\"match_col\">Closure</td><td class=\"\"></td><td class=\"\">2021-09-14</td></tr><tr><td class=\"\">500</td><td class=\"\">mm.misc.116</td><td class=\"before_col\">is due to the current Covid-19 pandemic and the </td><td class=\"match_col\">closure</td><td class=\"\"> of all cultural public buildings</td><td class=\"\">2021-09-14</td></tr><tr><td class=\"\">399</td><td class=\"\">mm.misc.112</td><td class=\"before_col\">major round of cuts to Britain's\n",
              "railways\n",
              "in 1966 included the </td><td class=\"match_col\">closure</td><td class=\"\"> of this line, and Alford's railway history came to</td><td class=\"\">2021-09-14</td></tr><tr><td class=\"\">585</td><td class=\"\">mm.mgs.313</td><td class=\"before_col\">the efforts to save a local bowling green from </td><td class=\"match_col\">closure</td><td class=\"\">, and memories of swimming at Govanhill Baths back in</td><td class=\"\">2021-09-14</td></tr><tr><td class=\"\">672</td><td class=\"\">mm.mald.160</td><td class=\"before_col\">venue might re-open, but it is likely that the </td><td class=\"match_col\">closure</td><td class=\"\"> will remain effective until the end of June at</td><td class=\"\">2021-09-14</td></tr><tr><td class=\"\">581</td><td class=\"\">mm.mald.135</td><td class=\"before_col\">Ruthin Gaol early </td><td class=\"match_col\">closure</td><td class=\"\"> Due to restoration work starting on our basement cells</td><td class=\"\">2021-09-14</td></tr><tr><td class=\"\">430</td><td class=\"\">mm.mald.028</td><td class=\"before_col\">Recent News Temporary </td><td class=\"match_col\">Closure</td><td class=\"\"> Updat</td><td class=\"\">2021-09-14</td></tr><tr><td class=\"\">414</td><td class=\"\">mm.hha.011</td><td class=\"before_col\">Road </td><td class=\"match_col\">Closure</td><td class=\"\"></td><td class=\"\">2021-09-14</td></tr><tr><td class=\"\">524</td><td class=\"\">mm.fcm.148</td><td class=\"before_col\">motion- exhibition </td><td class=\"match_col\">CLOSURE</td><td class=\"\"></td><td class=\"\">2021-09-14</td></tr><tr><td class=\"\">525</td><td class=\"\">mm.fcm.148</td><td class=\"before_col\">For any tickets booked during our </td><td class=\"match_col\">closure</td><td class=\"\"> period, a full refund will be provided via our</td><td class=\"\">2021-09-14</td></tr><tr><td class=\"\">526</td><td class=\"\">mm.fcm.148</td><td class=\"before_col\">If this </td><td class=\"match_col\">closure</td><td class=\"\"> continues to affect your booking, a member of our</td><td class=\"\">2021-09-14</td></tr><tr><td class=\"\">645</td><td class=\"\">mm.domus.YH148</td><td class=\"before_col\">Permanent </td><td class=\"match_col\">Closure</td><td class=\"\"> of the Stewart Museu</td><td class=\"\">2021-09-14</td></tr><tr><td class=\"\">607</td><td class=\"\">mm.domus.YH138</td><td class=\"before_col\">Spurn Lightship </td><td class=\"match_col\">Closure</td><td class=\"\"> 201</td><td class=\"\">2021-09-14</td></tr><tr><td class=\"\">458</td><td class=\"\">mm.domus.YH053</td><td class=\"before_col\">The temporary </td><td class=\"match_col\">closure</td><td class=\"\"> allows the conservationist to carefully go through all the</td><td class=\"\">2021-09-14</td></tr><tr><td class=\"\">621</td><td class=\"\">mm.domus.YH007</td><td class=\"before_col\">Twitter of Temple Newsam\n",
              "Youtube of Temple Newsam House </td><td class=\"match_col\">closure</td><td class=\"\"> and lift repair</td><td class=\"\">2021-09-14</td></tr><tr><td class=\"\">611</td><td class=\"\">mm.domus.WM104</td><td class=\"before_col\">For further information in the event of site </td><td class=\"match_col\">closure</td><td class=\"\"> telephone 01785 257698</td><td class=\"\">2021-09-14</td></tr><tr><td class=\"\">523</td><td class=\"\">mm.domus.WM072</td><td class=\"before_col\">Our temporary </td><td class=\"match_col\">closure</td><td class=\"\"> will have a serious financial impact</td><td class=\"\">2021-09-14</td></tr><tr><td class=\"\">416</td><td class=\"\">mm.domus.WM063</td><td class=\"before_col\">On Find out about our online events during our </td><td class=\"match_col\">closure</td><td class=\"\"> period</td><td class=\"\">2021-09-14</td></tr><tr><td class=\"\">462</td><td class=\"\">mm.domus.WM055</td><td class=\"before_col\">the Transmitting Station at Wychbold in 1934, to its </td><td class=\"match_col\">closure</td><td class=\"\"> in 1989</td><td class=\"\">2021-09-14</td></tr><tr><td class=\"\">484</td><td class=\"\">mm.domus.WM054</td><td class=\"before_col\">Blog Temporary Museum </td><td class=\"match_col\">Closure</td><td class=\"\"></td><td class=\"\">2021-09-14</td></tr><tr><td class=\"\">437</td><td class=\"\">mm.domus.WM045</td><td class=\"before_col\">news item Reopening The Railway To 2021 12/07/2021\n",
              "Forced into </td><td class=\"match_col\">closure</td><td class=\"\"> by the implementation of Lockdown 2, the railway was</td><td class=\"\">2021-09-14</td></tr><tr><td class=\"\">673</td><td class=\"\">mm.domus.WM027</td><td class=\"before_col\">Christmas </td><td class=\"match_col\">closure</td><td class=\"\"> starts 23 December at 5pm</td><td class=\"\">2021-09-14</td></tr><tr><td class=\"\">644</td><td class=\"\">mm.domus.WM008</td><td class=\"before_col\">A Christmas </td><td class=\"match_col\">Closure</td><td class=\"\"> will take place from December 21st until the first</td><td class=\"\">2021-09-14</td></tr><tr><td class=\"\">591</td><td class=\"\">mm.domus.WM006</td><td class=\"before_col\">Museum re-opened on 17th May after six months’ of </td><td class=\"match_col\">closure</td><td class=\"\">\n",
              "</td><td class=\"\">2021-09-14</td></tr><tr><td class=\"\">602</td><td class=\"\">mm.domus.WA071</td><td class=\"before_col\">Police Heritage Centre Covid Alert </td><td class=\"match_col\">closure</td><td class=\"\"> of Heritage Centre A statement from the Heritage Centre</td><td class=\"\">2021-09-14</td></tr><tr><td class=\"\">522</td><td class=\"\">mm.domus.WA046</td><td class=\"before_col\">have visited our bug hotel Latest News News Temporary </td><td class=\"match_col\">closure</td><td class=\"\"> of Llanyrafon Manor Description</td><td class=\"\">2021-09-14</td></tr><tr><td class=\"\">547</td><td class=\"\">mm.domus.SW245</td><td class=\"before_col\">find out more about accessing the collection during our </td><td class=\"match_col\">closure</td><td class=\"\"> pleas</td><td class=\"\">2021-09-14</td></tr><tr><td class=\"\">614</td><td class=\"\">mm.domus.SW221</td><td class=\"before_col\">We’ve introduced new safety measures including </td><td class=\"match_col\">closure</td><td class=\"\"> of our seating areas, screens at our till and</td><td class=\"\">2021-09-14</td></tr></table>"
            ],
            "text/plain": [
              "<IPython.core.display.HTML object>"
            ]
          },
          "metadata": {}
        },
        {
          "output_type": "display_data",
          "data": {
            "text/plain": [
              "<Figure size 432x288 with 0 Axes>"
            ]
          },
          "metadata": {}
        }
      ]
    },
    {
      "cell_type": "markdown",
      "metadata": {
        "id": "lcFMk7gOdO3H"
      },
      "source": [
        "# Analyse search results\n",
        "\n",
        "Run this cell to get an analysis of the composition of search results generated above in terms of museum attributes (governance, size, etc)."
      ]
    },
    {
      "cell_type": "code",
      "metadata": {
        "colab": {
          "base_uri": "https://localhost:8080/",
          "height": 1000
        },
        "id": "vm03nEIedT9j",
        "outputId": "1f2efd8d-6a1e-4ef1-efed-63601e0e6491"
      },
      "source": [
        "%run search_utils.py\n",
        "#@title Default title text\n",
        "token_context_size =  10#@param {type:\"integer\"}\n",
        "assert len(res_df) > 0\n",
        "res_attr_df = an_results(res_df, search_string, case_sensitive, token_context_size)\n",
        "#res_attr_df"
      ],
      "execution_count": 99,
      "outputs": [
        {
          "output_type": "stream",
          "name": "stdout",
          "text": [
            "ok\n",
            "Search: \"closure\" • N results: 11138 • N unique museums: 1250\n"
          ]
        },
        {
          "output_type": "display_data",
          "data": {
            "text/html": [
              "<div>\n",
              "<style scoped>\n",
              "    .dataframe tbody tr th:only-of-type {\n",
              "        vertical-align: middle;\n",
              "    }\n",
              "\n",
              "    .dataframe tbody tr th {\n",
              "        vertical-align: top;\n",
              "    }\n",
              "\n",
              "    .dataframe thead th {\n",
              "        text-align: right;\n",
              "    }\n",
              "</style>\n",
              "<table border=\"1\" class=\"dataframe\">\n",
              "  <thead>\n",
              "    <tr style=\"text-align: right;\">\n",
              "      <th></th>\n",
              "      <th>platform</th>\n",
              "      <th>n_results</th>\n",
              "      <th>museum_id</th>\n",
              "    </tr>\n",
              "  </thead>\n",
              "  <tbody>\n",
              "    <tr>\n",
              "      <th>0</th>\n",
              "      <td>twitter</td>\n",
              "      <td>6004</td>\n",
              "      <td>714</td>\n",
              "    </tr>\n",
              "    <tr>\n",
              "      <th>1</th>\n",
              "      <td>facebook</td>\n",
              "      <td>4455</td>\n",
              "      <td>563</td>\n",
              "    </tr>\n",
              "    <tr>\n",
              "      <th>2</th>\n",
              "      <td>website_sentences</td>\n",
              "      <td>679</td>\n",
              "      <td>367</td>\n",
              "    </tr>\n",
              "  </tbody>\n",
              "</table>\n",
              "</div>"
            ],
            "text/plain": [
              "            platform  n_results  museum_id\n",
              "0            twitter       6004        714\n",
              "1           facebook       4455        563\n",
              "2  website_sentences        679        367"
            ]
          },
          "metadata": {}
        },
        {
          "output_type": "display_data",
          "data": {
            "image/png": "[encoded data removed]",
            "text/plain": [
              "<Figure size 432x288 with 1 Axes>"
            ]
          },
          "metadata": {
            "needs_background": "light"
          }
        },
        {
          "output_type": "display_data",
          "data": {
            "text/html": [
              "<h3>Tokens before 'closure'</h3>"
            ],
            "text/plain": [
              "<IPython.core.display.HTML object>"
            ]
          },
          "metadata": {}
        },
        {
          "output_type": "stream",
          "name": "stdout",
          "text": [
            "road (1759) museum (804) rt (775) temporary (711) closed (604) us (560) support (491) \n",
            "due (433) please (417) today (409) following (401) new (354) open (335) help (316) \n",
            "one (315) day (285) update (281) ⚠️ (267) work (264) works (248) "
          ]
        },
        {
          "output_type": "display_data",
          "data": {
            "text/html": [
              "<h3>Tokens after 'closure'</h3>"
            ],
            "text/plain": [
              "<IPython.core.display.HTML object>"
            ]
          },
          "metadata": {}
        },
        {
          "output_type": "stream",
          "name": "stdout",
          "text": [
            "road (1601) closed (1239) please (1102) museum (810) place (801) due (696) us (675) \n",
            "open (661) visit (567) time (559) monday (532) traffic (497) closure (497) work (482) \n",
            "access (474) via (460) support (447) new (446) help (412) roundabout (411) \n",
            "\n",
            "Unique museum results: 1644\n"
          ]
        },
        {
          "output_type": "display_data",
          "data": {
            "text/html": [
              "<h3>By governance</h3>"
            ],
            "text/plain": [
              "<IPython.core.display.HTML object>"
            ]
          },
          "metadata": {}
        },
        {
          "output_type": "display_data",
          "data": {
            "text/html": [
              "<div>\n",
              "<style scoped>\n",
              "    .dataframe tbody tr th:only-of-type {\n",
              "        vertical-align: middle;\n",
              "    }\n",
              "\n",
              "    .dataframe tbody tr th {\n",
              "        vertical-align: top;\n",
              "    }\n",
              "\n",
              "    .dataframe thead th {\n",
              "        text-align: right;\n",
              "    }\n",
              "</style>\n",
              "<table border=\"1\" class=\"dataframe\">\n",
              "  <thead>\n",
              "    <tr style=\"text-align: right;\">\n",
              "      <th></th>\n",
              "      <th>attribute_value</th>\n",
              "      <th>n_museums</th>\n",
              "      <th>museum_result_pc</th>\n",
              "      <th>n_tot_museums</th>\n",
              "      <th>museum_attribute_pc</th>\n",
              "    </tr>\n",
              "  </thead>\n",
              "  <tbody>\n",
              "    <tr>\n",
              "      <th>0</th>\n",
              "      <td>Independent:Not for profit</td>\n",
              "      <td>685</td>\n",
              "      <td>41.7</td>\n",
              "      <td>1534</td>\n",
              "      <td>44.7</td>\n",
              "    </tr>\n",
              "    <tr>\n",
              "      <th>1</th>\n",
              "      <td>Government:Local Authority</td>\n",
              "      <td>455</td>\n",
              "      <td>27.7</td>\n",
              "      <td>718</td>\n",
              "      <td>63.4</td>\n",
              "    </tr>\n",
              "    <tr>\n",
              "      <th>2</th>\n",
              "      <td>Independent:National Trust</td>\n",
              "      <td>144</td>\n",
              "      <td>8.8</td>\n",
              "      <td>183</td>\n",
              "      <td>78.7</td>\n",
              "    </tr>\n",
              "    <tr>\n",
              "      <th>3</th>\n",
              "      <td>Independent:Private</td>\n",
              "      <td>113</td>\n",
              "      <td>6.9</td>\n",
              "      <td>472</td>\n",
              "      <td>23.9</td>\n",
              "    </tr>\n",
              "    <tr>\n",
              "      <th>4</th>\n",
              "      <td>University</td>\n",
              "      <td>76</td>\n",
              "      <td>4.6</td>\n",
              "      <td>92</td>\n",
              "      <td>82.6</td>\n",
              "    </tr>\n",
              "    <tr>\n",
              "      <th>5</th>\n",
              "      <td>Government:National</td>\n",
              "      <td>69</td>\n",
              "      <td>4.2</td>\n",
              "      <td>69</td>\n",
              "      <td>100.0</td>\n",
              "    </tr>\n",
              "    <tr>\n",
              "      <th>6</th>\n",
              "      <td>Independent:Unknown</td>\n",
              "      <td>41</td>\n",
              "      <td>2.5</td>\n",
              "      <td>113</td>\n",
              "      <td>36.3</td>\n",
              "    </tr>\n",
              "    <tr>\n",
              "      <th>7</th>\n",
              "      <td>Unknown</td>\n",
              "      <td>21</td>\n",
              "      <td>1.3</td>\n",
              "      <td>55</td>\n",
              "      <td>38.2</td>\n",
              "    </tr>\n",
              "    <tr>\n",
              "      <th>8</th>\n",
              "      <td>Independent:Historic Environment Scotland</td>\n",
              "      <td>18</td>\n",
              "      <td>1.1</td>\n",
              "      <td>19</td>\n",
              "      <td>94.7</td>\n",
              "    </tr>\n",
              "    <tr>\n",
              "      <th>9</th>\n",
              "      <td>Independent:English Heritage</td>\n",
              "      <td>9</td>\n",
              "      <td>0.5</td>\n",
              "      <td>52</td>\n",
              "      <td>17.3</td>\n",
              "    </tr>\n",
              "    <tr>\n",
              "      <th>10</th>\n",
              "      <td>Independent:National Trust for Scotland</td>\n",
              "      <td>6</td>\n",
              "      <td>0.4</td>\n",
              "      <td>26</td>\n",
              "      <td>23.1</td>\n",
              "    </tr>\n",
              "    <tr>\n",
              "      <th>11</th>\n",
              "      <td>Government:Cadw</td>\n",
              "      <td>2</td>\n",
              "      <td>0.1</td>\n",
              "      <td>3</td>\n",
              "      <td>66.7</td>\n",
              "    </tr>\n",
              "    <tr>\n",
              "      <th>12</th>\n",
              "      <td>Government:Other</td>\n",
              "      <td>2</td>\n",
              "      <td>0.1</td>\n",
              "      <td>5</td>\n",
              "      <td>40.0</td>\n",
              "    </tr>\n",
              "  </tbody>\n",
              "</table>\n",
              "</div>"
            ],
            "text/plain": [
              "                              attribute_value  ...  museum_attribute_pc\n",
              "0                  Independent:Not for profit  ...                 44.7\n",
              "1                  Government:Local Authority  ...                 63.4\n",
              "2                  Independent:National Trust  ...                 78.7\n",
              "3                         Independent:Private  ...                 23.9\n",
              "4                                  University  ...                 82.6\n",
              "5                         Government:National  ...                100.0\n",
              "6                         Independent:Unknown  ...                 36.3\n",
              "7                                     Unknown  ...                 38.2\n",
              "8   Independent:Historic Environment Scotland  ...                 94.7\n",
              "9                Independent:English Heritage  ...                 17.3\n",
              "10    Independent:National Trust for Scotland  ...                 23.1\n",
              "11                            Government:Cadw  ...                 66.7\n",
              "12                           Government:Other  ...                 40.0\n",
              "\n",
              "[13 rows x 5 columns]"
            ]
          },
          "metadata": {}
        },
        {
          "output_type": "display_data",
          "data": {
            "image/png": "[encoded data removed]",
            "text/plain": [
              "<Figure size 432x288 with 1 Axes>"
            ]
          },
          "metadata": {
            "needs_background": "light"
          }
        },
        {
          "output_type": "display_data",
          "data": {
            "text/html": [
              "<h3>By region</h3>"
            ],
            "text/plain": [
              "<IPython.core.display.HTML object>"
            ]
          },
          "metadata": {}
        },
        {
          "output_type": "display_data",
          "data": {
            "text/html": [
              "<div>\n",
              "<style scoped>\n",
              "    .dataframe tbody tr th:only-of-type {\n",
              "        vertical-align: middle;\n",
              "    }\n",
              "\n",
              "    .dataframe tbody tr th {\n",
              "        vertical-align: top;\n",
              "    }\n",
              "\n",
              "    .dataframe thead th {\n",
              "        text-align: right;\n",
              "    }\n",
              "</style>\n",
              "<table border=\"1\" class=\"dataframe\">\n",
              "  <thead>\n",
              "    <tr style=\"text-align: right;\">\n",
              "      <th></th>\n",
              "      <th>attribute_value</th>\n",
              "      <th>n_museums</th>\n",
              "      <th>museum_result_pc</th>\n",
              "      <th>n_tot_museums</th>\n",
              "      <th>museum_attribute_pc</th>\n",
              "    </tr>\n",
              "  </thead>\n",
              "  <tbody>\n",
              "    <tr>\n",
              "      <th>13</th>\n",
              "      <td>South East</td>\n",
              "      <td>232</td>\n",
              "      <td>14.1</td>\n",
              "      <td>476</td>\n",
              "      <td>48.7</td>\n",
              "    </tr>\n",
              "    <tr>\n",
              "      <th>14</th>\n",
              "      <td>Scotland</td>\n",
              "      <td>186</td>\n",
              "      <td>11.3</td>\n",
              "      <td>494</td>\n",
              "      <td>37.7</td>\n",
              "    </tr>\n",
              "    <tr>\n",
              "      <th>15</th>\n",
              "      <td>South West</td>\n",
              "      <td>180</td>\n",
              "      <td>10.9</td>\n",
              "      <td>422</td>\n",
              "      <td>42.7</td>\n",
              "    </tr>\n",
              "    <tr>\n",
              "      <th>16</th>\n",
              "      <td>London</td>\n",
              "      <td>170</td>\n",
              "      <td>10.3</td>\n",
              "      <td>238</td>\n",
              "      <td>71.4</td>\n",
              "    </tr>\n",
              "    <tr>\n",
              "      <th>17</th>\n",
              "      <td>East of England</td>\n",
              "      <td>163</td>\n",
              "      <td>9.9</td>\n",
              "      <td>333</td>\n",
              "      <td>48.9</td>\n",
              "    </tr>\n",
              "    <tr>\n",
              "      <th>18</th>\n",
              "      <td>North West</td>\n",
              "      <td>139</td>\n",
              "      <td>8.5</td>\n",
              "      <td>247</td>\n",
              "      <td>56.3</td>\n",
              "    </tr>\n",
              "    <tr>\n",
              "      <th>19</th>\n",
              "      <td>Yorkshire and The Humber</td>\n",
              "      <td>133</td>\n",
              "      <td>8.1</td>\n",
              "      <td>229</td>\n",
              "      <td>58.1</td>\n",
              "    </tr>\n",
              "    <tr>\n",
              "      <th>20</th>\n",
              "      <td>West Midlands</td>\n",
              "      <td>119</td>\n",
              "      <td>7.2</td>\n",
              "      <td>228</td>\n",
              "      <td>52.2</td>\n",
              "    </tr>\n",
              "    <tr>\n",
              "      <th>21</th>\n",
              "      <td>East Midlands</td>\n",
              "      <td>102</td>\n",
              "      <td>6.2</td>\n",
              "      <td>229</td>\n",
              "      <td>44.5</td>\n",
              "    </tr>\n",
              "    <tr>\n",
              "      <th>22</th>\n",
              "      <td>Wales</td>\n",
              "      <td>89</td>\n",
              "      <td>5.4</td>\n",
              "      <td>207</td>\n",
              "      <td>43.0</td>\n",
              "    </tr>\n",
              "    <tr>\n",
              "      <th>23</th>\n",
              "      <td>North East</td>\n",
              "      <td>67</td>\n",
              "      <td>4.1</td>\n",
              "      <td>105</td>\n",
              "      <td>63.8</td>\n",
              "    </tr>\n",
              "    <tr>\n",
              "      <th>24</th>\n",
              "      <td>Northern Ireland</td>\n",
              "      <td>58</td>\n",
              "      <td>3.5</td>\n",
              "      <td>94</td>\n",
              "      <td>61.7</td>\n",
              "    </tr>\n",
              "    <tr>\n",
              "      <th>25</th>\n",
              "      <td>Isle of Man</td>\n",
              "      <td>3</td>\n",
              "      <td>0.2</td>\n",
              "      <td>15</td>\n",
              "      <td>20.0</td>\n",
              "    </tr>\n",
              "  </tbody>\n",
              "</table>\n",
              "</div>"
            ],
            "text/plain": [
              "              attribute_value  n_museums  ...  n_tot_museums  museum_attribute_pc\n",
              "13                South East         232  ...            476                 48.7\n",
              "14                   Scotland        186  ...            494                 37.7\n",
              "15                South West         180  ...            422                 42.7\n",
              "16                    London         170  ...            238                 71.4\n",
              "17           East of England         163  ...            333                 48.9\n",
              "18                North West         139  ...            247                 56.3\n",
              "19  Yorkshire and The Humber         133  ...            229                 58.1\n",
              "20             West Midlands         119  ...            228                 52.2\n",
              "21             East Midlands         102  ...            229                 44.5\n",
              "22                      Wales         89  ...            207                 43.0\n",
              "23                North East          67  ...            105                 63.8\n",
              "24           Northern Ireland         58  ...             94                 61.7\n",
              "25                Isle of Man          3  ...             15                 20.0\n",
              "\n",
              "[13 rows x 5 columns]"
            ]
          },
          "metadata": {}
        },
        {
          "output_type": "display_data",
          "data": {
            "image/png": "[encoded data removed]",
            "text/plain": [
              "<Figure size 432x288 with 1 Axes>"
            ]
          },
          "metadata": {
            "needs_background": "light"
          }
        },
        {
          "output_type": "display_data",
          "data": {
            "text/html": [
              "<h3>By size</h3>"
            ],
            "text/plain": [
              "<IPython.core.display.HTML object>"
            ]
          },
          "metadata": {}
        },
        {
          "output_type": "display_data",
          "data": {
            "text/html": [
              "<div>\n",
              "<style scoped>\n",
              "    .dataframe tbody tr th:only-of-type {\n",
              "        vertical-align: middle;\n",
              "    }\n",
              "\n",
              "    .dataframe tbody tr th {\n",
              "        vertical-align: top;\n",
              "    }\n",
              "\n",
              "    .dataframe thead th {\n",
              "        text-align: right;\n",
              "    }\n",
              "</style>\n",
              "<table border=\"1\" class=\"dataframe\">\n",
              "  <thead>\n",
              "    <tr style=\"text-align: right;\">\n",
              "      <th></th>\n",
              "      <th>attribute_value</th>\n",
              "      <th>n_museums</th>\n",
              "      <th>museum_result_pc</th>\n",
              "      <th>n_tot_museums</th>\n",
              "      <th>museum_attribute_pc</th>\n",
              "    </tr>\n",
              "  </thead>\n",
              "  <tbody>\n",
              "    <tr>\n",
              "      <th>26</th>\n",
              "      <td>small</td>\n",
              "      <td>611</td>\n",
              "      <td>37.2</td>\n",
              "      <td>1825</td>\n",
              "      <td>33.5</td>\n",
              "    </tr>\n",
              "    <tr>\n",
              "      <th>27</th>\n",
              "      <td>medium</td>\n",
              "      <td>487</td>\n",
              "      <td>29.6</td>\n",
              "      <td>865</td>\n",
              "      <td>56.3</td>\n",
              "    </tr>\n",
              "    <tr>\n",
              "      <th>28</th>\n",
              "      <td>large</td>\n",
              "      <td>473</td>\n",
              "      <td>28.8</td>\n",
              "      <td>498</td>\n",
              "      <td>95.0</td>\n",
              "    </tr>\n",
              "    <tr>\n",
              "      <th>29</th>\n",
              "      <td>unknown</td>\n",
              "      <td>54</td>\n",
              "      <td>3.3</td>\n",
              "      <td>141</td>\n",
              "      <td>38.3</td>\n",
              "    </tr>\n",
              "    <tr>\n",
              "      <th>30</th>\n",
              "      <td>huge</td>\n",
              "      <td>16</td>\n",
              "      <td>1.0</td>\n",
              "      <td>12</td>\n",
              "      <td>133.3</td>\n",
              "    </tr>\n",
              "  </tbody>\n",
              "</table>\n",
              "</div>"
            ],
            "text/plain": [
              "   attribute_value  n_museums  ...  n_tot_museums  museum_attribute_pc\n",
              "26           small        611  ...           1825                 33.5\n",
              "27          medium        487  ...            865                 56.3\n",
              "28           large        473  ...            498                 95.0\n",
              "29         unknown         54  ...            141                 38.3\n",
              "30            huge         16  ...             12                133.3\n",
              "\n",
              "[5 rows x 5 columns]"
            ]
          },
          "metadata": {}
        },
        {
          "output_type": "display_data",
          "data": {
            "image/png": "[encoded data removed]",
            "text/plain": [
              "<Figure size 432x288 with 1 Axes>"
            ]
          },
          "metadata": {
            "needs_background": "light"
          }
        },
        {
          "output_type": "display_data",
          "data": {
            "text/html": [
              "<h3>By subject_matter_simpl</h3>"
            ],
            "text/plain": [
              "<IPython.core.display.HTML object>"
            ]
          },
          "metadata": {}
        },
        {
          "output_type": "display_data",
          "data": {
            "text/html": [
              "<div>\n",
              "<style scoped>\n",
              "    .dataframe tbody tr th:only-of-type {\n",
              "        vertical-align: middle;\n",
              "    }\n",
              "\n",
              "    .dataframe tbody tr th {\n",
              "        vertical-align: top;\n",
              "    }\n",
              "\n",
              "    .dataframe thead th {\n",
              "        text-align: right;\n",
              "    }\n",
              "</style>\n",
              "<table border=\"1\" class=\"dataframe\">\n",
              "  <thead>\n",
              "    <tr style=\"text-align: right;\">\n",
              "      <th></th>\n",
              "      <th>attribute_value</th>\n",
              "      <th>n_museums</th>\n",
              "      <th>museum_result_pc</th>\n",
              "      <th>n_tot_museums</th>\n",
              "      <th>museum_attribute_pc</th>\n",
              "    </tr>\n",
              "  </thead>\n",
              "  <tbody>\n",
              "    <tr>\n",
              "      <th>31</th>\n",
              "      <td>Local Histories</td>\n",
              "      <td>321</td>\n",
              "      <td>19.5</td>\n",
              "      <td>764</td>\n",
              "      <td>42.0</td>\n",
              "    </tr>\n",
              "    <tr>\n",
              "      <th>32</th>\n",
              "      <td>Buildings</td>\n",
              "      <td>270</td>\n",
              "      <td>16.4</td>\n",
              "      <td>553</td>\n",
              "      <td>48.8</td>\n",
              "    </tr>\n",
              "    <tr>\n",
              "      <th>33</th>\n",
              "      <td>Arts</td>\n",
              "      <td>174</td>\n",
              "      <td>10.6</td>\n",
              "      <td>247</td>\n",
              "      <td>70.4</td>\n",
              "    </tr>\n",
              "    <tr>\n",
              "      <th>34</th>\n",
              "      <td>Mixed</td>\n",
              "      <td>150</td>\n",
              "      <td>9.1</td>\n",
              "      <td>166</td>\n",
              "      <td>90.4</td>\n",
              "    </tr>\n",
              "    <tr>\n",
              "      <th>35</th>\n",
              "      <td>Transport</td>\n",
              "      <td>121</td>\n",
              "      <td>7.4</td>\n",
              "      <td>224</td>\n",
              "      <td>54.0</td>\n",
              "    </tr>\n",
              "    <tr>\n",
              "      <th>36</th>\n",
              "      <td>War and conflict</td>\n",
              "      <td>122</td>\n",
              "      <td>7.4</td>\n",
              "      <td>333</td>\n",
              "      <td>36.6</td>\n",
              "    </tr>\n",
              "    <tr>\n",
              "      <th>37</th>\n",
              "      <td>Industry and manufacture</td>\n",
              "      <td>80</td>\n",
              "      <td>4.9</td>\n",
              "      <td>151</td>\n",
              "      <td>53.0</td>\n",
              "    </tr>\n",
              "    <tr>\n",
              "      <th>38</th>\n",
              "      <td>Personality</td>\n",
              "      <td>75</td>\n",
              "      <td>4.6</td>\n",
              "      <td>176</td>\n",
              "      <td>42.6</td>\n",
              "    </tr>\n",
              "    <tr>\n",
              "      <th>39</th>\n",
              "      <td>Archaeology</td>\n",
              "      <td>52</td>\n",
              "      <td>3.2</td>\n",
              "      <td>91</td>\n",
              "      <td>57.1</td>\n",
              "    </tr>\n",
              "    <tr>\n",
              "      <th>40</th>\n",
              "      <td>Sea and seafaring</td>\n",
              "      <td>48</td>\n",
              "      <td>2.9</td>\n",
              "      <td>102</td>\n",
              "      <td>47.1</td>\n",
              "    </tr>\n",
              "    <tr>\n",
              "      <th>41</th>\n",
              "      <td>Belief and identity</td>\n",
              "      <td>40</td>\n",
              "      <td>2.4</td>\n",
              "      <td>96</td>\n",
              "      <td>41.7</td>\n",
              "    </tr>\n",
              "    <tr>\n",
              "      <th>42</th>\n",
              "      <td>Leisure and sport</td>\n",
              "      <td>37</td>\n",
              "      <td>2.3</td>\n",
              "      <td>87</td>\n",
              "      <td>42.5</td>\n",
              "    </tr>\n",
              "    <tr>\n",
              "      <th>43</th>\n",
              "      <td>Natural world</td>\n",
              "      <td>24</td>\n",
              "      <td>1.5</td>\n",
              "      <td>47</td>\n",
              "      <td>51.1</td>\n",
              "    </tr>\n",
              "    <tr>\n",
              "      <th>44</th>\n",
              "      <td>Services</td>\n",
              "      <td>25</td>\n",
              "      <td>1.5</td>\n",
              "      <td>34</td>\n",
              "      <td>73.5</td>\n",
              "    </tr>\n",
              "    <tr>\n",
              "      <th>45</th>\n",
              "      <td>Other</td>\n",
              "      <td>23</td>\n",
              "      <td>1.4</td>\n",
              "      <td>43</td>\n",
              "      <td>53.5</td>\n",
              "    </tr>\n",
              "    <tr>\n",
              "      <th>46</th>\n",
              "      <td>Rural Industry</td>\n",
              "      <td>23</td>\n",
              "      <td>1.4</td>\n",
              "      <td>111</td>\n",
              "      <td>20.7</td>\n",
              "    </tr>\n",
              "    <tr>\n",
              "      <th>47</th>\n",
              "      <td>Science and technology</td>\n",
              "      <td>20</td>\n",
              "      <td>1.2</td>\n",
              "      <td>21</td>\n",
              "      <td>95.2</td>\n",
              "    </tr>\n",
              "    <tr>\n",
              "      <th>48</th>\n",
              "      <td>Medicine and health</td>\n",
              "      <td>17</td>\n",
              "      <td>1.0</td>\n",
              "      <td>34</td>\n",
              "      <td>50.0</td>\n",
              "    </tr>\n",
              "    <tr>\n",
              "      <th>49</th>\n",
              "      <td>Utilities</td>\n",
              "      <td>9</td>\n",
              "      <td>0.5</td>\n",
              "      <td>33</td>\n",
              "      <td>27.3</td>\n",
              "    </tr>\n",
              "    <tr>\n",
              "      <th>50</th>\n",
              "      <td>Communications</td>\n",
              "      <td>7</td>\n",
              "      <td>0.4</td>\n",
              "      <td>13</td>\n",
              "      <td>53.8</td>\n",
              "    </tr>\n",
              "    <tr>\n",
              "      <th>51</th>\n",
              "      <td>Food and drink</td>\n",
              "      <td>3</td>\n",
              "      <td>0.2</td>\n",
              "      <td>15</td>\n",
              "      <td>20.0</td>\n",
              "    </tr>\n",
              "  </tbody>\n",
              "</table>\n",
              "</div>"
            ],
            "text/plain": [
              "             attribute_value  n_museums  ...  n_tot_museums  museum_attribute_pc\n",
              "31           Local Histories        321  ...            764                 42.0\n",
              "32                 Buildings        270  ...            553                 48.8\n",
              "33                      Arts        174  ...            247                 70.4\n",
              "34                     Mixed        150  ...            166                 90.4\n",
              "35                 Transport        121  ...            224                 54.0\n",
              "36          War and conflict        122  ...            333                 36.6\n",
              "37  Industry and manufacture         80  ...            151                 53.0\n",
              "38               Personality         75  ...            176                 42.6\n",
              "39               Archaeology         52  ...             91                 57.1\n",
              "40         Sea and seafaring         48  ...            102                 47.1\n",
              "41       Belief and identity         40  ...             96                 41.7\n",
              "42         Leisure and sport         37  ...             87                 42.5\n",
              "43             Natural world         24  ...             47                 51.1\n",
              "44                  Services         25  ...             34                 73.5\n",
              "45                     Other         23  ...             43                 53.5\n",
              "46            Rural Industry         23  ...            111                 20.7\n",
              "47    Science and technology         20  ...             21                 95.2\n",
              "48       Medicine and health         17  ...             34                 50.0\n",
              "49                 Utilities          9  ...             33                 27.3\n",
              "50            Communications          7  ...             13                 53.8\n",
              "51            Food and drink          3  ...             15                 20.0\n",
              "\n",
              "[21 rows x 5 columns]"
            ]
          },
          "metadata": {}
        },
        {
          "output_type": "display_data",
          "data": {
            "image/png": "[encoded data removed]",
            "text/plain": [
              "<Figure size 432x288 with 1 Axes>"
            ]
          },
          "metadata": {
            "needs_background": "light"
          }
        }
      ]
    },
    {
      "cell_type": "markdown",
      "metadata": {
        "id": "5f2oaR20o68a"
      },
      "source": [
        "### Download results as Excel"
      ]
    },
    {
      "cell_type": "code",
      "metadata": {
        "colab": {
          "base_uri": "https://localhost:8080/",
          "height": 17
        },
        "id": "GW7uKN3nnLeR",
        "outputId": "6047ee95-1531-44b6-f2d1-ae17de027bad"
      },
      "source": [
        "# click here to download the complete search results\n",
        "fn = 'search_results_{}.xlsx'.format(get_now_string())\n",
        "df = results_page_df.copy()\n",
        "df['search'] = search_string\n",
        "df.to_excel(fn, index=False)\n",
        "files.download(fn)"
      ],
      "execution_count": 56,
      "outputs": [
        {
          "output_type": "display_data",
          "data": {
            "application/javascript": [
              "\n",
              "    async function download(id, filename, size) {\n",
              "      if (!google.colab.kernel.accessAllowed) {\n",
              "        return;\n",
              "      }\n",
              "      const div = document.createElement('div');\n",
              "      const label = document.createElement('label');\n",
              "      label.textContent = `Downloading \"${filename}\": `;\n",
              "      div.appendChild(label);\n",
              "      const progress = document.createElement('progress');\n",
              "      progress.max = size;\n",
              "      div.appendChild(progress);\n",
              "      document.body.appendChild(div);\n",
              "\n",
              "      const buffers = [];\n",
              "      let downloaded = 0;\n",
              "\n",
              "      const channel = await google.colab.kernel.comms.open(id);\n",
              "      // Send a message to notify the kernel that we're ready.\n",
              "      channel.send({})\n",
              "\n",
              "      for await (const message of channel.messages) {\n",
              "        // Send a message to notify the kernel that we're ready.\n",
              "        channel.send({})\n",
              "        if (message.buffers) {\n",
              "          for (const buffer of message.buffers) {\n",
              "            buffers.push(buffer);\n",
              "            downloaded += buffer.byteLength;\n",
              "            progress.value = downloaded;\n",
              "          }\n",
              "        }\n",
              "      }\n",
              "      const blob = new Blob(buffers, {type: 'application/binary'});\n",
              "      const a = document.createElement('a');\n",
              "      a.href = window.URL.createObjectURL(blob);\n",
              "      a.download = filename;\n",
              "      div.appendChild(a);\n",
              "      a.click();\n",
              "      div.remove();\n",
              "    }\n",
              "  "
            ],
            "text/plain": [
              "<IPython.core.display.Javascript object>"
            ]
          },
          "metadata": {}
        },
        {
          "output_type": "display_data",
          "data": {
            "application/javascript": [
              "download(\"download_bff8890e-feae-4b68-b22d-be2a4a8f52d4\", \"search_results_20211124-185016.xlsx\", 612296)"
            ],
            "text/plain": [
              "<IPython.core.display.Javascript object>"
            ]
          },
          "metadata": {}
        }
      ]
    },
    {
      "cell_type": "code",
      "metadata": {
        "colab": {
          "base_uri": "https://localhost:8080/",
          "height": 17
        },
        "id": "RU_o0DCe0mWF",
        "outputId": "a6289ab1-7dbe-4548-8192-a37fe5f031bf"
      },
      "source": [
        "# click here to download the attribute analysis of results\n",
        "fn = 'search_results_attributes_{}.xlsx'.format(get_now_string())\n",
        "df = res_attr_df.copy()\n",
        "df['search'] = search_string\n",
        "df.to_excel(fn, index=False)\n",
        "files.download(fn)"
      ],
      "execution_count": null,
      "outputs": [
        {
          "output_type": "display_data",
          "data": {
            "application/javascript": [
              "\n",
              "    async function download(id, filename, size) {\n",
              "      if (!google.colab.kernel.accessAllowed) {\n",
              "        return;\n",
              "      }\n",
              "      const div = document.createElement('div');\n",
              "      const label = document.createElement('label');\n",
              "      label.textContent = `Downloading \"${filename}\": `;\n",
              "      div.appendChild(label);\n",
              "      const progress = document.createElement('progress');\n",
              "      progress.max = size;\n",
              "      div.appendChild(progress);\n",
              "      document.body.appendChild(div);\n",
              "\n",
              "      const buffers = [];\n",
              "      let downloaded = 0;\n",
              "\n",
              "      const channel = await google.colab.kernel.comms.open(id);\n",
              "      // Send a message to notify the kernel that we're ready.\n",
              "      channel.send({})\n",
              "\n",
              "      for await (const message of channel.messages) {\n",
              "        // Send a message to notify the kernel that we're ready.\n",
              "        channel.send({})\n",
              "        if (message.buffers) {\n",
              "          for (const buffer of message.buffers) {\n",
              "            buffers.push(buffer);\n",
              "            downloaded += buffer.byteLength;\n",
              "            progress.value = downloaded;\n",
              "          }\n",
              "        }\n",
              "      }\n",
              "      const blob = new Blob(buffers, {type: 'application/binary'});\n",
              "      const a = document.createElement('a');\n",
              "      a.href = window.URL.createObjectURL(blob);\n",
              "      a.download = filename;\n",
              "      div.appendChild(a);\n",
              "      a.click();\n",
              "      div.remove();\n",
              "    }\n",
              "  "
            ],
            "text/plain": [
              "<IPython.core.display.Javascript object>"
            ]
          },
          "metadata": {}
        },
        {
          "output_type": "display_data",
          "data": {
            "application/javascript": [
              "download(\"download_c290cd80-1ce9-460a-8144-e4e3187a16ee\", \"search_results_attributes_20211124-100329.xlsx\", 7193)"
            ],
            "text/plain": [
              "<IPython.core.display.Javascript object>"
            ]
          },
          "metadata": {}
        }
      ]
    },
    {
      "cell_type": "markdown",
      "metadata": {
        "id": "QM5pIonivg2C"
      },
      "source": [
        "### Backup application\n",
        "\n",
        "This is for the platform's developer."
      ]
    },
    {
      "cell_type": "code",
      "metadata": {
        "colab": {
          "base_uri": "https://localhost:8080/",
          "height": 17
        },
        "id": "qlczUd9QvkW-",
        "outputId": "7082be6d-d99e-4a8d-ca43-720f79d90705"
      },
      "source": [
        "files.download('search_utils.py')"
      ],
      "execution_count": 98,
      "outputs": [
        {
          "output_type": "display_data",
          "data": {
            "application/javascript": [
              "\n",
              "    async function download(id, filename, size) {\n",
              "      if (!google.colab.kernel.accessAllowed) {\n",
              "        return;\n",
              "      }\n",
              "      const div = document.createElement('div');\n",
              "      const label = document.createElement('label');\n",
              "      label.textContent = `Downloading \"${filename}\": `;\n",
              "      div.appendChild(label);\n",
              "      const progress = document.createElement('progress');\n",
              "      progress.max = size;\n",
              "      div.appendChild(progress);\n",
              "      document.body.appendChild(div);\n",
              "\n",
              "      const buffers = [];\n",
              "      let downloaded = 0;\n",
              "\n",
              "      const channel = await google.colab.kernel.comms.open(id);\n",
              "      // Send a message to notify the kernel that we're ready.\n",
              "      channel.send({})\n",
              "\n",
              "      for await (const message of channel.messages) {\n",
              "        // Send a message to notify the kernel that we're ready.\n",
              "        channel.send({})\n",
              "        if (message.buffers) {\n",
              "          for (const buffer of message.buffers) {\n",
              "            buffers.push(buffer);\n",
              "            downloaded += buffer.byteLength;\n",
              "            progress.value = downloaded;\n",
              "          }\n",
              "        }\n",
              "      }\n",
              "      const blob = new Blob(buffers, {type: 'application/binary'});\n",
              "      const a = document.createElement('a');\n",
              "      a.href = window.URL.createObjectURL(blob);\n",
              "      a.download = filename;\n",
              "      div.appendChild(a);\n",
              "      a.click();\n",
              "      div.remove();\n",
              "    }\n",
              "  "
            ],
            "text/plain": [
              "<IPython.core.display.Javascript object>"
            ]
          },
          "metadata": {}
        },
        {
          "output_type": "display_data",
          "data": {
            "application/javascript": [
              "download(\"download_045be82c-059f-4ede-9d2e-6671bad3bc52\", \"search_utils.py\", 14643)"
            ],
            "text/plain": [
              "<IPython.core.display.Javascript object>"
            ]
          },
          "metadata": {}
        }
      ]
    }
  ]
}