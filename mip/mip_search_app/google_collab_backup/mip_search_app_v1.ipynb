{
  "nbformat": 4,
  "nbformat_minor": 0,
  "metadata": {
    "kernelspec": {
      "display_name": "Python 3 (ipykernel)",
      "language": "python",
      "name": "python3"
    },
    "language_info": {
      "codemirror_mode": {
        "name": "ipython",
        "version": 3
      },
      "file_extension": ".py",
      "mimetype": "text/x-python",
      "name": "python",
      "nbconvert_exporter": "python",
      "pygments_lexer": "ipython3",
      "version": "3.8.12"
    },
    "toc-autonumbering": false,
    "toc-showcode": false,
    "toc-showmarkdowntxt": false,
    "toc-showtags": false,
    "colab": {
      "name": "mip_search_app-v1.ipynb",
      "provenance": [],
      "collapsed_sections": []
    }
  },
  "cells": [
    {
      "cell_type": "markdown",
      "metadata": {
        "tags": [],
        "id": "x5wjno2TWPIP"
      },
      "source": [
        "# MIP Search App\n",
        "\n",
        "Search facility for Museums in the Pandemic project. \n",
        "Birkbeck, University of London and King's College London.\n",
        "\n",
        "Author & maintainer: andrea.ballatore [at] kcl.ac.uk"
      ]
    },
    {
      "cell_type": "markdown",
      "metadata": {
        "id": "7i4PjsNWiW9l"
      },
      "source": [
        "## Setup\n",
        "Run this cell only once. It will take a couple of minutes."
      ]
    },
    {
      "cell_type": "code",
      "metadata": {
        "colab": {
          "base_uri": "https://localhost:8080/"
        },
        "id": "CJfE_kOGWPIW",
        "outputId": "0ab43436-3f29-41fe-f587-a4d4e0770956"
      },
      "source": [
        "#from google.colab import drive, files\n",
        "#drive.mount('/content/drive')\n",
        "print(\"Downloading source code...\")\n",
        "!wget -q https://www.dropbox.com/s/at7z91d2lidordi/search_utils.py?dl=1 -O search_utils.py\n",
        "!wget -q https://www.dropbox.com/s/7jbbewmgdvyh3wa/museums_wattributes-2020-02-23.tsv?dl=1 -O museums_wattributes-2020-02-23.tsv\n",
        "print(\"Downloading DB...\")\n",
        "!wget -q https://www.dropbox.com/s/nnaujcnzdp5y8ua/mip_corpus_search.db.zip?dl=1  -O mip_corpus_search.db.zip\n",
        "!unzip -o mip_corpus_search.db.zip -d /content/\n",
        "%run search_utils.py"
      ],
      "execution_count": 2,
      "outputs": [
        {
          "output_type": "stream",
          "name": "stdout",
          "text": [
            "Downloading source code...\n",
            "Downloading DB...\n",
            "Archive:  mip_corpus_search.db.zip\n",
            "  inflating: /content/mip_corpus_search.db  \n",
            "  inflating: /content/__MACOSX/._mip_corpus_search.db  \n",
            "generate_derived_attributes_muse_df\n",
            "ok\n"
          ]
        }
      ]
    },
    {
      "cell_type": "markdown",
      "metadata": {
        "id": "KJYqmA8UWPIZ"
      },
      "source": [
        "## Search\n",
        "\n",
        "Syntax: * means 'any character'"
      ]
    },
    {
      "cell_type": "code",
      "metadata": {
        "id": "RcNKIXpcWPIa",
        "colab": {
          "base_uri": "https://localhost:8080/",
          "height": 1000
        },
        "outputId": "4cfe26e6-e324-4df6-e8c0-994b64f2f086"
      },
      "source": [
        "#@title Search corpus { display-mode: \"form\" }\n",
        "%run search_utils.py\n",
        "search_string = \"wars\" #@param {type:\"string\"}\n",
        "case_sensitive = False #@param {type:\"boolean\"}\n",
        "search_websites = False\n",
        "search_website_sentences = True #@param {type:\"boolean\"}\n",
        "search_facebook = True #@param {type:\"boolean\"}\n",
        "search_twitter = False #@param {type:\"boolean\"}\n",
        "max_results =  130#@param {type:\"integer\"}\n",
        "context_window =  50#@param {type:\"integer\"}\n",
        "res_df = run_search(search_string, case_sensitive,\n",
        "           search_facebook, search_twitter, search_websites, \n",
        "           search_website_sentences)\n",
        "if len(res_df) > 0:\n",
        "  results_html, results_page_df = generate_html_matches(res_df, search_string, \n",
        "    case_sensitive, context_window, max_results)\n",
        "  display(HTML(results_html))\n",
        "#res_df"
      ],
      "execution_count": 20,
      "outputs": [
        {
          "output_type": "stream",
          "name": "stdout",
          "text": [
            "generate_derived_attributes_muse_df\n",
            "ok\n",
            "WEBSITES: 315 matches found. N sessions: 2. Unique museums: 132\n",
            "FACEBOOK: 2306 matches found. Unique museums: 384\n",
            "search_regex: '(?i)\\bwars\\b'\n"
          ]
        },
        {
          "output_type": "display_data",
          "data": {
            "text/html": [
              "<style>\n",
              "    table, tr, th, td {\n",
              "      margin: 3px;\n",
              "      border: solid 1px gray;\n",
              "      font-size: .9em;\n",
              "      border-collapse: collapse;\n",
              "      font-family: sans-serif;\n",
              "      vertical-align: top;\n",
              "    }\n",
              "    .before_col { text-align: right; }\n",
              "    .match_col { font-weight: bold; color: blue; }\n",
              "    strong { background-color: blue; color: white; }\n",
              "    </style><h3>facebook (first 130)</h3><table><tr><th>res</th><th>museum_id</th><th>account</th><th>before</th><th>match</th><th>after</th><th>msg_time</th></tr><tr><td class=\"\">198</td><td class=\"\">mm.musa.096</td><td class=\"\">VisitSouthEastEngland</td><td class=\"before_col\">Discover the little-known story of the Royal Navy’s heroic coastal forces in both World </td><td class=\"match_col\">Wars</td><td class=\"\">, told for the first time in major new gallery 'The Night Hunters: The Royal Navy’s Coastal Forces at War ' at Explosion Museum of Naval Firepower National Museum of the Royal Navy in Gosport ⚓ See two remarkable surviving historic boats as they take centre stage in the fascinating</td><td class=\"\">2021-10-15</td></tr><tr><td class=\"\">259</td><td class=\"\">mm.hha.014</td><td class=\"\">hevercastle</td><td class=\"before_col\">When you step into the Long Gallery you will be able to clearly see the lineage of who was involved in the </td><td class=\"match_col\">Wars</td><td class=\"\"> of the Roses. This piece was designed and drawn by Caz, Hever Castle's extremely talented Creative Programming Coordinator. It took Caz 83 hours to complete so next time you are in the Castle go and have a look! </td><td class=\"\">2021-10-15</td></tr><tr><td class=\"\">236</td><td class=\"\">mm.domus.WM058</td><td class=\"\">theherbert</td><td class=\"before_col\">in their Sunday best, whilst a serene café interior by John Fitton is ‘well within the experience of everyone’, according to Hewitt. Steelworkers is a striking example by the Official War Artist Roland Pitchforth, creating a stark contrast to Paul Nash’s sumptuous rural scene from the period between the </td><td class=\"match_col\">Wars</td><td class=\"\">. Displayed in two entrance areas of 10 Downing Street from 4 October 2021 for a year, the works will be seen by staff and visitors to the building. Coventry has been chosen for this year’s display to link with its title as Coventry UK City of Culture 2021 Read</td><td class=\"\">2021-10-13</td></tr><tr><td class=\"\">1441</td><td class=\"\">mm.domus.SE101</td><td class=\"\">NorwichCastleMuseum</td><td class=\"before_col\">In popular culture, the African campaigns of both World </td><td class=\"match_col\">Wars</td><td class=\"\"> are scarcely mentioned, overshadowed by the fields of Flanders and the beaches of Normandy. But the sacrifice made by the soldiers of the West African Frontier Force, who were uprooted from their communities and marched hundreds – sometimes thousands – of miles in the service of indifferent empires with</td><td class=\"\">2021-10-13</td></tr><tr><td class=\"\">786</td><td class=\"\">mm.wiki.266</td><td class=\"\">royalairforce</td><td class=\"before_col\">of Number 617 Squadron and Royal Air Force personnel aboard the aircraft carrier. The Chief of the Air Staff also paid his respects at the Kranji Commonwealth War Graves Commission Cemetery, the final resting place of Commonwealth land and air forces who died in Southeast Asia in both World </td><td class=\"match_col\">Wars</td><td class=\"\">. He laid a wreath at the Singapore War Memorial which bears the names of over 24,000 casualties of the Commonwealth forces with no known grave; a separate wreath was laid at Wing Commander Eric James Brindley Nicolson's inscription who was awarded the only Victoria Cross for the Battle of</td><td class=\"\">2021-10-12</td></tr><tr><td class=\"\">787</td><td class=\"\">mm.wiki.266</td><td class=\"\">royalairforce</td><td class=\"before_col\">The Chief of the Air Staff, Air Chief Marshal Sir Mike Wigston, has paid his respects at the Kranji Commonwealth War Graves Commission Cemetery in Singapore. The Cemetery is the final resting place of Commonwealth land and air forces who died in Southeast Asia in both World </td><td class=\"match_col\">Wars</td><td class=\"\">. Air Chief Marshal Wigston laid a wreath at the Singapore War Memorial which bears the names of 24,000 casualties of the Commonwealth forces who have no known grave. These include Royal Air Force personnel who died during operations over the whole of southern and eastern Asia and the surrounding</td><td class=\"\">2021-10-11</td></tr><tr><td class=\"\">636</td><td class=\"\">mm.musa.344</td><td class=\"\">NationalWallaceMonument</td><td class=\"before_col\">that they can safely come to Scotland to trade. A facsimile copy of the letter is on display in The Hall of Arms in the Monument, and it was on this day (the 11th of October), that it was written, as Wallace sought to re-establish trade links following the </td><td class=\"match_col\">Wars</td><td class=\"\"> of Independence. #OnThisDay #WallaceMonument #LubeckLetter #WilliamWallac</td><td class=\"\">2021-10-11</td></tr><tr><td class=\"\">1098</td><td class=\"\">mm.domus.SE241</td><td class=\"\">TheDDayStory</td><td class=\"before_col\">would see permanently hospitalised ex-soldiers from the military hospital fall down in the street like this. They were suffering from ‘shell shock’ - now known as PTSD. He painted ‘The man in the blue suit’ to represent the mental suffering of these men who were veterans of both World </td><td class=\"match_col\">Wars</td><td class=\"\">. . . . . . . #wwiiHistory #SecondWorldWar #WorldWarTwo #WorldWarii #WW2 #WarHistory #DdayMuseum #ww2HistoryAndInstagram #DdayStory #Portsmouth #Southsea #WorldWarTwoHistory #TheDdayStory #RememberTheFallen #WorldMentalHealthDay #MentalHealth #PTSD #TheManInTheBlueSuit #BlueSui</td><td class=\"\">2021-10-10</td></tr><tr><td class=\"\">484</td><td class=\"\">mm.domus.SW121</td><td class=\"\">westonmuseum</td><td class=\"before_col\">🎃Looking to entertain the kids this October half term?🎃 We have a week long schedule of events with everything from Robot </td><td class=\"match_col\">Wars</td><td class=\"\"> to Bugs & Beasts. Check out our website for more details: https://westonmuseum.org/events/ #museum #events #family #halloween #weston #westonsupermare #Somerse</td><td class=\"\">2021-10-07</td></tr><tr><td class=\"\">778</td><td class=\"\">mm.domus.SW177</td><td class=\"\">RadstockMuseum</td><td class=\"before_col\">is, as usual, packed with articles on local history accompanied by beautiful old photos. In fact, every one of the 100 issues is full of carefully researched, interesting, informative contributions covering a multitude of topics from across the former Somerset Coalfield: coal mining, local railways, stories from the world </td><td class=\"match_col\">wars</td><td class=\"\">, school days of past times, local sports teams of bygone days, farming, and local businesses of the past and much more besides. The name Five Arches, relates to the viaduct of the five black, brick railway archways, some of which remain standing today, that carried the Somerset and Dorset</td><td class=\"\">2021-10-05</td></tr><tr><td class=\"\">67</td><td class=\"\">mm.hha.118</td><td class=\"\">boltoncastle1</td><td class=\"before_col\">Our resident living history historians are on site for the last time this year telling the story of Bolton Castle's involvement in the civil </td><td class=\"match_col\">wars</td><td class=\"\"> that divided families and split the country between 1642 and 1660. Come and listen to their stories before you make the decision as to which side you would join; king or parliament?' 9th & 10th October, included in usual admission prices</td><td class=\"\">2021-10-04</td></tr><tr><td class=\"\">979</td><td class=\"\">mm.domus.SE481</td><td class=\"\">museuminnewhaven</td><td class=\"before_col\">Oct) evening, why not come along to the meeting of the Newhaven Historical Society at the Hillcrest Centre and listen to a talk about the Commonwealth War Graves Commission. Part of the talk will look at the war graves in the Newhaven Cemetery and the graves from two World </td><td class=\"match_col\">Wars</td><td class=\"\"> and more recent times. The museum shop will also be present - lots of interesting local history books which make for unusual Christmas presents! The evening starts at 7.30pm and will finish at about 9.15pm. Non-members very welcome - £5.00 entrance or join the society for £8.00 and get</td><td class=\"\">2021-10-03</td></tr><tr><td class=\"\">1094</td><td class=\"\">mm.misc.066</td><td class=\"\">TheScottishDailyRecord</td><td class=\"before_col\">She was born the year the Titanic sank and lived through two World </td><td class=\"match_col\">Wars</td><td class=\"\">, the Spanish Flu outbreak and then coronavirus</td><td class=\"\">2021-10-02</td></tr><tr><td class=\"\">1139</td><td class=\"\">mm.domus.SE333</td><td class=\"\">MaidstoneMuseum</td><td class=\"before_col\">This #PhotoFriday: View of King Street, Maidstone, c.1930. There was a lot of demolition of older houses in Maidstone between the </td><td class=\"match_col\">wars</td><td class=\"\"> as this scene in King Street demonstrates. The Westminster Bank building can be seen in the background. (Marley Collection, MC001) #Photographs #LocalHistory #Maidston</td><td class=\"\">2021-10-01</td></tr><tr><td class=\"\">1370</td><td class=\"\">mm.ace.1246</td><td class=\"\">TheLowrySalford</td><td class=\"before_col\">\"#XENOS is a reflection of how I feel about our world today. It is about our loss of humanity, & how, through past & present </td><td class=\"match_col\">wars</td><td class=\"\">, we are yet again confronted by the burning question of what it is to be human.\" @AkramKhanLive talking about #XENOS. 👉 👉 https://bit.ly/3eIUCP</td><td class=\"\">2021-09-28</td></tr><tr><td class=\"\">788</td><td class=\"\">mm.wiki.266</td><td class=\"\">royalairforce</td><td class=\"before_col\">of World War One and World War Two has been unveiled at Roderen, Haut-Rhin in eastern France. The new memorial has been created by a local initiative, led by former French Air Force Officer Pierre-Alain Antoine and commemorates the Allied aircrew who lost their lives during the two world </td><td class=\"match_col\">wars</td><td class=\"\"> in this region of France. The unveiling was attended by Mr Sandy Moss, the UK’s Permanent Representative to the Council of Europe and Group Captain Antony McCord, the UK’s Air Attaché in Paris. The ceremony was closed by a flypast of French, United States and Royal Air Force aircraft</td><td class=\"\">2021-09-27</td></tr><tr><td class=\"\">537</td><td class=\"\">mm.domus.SC181</td><td class=\"\">DiscoveryPointandRRSDiscovery</td><td class=\"before_col\">📸 🇦🇶 #SaveYourPhotosDay gives us another great excuse to mention James Frances (better known as Frank) Hurley, the Australian photographer who captured some of the most outstanding images of the heroic era of Antarctic exploration as well as incredible photographs from both world </td><td class=\"match_col\">wars</td><td class=\"\">. The photographs he took of the Endurance Expedition offer a stark and fascinating insight into the crew’s journey and daily lives during the expedition - but did you know that the original negatives were almost lost forever so may never have been seen by anyone other than Hurley himself?</td><td class=\"\">2021-09-25</td></tr><tr><td class=\"\">668</td><td class=\"\">mm.aim82NM.096</td><td class=\"\">DayOutWithTheKids</td><td class=\"before_col\">The perfect autumnal walk... recognise this place? Puzzlewood is featured in a lot of famous movies, such as Star </td><td class=\"match_col\">Wars</td><td class=\"\"> and Harry Potter! 👉🏻 https://dowtk.co/puzzlewoo</td><td class=\"\">2021-09-25</td></tr><tr><td class=\"\">1489</td><td class=\"\">mm.domus.SW237</td><td class=\"\">Killerton</td><td class=\"before_col\">There was never a throw-away attitude to clothing historically. For this #FashionFortnight and in support of the #GreatBigGreenWeek we're featuring items from the collection that have been lovingly upcycled. From shawl to handbag. This little clutch bag or pochette was made between the </td><td class=\"match_col\">wars</td><td class=\"\">. Embroidery on silk from a ‘Spanish’ shawl probably made in the Philippines, for a vibrant dash of colour to an evening outfit. Would you raid your grandmother’s wardrobe to make a special dress? The beautiful mid 18th century brocaded silk gown here was re-modelled in the late 19th century</td><td class=\"\">2021-09-23</td></tr><tr><td class=\"\">1366</td><td class=\"\">mm.hha.121</td><td class=\"\">castlehoward</td><td class=\"before_col\">Cinema to the Grounds of Castle Howard! This year, Luna will be treating audiences to 3 spectacular films in a setting like no other - Indulge in 80's musical romance with Dirty Dancing, take to the skies with Tom Cruise in Top Gun, or discover the force in Star </td><td class=\"match_col\">Wars</td><td class=\"\">: A New Hope. Fancy spending the weekend with us? Why not enjoy all 3?! Friday 24th September - Top Gun Saturday 25th September - Dirty Dancing Sunday 26th September - Star Wars: A New Hope A full range on food and drink will be available to purchase from the</td><td class=\"\">2021-09-20</td></tr><tr><td class=\"\">329</td><td class=\"\">mm.domus.SE507</td><td class=\"\">sciencemuseumlondon</td><td class=\"before_col\">is almost 9 times smaller than the Earth's Moon and has one of the most heavily cratered surfaces in the solar system. Its most distinctive feature is a large impact crater named ‘Herschel’ which covers almost a third of the surface of Mimas, resembling the Death Star from Star </td><td class=\"match_col\">Wars</td><td class=\"\">. Discover more about how reflecting telescopes are made: https://bit.ly/3hC6Xpu 📷 NAS</td><td class=\"\">2021-09-17</td></tr><tr><td class=\"\">343</td><td class=\"\">mm.domus.SC188</td><td class=\"\">scotfishmuseum</td><td class=\"before_col\">The resilience of the fishing communities during the losses inflicted on them by the Cod </td><td class=\"match_col\">Wars</td><td class=\"\"> is shown in our latest exhibition. Despite the Cod Wars ending in 1976, Hull was left with its’ fishermen having nowhere left to fish and the industry crumbled overnight. Our latest Exhibition focuses on the more personal perspectives of the people during these times, and the brutal honesty of</td><td class=\"\">2021-09-17</td></tr><tr><td class=\"\">50</td><td class=\"\">mm.domus.WM065</td><td class=\"\">AstonHallMuseum</td><td class=\"before_col\">We are getting ready for #BHeritageWeek and particularly for our first big historical event of the year - Aston Alive! Meet the Past What sort of historical characters might you find at this #GrandOldMansion? How about someone from the civil </td><td class=\"match_col\">wars</td><td class=\"\">? Did you know that we hosted a king and suffered an attack? https://www.birminghammuseums.org.uk/aston/whats-on/aston-alive-meet-the-pas</td><td class=\"\">2021-09-15</td></tr><tr><td class=\"\">750</td><td class=\"\">mm.domus.SE140</td><td class=\"\">PortsCityMuseum</td><td class=\"before_col\">Portsmouth has one of the most important collections of Civic Silver in the country. James talks about the background to the collection and how it has survived civil war, revolutions and two world </td><td class=\"match_col\">wars</td><td class=\"\">. #HODs #Portsmout</td><td class=\"\">2021-09-10</td></tr><tr><td class=\"\">693</td><td class=\"\">mm.domus.SE096</td><td class=\"\">wallacecollection</td><td class=\"before_col\">to collect his wife and said that he had emigrated to Britain due to the bad conditions in Holland that disabled his work. Before their departure the Van de Veldes worked for the Dutch Admiralties. The Elder sailed with the Dutch fleet during the First and the Second Anglo-Dutch </td><td class=\"match_col\">Wars</td><td class=\"\"> to provide visual records of the battles. He was on good terms with Dutch admirals. Their move to England, the Dutch Republic’s enemy, might seem surprising, but at the time people thought about it in a different way. The Van de Veldes did very well for themselves here. They</td><td class=\"\">2021-09-10</td></tr><tr><td class=\"\">735</td><td class=\"\">mm.domus.SE267</td><td class=\"\">ElyMuseum</td><td class=\"before_col\">of Bishop Nigel, who was now absent in Rome. Geoffrey de Mandeville used the fenland around the Isle of Ely as his headquarters until he was finally killed by King Stephen's forces in Burwell, Cambridgeshire in September 1144. Later, Ely Castle also played a part in the two Baron's </td><td class=\"match_col\">Wars</td><td class=\"\"> as it was taken and destroyed by Falkes de Breaute in 1216, an Anglo-Norman soldier loyal to King’s John & Henry III during the First Barons War. Despite its fortifications, it was also captured in 1267 during the Second Barons War by Prince Edward. The castle fortified by Bishop</td><td class=\"\">2021-09-09</td></tr><tr><td class=\"\">57</td><td class=\"\">mm.domus.WM001</td><td class=\"\">avoncroftmuseum</td><td class=\"before_col\">26th September! 10.00 Museum opens 11.00 Firepower, (bows/Crossbows/guns) 11.30 Costume & manners (how to tell your commoner from your nobility) 12.00 Battle re-enactment 12.30 Kiddie - Drill 13.30 Dancing and music in Guesten Hall 14.00 Arming a knight 14.30 Battle re-enactment 15.30 Dancing and music in Guesten Hall 16.00 </td><td class=\"match_col\">Wars</td><td class=\"\"> of the Roses in 30(ish) minutes SATURDAY ONLY 17.00 Museum close</td><td class=\"\">2021-09-08</td></tr><tr><td class=\"\">1583</td><td class=\"\">mm.musa.368</td><td class=\"\">WaddesdonManor</td><td class=\"before_col\">picture experience with a twist. The Luna Cinema returns to Waddesdon this week, Thursday 9 to Sunday 12 September, with four spectacular films. Sit back, relax and enjoy cinema under the stars and with the backdrop of the illuminated Manor. Choose from Knives Out, Pretty Woman, Grease and Star </td><td class=\"match_col\">Wars</td><td class=\"\">: A New Hope. Book your tickets here: https://waddesdon.org.uk/whats-on/open-air-cinema-with-luna-cinema</td><td class=\"\">2021-09-07</td></tr><tr><td class=\"\">199</td><td class=\"\">mm.musa.096</td><td class=\"\">VisitSouthEastEngland</td><td class=\"before_col\">The Luna Cinema returns to Waddesdon Manor Thurs 9th - Sun 12th, 6.15pm. Four great films set against the backdrop of the stunning Buckinghamshire House. Pack up a picnic and spend an evening under the stars watching either Knives Out (2019), Pretty Woman (1990), Grease (1978) or Star </td><td class=\"match_col\">Wars</td><td class=\"\">: A New Hope (1977). Tickets Adult £16, Child £11. https://waddesdon.org.uk/whats-on/open-air-cinema-with-luna-cinema/ 📸: Grease-©-2005-Paramount-Pictures-2100-1313 #Aylesbury #Buckinghamshire #outdoorspaces #events #lovesoutheastenglan</td><td class=\"\">2021-09-07</td></tr><tr><td class=\"\">1361</td><td class=\"\">mm.nimc.043</td><td class=\"\">MEABoroughCouncil</td><td class=\"before_col\">Since 2000, Merchant Navy Day on 3 September has honoured the brave men and women who kept our ‘island nation’ afloat during both World </td><td class=\"match_col\">Wars</td><td class=\"\"> and celebrates our dependence on modern-day merchant seafarers who are responsible for over 90% of the UK’s imports. We have taken part in the nationwide campaign to mark Merchant Navy Day since 2015. This annual event provides us as a Borough with an opportunity to reflect on our rich</td><td class=\"\">2021-09-06</td></tr><tr><td class=\"\">1530</td><td class=\"\">mm.domus.NI036</td><td class=\"\">MEABoroughCouncil</td><td class=\"before_col\">Since 2000, Merchant Navy Day on 3 September has honoured the brave men and women who kept our ‘island nation’ afloat during both World </td><td class=\"match_col\">Wars</td><td class=\"\"> and celebrates our dependence on modern-day merchant seafarers who are responsible for over 90% of the UK’s imports. We have taken part in the nationwide campaign to mark Merchant Navy Day since 2015. This annual event provides us as a Borough with an opportunity to reflect on our rich</td><td class=\"\">2021-09-06</td></tr><tr><td class=\"\">1538</td><td class=\"\">mm.mgs.044</td><td class=\"\">GuthBharraidh</td><td class=\"before_col\">Navy’s official flag to be flown on public buildings and landmark flagstaffs. The charity’s president, HRH The Earl of Wessex and Forfar, has endorsed the campaign. Fly the Red Ensign is an annual campaign to honour the brave men and women who kept the UK afloat during both World </td><td class=\"match_col\">Wars</td><td class=\"\"> and celebrate the dependence on modern-day merchant seafarers who are responsible for more than 90% of the UK’s imports. The COVID-19 pandemic had a tragic impact on Merchant Navy communities, and many continue to need urgent support. This Merchant Navy Day, 3rd of September, the Fly the Red Ensign</td><td class=\"\">2021-09-03</td></tr><tr><td class=\"\">311</td><td class=\"\">mm.domus.SC253</td><td class=\"\">comhairlenaneileansiar</td><td class=\"before_col\">Navy’s official flag to be flown on public buildings and landmark flagstaffs. The charity’s president, HRH The Earl of Wessex and Forfar, has endorsed the campaign. Fly the Red Ensign is an annual campaign to honour the brave men and women who kept the UK afloat during both World </td><td class=\"match_col\">Wars</td><td class=\"\"> and celebrate the dependence on modern-day merchant seafarers who are responsible for more than 90% of the UK’s imports. The COVID-19 pandemic had a tragic impact on Merchant Navy communities, and many continue to need urgent support. This Merchant Navy Day, 3rd of September, the Fly the Red Ensign</td><td class=\"\">2021-09-03</td></tr><tr><td class=\"\">1479</td><td class=\"\">mm.domus.SE483</td><td class=\"\">kentpolice</td><td class=\"before_col\">Butterworth will visit as part of his role, but as a veteran himself, he will admit it holds a special place in his heart: ‘I served nine years in the Royal Artillery, and know that many of these people have been through extraordinary experiences, lived through the horrors of </td><td class=\"match_col\">wars</td><td class=\"\"> and faced really difficult situations. The attitude their generation will have is just to get on with it, and not seek help. 'They may not be comfortable reporting if they have been a victim of crime, but I hope my experience as a veteran encourages them to talk about</td><td class=\"\">2021-09-02</td></tr><tr><td class=\"\">319</td><td class=\"\">mm.musa.299</td><td class=\"\">salvationarmyuk</td><td class=\"before_col\">to participate in a fundraising challenge, which will see our readers get sponsored to take part in 140 different activities during the school holidays. Further fun facts- did you know that: • Our first issue was published on Saturday, 27 August, 1881? • We continued printing throughout both world </td><td class=\"match_col\">wars</td><td class=\"\">? • We produced iconic issues include the Queen’s diamond and Golden jubilee editions, and featured celebrities such as ABBA, Kylie Minogue and James Corden? Find out more: https://bit.ly/3ksDf7</td><td class=\"\">2021-08-27</td></tr><tr><td class=\"\">1054</td><td class=\"\">mm.domus.SC038</td><td class=\"\">BWMuseum</td><td class=\"before_col\">During the </td><td class=\"match_col\">wars</td><td class=\"\"> soldiers often made their own keepsake boxes where they would store their precious letters and souvenirs. Join our beautiful boxes crafting sessions on Sunday 29th and get creative decorating our own keepsakes boxes to take home. Sessions will run throughout the day starting at 10am. You can book your</td><td class=\"\">2021-08-24</td></tr><tr><td class=\"\">166</td><td class=\"\">mm.domus.SE183</td><td class=\"\">Cogges</td><td class=\"before_col\">the Middle Ages 1066 - 1485. Cogges Manor was in the possession of several families who played a leading role in English history. Wadard in the Norman Conquest: the Arsics in the turbulent shift in power from the Normans to the Angevins and the de Grey family in the </td><td class=\"match_col\">Wars</td><td class=\"\"> with France. This short tour will look at the physical evidence that remains and describe the part they played in their time. There's no need to pre-book onto this tour - just turn up and meet at the Manor House at 11am. Alternatively, you can explore the Manor House</td><td class=\"\">2021-08-23</td></tr><tr><td class=\"\">14</td><td class=\"\">mm.domus.SC003</td><td class=\"\">AbdnArtMuseums</td><td class=\"before_col\">🔍 Our The Press and Journal Two-Minute Masterpiece this week takes us to #AberdeenMaritimeMuseum where Museum Supervisor Ant Edwards invites us to take a closer look at the bone ship crafted in astonishing detail by an unknown French prisoner-of-war during the Napoleonic </td><td class=\"match_col\">Wars</td><td class=\"\"> – there's even a tiny Captain carved into the deck! https://orlo.uk/WQ55s We look forward to welcoming you back to the Maritime Museum soon – we're open Wednesday-Saturday 10am-5pm and Sunday 11am-3pm. Admission is free – it’ll be good to SEA you! </td><td class=\"\">2021-08-23</td></tr><tr><td class=\"\">9</td><td class=\"\">mm.domus.SC002</td><td class=\"\">AbdnArtMuseums</td><td class=\"before_col\">🔍 Our The Press and Journal Two-Minute Masterpiece this week takes us to #AberdeenMaritimeMuseum where Museum Supervisor Ant Edwards invites us to take a closer look at the bone ship crafted in astonishing detail by an unknown French prisoner-of-war during the Napoleonic </td><td class=\"match_col\">Wars</td><td class=\"\"> – there's even a tiny Captain carved into the deck! https://orlo.uk/WQ55s We look forward to welcoming you back to the Maritime Museum soon – we're open Wednesday-Saturday 10am-5pm and Sunday 11am-3pm. Admission is free – it’ll be good to SEA you! </td><td class=\"\">2021-08-23</td></tr><tr><td class=\"\">1144</td><td class=\"\">mm.domus.SE333</td><td class=\"\">MaidstoneMuseum</td><td class=\"before_col\">Not many tickets left for our next Star </td><td class=\"match_col\">Wars</td><td class=\"\"> themed event. Don’t miss out. Book here https://museum.maidstone.gov.uk/whats-on/events/museum-late-mint-in-box-with-matt-fox/ for a chance to hear from the creator of the ‘May the toys be with you’ exhibition</td><td class=\"\">2021-08-22</td></tr><tr><td class=\"\">237</td><td class=\"\">mm.domus.WM058</td><td class=\"\">theherbert</td><td class=\"before_col\">The Coventry Sword had huge civic importance during Coventry’s economic and political heyday in the 1400s. At the time, Coventry was the fourth largest city in England, had its own county and for three years during the </td><td class=\"match_col\">Wars</td><td class=\"\"> of the Roses was the royal capital. The sword, of which now only the hilt remains, was carried in front of the mayor during processions and was an important symbol of the city’s constitution and liberties. Particularly prominent are instances where the sword was carried in front of Henry</td><td class=\"\">2021-08-20</td></tr><tr><td class=\"\">1145</td><td class=\"\">mm.domus.SE333</td><td class=\"\">MaidstoneMuseum</td><td class=\"before_col\">This is the 💫Star </td><td class=\"match_col\">Wars</td><td class=\"\"> 💫 event you are looking for! This Saturday 21 Aug come along and Meet Admiral Ackbar. Here between 10-2. See poster below for more info. #starwar</td><td class=\"\">2021-08-20</td></tr><tr><td class=\"\">106</td><td class=\"\">mm.ace.1200</td><td class=\"\">BosworthBattlefield</td><td class=\"before_col\">The brilliant authors Nicola Tallis, Sarah Gristwood & Sylvia Barbara Soberton will be exploring the power, the politics and perceptions of key women in the </td><td class=\"match_col\">Wars</td><td class=\"\"> of the Roses such as Margaret of Anjou, Margaret Beaufort and Elizabeth Woodville - Join us online at 7pm tomorrow for a lively discussion. Tickets are £5 and can be purchased here: https://www.bosworthbattlefield.org.uk/events/medieval-medley-women-of-the-wars-of-the-roses-online-qa</td><td class=\"\">2021-08-20</td></tr><tr><td class=\"\">618</td><td class=\"\">mm.domus.SC265</td><td class=\"\">NacHeritage</td><td class=\"before_col\">of Marymass was Charles Arthur who carried the carter’s mallet at the back of the Marymass parade for over fifty years. Marymass has had to be cancelled out of necessity in the past, during the cholera outbreak of 1832 and for the duration of the First and Second World </td><td class=\"match_col\">Wars</td><td class=\"\">. Last year and this year, however it has not been cancelled. It is being celebrated in a very different way! For all the events that are happening over the next couple of weeks please visit @marymassfestiva</td><td class=\"\">2021-08-16</td></tr><tr><td class=\"\">1121</td><td class=\"\">mm.domus.SC178</td><td class=\"\">thehighlandersmuseum</td><td class=\"before_col\">The Battle of Dupplin Moor, one of the </td><td class=\"match_col\">Wars</td><td class=\"\"> of Scottish Independence, was fought #OTD between supporters of King David II of Scotland and English-backed invaders supporting Edward Balliol in 1332. We don't have any photos of the event (as the battle took place 495 years before cameras were invented...🙃) But we do have a 19th-century artist's impression</td><td class=\"\">2021-08-11</td></tr><tr><td class=\"\">1146</td><td class=\"\">mm.domus.SE333</td><td class=\"\">MaidstoneMuseum</td><td class=\"before_col\">Who’s coming to our Star </td><td class=\"match_col\">Wars</td><td class=\"\"> events? More information and to book tickets for the late event go to https://museum.maidstone.gov.uk/whats-on/events</td><td class=\"\">2021-08-09</td></tr><tr><td class=\"\">123</td><td class=\"\">mm.ace.1200</td><td class=\"\">BosworthBattlefield</td><td class=\"before_col\">evening walks on Monday 16, Wednesday 18 and Friday 20 August at 7pm. These engaging walks will enlighten you to the stories behind and beyond the Battle of Bosworth. Tickets for each walk are £6 for adults and £4 for children Monday’s walk focuses on the Women of the </td><td class=\"match_col\">Wars</td><td class=\"\"> of the Roses. You will discover what life would have been like for women of all stations during the Wars of the Roses. You’ll learn more about Margaret d’Anjou, Margaret Beaufort and Elizabeth Woodville, who all had a significant influence on the politics of the time. Buy tickets at</td><td class=\"\">2021-08-09</td></tr><tr><td class=\"\">897</td><td class=\"\">mm.domus.SE351</td><td class=\"\">NatMuseumRN</td><td class=\"before_col\">Director of the National Maritime Museum, Geoffrey Callender, was quoted to have said that the ship and her training partner, HMS Implacable, ‘fought against Hitler as they did against Napoleon and dictators of that time.’ This statement could hardly be more inaccurate as Trincomalee was built after the Napoleonic </td><td class=\"match_col\">wars</td><td class=\"\">, and Implacable had been captured from the French, having previously fought on their side at the Battle of Trafalgar! 📸: Foudroyant and Implacable in the 1940s #NMRN #NavigateTheNavy #OnThisDay #Hartlepool National Museum of the Royal Navy Hartlepoo</td><td class=\"\">2021-08-06</td></tr><tr><td class=\"\">1147</td><td class=\"\">mm.domus.SE333</td><td class=\"\">MaidstoneMuseum</td><td class=\"before_col\">🌟Have you booked yet for our Star </td><td class=\"match_col\">Wars</td><td class=\"\"> exclusive late event?🌟 Thurs 26 Aug, 6-9pm. 18+ only. Book here https://museum.maidstone.gov.uk/whats-on/events/museum-late-mint-in-box-with-matt-fox/ don’t leave it too late to book your ticket</td><td class=\"\">2021-08-06</td></tr><tr><td class=\"\">62</td><td class=\"\">mm.hha.017</td><td class=\"\">BlenheimPalace</td><td class=\"before_col\">The Luna Cinema returns to Blenheim Palace next week with a season of open-air #cinema! 🍿 🎬 Picture it now... a warm #summer's #evening, a breathtaking #backdrop, your favourite people by your side and a movie on the big screen. ⭐️ Star </td><td class=\"match_col\">Wars</td><td class=\"\">: A New Hope - Thu 12 August 🎶 Bohemian Rhapsody - Fri 13 August 🎪 The Greatest Showman - Sat 14 August 💋 Some Like It Hot - Sun 15 August TICKETS ARE STILL AVAILABLE! Book online at: thelunacinema.com/blenheim-palace/ Bohemian Rhapsody © 2018 Twentieth Century Fox Film Corporation. All</td><td class=\"\">2021-08-05</td></tr><tr><td class=\"\">139</td><td class=\"\">mm.wiki.219</td><td class=\"\">VisitMaidstone</td><td class=\"before_col\">May the Toys be With You is an excellent exhibition which is on this summer at Maidstone Museum. Anyone who loved Star </td><td class=\"match_col\">Wars</td><td class=\"\"> will love this. https://bit.ly/3tjWLoN #maidtone #maidstonemuseum #summerholiday #daysou</td><td class=\"\">2021-08-03</td></tr><tr><td class=\"\">637</td><td class=\"\">mm.musa.344</td><td class=\"\">NationalWallaceMonument</td><td class=\"before_col\">A facsimile reproduction of the Lübeck Letter, which William Wallace and Andrew de Moray wrote to the merchants of Lubeck and Hamburg as they sought to re-establish trade links following the </td><td class=\"match_col\">Wars</td><td class=\"\"> of Independence 🏴󠁧󠁢󠁳󠁣󠁴󠁿, is on display inside the Monument's Hall of Arms 📝. IG/fancoismaignen #WallaceMonument #VisitScotland #HistoricScotland #OnlyInScotland #Stirling #ScotlandIsNow #HiddenScotlan</td><td class=\"\">2021-07-30</td></tr><tr><td class=\"\">1367</td><td class=\"\">mm.hha.121</td><td class=\"\">castlehoward</td><td class=\"before_col\">Castle Howard this September! They'll be setting up their big screen in the historic parkland, across the water from the main House itself. Join us for three firm favourites... 🎬 Friday 24th September - Top Gun 🎬 Saturday 25th September - Dirty Dancing 🎬 Sunday 26th September - Star </td><td class=\"match_col\">Wars</td><td class=\"\">: A New Hope Find out more and book your tickets https://www.thelunacinema.com/castle-howar</td><td class=\"\">2021-07-30</td></tr><tr><td class=\"\">295</td><td class=\"\">mm.domus.WA049</td><td class=\"\">milfordwfront</td><td class=\"before_col\">of Milford Haven's oldest buildings, built all the way back in 1797! 😮 The Old Customs House comes with a lot of history! Its original purpose was for the storage of whale oil awaiting transhipment for sale in London and it played an important role during the two World </td><td class=\"match_col\">Wars</td><td class=\"\">. More recently, it was renovated and opened as a museum in 1990 (with support of the Milford Haven Town Council) of which the building is now home to Milford Haven Museum, The Walters Group and Cleddau Community Church Apostolic Centre. 📍 If only these walls could talk, imagine the</td><td class=\"\">2021-07-29</td></tr><tr><td class=\"\">1148</td><td class=\"\">mm.domus.SE333</td><td class=\"\">MaidstoneMuseum</td><td class=\"before_col\">Look 👀 Star </td><td class=\"match_col\">Wars</td><td class=\"\"> fans …. Put it in Your diary so you don’t miss out</td><td class=\"\">2021-07-28</td></tr><tr><td class=\"\">1149</td><td class=\"\">mm.domus.SE333</td><td class=\"\">MaidstoneMuseum</td><td class=\"before_col\">❗️✨It's your Last Chance✨❗️ to book this once-in-a-lifetime opportunity to hear from Super-Collector, Matt Fox, on the intergalactic phenomenon: 'Star </td><td class=\"match_col\">Wars</td><td class=\"\">'. As the creator of our current exhibition 'May The Toys Be With You', Matt will be delivering a fast-paced presentation that will be perfect for fellow fans to enjoy! Make sure you book quickly - you have until 11:00pm to reserve your ✨space✨. Link attached here: https://museum.maidstone.gov.uk/whats-on/events/museum-late-mint-in-box-with-matt-fox/ 🕕 Thursday</td><td class=\"\">2021-07-27</td></tr><tr><td class=\"\">212</td><td class=\"\">mm.hha.054</td><td class=\"\">SpottedQuedgeleyKingswayHardwicke</td><td class=\"before_col\">Can any parents recommend a decent scooter for a very tall almost 7 year old? My sons had his since he was 3 and is at the highest setting and his foot takes up the length of where it goes. Preferably not branded like marvel/Star </td><td class=\"match_col\">Wars</td><td class=\"\"> etc and even stunt ones I’ve found aren’t very tall friendly. He’d love a new scooter but I’m really strugglin</td><td class=\"\">2021-07-26</td></tr><tr><td class=\"\">133</td><td class=\"\">mm.MDN.012</td><td class=\"\">visitardsandnorthdown</td><td class=\"before_col\">Delve into the history and heritage of Ards and North Down From early Bronze age communities, to Vikings, our early Christian and Ulster Scots heritage and our role in the Great </td><td class=\"match_col\">wars</td><td class=\"\">, our historic landmarks, stately homes, towers and museums tell the fascinating history of this place! 📍Bangor Abbey 📍Newtownards Priory 📍Grey Abbey ruins Find out more and where to visit - https://bit.ly/ANDThingstodo #VisitAND #ExperienceAND #TasteANDEnjoy #DiscoverNI #EmbraceAGiantSpiri</td><td class=\"\">2021-07-24</td></tr><tr><td class=\"\">1409</td><td class=\"\">mm.domus.SE337</td><td class=\"\">MaryRoseMuseum</td><td class=\"before_col\">On This Day, 19th July 1545, the Mary Rose, pride of Henry VIII's fleet and veteran of three </td><td class=\"match_col\">wars</td><td class=\"\"> against France and Scotland, sank while defending England from a French invasion fleet. Of the 500 men serving on board, only 30-35 survived. Find out more about the story of the Mary Rose at MaryRose.org/the-history-of-the-mary-ros</td><td class=\"\">2021-07-19</td></tr><tr><td class=\"\">1480</td><td class=\"\">mm.hha.082</td><td class=\"\">KentwellHall</td><td class=\"before_col\">The 44th East Essex Regiment of Foot are encamped at the Barns today - come and find out all about life in a British County Line Regiment during the Napoleonic </td><td class=\"match_col\">Wars</td><td class=\"\">. The House, Gardens and Tearoom will also be open, from 11am to 3pm. https://www.kentwell.co.uk/events/house-gardens-and-farm-ope</td><td class=\"\">2021-07-18</td></tr><tr><td class=\"\">669</td><td class=\"\">mm.aim82NM.096</td><td class=\"\">DayOutWithTheKids</td><td class=\"before_col\">Puzzlewood is an amazing day out... this nature walk was featured on movies such as Harry Potter, Star </td><td class=\"match_col\">Wars</td><td class=\"\">, The Secret Garden and Jack the Giant Slayer 😍🌳 👉🏽 https://buff.ly/3mEJ9T</td><td class=\"\">2021-07-18</td></tr><tr><td class=\"\">1481</td><td class=\"\">mm.hha.082</td><td class=\"\">KentwellHall</td><td class=\"before_col\">Tomorrow, we have another history treat for you - the 44th East Essex Regiment of Foot will be encamped at the Barns - come and find out all about life in a British County Line Regiment during the Napoleonic </td><td class=\"match_col\">Wars</td><td class=\"\">. The House, Gardens and Tearoom will also be open, from 11am to 3pm. https://www.kentwell.co.uk/events/house-gardens-and-farm-ope</td><td class=\"\">2021-07-17</td></tr><tr><td class=\"\">1151</td><td class=\"\">mm.domus.SE333</td><td class=\"\">MaidstoneMuseum</td><td class=\"before_col\">💫Join us for an Unmissable Star </td><td class=\"match_col\">wars</td><td class=\"\"> evening - ‘Mint in Box’ with Matt Fox. 💫 Book here; https://museum.maidstone.gov.uk/whats-on/events/museum-late-mint-in-box-with-matt-fox</td><td class=\"\">2021-07-15</td></tr><tr><td class=\"\">736</td><td class=\"\">mm.domus.SE267</td><td class=\"\">ElyMuseum</td><td class=\"before_col\">It was #OnThisDay, the 15th July 1814, that a big celebration was held in Ely to commemorate the signing of the Treaties of Paris which bought peace with Great Britain, France and the Allied Powers and ended the Napoleonic </td><td class=\"match_col\">Wars</td><td class=\"\">. This event, described as happy yet unexpected was said to be celebrated across the Empire with 'unspeakable joy' with the festivities the most costly and extensive than ever seen before; they remind us that 'however oppressive the times, such acts of liberality and justly deserving of praise and worth</td><td class=\"\">2021-07-15</td></tr><tr><td class=\"\">563</td><td class=\"\">mm.ace.1292</td><td class=\"\">britisharmy</td><td class=\"before_col\">Since 1934, every year we have celebrated Britain's longstanding friendship with Belgium by remembering the sacrifice made by soldiers from both countries in the world </td><td class=\"match_col\">wars</td><td class=\"\"> and after. This is a unique ceremony as Belgium remains the only non-Commonwealth nation to have the honour of an annual parade at the Cenotaph. This year, the musical accompaniment was from Band of the Scots Guards. Find out more about this year’s Belgian Parade: http://ow.ly/iXEa50FtYr</td><td class=\"\">2021-07-12</td></tr><tr><td class=\"\">579</td><td class=\"\">mm.ace.569</td><td class=\"\">MuseumofEnglishRuralLife</td><td class=\"before_col\">The MERL is host to the nineteenth congress of the AIMA (​Association Internationale des Musées d'Agriculture), a highly secret organisation that [checks notes] explores and celebrates rural history research! Head to our blog to learn about the congress, find out how you can get involved, and read more Star </td><td class=\"match_col\">Wars</td><td class=\"\"> puns than a rural history museum should really be able to get away with. https://merl.reading.ac.uk/news-and-views/2021/07/the-merl-goes-intergalatic-or-global-at-least</td><td class=\"\">2021-07-08</td></tr><tr><td class=\"\">844</td><td class=\"\">mm.domus.WA085</td><td class=\"\">museumcardiff</td><td class=\"before_col\">get ready for a live SPACE RAPPING masterclass with science rapper Jon Chase! Mae wedi treulio dros ddegawd yn gwneud sioeau gwyddoniaeth mewn lleoliadau ar draws Ynysoedd Prydain i gynulleidfaoedd o bob math ac mae hefyd wedi cyd-ysgrifennu nifer o lyfrau gwyddoniaeth poblogaidd, gan gynnwys The Science of Star </td><td class=\"match_col\">Wars</td><td class=\"\"> a The Science of Jurassic World. --- He has spent more than a decade doing science shows at venues across the British Isles to all audiences and has also co-authored a number of popular science books, including The Science of Star Wars and The Science of Jurassic World 📅</td><td class=\"\">2021-07-07</td></tr><tr><td class=\"\">359</td><td class=\"\">mm.musa.305</td><td class=\"\">ShakespearesGlobe</td><td class=\"before_col\">Black and portentous must this humour prove Unless good counsel may the cause remove #RomeoAndJuliet Verona is sick, mentally so unwell it's failing its young, culture </td><td class=\"match_col\">wars</td><td class=\"\"> provoke murder, and amongst all that noise, a young couple cling to each other as a way out. Ola Ince's anti-romantic Romeo & Juliet, with Alfred Enoch and Rebekah Murrell as the ill-fated lovers, is now playing in our Globe Theatre. 🎟️ https://bit.ly/GlobeRomeo2021 📸 Marc Brenne</td><td class=\"\">2021-07-06</td></tr><tr><td class=\"\">1507</td><td class=\"\">mm.domus.NW046</td><td class=\"\">lancastercitymuseum</td><td class=\"before_col\">Did you know that The Kings Own Museum has on display the earliest, most complete military uniform in the world? Belonging to 1st Royal Lancashire Militia soldier, Captain Thomas Plumbe, it is almost identical to what would have been worn by soldiers of the Regiment fighting in the American </td><td class=\"match_col\">Wars</td><td class=\"\"> of Independence in 1776. It has been studied and replicated by costumers, academics and living history groups in both the UK and the United States! For further info see- http://www.kingsownmuseum.com/plumbeb.htm #independenceday #4thofJul</td><td class=\"\">2021-07-04</td></tr><tr><td class=\"\">950</td><td class=\"\">mm.musa.252</td><td class=\"\">NationalSpaceCentre</td><td class=\"before_col\">October 2014 to June 2016 as a Space Crew Team Member. In the role, I worked across the galleries, ticketing desk, shop, and cafeteria. What are you memories of the centre? I fondly remember working with the friendly Crew. There was a real buzz about events like the Star </td><td class=\"match_col\">Wars</td><td class=\"\"> weekend and the corporate Christmas parties that were very enjoyable to be involved with. Another key memory is the music from the rocket tower, which is still in my head to this day! How did it help your career? The National Space Centre helped to give me work experience</td><td class=\"\">2021-07-02</td></tr><tr><td class=\"\">1535</td><td class=\"\">mm.domus.WM082</td><td class=\"\">barberinstitute</td><td class=\"before_col\">or painted on paper by British artists including Thomas Gainsborough, JMW Turner and David Cox. From the mid 18th to the mid 19th centuries, many more British artists than ever before turned to landscape for their subject matter. Travel to continental Europe, particularly during the French Revolution and Napoleonic </td><td class=\"match_col\">Wars</td><td class=\"\">, was difficult, and artists explored and found much to interest them in their own countryside. 🌳 Curated by our collections intern, Giulia Schirripa, the display explores the politics behind the art - and the parallels that can be drawn in 2021. Free to visit ➡ https://barber.arttickets.org.uk/barber-institute-of-fine-arts/2020-09-15-barber-general-admissio</td><td class=\"\">2021-07-02</td></tr><tr><td class=\"\">238</td><td class=\"\">mm.domus.WM058</td><td class=\"\">theherbert</td><td class=\"before_col\">returned to Coventry in over 500 years. The rare example of a medieval ceremonial sword had huge civic importance during Coventry’s economic and political heyday in the 1400s. At the time, Coventry was the fourth largest city in England, had its own county and for three years during the </td><td class=\"match_col\">Wars</td><td class=\"\"> of the Roses was the royal capital. Lent by Glasgow Life Glasgow Museums on behalf of Glasgow City Council from the Burrell Collection with the approval of the Burrell Trustees. The loan of the sword to the Herbert has been made possible with the support of Ciaran Davis and</td><td class=\"\">2021-07-02</td></tr><tr><td class=\"\">130</td><td class=\"\">mm.domus.NE011</td><td class=\"\">TheBowesMuseum</td><td class=\"before_col\">by the famous French embroiderer Francois Lesage with gilt strip, cord, sequins, blue and pink rhinestones and finished with three turquoise tinted metal star-burst buttons with brass closure hooks. Alongside Coco Chanel, Elsa Schiaparelli was regarded as one of the most prominent figures in fashion between the two World </td><td class=\"match_col\">Wars</td><td class=\"\">. The jacket was bought for £24,000 at Kerry Taylor Auctions, thanks to a New Collecting Award from the Art Fund. #ElsaSchiaparelli #Jacket #EmbroideredJacket #Fashion #FashionatTheBowesMuseum #TheBowesMuseum #BarnardCastle #Teesdale #CountyDurham #July202</td><td class=\"\">2021-07-02</td></tr><tr><td class=\"\">1023</td><td class=\"\">mm.domus.NW059</td><td class=\"\">birkenheadpriory</td><td class=\"before_col\">by Jim Whelan, or as it is more usually called the Wilfred Owen Statue, can be found in a quiet corner of Hamilton Square. It is dedicated to the eighty-eight Old Boys of Birkenhead Institute who lost their lives during the First World War, the war to end all </td><td class=\"match_col\">wars</td><td class=\"\">, and those who lost their lives in later conflicts. Named after the poem, ‘Futility’ by the school’s most celebrated Old Boy, Wilfred Owen it depicts an exhausted soldier of the Great War. Wilfred Owen (1893-1918) moved to Tranmere, Birkenhead in 1907 when he was seven years of age and</td><td class=\"\">2021-06-29</td></tr><tr><td class=\"\">958</td><td class=\"\">mm.domus.SE080</td><td class=\"\">ColchesterCastle</td><td class=\"before_col\">associated with regiments. These reforms were the foundations for what would become the Territorial Army. The 3rd Essex Militia would become part of the Essex Regiment and would go on to see action across the world in the Boer War and later in both the First and Second World </td><td class=\"match_col\">Wars</td><td class=\"\"></td><td class=\"\">2021-06-27</td></tr><tr><td class=\"\">163</td><td class=\"\">mm.domus.SE071</td><td class=\"\">ColchesterCastle</td><td class=\"before_col\">associated with regiments. These reforms were the foundations for what would become the Territorial Army. The 3rd Essex Militia would become part of the Essex Regiment and would go on to see action across the world in the Boer War and later in both the First and Second World </td><td class=\"match_col\">Wars</td><td class=\"\"></td><td class=\"\">2021-06-27</td></tr><tr><td class=\"\">741</td><td class=\"\">mm.aim.0753</td><td class=\"\">poldarkmine</td><td class=\"before_col\">at Liskeard, St Erth and Par. Most of the mines and quarries used narrow gauge systems both underground and on the surface. We have ten narrow gauge vehicles from various mines and an example of a type of a narrow gauge locomotive used by the enemy in both world </td><td class=\"match_col\">wars</td><td class=\"\"> and later by the Allies when taken in war reparations ending its days in Belgium. Built in Berlin in 1912 Orenstein & Koppel who supplied narrow gauge locomotives to Cornish mines such as Dolcoath. We also have two narrow gauge battery electric mining locomotives typical of many such engines</td><td class=\"\">2021-06-23</td></tr><tr><td class=\"\">1584</td><td class=\"\">mm.musa.368</td><td class=\"\">WaddesdonManor</td><td class=\"before_col\">The Luna Cinema is returning from Thursday 9 to Sunday 12 September with a line-up of classic and feel-good films. Enjoy a night of classic cinema under the stars and choose from rom-com Pretty Woman, must-see modern murder mystery Knives Out, musical Grease or Sci-Fi classic Star </td><td class=\"match_col\">Wars</td><td class=\"\">: A New Hope. Luna Luxe Sofas are now all sold out, so get booking so you don't miss out! Book tickets: https://waddesdon.org.uk/whats-on/open-air-cinema-with-luna-cinema</td><td class=\"\">2021-06-21</td></tr><tr><td class=\"\">1024</td><td class=\"\">mm.domus.NW059</td><td class=\"\">birkenheadpriory</td><td class=\"before_col\">in France awaiting demobilisation. Between June and October 1919, the 11th (Service) Battalion (Accrington), East Lancashire Regiment better known as the famous ‘Accrington Pals’ was based in the Le Havre, Harfleur and Fecamp areas close to the Benedictine Abbey which first produced the liqueur. “The war to end all </td><td class=\"match_col\">wars</td><td class=\"\">” had come to an end and the base, populated with men ravaged by the physical and mental scars of war, had a less regimented and relatively relaxed atmosphere. The men enjoyed their free time in the ensuing hard- fought precious days of peace, in local cafes and bars. Sampling</td><td class=\"\">2021-06-21</td></tr><tr><td class=\"\">508</td><td class=\"\">mm.mgs.362</td><td class=\"\">devilsporridge</td><td class=\"before_col\">Great to see our research on Maud Bruce highlighted in the Daily Record today -- Maud was a munitions worker in both World </td><td class=\"match_col\">Wars</td><td class=\"\">, working at HM Factory Gretna in WW1 and ROF Aycliffe in WW2. Did you know that WW2 munition workers (or their families) can now apply for a munitions workers veterans badge in recognition of their service? #history #localhistory #ww1history #ww2histor</td><td class=\"\">2021-06-20</td></tr><tr><td class=\"\">1362</td><td class=\"\">mm.nimc.043</td><td class=\"\">MEABoroughCouncil</td><td class=\"before_col\">As part of our Armed Forces Day 2021 virtual activities, local councillors read from the works of local poets reflecting days of conflict in the First and Second World </td><td class=\"match_col\">Wars</td><td class=\"\">. Mayor of Mid and East Antrim Borough Council, Cllr. William McCaughey, reads 'Embarkation Leave' by Captain Rev. John Worthington Johnston. Captain Rev. John Worthington Johnston was known as ‘the parachute padre’. He was a Presbyterian minister at Buckna in the Braid Valley and subsequently served in Townsend Street Presbyterian</td><td class=\"\">2021-06-19</td></tr><tr><td class=\"\">63</td><td class=\"\">mm.hha.017</td><td class=\"\">BlenheimPalace</td><td class=\"before_col\">Enjoy an evening of classic #cinema under the stars this #summer as we welcome The Luna Open-Air Cinema back with four fantastic films: Star </td><td class=\"match_col\">Wars</td><td class=\"\">, Bohemian Rhapsody, The Greatest Showman and Some Like It Hot. Which is your favourite? 🍿 🎥 www.thelunacinema.com/blenheim-palace</td><td class=\"\">2021-06-19</td></tr><tr><td class=\"\">1152</td><td class=\"\">mm.domus.NW008</td><td class=\"\">ManchesterArtGallery</td><td class=\"before_col\">Assembling a Hawker Hurricane is currently on loan to Touchstones Rochdale for their exhibition We Can Do It: War's Other Voices, on display until 18 September. Read more about the exhibition from Curator Odile Masiá on Art UK here👇 https://artuk.org/discover/curations/we-can-do-it-</td><td class=\"match_col\">wars</td><td class=\"\">-other-voices Elsie Dalton Hewland was born in Sheffield. She attended her local college of art and the Royal Academy Schools, London. The WAAC commissioned Hewland to paint aeroplane subjects. This painting depicts a factory where Hawker Hurricane fighter planes were constructed and shows men and women working together on an</td><td class=\"\">2021-06-19</td></tr><tr><td class=\"\">1588</td><td class=\"\">mm.domus.YH122</td><td class=\"\">WakefieldMuseum</td><td class=\"before_col\">The world </td><td class=\"match_col\">wars</td><td class=\"\"> had a lasting effect on all areas of life in so many different ways, even gaming. This 'Blackout' card game was produced during #WW2 both to promote blackout measures and raise morale. It features the tagline 'Everybody's playing it!' #WFToyStorie</td><td class=\"\">2021-06-18</td></tr><tr><td class=\"\">266</td><td class=\"\">mm.wiki.114</td><td class=\"\">atlasobscura</td><td class=\"before_col\">The abandoned buildings of a hospital that saw most of its activity during the World </td><td class=\"match_col\">Wars</td><td class=\"\"></td><td class=\"\">2021-06-16</td></tr><tr><td class=\"\">430</td><td class=\"\">mm.misc.139</td><td class=\"\">atlasobscura</td><td class=\"before_col\">The abandoned buildings of a hospital that saw most of its activity during the World </td><td class=\"match_col\">Wars</td><td class=\"\"></td><td class=\"\">2021-06-16</td></tr><tr><td class=\"\">822</td><td class=\"\">mm.aim.0678</td><td class=\"\">NationalCivilWarCentre</td><td class=\"before_col\">Exciting news for teachers! Our fabulous Learning Team and the Education Outreach Team at Newcastle University Library are delighted to announce a new British Civil </td><td class=\"match_col\">Wars</td><td class=\"\"> website for Key Stage 3, launched today! Visit for fascinating facts, videos, quizzes, activities and engaging illustrations, all designed to develop knowledge and understanding of this hugely significant time for 11 to 14 year olds. Find it at http://britishcivilwars.ncl.ac.uk</td><td class=\"\">2021-06-16</td></tr><tr><td class=\"\">1348</td><td class=\"\">mm.domus.WA026</td><td class=\"\">officialcardiffcastle</td><td class=\"before_col\">Mae'r haf bron yma ac ni allwn aros i The Luna Cinema ddychwelyd. Mae'r Sofas Luna Luxe i gyd wedi'u gwerthu ond gallwch ddal i fachu tocynnau i weld y ffilmiau gwych hyn o'r 3-5 Medi! 🎬 - Dirty Dancing 🎬 - The Greatest Showman 🎬 - Star </td><td class=\"match_col\">Wars</td><td class=\"\">: A New Hope Am docynnau, mwy o wybodaeth ac i archebu </td><td class=\"\">2021-06-11</td></tr><tr><td class=\"\">1349</td><td class=\"\">mm.domus.WA026</td><td class=\"\">officialcardiffcastle</td><td class=\"before_col\">Summer's nearly here and we can't wait for The Luna Cinema to return. The Luna Luxe Sofas are all sold out but you can still grab tickets to see these smashing films from the 3-5 September! 🎬 - Dirty Dancing 🎬 - The Greatest Showman 🎬 - Star </td><td class=\"match_col\">Wars</td><td class=\"\">: A New Hope For tickets, more info and booking </td><td class=\"\">2021-06-11</td></tr><tr><td class=\"\">191</td><td class=\"\">mm.aim.0304</td><td class=\"\">amgueddfacorwenmuseum</td><td class=\"before_col\">is currently closed. The Moriah chapel was partly removed (In the 90s) and the section taken to be rebuilt in Canada (trying to find out more about that one). A second Chapel on the main road has the Memorial to the soldiers killed in the First and Second World </td><td class=\"match_col\">Wars</td><td class=\"\">. When searching the census records for the area the area known as Gwyddelwern is sometimes included in Llangar/Cynwyd. It is possible that as you go through each census record your ancestor may be recorded as being born in Gwyddelwern in one and Cynwyd in another. The gazettes show this</td><td class=\"\">2021-06-11</td></tr><tr><td class=\"\">978</td><td class=\"\">mm.musa.260</td><td class=\"\">NewcastleCastle1080</td><td class=\"before_col\">In June 1640, the Second Bishop’s War began a little known conflict that was part of the British Civil </td><td class=\"match_col\">Wars</td><td class=\"\"> of the 1600s. For this week’s blog post, Daniel Fitzgerald has been taking a look at the capture of Newcastle by the Scots during the Bishop’s War and then again in the Civil War, especially the famous siege of 1644, and a small way in which that has left</td><td class=\"\">2021-06-09</td></tr><tr><td class=\"\">51</td><td class=\"\">mm.domus.WM065</td><td class=\"\">AstonHallMuseum</td><td class=\"before_col\">for more than a year. The magnificent Grade 1 listed mansion reopens its doors with brand new displays that explore the fascinating lives of the Hall’s residents and its colourful historic past. Full of architectural and historical delights from its breath-taking Long Gallery to the battle scars of Civil </td><td class=\"match_col\">Wars</td><td class=\"\">, Aston Hall is one of Britain’s finest treasures steeped in 400 years of history. To help manage capacity tickets must be pre-booked via the link below. https://www.birminghammuseums.org.uk/asto</td><td class=\"\">2021-06-09</td></tr><tr><td class=\"\">670</td><td class=\"\">mm.aim82NM.096</td><td class=\"\">DayOutWithTheKids</td><td class=\"before_col\">Puzzlewood has featured in a number of famous films, from Star </td><td class=\"match_col\">Wars</td><td class=\"\"> to the Secret Garden... a must visit this summer 😍 🌱 👉🏼 http://dowtk.co/puzzlewoo</td><td class=\"\">2021-06-09</td></tr><tr><td class=\"\">568</td><td class=\"\">mm.aim.0639</td><td class=\"\">MuseumofBrands</td><td class=\"before_col\">Share below in the comments or tag us, and we will repost some of our favourites. Shown here is a recap of some of most admired objects (based on how many finger prints we clean from our glass!). Whether it's a retro TV, an alcopop, or an original Star </td><td class=\"match_col\">Wars</td><td class=\"\"> figurine - there is bound to be something in our collection to spark joy! Find out more about us at museumofbrands.com #MuseumWeek #MuseumWeek2021 #Culture #Heritage #Arts #Design #Marketing #Branding #LondonCulture #LondonDayOut #OnceUponAtimeMW #BehindTheScenesMW #ChildrensEyesMW #EurekaMW #CaptionThisMW #ArtIsEverywhereMW #WordsForTheFutureM</td><td class=\"\">2021-06-09</td></tr><tr><td class=\"\">769</td><td class=\"\">mm.New.70</td><td class=\"\">QueensMillCastleford</td><td class=\"before_col\">Britian's coast in glorious sunshine. Charles Pears was born in Pontefract in 1873 (died 1958). He was an accomplished artist of nautical themes and seascapes. His paintings captured a time of luxury cruising in style. He was a natural choice to be appointed an Official Naval artist in both </td><td class=\"match_col\">wars</td><td class=\"\"> and one dramatic oil painting of steamers docked ready to escort the wounded from Dunkirk is permanently on display in the National Railway Museum York. It was between the wars when a new generation enjoyed leisure time and had the cash for travel, that Pears used his other talent</td><td class=\"\">2021-06-05</td></tr><tr><td class=\"\">517</td><td class=\"\">mm.domus.SC096</td><td class=\"\">TheDickInstitute</td><td class=\"before_col\">standards seized from the Waterloo Battlefield. Three Standards were produced for Kilmarnock, London & the Royal Scots Dragoon Guards to commemorate the 200 anniversary of the Battle of Waterloo. The capture of the Standard by Charles Ewart helped to bring about the end of the fighting and the Napoleonic </td><td class=\"match_col\">Wars</td><td class=\"\">. (The original standard was cleaned by conservators, but the textile team were able to get a close look at how it was made and plan how they would make the replica). #DeanCastleTextileTeam #VolunteersWeekSco</td><td class=\"\">2021-06-03</td></tr><tr><td class=\"\">207</td><td class=\"\">mm.domus.NW052</td><td class=\"\">CroxtethHall</td><td class=\"before_col\">#TBT | Last week, we announced ticket sales for The Luna Cinema at Croxteth Park 🍿🥤 We're incredibly excited to be welcoming the UK's #1 open air cinema to Liverpool's largest park this September 🎞 Top Gun | Grease | The Greatest Showman | Star </td><td class=\"match_col\">Wars</td><td class=\"\"> Episode IV: A New Hope More Info & tickets ➡ bit.ly/CroxtethOutdoorCinem</td><td class=\"\">2021-06-03</td></tr><tr><td class=\"\">1174</td><td class=\"\">mm.domus.EM042</td><td class=\"\">mansfieldmuseum</td><td class=\"before_col\">Great to see these two memorial plaques on display at the Museum. The plaques were moved from the Co-op/Beales building and commemorate those staff members who lost their lives in both World </td><td class=\"match_col\">Wars</td><td class=\"\">. #wewillrememberthe</td><td class=\"\">2021-06-03</td></tr><tr><td class=\"\">37</td><td class=\"\">mm.musa.010</td><td class=\"\">ApsleyHouse</td><td class=\"before_col\">Did you know that the magnificent silver gilt Portuguese service took four years to make? The craftsman produced over a 1000 pieces of service in Lisbon, Portugal. It was commissioned for the Duke of Wellington and is full references to his victories in the Peninsular </td><td class=\"match_col\">Wars</td><td class=\"\"> in Spain and Portugal. Just one of the many splendours of Apsley House book your tickets https://bit.ly/Apsley-Hous</td><td class=\"\">2021-06-02</td></tr><tr><td class=\"\">213</td><td class=\"\">mm.hha.054</td><td class=\"\">SpottedQuedgeleyKingswayHardwicke</td><td class=\"before_col\">session 10:00- 10:30 snack break ( free fruit and juice) 10:30-12:00 activity session 12-13.00 Lunch 13.00-14.30 rugby skills and games 14.30-14.45 (snack break) 14:45 -16:15 activity session 16:15-16:30 pack up 16:30 collection Proposed Activities to include Football Softball Cricket Orienteering laser tag Water fight & slip and slide NURF </td><td class=\"match_col\">wars</td><td class=\"\"> yoga Bouncy castle afternoon Garden giant games. Movie Free snacks at break time and drinks provided throughout the day. £25 a day 5 days for the price of 4 days Places will be limited and offered on first come first serve basis. All profits made go to Widden Junior</td><td class=\"\">2021-06-01</td></tr><tr><td class=\"\">1124</td><td class=\"\">mm.domus.SE033</td><td class=\"\">ltmuseum</td><td class=\"before_col\">To mark #LondonHistoryDay - a chance to celebrate London's resilience - we're sharing this story from our collection telling how London's transport workers kept the city moving during both world </td><td class=\"match_col\">wars</td><td class=\"\">, with fewer vehicles, an altered workforce and with bombs raining from the sky. Historic England https://www.ltmuseum.co.uk/collections/stories/war/keeping-london-moving-wartim</td><td class=\"\">2021-05-31</td></tr><tr><td class=\"\">208</td><td class=\"\">mm.domus.NW052</td><td class=\"\">CroxtethHall</td><td class=\"before_col\">#JustAdded | The Luna Cinema - the UK's #1 Open Air Cinema - is coming to Croxteth Park THIS September 📽🎞 We will be screening... Top Gun ✈️🕶 Grease 💃🕺 The Greatest Showman 🎩🎪 Star </td><td class=\"match_col\">Wars</td><td class=\"\"> ✨🛸 Food and drink will also be on sale, rounding off a truly magical movie-watching experience 🍿🥤 More info & tickets ➡️ bit.ly/CroxtethOutdoorCinem</td><td class=\"\">2021-05-24</td></tr><tr><td class=\"\">192</td><td class=\"\">mm.aim.0304</td><td class=\"\">amgueddfacorwenmuseum</td><td class=\"before_col\">#OTD 25 May 1977 Star </td><td class=\"match_col\">Wars</td><td class=\"\"> Premiered in 32 cinemas across the United States. Dad remembers going over the Llangollen to Dorothy's to watch films and we also had our very own Glyndwr Cinema (where the old DIY Shop was) and previous to that it was in the old Chapel. What memories do you have</td><td class=\"\">2021-05-24</td></tr><tr><td class=\"\">768</td><td class=\"\">mm.wiki.168</td><td class=\"\">HRPalaces</td><td class=\"before_col\">On 21 May 1471, Henry VI died while imprisoned at the Tower of London during the </td><td class=\"match_col\">Wars</td><td class=\"\"> of the Roses. Though the cause of his death is disputed, his supporters maintained that he was murdered while praying in the Wakefield Tower. To mark the anniversary of his death, every year representatives from Eton College and King’s College, Cambridge (both educational institutions founded by Henry) attend a</td><td class=\"\">2021-05-21</td></tr><tr><td class=\"\">619</td><td class=\"\">mm.domus.SC265</td><td class=\"\">NacHeritage</td><td class=\"before_col\">Today is the beginning of War Graves Week ( 21st to 28th May). Many of the men and women who fought and died during the two world </td><td class=\"match_col\">wars</td><td class=\"\"> are commemorated within our local communities in our local cemteries. Today we tell the story of the tragic loss of 22 airmen when, on 10th of August 1941, RAF Liberator (AM 261) crashed into the ridge at Mullach Buidhe, just north of Goatfell on the Isle of Arran. The</td><td class=\"\">2021-05-21</td></tr><tr><td class=\"\">1508</td><td class=\"\">mm.domus.NW046</td><td class=\"\">lancastercitymuseum</td><td class=\"before_col\">son of a well-respected landscape artist. He took up art himself but focused instead on scenes from history and mythology. This painting tells part of the story of Penelope, the wife of the King of Ithaca. Ulysses (also known as Odysseus), left his wife to fight in the Trojan </td><td class=\"match_col\">Wars</td><td class=\"\"> and was away for nearly twenty years. Penelope, not knowing if her husband was still alive, attracted many suitors during this period. To delay choosing a new husband, Penelope declared she could not marry until she had woven a fine burial cloak for her elderly father-in-law, Laertes. Every day</td><td class=\"\">2021-05-21</td></tr><tr><td class=\"\">1488</td><td class=\"\">mm.ace.1222</td><td class=\"\">HRPalaces</td><td class=\"before_col\">On 21 May 1471, Henry VI died while imprisoned at the Tower of London during the </td><td class=\"match_col\">Wars</td><td class=\"\"> of the Roses. Though the cause of his death is disputed, his supporters maintained that he was murdered while praying in the Wakefield Tower. To mark the anniversary of his death, every year representatives from Eton College and King’s College, Cambridge (both educational institutions founded by Henry) attend a</td><td class=\"\">2021-05-21</td></tr><tr><td class=\"\">683</td><td class=\"\">mm.ace.1176</td><td class=\"\">toweroflondon</td><td class=\"before_col\">On 21 May 1471, Henry VI died while imprisoned at the Tower during the </td><td class=\"match_col\">Wars</td><td class=\"\"> of the Roses. Though the cause of his death is disputed, his supporters maintained that he was murdered while praying in the Wakefield Tower. To mark the anniversary of his death, every year representatives from Eton College and King’s College, Cambridge (both educational institutions founded by Henry) attend a</td><td class=\"\">2021-05-21</td></tr><tr><td class=\"\">1091</td><td class=\"\">mm.misc.066</td><td class=\"\">TheScottishDailyRecord</td><td class=\"before_col\">Our latest top stories: 🔴 The Glasgow Ice Cream </td><td class=\"match_col\">Wars</td><td class=\"\"> mass murder 🔴 Bogus delivery driver stole thousands from OAP 🔴 Jane Park 'in love with her body</td><td class=\"\">2021-05-18</td></tr><tr><td class=\"\">312</td><td class=\"\">mm.domus.SC253</td><td class=\"\">comhairlenaneileansiar</td><td class=\"before_col\">http://www.e-sgoil.com/the-chessmen-thief/ where you can also see Archivist, Seonaid McDonald talking about the chess pieces in the local museum’s collection and telling us which one is her favourite. The Chessmen Thief is Barbara’s sixth book for children. Her other novels for children include Fir for Luck (2016), Punch (2017), Wilderness </td><td class=\"match_col\">Wars</td><td class=\"\"> (2018) and Black Water (2019). She is also a puppeteer and drama teacher, living in the beautiful Highlands of Scotland. Find out more: • e-Sgoil Book Launch - http://www.e-sgoil.com/the-chessmen-thief/ • Barbara Henderson - http://www.barbarahenderson.co.uk</td><td class=\"\">2021-05-17</td></tr><tr><td class=\"\">776</td><td class=\"\">mm.hha.148</td><td class=\"\">RabyCastle</td><td class=\"before_col\">a portrait of Cecily Neville, Duchess of York. Born in 1415, her childhood home was here at Raby Castle. Known as the Rose of Raby, Cecily married Richard, Duke of York in 1429 in a politically strategic match. She was a significant figure during the turbulent years of the </td><td class=\"match_col\">Wars</td><td class=\"\"> of the Roses and mother of two monarchs, Edward IV and Richard III. Few women have been the mother of two Kings and grandmother of both a King and a Queen. The Castle reopens on Wednesday. Book your tickets here: http://ow.ly/clVH50EJFT</td><td class=\"\">2021-05-16</td></tr><tr><td class=\"\">1116</td><td class=\"\">mm.domus.SE562</td><td class=\"\">TheGurkhaMuseum</td><td class=\"before_col\">Police and other Gurkha units were formed up at Thayetmyo in Burma. Confusingly they were initially named the ‘8th Gurkha Rifles’ before briefly existing as the 2nd Battalion, 10th Gurkha Rifles, and finally becoming the 7th Gurkha Rifles in 1907. Both regiments would carry on through both the World </td><td class=\"match_col\">Wars</td><td class=\"\"> and be brought into the British Army in 1948 after the independence of India, forming two of the four regiments which became The Royal Gurkha Rifles in 1994</td><td class=\"\">2021-05-16</td></tr><tr><td class=\"\">338</td><td class=\"\">mm.domus.SC182</td><td class=\"\">ScotlandsJuteMuseum</td><td class=\"before_col\">of a quality which has placed them in a class by themselves. A spacious canteen has been provided for the workers whose welfare has been ever kept in view. The Eagle Jute Mills was constructed in 1930, and is the only major mill built in the city between the </td><td class=\"match_col\">wars</td><td class=\"\">. It was built over the site of the former Baxter Brothers Dens Foundry and Pattern Shop, and actually extended an existing complex dating from the 1860s. The Eagle Mills operated until 1978, and the buildings have been since put to other uses. #onemillmanystories #verdantworks #jut</td><td class=\"\">2021-05-16</td></tr><tr><td class=\"\">1363</td><td class=\"\">mm.nimc.043</td><td class=\"\">MEABoroughCouncil</td><td class=\"before_col\">The aim of the British Legion - as it was known then - was to raise funds to help Great War veterans with employment and housing. Through the years the Royal British Legion has maintained its founding ethos, and it has assisted those who have served in two world </td><td class=\"match_col\">wars</td><td class=\"\"> and in other subsequent conflicts. Local branches of the Royal British Legion within Mid and Eat Antrim will be marking the occasion, by laying wreaths in memory of those who gave their lives in service. Mayor Johnston said: “It is an honour to mark the Royal British Legion (RBL)</td><td class=\"\">2021-05-14</td></tr><tr><td class=\"\">743</td><td class=\"\">mm.domus.YH123</td><td class=\"\">PontefractMuseum</td><td class=\"before_col\">we thought we'd share some of the objects we've acquired over the last year: An extremely rare token from 1649, the earliest known dated token from Yorkshire. Tokens like these were issued by local traders during the currency crisis of the 17th century when the turmoil of the Civil </td><td class=\"match_col\">Wars</td><td class=\"\"> meant small coins were in short supply. A shiny silver sash or belt badge worn by a member of the local militia based at Pontefract Castle during the era of the Napoleonic Wars. Racing plates worn by the champion horse, Chaplins Club in the 1980s. Trained in Yorkshire, Chaplins</td><td class=\"\">2021-05-11</td></tr><tr><td class=\"\">1050</td><td class=\"\">mm.domus.WM110</td><td class=\"\">herefordmuseums</td><td class=\"before_col\">with James Sanger (c1778-1849), who originated from a well to do farming family from Wiltshire. Farming life, however, did not suit James who left for London in his teens. While in London, James was press-ganged by the Navy, who were in desperate need for sailors to fight the Napoleonic </td><td class=\"match_col\">Wars</td><td class=\"\">. James was just 18 when he was seized by the press-gangs at London Bridge and forced into naval service for 10 years. During his service he fought at the Battle of Trafalgar under Admiral Lord Nelson in 1805. A year later James was finally released from service with an</td><td class=\"\">2021-05-11</td></tr><tr><td class=\"\">243</td><td class=\"\">mm.domus.WM108</td><td class=\"\">herefordmuseums</td><td class=\"before_col\">with James Sanger (c1778-1849), who originated from a well to do farming family from Wiltshire. Farming life, however, did not suit James who left for London in his teens. While in London, James was press-ganged by the Navy, who were in desperate need for sailors to fight the Napoleonic </td><td class=\"match_col\">Wars</td><td class=\"\">. James was just 18 when he was seized by the press-gangs at London Bridge and forced into naval service for 10 years. During his service he fought at the Battle of Trafalgar under Admiral Lord Nelson in 1805. A year later James was finally released from service with an</td><td class=\"\">2021-05-11</td></tr><tr><td class=\"\">239</td><td class=\"\">mm.domus.WM058</td><td class=\"\">theherbert</td><td class=\"before_col\">to Coventry in over 500 years ⚔️ The rare example of a medieval ceremonial sword had huge civic importance during Coventry’s economic and political heyday in the 1400s. At the time, Coventry was the fourth largest city in England, had its own county and for three years during the </td><td class=\"match_col\">Wars</td><td class=\"\"> of the Roses was the royal capital. The sword, of which now only the hilt remains, was carried in front of the mayor during processions and was an important symbol of the city’s constitution and liberties. Particularly prominent are instances where the sword was carried in front of Henry</td><td class=\"\">2021-05-10</td></tr><tr><td class=\"\">1585</td><td class=\"\">mm.musa.368</td><td class=\"\">WaddesdonManor</td><td class=\"before_col\">The Luna Cinema is returning to Waddesdon from Thursday 9 to Sunday 12 September with a line-up of classic and feel-good films to make your summer. This year's films include rom-com Pretty Woman, must-see modern murder mystery Knives Out, musical Grease and Sci-Fi classic Star </td><td class=\"match_col\">Wars</td><td class=\"\">: A New Hope. Gather your friends and enjoy a night of classic cinema under the stars, all set to the spectacular backdrop of the Manor. Advance booking essential: https://waddesdon.org.uk/whats-on/open-air-cinema-with-luna-cinema</td><td class=\"\">2021-05-07</td></tr><tr><td class=\"\">1132</td><td class=\"\">mm.hha.065</td><td class=\"\">longleat</td><td class=\"before_col\">📽️ For the first time ever, The Luna Cinema is bringing classic cinema to Longleat for you to enjoy. Gather your friends, pick a date and enjoy a night of your favourite film with Longleat House and the estate as your backdrop. • Thurs 23rd Sept 2021 – Star </td><td class=\"match_col\">Wars</td><td class=\"\">: A New Hope • Fri 24th Sept 2021 – Dirty Dancing • Sat 25th Sept 2021 – The Greatest Showman • Sun 26th Sept 2021 – The Lion King (1994) This is a separately ticketed event with tickets now available through Luna Cinema. For more info and ticket info:</td><td class=\"\">2021-05-07</td></tr><tr><td class=\"\">1350</td><td class=\"\">mm.domus.WA026</td><td class=\"\">officialcardiffcastle</td><td class=\"before_col\">Mae Sinema Luna yn dychwelyd ar gyfer haf 2021. O'r 2-5 Medi gallwch ffarwelio â sinema yn yr ystafell eistedd a ddweud helo i sinema o dan y sêr! 🎬 - Rocketman 🎬 - Dirty Dancing 🎬 - The Greatest Showman 🎬 - Star </td><td class=\"match_col\">Wars</td><td class=\"\">: A New Hope Tocynnau AR WERTH NAWR, mwy o wybodaeth ac archebu </td><td class=\"\">2021-05-07</td></tr><tr><td class=\"\">1351</td><td class=\"\">mm.domus.WA026</td><td class=\"\">officialcardiffcastle</td><td class=\"before_col\">The Luna Cinema returns for summer 2021. From the 2-5 September you can say goodbye to sitting room cinema and hello to cinema under the stars! 🎬 - Rocketman 🎬 - Dirty Dancing 🎬 - The Greatest Showman 🎬 - Star </td><td class=\"match_col\">Wars</td><td class=\"\">: A New Hope Tickets ON SALE NOW, more info and booking </td><td class=\"\">2021-05-07</td></tr><tr><td class=\"\">1130</td><td class=\"\">mm.domus.SE333</td><td class=\"\">MaidstoneMuseum</td><td class=\"before_col\">View of Maidstone Museum from Brenchley Gardens, 1898. Taken over a century ago it is one of the few views in Maidstone that remains almost completely unaltered. Even the iron gates are the same as they are today, lucky survivors of the drives for scrap metal from two world </td><td class=\"match_col\">wars</td><td class=\"\">! (Old Maidstone Collection, OM005) #Photographs #LocalHistory #Maidston</td><td class=\"\">2021-05-07</td></tr><tr><td class=\"\">823</td><td class=\"\">mm.aim.0678</td><td class=\"\">NationalCivilWarCentre</td><td class=\"before_col\">The Untold Story; it's a fantastic and important Black History resource. But have you ever wondered about the lives of Black Stuarts? With Miranda’s help, and guidance from 17th century historians, we're now delving into the archives to find out whether there were Black soldiers in the British Civil </td><td class=\"match_col\">Wars</td><td class=\"\">. Read an article from Sophie Merrix, a PhD student at Lancaster University, describing our knowledge so far at www.nationalcivilwarcentre.com/museum/expertextras. The below film recounts a supposed encounter in Newark with John Americanus, described as a 'Blackamore' soldier</td><td class=\"\">2021-05-06</td></tr><tr><td class=\"\">1140</td><td class=\"\">mm.domus.SE333</td><td class=\"\">MaidstoneMuseum</td><td class=\"before_col\">collection. Plus, we welcome our visitors back with a new exhibition, focusing on fan-favourite: Dinosaurs! 🦕 We can’t wait to welcome you back, as we prepare for lightspeed with our summer blockbuster exhibition: ‘May The Toys Be With You’, which will open in July to the delight of Star </td><td class=\"match_col\">Wars</td><td class=\"\"> fanatics, everywhere. ✨ We are still FREE and you do not have to book a slot, but our opening hours have changed. Please visit our website to plan your visit and work out what you want to see first! https://museum.maidstone.gov.u</td><td class=\"\">2021-05-05</td></tr><tr><td class=\"\">1103</td><td class=\"\">mm.ace.1254</td><td class=\"\">TheFusilierMuseumLondon</td><td class=\"before_col\">Today marks the 200th anniversary of Napoleon Bonaparte’s death on St. Helena. The Royal Fusiliers, then known as the 7th Regiment of Foot, served with distinction during the Napoleonic </td><td class=\"match_col\">Wars</td><td class=\"\">. In early 1809, they took part in the Invasion of Martinique, a French colony in the Caribbean. The besieged French surrendered after four days to which three Eagle Standards were captured by the British. For their accomplishments during the battle, the Royal Fusiliers were awarded the Eagle Standard belonging</td><td class=\"\">2021-05-05</td></tr><tr><td class=\"\">140</td><td class=\"\">mm.wiki.219</td><td class=\"\">VisitMaidstone</td><td class=\"before_col\">A must for all Star </td><td class=\"match_col\">Wars</td><td class=\"\"> fans... coming this summer to Maidstone Museums 'May The Toys Be With You' is one of the UK’s finest collections of vintage Star Wars toys, original cinema posters and set props https://bit.ly/3tjWLoN #lovesoutheastengland #MayTheFourthBeWithYou Visit Ken</td><td class=\"\">2021-05-04</td></tr><tr><td class=\"\">76</td><td class=\"\">mm.wiki.152</td><td class=\"\">HounslowCouncil</td><td class=\"before_col\">It's Star </td><td class=\"match_col\">Wars</td><td class=\"\"> day today, but what you may not know about are the links the movie franchise has with our capital city. So here are 5 facts you may not have heard before: The movies have all been shot near London at Ealing Studios, Elstree Studios, Leavesden Studions, Pinewood Studios and</td><td class=\"\">2021-05-04</td></tr><tr><td class=\"\">268</td><td class=\"\">mm.wiki.114</td><td class=\"\">atlasobscura</td><td class=\"before_col\">The original movie set for the home of \"Star </td><td class=\"match_col\">Wars</td><td class=\"\">\" hero Luke Skywalker</td><td class=\"\">2021-05-04</td></tr><tr><td class=\"\">951</td><td class=\"\">mm.musa.252</td><td class=\"\">NationalSpaceCentre</td><td class=\"before_col\">⭐ Star </td><td class=\"match_col\">Wars</td><td class=\"\"> Day Competition ⭐ Happy #StarWarsDay! We're celebrating by offering you the chance to win an annual pass to the National Space Centre! Share a photo of you at any of our past Star Wars themed events in the comments below. Enter by Friday 7 May 2021 when we will</td><td class=\"\">2021-05-04</td></tr></table><h3>website_sentences (first 130)</h3><table><tr><th>res</th><th>museum_id</th><th>before</th><th>match</th><th>after</th><th>msg_time</th></tr><tr><td class=\"\">210</td><td class=\"\">mm.wiki.489</td><td class=\"before_col\">In this section Overview Prices and opening times Getting here Access History Overview Explore mighty coastal defences built to protect merchant shipping interests during the Napoleonic </td><td class=\"match_col\">Wars</td><td class=\"\"></td><td class=\"\">2021-09-14</td></tr><tr><td class=\"\">201</td><td class=\"\">mm.wiki.418</td><td class=\"before_col\">Volunteers have created a great museum of military memorabilia, including medals, uniforms, photographs and weaponry from the First and Second World </td><td class=\"match_col\">Wars</td><td class=\"\"></td><td class=\"\">2021-09-14</td></tr><tr><td class=\"\">314</td><td class=\"\">mm.wiki.382</td><td class=\"before_col\">The </td><td class=\"match_col\">Wars</td><td class=\"\"> of the Roses\n",
              "Battle of Wakefield\n",
              "Duke of York Monumen</td><td class=\"\">2021-09-14</td></tr><tr><td class=\"\">315</td><td class=\"\">mm.wiki.382</td><td class=\"before_col\">The </td><td class=\"match_col\">Wars</td><td class=\"\"> of the Roses\n",
              "Battle of Wakefield\n",
              "Duke of York Monumen</td><td class=\"\">2021-09-14</td></tr><tr><td class=\"\">177</td><td class=\"\">mm.wiki.378</td><td class=\"before_col\">READ MORE Bramham Estate Strategy 17th February 2019 After 300 years, which include the South Sea Bubble, the untimely death of the heir, dissipation by illegitimate children, crippling gambling debts, a devastating fire, the ravages of two World </td><td class=\"match_col\">Wars</td><td class=\"\"> and death duties, the Lane Fox family still live at Bramham and continue to care for its heritage</td><td class=\"\">2021-09-14</td></tr><tr><td class=\"\">289</td><td class=\"\">mm.wiki.352</td><td class=\"before_col\">The town’s war memorial outside St Gregory’s Church lists the names of the 300 Sudbury men and women who died in the two World </td><td class=\"match_col\">Wars</td><td class=\"\"> but here a series of panels reveals more about their lives and deaths and also the experiences of the 3000 young Americans who were stationed here in WWII</td><td class=\"\">2021-09-14</td></tr><tr><td class=\"\">234</td><td class=\"\">mm.wiki.347</td><td class=\"before_col\">Inside the museum is a small chapel and the roll of honour for civilians killed by enemy action in Lowestoft during both World </td><td class=\"match_col\">Wars</td><td class=\"\"></td><td class=\"\">2021-09-14</td></tr><tr><td class=\"\">307</td><td class=\"\">mm.wiki.323</td><td class=\"before_col\">complete Barrack Room from the 50’s and 60’s an actual Sentry Box from Buckingham Palace and a rebuilt cell from the Guards Depot at Caterham dating back to 1877, visitors are encouraged to wear authentic public duties home service clothing (Bearskin and Tunic) and visit exhibitions from the great </td><td class=\"match_col\">wars</td><td class=\"\"> and more recently Iraq and Afghanistan</td><td class=\"\">2021-09-14</td></tr><tr><td class=\"\">308</td><td class=\"\">mm.wiki.323</td><td class=\"before_col\">The\n",
              "Park Hall Camp\n",
              "was used during the great </td><td class=\"match_col\">Wars</td><td class=\"\"> mainly by the Royal Artiller</td><td class=\"\">2021-09-14</td></tr><tr><td class=\"\">304</td><td class=\"\">mm.wiki.203</td><td class=\"before_col\">Get up close to lots of actual screen used props and costumes from Doctor Who, Red Dwarf, Star </td><td class=\"match_col\">Wars</td><td class=\"\">, Star Trek,Thunderbirds, Stingray and Captain Scarlet with many more surprises</td><td class=\"\">2021-09-14</td></tr><tr><td class=\"\">290</td><td class=\"\">mm.wiki.146</td><td class=\"before_col\">A wander through this charming building will take you from Tewkesbury’s earliest settlers, through the </td><td class=\"match_col\">Wars</td><td class=\"\"> of the Roses, the Civil War and the industrial revolution and into the present day</td><td class=\"\">2021-09-14</td></tr><tr><td class=\"\">266</td><td class=\"\">mm.wiki.137</td><td class=\"before_col\">Constructed in 1759, the five magazines and Proof House were used to test, store and supply gunpowder to the army and navy, being exceptionally busy during the Napoleonic </td><td class=\"match_col\">wars</td><td class=\"\"></td><td class=\"\">2021-09-14</td></tr><tr><td class=\"\">267</td><td class=\"\">mm.wiki.137</td><td class=\"before_col\">A unique Women at War section, which includes the women agents of the Special Operations Executive (SOE) and a Civil Defence display with an original Anderson air-raid shelter covers the unselfish work & sacrifice carried out by British civilians during both World </td><td class=\"match_col\">Wars</td><td class=\"\"></td><td class=\"\">2021-09-14</td></tr><tr><td class=\"\">162</td><td class=\"\">mm.wiki.121</td><td class=\"before_col\">A stitch in Time During both world </td><td class=\"match_col\">wars</td><td class=\"\"> the women of Ashdon knitted socks for the troops</td><td class=\"\">2021-09-14</td></tr><tr><td class=\"\">160</td><td class=\"\">mm.wiki.097</td><td class=\"before_col\">Built in Beverley in 1960 for the Boyd Line, the Arctic Corsair had a career that included a world-record catch and conflict and collision in the Cod </td><td class=\"match_col\">Wars</td><td class=\"\"></td><td class=\"\">2021-09-14</td></tr><tr><td class=\"\">161</td><td class=\"\">mm.wiki.097</td><td class=\"before_col\">In 1976, the Arctic Corsair rammed the Icelandic Coastguard vessel and gunboat Odinn as part of the Cod </td><td class=\"match_col\">Wars</td><td class=\"\"> conflict</td><td class=\"\">2021-09-14</td></tr><tr><td class=\"\">313</td><td class=\"\">mm.wiki.034</td><td class=\"before_col\">In the 18th century, when taxes rose to fund foreign </td><td class=\"match_col\">wars</td><td class=\"\">, some goods could be purchased much more cheaply on the continent and smuggling became rife</td><td class=\"\">2021-09-14</td></tr><tr><td class=\"\">306</td><td class=\"\">mm.wiki.019</td><td class=\"before_col\">The museum has records for each of the men from Waterbeach village who lost their lives in both the First and Second World </td><td class=\"match_col\">Wars</td><td class=\"\"></td><td class=\"\">2021-09-14</td></tr><tr><td class=\"\">311</td><td class=\"\">mm.wiki.008</td><td class=\"before_col\">From 1643 the Castle was used as a prison and was used as such throughout the </td><td class=\"match_col\">Wars</td><td class=\"\"></td><td class=\"\">2021-09-14</td></tr><tr><td class=\"\">256</td><td class=\"\">mm.nimc.018</td><td class=\"before_col\">Our mission is to enrich people’s understanding of the contribution of the people of Northern Ireland in the two world </td><td class=\"match_col\">wars</td><td class=\"\"> and the presence of US Armed Forces in Northern Ireland during the Second World War by preserving and displaying a unique collection and delivering a programme of engaging exhibitions, workshops and events to visitors, groups and schools</td><td class=\"\">2021-09-14</td></tr><tr><td class=\"\">264</td><td class=\"\">mm.musa.286</td><td class=\"before_col\">Today it provides a great day out for visitors and its audio tour, included in the admission price, tells of the castle's 450 year history and the part it played in the First and Second World </td><td class=\"match_col\">Wars</td><td class=\"\"></td><td class=\"\">2021-09-14</td></tr><tr><td class=\"\">251</td><td class=\"\">mm.musa.254</td><td class=\"before_col\">A Victorian fort built in 1862 for a war that never took place, it became known as one of ‘Palmerston’s Follies’ after the politician that commissioned it, but was called into action during both World </td><td class=\"match_col\">Wars</td><td class=\"\"></td><td class=\"\">2021-09-14</td></tr><tr><td class=\"\">247</td><td class=\"\">mm.musa.242</td><td class=\"before_col\">View the Showbiz Collection – Only Fools and Horses three wheeled van, Dads Army display, film and TV props and life sized figures from Star </td><td class=\"match_col\">Wars</td><td class=\"\"> and Dr Who</td><td class=\"\">2021-09-14</td></tr><tr><td class=\"\">246</td><td class=\"\">mm.musa.240</td><td class=\"before_col\">View fullsize Displays at the museum illustrate the part played by the Cowley plant in the development of Oxford between the two world </td><td class=\"match_col\">wars</td><td class=\"\"> and its part in the daily lives of its citizens, in particular the Morris workforce</td><td class=\"\">2021-09-14</td></tr><tr><td class=\"\">239</td><td class=\"\">mm.musa.228</td><td class=\"before_col\">The Walls Today York City Walls Guide and Activities About the </td><td class=\"match_col\">Wars</td><td class=\"\"> of the Roses Groups\n",
              "Bring your group to York and discover the impact these two monarchs had on the city Learnin</td><td class=\"\">2021-09-14</td></tr><tr><td class=\"\">198</td><td class=\"\">mm.musa.129</td><td class=\"before_col\">There are stories of </td><td class=\"match_col\">wars</td><td class=\"\"> and sieges, plague and pestilence</td><td class=\"\">2021-09-14</td></tr><tr><td class=\"\">192</td><td class=\"\">mm.musa.101</td><td class=\"before_col\">contribution to the efforts of </td><td class=\"match_col\">wars</td><td class=\"\"> was not just manpower, machines and money like all other towns and villages</td><td class=\"\">2021-09-14</td></tr><tr><td class=\"\">183</td><td class=\"\">mm.musa.074</td><td class=\"before_col\">Memorial books of the First and Second World </td><td class=\"match_col\">Wars</td><td class=\"\"> onwards are displayed, from which names are formally read out each Friday</td><td class=\"\">2021-09-14</td></tr><tr><td class=\"\">157</td><td class=\"\">mm.mgs.388</td><td class=\"before_col\">ministers\n",
              "national </td><td class=\"match_col\">wars</td><td class=\"\">\n",
              "pier</td><td class=\"\">2021-09-14</td></tr><tr><td class=\"\">190</td><td class=\"\">mm.mgs.370</td><td class=\"before_col\">As well as the story of Creetown granite you can: Visit the “War Room” to see what villagers did through two world </td><td class=\"match_col\">wars</td><td class=\"\"> Find out about the “church in a railway carriage</td><td class=\"\">2021-09-14</td></tr><tr><td class=\"\">257</td><td class=\"\">mm.mgs.352</td><td class=\"before_col\">Year Image Displays (clockwise) 2013-2014 Goblin Invasion\n",
              "event: August 16th, 2013 God </td><td class=\"match_col\">Wars</td><td class=\"\"> Dungeon\n",
              ": October 16th, 2013 Rooftop Agility Courses\n",
              ": December 5th, 2013 Nightmare Zone\n",
              ": September 5th, 2013 Slayer helmet\n",
              ": January 6th, 2014 2014-2015 Zulrah\n",
              ": January 8th, 2015 Corporeal Beast\n",
              ": October 16th</td><td class=\"\">2021-09-14</td></tr><tr><td class=\"\">296</td><td class=\"\">mm.mgs.343</td><td class=\"before_col\">Discussion on matters of religion often causes arguments and many </td><td class=\"match_col\">wars</td><td class=\"\"> have been fought ostensibly to impose or defend one religion against another</td><td class=\"\">2021-09-14</td></tr><tr><td class=\"\">197</td><td class=\"\">mm.mgs.075</td><td class=\"before_col\">Discover the history of Dunoon and Cowal from Neolithic settlers, through Highland clan battles, Victorian expansion, the Clyde Steamers in their heyday, to both World </td><td class=\"match_col\">Wars</td><td class=\"\"> and the Cold War</td><td class=\"\">2021-09-14</td></tr><tr><td class=\"\">265</td><td class=\"\">mm.mald.124</td><td class=\"before_col\">It survived sieges, </td><td class=\"match_col\">wars</td><td class=\"\"> and division to become one of the most prominent castles in Wales</td><td class=\"\">2021-09-14</td></tr><tr><td class=\"\">228</td><td class=\"\">mm.mald.080</td><td class=\"before_col\">This was midway between the Battles of Trafalgar and Waterloo, at the most difficult period of the Napoleonic </td><td class=\"match_col\">Wars</td><td class=\"\"></td><td class=\"\">2021-09-14</td></tr><tr><td class=\"\">182</td><td class=\"\">mm.mald.028</td><td class=\"before_col\">The children have really enjoyed learning about both world </td><td class=\"match_col\">wars</td><td class=\"\">, and have shown so much interest, understanding and compassion, which was mainly due to the invaluable experience that they gained from you all at Carew Cheriton</td><td class=\"\">2021-09-14</td></tr><tr><td class=\"\">164</td><td class=\"\">mm.hha.163</td><td class=\"before_col\">Following his inheritance, General James went on to fight in the American </td><td class=\"match_col\">Wars</td><td class=\"\"> of Independence and, upon his return, became Governor of Stirling Castle</td><td class=\"\">2021-09-14</td></tr><tr><td class=\"\">165</td><td class=\"\">mm.hha.163</td><td class=\"before_col\">It fell upon the 5\n",
              "th\n",
              "Baronet, Sir George Macpherson-Grant, to guide Ballindalloch Castle and Estate through the tumultuous era of two world </td><td class=\"match_col\">wars</td><td class=\"\"></td><td class=\"\">2021-09-14</td></tr><tr><td class=\"\">166</td><td class=\"\">mm.hha.163</td><td class=\"before_col\">Then the internecine feuding of the English and Scottish Civil </td><td class=\"match_col\">Wars</td><td class=\"\"> intervened in the history of the Castle</td><td class=\"\">2021-09-14</td></tr><tr><td class=\"\">167</td><td class=\"\">mm.hha.163</td><td class=\"before_col\">Most notable amongst the original artworks that adorn the Dining Room are portraits of King George III and Queen Charlotte by the famous Georgian royal artist Allan Ramsay, presented to General James Grant in recognition of his military service in the American </td><td class=\"match_col\">Wars</td><td class=\"\"> of Independence</td><td class=\"\">2021-09-14</td></tr><tr><td class=\"\">168</td><td class=\"\">mm.hha.163</td><td class=\"before_col\">Throughout the turbulent years of the English and Scottish Civil </td><td class=\"match_col\">Wars</td><td class=\"\"> the loyalties of the major Highland Clans were always volatile and at various times both royalists and republicans had found willing help in the mountains beyond Perth</td><td class=\"\">2021-09-14</td></tr><tr><td class=\"\">229</td><td class=\"\">mm.fcm.148</td><td class=\"before_col\">The London Film Museum (previously The Movieum) was founded and created by Jonathan Sands in February 2008 following the success of Star </td><td class=\"match_col\">Wars</td><td class=\"\"></td><td class=\"\">2021-09-14</td></tr><tr><td class=\"\">230</td><td class=\"\">mm.fcm.148</td><td class=\"before_col\">Jonathan worked with Nick Harrison on special projects which included The Aliens Resurrection party at BAFTA and a grand event for the Prince of Malaysia on the set of Star </td><td class=\"match_col\">Wars</td><td class=\"\">: Episode 1 – The Phantom Menace at Leavesden Studios</td><td class=\"\">2021-09-14</td></tr><tr><td class=\"\">231</td><td class=\"\">mm.fcm.148</td><td class=\"before_col\">Star </td><td class=\"match_col\">Wars</td><td class=\"\"> -The Exhibition opened on May 4th 2007 and was a great success and voted Britain’s No1 family attraction by the Telegraph</td><td class=\"\">2021-09-14</td></tr><tr><td class=\"\">232</td><td class=\"\">mm.fcm.148</td><td class=\"before_col\">When Star </td><td class=\"match_col\">Wars</td><td class=\"\"> closed and moved on in January 2008, Jonathan set about moving his entire collection into County Hall under the banner of The Movieum of London, which opened to a fantastic reception in February 2008, following the signing of a 25 year lease on 35,000 sq.ft of the first floor</td><td class=\"\">2021-09-14</td></tr><tr><td class=\"\">226</td><td class=\"\">mm.fcm.145</td><td class=\"before_col\">The World </td><td class=\"match_col\">Wars</td><td class=\"\"> During WW</td><td class=\"\">2021-09-14</td></tr><tr><td class=\"\">302</td><td class=\"\">mm.domus.YH103</td><td class=\"before_col\">This is reflected in the fascinating collections, which cover the era of the Glorious Revolution, the Napoleonic </td><td class=\"match_col\">Wars</td><td class=\"\">, the Crimean War, the Boer War, First World War, Second World War, the Korean War, the Irish Troubles and more recent operations</td><td class=\"\">2021-09-14</td></tr><tr><td class=\"\">213</td><td class=\"\">mm.domus.YH058</td><td class=\"before_col\">The photographs featured show men from Hedon who fought in world </td><td class=\"match_col\">wars</td><td class=\"\"> 1 and 2 </td><td class=\"\">2021-09-14</td></tr><tr><td class=\"\">214</td><td class=\"\">mm.domus.WM144</td><td class=\"before_col\">The Rifles </td><td class=\"match_col\">Wars</td><td class=\"\"> Navigation On Active Servic</td><td class=\"\">2021-09-14</td></tr><tr><td class=\"\">215</td><td class=\"\">mm.domus.WM144</td><td class=\"before_col\">The Rifles </td><td class=\"match_col\">Wars</td><td class=\"\"></td><td class=\"\">2021-09-14</td></tr><tr><td class=\"\">216</td><td class=\"\">mm.domus.WM144</td><td class=\"before_col\">Home History </td><td class=\"match_col\">Wars</td><td class=\"\"></td><td class=\"\">2021-09-14</td></tr><tr><td class=\"\">259</td><td class=\"\">mm.domus.WM134</td><td class=\"before_col\">The house was originally built in the 16th century, yet its interiors were extensively restored between the First and Second World </td><td class=\"match_col\">Wars</td><td class=\"\"> by Graham Baron Ash to create a fascinating 20th-century evocation of domestic Tudor architecture</td><td class=\"\">2021-09-14</td></tr><tr><td class=\"\">277</td><td class=\"\">mm.domus.WM098</td><td class=\"before_col\">See displays about both World </td><td class=\"match_col\">Wars</td><td class=\"\"></td><td class=\"\">2021-09-14</td></tr><tr><td class=\"\">278</td><td class=\"\">mm.domus.WA082</td><td class=\"before_col\">Royal Welch history begins with the campaigns of William III, and includes Marlborough's </td><td class=\"match_col\">wars</td><td class=\"\">, the American War of Independence, the wars with Revolutionary and Napoleonic France, the Crimean War, the Boer War and China</td><td class=\"\">2021-09-14</td></tr><tr><td class=\"\">279</td><td class=\"\">mm.domus.WA082</td><td class=\"before_col\">Many battalions of the Regiment saw action in the First and Second World </td><td class=\"match_col\">Wars</td><td class=\"\"></td><td class=\"\">2021-09-14</td></tr><tr><td class=\"\">280</td><td class=\"\">mm.domus.WA082</td><td class=\"before_col\">North Wales is the traditional home of the Royal Welch Fusiliers but recruits have come from all over the United Kingdom and Ireland, particularly during the two World </td><td class=\"match_col\">Wars</td><td class=\"\"></td><td class=\"\">2021-09-14</td></tr><tr><td class=\"\">245</td><td class=\"\">mm.domus.WA027</td><td class=\"before_col\">The Regimental Colours and the Freedoms of towns are on view, and exhibits recount the Regiment’s service in the Militia and the Boer War, and in the two World </td><td class=\"match_col\">Wars</td><td class=\"\">, and more recent conflicts</td><td class=\"\">2021-09-14</td></tr><tr><td class=\"\">225</td><td class=\"\">mm.domus.SW215</td><td class=\"before_col\">The Hollow Crown at Lacock Lacock Abbey stars in 'The Hollow Crown: The </td><td class=\"match_col\">Wars</td><td class=\"\"> of the Roses' alongside Benedict Cumberbatch and Dame Judi Dench</td><td class=\"\">2021-09-14</td></tr><tr><td class=\"\">159</td><td class=\"\">mm.domus.SW198</td><td class=\"before_col\">What's on Leaf </td><td class=\"match_col\">wars</td><td class=\"\"> National Trust Images/Chris Lacey Family activities at Antony Discover the autumnal trail at Antony and soak up the delights of the season as a family</td><td class=\"\">2021-09-14</td></tr><tr><td class=\"\">236</td><td class=\"\">mm.domus.SW183</td><td class=\"before_col\">She served in both world </td><td class=\"match_col\">wars</td><td class=\"\">, earning the most battle honours ever awarded to an individual ship in the Royal Navy, including the most awarded for actions in the Second World War</td><td class=\"\">2021-09-14</td></tr><tr><td class=\"\">260</td><td class=\"\">mm.domus.SW182</td><td class=\"before_col\">Set on a headland with breathtaking views out to sea, this picturesque castle has defended Cornwall since Tudor times and played a vital role during the two World </td><td class=\"match_col\">Wars</td><td class=\"\"></td><td class=\"\">2021-09-14</td></tr><tr><td class=\"\">261</td><td class=\"\">mm.domus.SW182</td><td class=\"before_col\">1775-1815\n",
              "Wartime Additions During the American and Napoleonic </td><td class=\"match_col\">wars</td><td class=\"\">, the local Miners' Militia garrisons Pendennis</td><td class=\"\">2021-09-14</td></tr><tr><td class=\"\">287</td><td class=\"\">mm.domus.SW158</td><td class=\"before_col\">Our story begins in 1694, travels through the Napoleonic </td><td class=\"match_col\">Wars</td><td class=\"\">, the Age of Empire, Worlds Wars, Korea and right up to modern day conflicts</td><td class=\"\">2021-09-14</td></tr><tr><td class=\"\">305</td><td class=\"\">mm.domus.SW140</td><td class=\"before_col\">🙂 Follow the fortunes of the Westcott family from 1646 to the present day as they fight civil </td><td class=\"match_col\">wars</td><td class=\"\">, the ups and downs of working class life in the 18th and 19th centuries, two world wars and the summer of love</td><td class=\"\">2021-09-14</td></tr><tr><td class=\"\">219</td><td class=\"\">mm.domus.SW039</td><td class=\"before_col\">The Queen’s Own Dorset Yeomanry – The Beginning 11th Regiment of Foot in The Napoleonic </td><td class=\"match_col\">Wars</td><td class=\"\"> - The Early Years 11th Regiment of Foot in The Napoleonic War - The Peninsular Wars 11th Regiment of Foot in The Napoleonic Wars </td><td class=\"\">2021-09-14</td></tr><tr><td class=\"\">220</td><td class=\"\">mm.domus.SW039</td><td class=\"before_col\">The Queen's Own Dorset Yeomanry in the First World War Between The </td><td class=\"match_col\">Wars</td><td class=\"\"></td><td class=\"\">2021-09-14</td></tr><tr><td class=\"\">221</td><td class=\"\">mm.domus.SW039</td><td class=\"before_col\">The Dorsetshire Regiment Between the </td><td class=\"match_col\">Wars</td><td class=\"\"> Second World Wa</td><td class=\"\">2021-09-14</td></tr><tr><td class=\"\">222</td><td class=\"\">mm.domus.SW039</td><td class=\"before_col\">First World War\n",
              "Between The </td><td class=\"match_col\">Wars</td><td class=\"\"></td><td class=\"\">2021-09-14</td></tr><tr><td class=\"\">180</td><td class=\"\">mm.domus.SW006</td><td class=\"before_col\">Whether you want to research your family history, learn more about the Heroes of World </td><td class=\"match_col\">Wars</td><td class=\"\">, enjoy the story of the Mayflower or our rich Maritime heritage, we have something for everyone in our welcoming family friendly Museum</td><td class=\"\">2021-09-14</td></tr><tr><td class=\"\">312</td><td class=\"\">mm.domus.SE592</td><td class=\"before_col\">We have a large collection of old photographs and files on local people, events, clubs and associations and information on Woburn in the two World </td><td class=\"match_col\">Wars</td><td class=\"\"></td><td class=\"\">2021-09-14</td></tr><tr><td class=\"\">262</td><td class=\"\">mm.domus.SE557</td><td class=\"before_col\">This remarkable collection reflects a journey of survival and success through the Tudor Reformation, the Gunpowder Plot, the Napoleonic </td><td class=\"match_col\">Wars</td><td class=\"\"> and the consolidation of the British Empire</td><td class=\"\">2021-09-14</td></tr><tr><td class=\"\">258</td><td class=\"\">mm.domus.SE544</td><td class=\"before_col\">A brief history of Oxburgh Hall Despite being built during the </td><td class=\"match_col\">Wars</td><td class=\"\"> of the Rose</td><td class=\"\">2021-09-14</td></tr><tr><td class=\"\">194</td><td class=\"\">mm.domus.SE500</td><td class=\"before_col\">Fast forward over 700 years and discover the vital role Dover Castle played in two world </td><td class=\"match_col\">wars</td><td class=\"\"> at the recreated Port War Signalling Station</td><td class=\"\">2021-09-14</td></tr><tr><td class=\"\">195</td><td class=\"\">mm.domus.SE500</td><td class=\"before_col\">Revolutionary and Napoleonic </td><td class=\"match_col\">Wars</td><td class=\"\"></td><td class=\"\">2021-09-14</td></tr><tr><td class=\"\">255</td><td class=\"\">mm.domus.SE485</td><td class=\"before_col\">It illustrates its vital role in national defence in two World </td><td class=\"match_col\">Wars</td><td class=\"\">, through to the post World War 2 run-down and closure and finally resurrection as the North Norfolk Railway</td><td class=\"\">2021-09-14</td></tr><tr><td class=\"\">268</td><td class=\"\">mm.domus.SE470</td><td class=\"before_col\">Regiment was involved in many of the British Army’s campaigns of the 18th and 19th century as well as the First and Second World </td><td class=\"match_col\">Wars</td><td class=\"\"></td><td class=\"\">2021-09-14</td></tr><tr><td class=\"\">224</td><td class=\"\">mm.domus.SE322</td><td class=\"before_col\">In 1792, during the Napoleonic </td><td class=\"match_col\">Wars</td><td class=\"\">, its owner Philippe D’Auverge converted it into a Gothic folly and signalling station known as The Prince’s Tower</td><td class=\"\">2021-09-14</td></tr><tr><td class=\"\">223</td><td class=\"\">mm.domus.SE320</td><td class=\"before_col\">Our displays then take the visitor through the 19th century, the Boer War (when the Sharpshooters were formed), the two world </td><td class=\"match_col\">wars</td><td class=\"\">, and modern times</td><td class=\"\">2021-09-14</td></tr><tr><td class=\"\">218</td><td class=\"\">mm.domus.SE304</td><td class=\"before_col\">Then explore Cardinal Wolsey’s birthplace and see how it survived through Civil war, World </td><td class=\"match_col\">wars</td><td class=\"\"> and into a modern era</td><td class=\"\">2021-09-14</td></tr><tr><td class=\"\">181</td><td class=\"\">mm.domus.SE227</td><td class=\"before_col\">It includes local industries, schools, police and fire brigade history, the World </td><td class=\"match_col\">Wars</td><td class=\"\">, transport, celebrities, Bushey Pottery, and more</td><td class=\"\">2021-09-14</td></tr><tr><td class=\"\">310</td><td class=\"\">mm.domus.SE220</td><td class=\"before_col\">Recently we enjoyed the star </td><td class=\"match_col\">wars</td><td class=\"\"> theme and exploring the trail</td><td class=\"\">2021-09-14</td></tr><tr><td class=\"\">309</td><td class=\"\">mm.domus.SE215</td><td class=\"before_col\">Fishing and shipbuilding resulted from this strategic position together with a requirement for defence works in both world </td><td class=\"match_col\">wars</td><td class=\"\"></td><td class=\"\">2021-09-14</td></tr><tr><td class=\"\">178</td><td class=\"\">mm.domus.SE199</td><td class=\"before_col\">With special reference to Brentwood including a 1930s kitchen, toys, games, mother and childhood displays and memorabilia from 2 world </td><td class=\"match_col\">wars</td><td class=\"\"></td><td class=\"\">2021-09-14</td></tr><tr><td class=\"\">217</td><td class=\"\">mm.domus.SE166</td><td class=\"before_col\">The dramatic exploits of men who fought in the Peninsula War, the Charge of the Light Brigade, the two World </td><td class=\"match_col\">Wars</td><td class=\"\"> are revealed and much more besides</td><td class=\"\">2021-09-14</td></tr><tr><td class=\"\">158</td><td class=\"\">mm.domus.SE007</td><td class=\"before_col\">The Anaesthesia Heritage Centre tells the remarkable story of anaesthesia, from its first public demonstration in 1846 to modern day anaesthetists working in the aftermath of </td><td class=\"match_col\">wars</td><td class=\"\"> and terrorist attacks</td><td class=\"\">2021-09-14</td></tr><tr><td class=\"\">172</td><td class=\"\">mm.domus.SE004</td><td class=\"before_col\">English Heritage describes it as ‘one of the most important battles’ of the </td><td class=\"match_col\">Wars</td><td class=\"\"> of the Roses, a series of English civil wars over who should be king</td><td class=\"\">2021-09-14</td></tr><tr><td class=\"\">252</td><td class=\"\">mm.domus.SC276</td><td class=\"before_col\">m Home Support CEN Museum Open Menu Crofting Fishing Weaving Butt of Lewis Lighthouse Rona Cross The Decca Station The World </td><td class=\"match_col\">Wars</td><td class=\"\"> Local Businesses Galleries Open Menu Current Exhibition</td><td class=\"\">2021-09-14</td></tr><tr><td class=\"\">272</td><td class=\"\">mm.domus.SC180</td><td class=\"before_col\">Do you want to create your own battlefield tour to sights of </td><td class=\"match_col\">wars</td><td class=\"\"> from the past</td><td class=\"\">2021-09-14</td></tr><tr><td class=\"\">211</td><td class=\"\">mm.domus.SC145</td><td class=\"before_col\">The museum, sited next to Hawick's impressive war memorial, houses the town's hand-painted Rolls of Honour for those who lost their lives in the two world </td><td class=\"match_col\">wars</td><td class=\"\"></td><td class=\"\">2021-09-14</td></tr><tr><td class=\"\">212</td><td class=\"\">mm.domus.SC145</td><td class=\"before_col\">The newly-refurbished War Memorial Room tells the story of Hawick's people in Britain's </td><td class=\"match_col\">wars</td><td class=\"\">, with a fascinating collection of military memorabilia and wartime souvenirs on display</td><td class=\"\">2021-09-14</td></tr><tr><td class=\"\">263</td><td class=\"\">mm.domus.SC134</td><td class=\"before_col\">As we remember the fallen of both world </td><td class=\"match_col\">wars</td><td class=\"\">, and in conflicts since, we take a look at Trust places that were affected by war and its aftermath</td><td class=\"\">2021-09-14</td></tr><tr><td class=\"\">188</td><td class=\"\">mm.domus.SC036</td><td class=\"before_col\">I’s invasion of Scotland in 1296 to the </td><td class=\"match_col\">Wars</td><td class=\"\"> of Scottish Independence to the Battle of Flodden</td><td class=\"\">2021-09-14</td></tr><tr><td class=\"\">227</td><td class=\"\">mm.domus.NW167</td><td class=\"before_col\">This exhibition highlights the essential role women played in keeping the county (and country) going during the first and second World </td><td class=\"match_col\">Wars</td><td class=\"\"></td><td class=\"\">2021-09-14</td></tr><tr><td class=\"\">202</td><td class=\"\">mm.domus.NW125</td><td class=\"before_col\">This exhibition highlights the essential role women played in keeping the county (and country) going during the first and second World </td><td class=\"match_col\">Wars</td><td class=\"\"></td><td class=\"\">2021-09-14</td></tr><tr><td class=\"\">288</td><td class=\"\">mm.domus.NW068</td><td class=\"before_col\">This exhibition highlights the essential role women played in keeping the county (and country) going during the first and second World </td><td class=\"match_col\">Wars</td><td class=\"\"></td><td class=\"\">2021-09-14</td></tr><tr><td class=\"\">249</td><td class=\"\">mm.domus.NW028</td><td class=\"before_col\">This provides an educational resource and project-based examination of the Civil </td><td class=\"match_col\">Wars</td><td class=\"\"> in Cheshire</td><td class=\"\">2021-09-14</td></tr><tr><td class=\"\">187</td><td class=\"\">mm.domus.NW026</td><td class=\"before_col\">Learn about the </td><td class=\"match_col\">wars</td><td class=\"\"> they fought, experience life in the trenches for a World War One soldier, and immerse yourself in the history of the soldiers</td><td class=\"\">2021-09-14</td></tr><tr><td class=\"\">169</td><td class=\"\">mm.domus.NI023</td><td class=\"before_col\">The permanent exhibition includes the story of the area since early times including the mystical Derrykeighan Stone from which the museum takes its enigmatic logo, the 1798 Rebellion, local involvement in the two World </td><td class=\"match_col\">Wars</td><td class=\"\">, the Corfield Camera factory and the history of Road Racing in Ireland</td><td class=\"\">2021-09-14</td></tr><tr><td class=\"\">274</td><td class=\"\">mm.domus.NI011</td><td class=\"before_col\">Joe, originally from Scotland, was an import to Armagh who took the City to his heart and did a huge amount of research about the fallen of Armagh in the two World </td><td class=\"match_col\">Wars</td><td class=\"\"></td><td class=\"\">2021-09-14</td></tr><tr><td class=\"\">275</td><td class=\"\">mm.domus.NI011</td><td class=\"before_col\">But for Joe and his work on the fallen in Armagh in the two World </td><td class=\"match_col\">Wars</td><td class=\"\">, the plagues that are now on the War Memorial on The Mall, would never have been completed</td><td class=\"\">2021-09-14</td></tr><tr><td class=\"\">204</td><td class=\"\">mm.domus.NE041</td><td class=\"before_col\">Exhibits from last century’s school days, Victorian toys, exquisite model houses, and records of those involved in World </td><td class=\"match_col\">Wars</td><td class=\"\"> – all these will bring back memories for many visitors</td><td class=\"\">2021-09-14</td></tr><tr><td class=\"\">276</td><td class=\"\">mm.domus.EM068</td><td class=\"before_col\">Two galleries cover the two World </td><td class=\"match_col\">Wars</td><td class=\"\">, and there is a reconstruction of a World War One front line trench</td><td class=\"\">2021-09-14</td></tr><tr><td class=\"\">155</td><td class=\"\">mm.domus.EM048</td><td class=\"before_col\">The two Regiments saw action in almost all of the major campaigns in which the British Army has fought the Napoleonic </td><td class=\"match_col\">Wars</td><td class=\"\"> and Waterloo, Afghanistan, India and South Africa and the First and Second World Wars</td><td class=\"\">2021-09-14</td></tr><tr><td class=\"\">303</td><td class=\"\">mm.aim.1202</td><td class=\"before_col\">, the Museum houses local archaeology, articles from local churches, domestic history, details of local people, their memorabilia, artefacts and articles from the two world </td><td class=\"match_col\">wars</td><td class=\"\"></td><td class=\"\">2021-09-14</td></tr><tr><td class=\"\">273</td><td class=\"\">mm.aim.1182</td><td class=\"before_col\">Enjoy cult classics, including: Top Gun, The Greatest Showman, Grease & Star </td><td class=\"match_col\">Wars</td><td class=\"\"></td><td class=\"\">2021-09-14</td></tr><tr><td class=\"\">298</td><td class=\"\">mm.aim.1115</td><td class=\"before_col\">The Queen’s Own Dorset Yeomanry – The Beginning 11th Regiment of Foot in The Napoleonic </td><td class=\"match_col\">Wars</td><td class=\"\"> - The Early Years 11th Regiment of Foot in The Napoleonic War - The Peninsular Wars 11th Regiment of Foot in The Napoleonic Wars </td><td class=\"\">2021-09-14</td></tr><tr><td class=\"\">299</td><td class=\"\">mm.aim.1115</td><td class=\"before_col\">The Queen's Own Dorset Yeomanry in the First World War Between The </td><td class=\"match_col\">Wars</td><td class=\"\"></td><td class=\"\">2021-09-14</td></tr><tr><td class=\"\">300</td><td class=\"\">mm.aim.1115</td><td class=\"before_col\">The Dorsetshire Regiment Between the </td><td class=\"match_col\">Wars</td><td class=\"\"> Second World Wa</td><td class=\"\">2021-09-14</td></tr><tr><td class=\"\">301</td><td class=\"\">mm.aim.1115</td><td class=\"before_col\">First World War\n",
              "Between The </td><td class=\"match_col\">Wars</td><td class=\"\"></td><td class=\"\">2021-09-14</td></tr><tr><td class=\"\">294</td><td class=\"\">mm.aim.1017</td><td class=\"before_col\">The Battle of Toulouse was one of the last battles of the Napoleonic </td><td class=\"match_col\">Wars</td><td class=\"\"> and signifies the virtual collapse of the French empire</td><td class=\"\">2021-09-14</td></tr><tr><td class=\"\">254</td><td class=\"\">mm.aim.0699</td><td class=\"before_col\">The impressive fortifications, which have protected the Fort from attack through two World </td><td class=\"match_col\">Wars</td><td class=\"\">, have also kept its rich heritage virtually untouched</td><td class=\"\">2021-09-14</td></tr><tr><td class=\"\">282</td><td class=\"\">mm.aim.0440</td><td class=\"before_col\">The ‘King of the Seaside Postcard’, Donald created over 12,000 cards between 1904 and 1962, covering life throughout the 20th century – from the Suffragette Movement, through two World </td><td class=\"match_col\">Wars</td><td class=\"\"> – in fact everything he observed throughout a career which spanned nearly six decades</td><td class=\"\">2021-09-14</td></tr><tr><td class=\"\">200</td><td class=\"\">mm.aim.0393</td><td class=\"before_col\">Over the past 200 years, our local fire services have had to deal with every type of incident, from house fires to cotton mill blazes, from all kinds of industrial fires to major ship, road, rail and aircraft incidents, as well as two world </td><td class=\"match_col\">wars</td><td class=\"\"> and terrorist incidents of national significance</td><td class=\"\">2021-09-14</td></tr><tr><td class=\"\">193</td><td class=\"\">mm.aim.0358</td><td class=\"before_col\">The Devonport Naval Heritage Site and Visitor Centre records the development of The Dockyard and Plymouth’s pivotal role in supporting the Royal Navy through major conflicts since 1300, including two World </td><td class=\"match_col\">Wars</td><td class=\"\"></td><td class=\"\">2021-09-14</td></tr><tr><td class=\"\">196</td><td class=\"\">mm.aim.0282</td><td class=\"before_col\">Sorry, there are currently no upcoming events Visit the solway Military Trail Solway Military Trail From the American war of independence via two World </td><td class=\"match_col\">Wars</td><td class=\"\"> to the Cold War and beyond</td><td class=\"\">2021-09-14</td></tr><tr><td class=\"\">189</td><td class=\"\">mm.aim.0228</td><td class=\"before_col\">m Home Support CEN Museum Open Menu Crofting Fishing Weaving Butt of Lewis Lighthouse Rona Cross The Decca Station The World </td><td class=\"match_col\">Wars</td><td class=\"\"> Local Businesses Galleries Open Menu Current Exhibition</td><td class=\"\">2021-09-14</td></tr><tr><td class=\"\">176</td><td class=\"\">mm.aim.0109</td><td class=\"before_col\">With changing exhibitions and displays about the town's contributions to world </td><td class=\"match_col\">wars</td><td class=\"\">, the pottery industry, the granite tramway, local mining, agriculture and railways, there is something to interest everyone</td><td class=\"\">2021-09-14</td></tr><tr><td class=\"\">170</td><td class=\"\">mm.aim.0054</td><td class=\"before_col\">Read More Museum Discover the remarkable achievements of enlightened William Armstrong, known as The Magician of The North and see fascinating aviation and military artefacts from two World </td><td class=\"match_col\">Wars</td><td class=\"\"></td><td class=\"\">2021-09-14</td></tr><tr><td class=\"\">174</td><td class=\"\">mm.ace.1200</td><td class=\"before_col\">What's on Must see Medieval Medley -Women of The </td><td class=\"match_col\">Wars</td><td class=\"\"> of the Roses Online Q&</td><td class=\"\">2021-09-14</td></tr><tr><td class=\"\">175</td><td class=\"\">mm.ace.1200</td><td class=\"before_col\">, 7:00 pm - 8:00 pm Join historians and authors, Nicola Tallis, Sarah Gristwood and Sylvia Barabra Soberton in this interactive online discussion on the the various influences of some of the key Women in the </td><td class=\"match_col\">Wars</td><td class=\"\"> of the Roses</td><td class=\"\">2021-09-14</td></tr><tr><td class=\"\">233</td><td class=\"\">mm.ace.1107</td><td class=\"before_col\">Outside are the commemorative plaques for two World </td><td class=\"match_col\">Wars</td><td class=\"\"></td><td class=\"\">2021-09-14</td></tr><tr><td class=\"\">191</td><td class=\"\">mm.ace.1091</td><td class=\"before_col\">Later, Sir Richard Croft fought in the </td><td class=\"match_col\">Wars</td><td class=\"\"> of the Roses while Sir James Croft was rewarded with high office for his loyalty to Elizabeth I</td><td class=\"\">2021-09-14</td></tr><tr><td class=\"\">271</td><td class=\"\">mm.New.91</td><td class=\"before_col\">201 Squadron Museum Home Castle Cornet RGM Museum Royal Guernsey Militia Regimental Museum Guernsey has been in the front line of England's many </td><td class=\"match_col\">wars</td><td class=\"\"></td><td class=\"\">2021-09-14</td></tr><tr><td class=\"\">163</td><td class=\"\">mm.New.90</td><td class=\"before_col\">Do you want to create your own battlefield tour to sights of </td><td class=\"match_col\">wars</td><td class=\"\"> from the past</td><td class=\"\">2021-09-14</td></tr><tr><td class=\"\">253</td><td class=\"\">mm.New.152</td><td class=\"before_col\">Do you want to create your own battlefield tour to sights of </td><td class=\"match_col\">wars</td><td class=\"\"> from the past</td><td class=\"\">2021-09-14</td></tr><tr><td class=\"\">171</td><td class=\"\">mm.New.134</td><td class=\"before_col\">Do you want to create your own battlefield tour to sights of </td><td class=\"match_col\">wars</td><td class=\"\"> from the past</td><td class=\"\">2021-09-14</td></tr><tr><td class=\"\">248</td><td class=\"\">mm.MDN.013</td><td class=\"before_col\">The Williamite </td><td class=\"match_col\">Wars</td><td class=\"\"></td><td class=\"\">2021-09-14</td></tr><tr><td class=\"\">47</td><td class=\"\">mm.wiki.489</td><td class=\"before_col\">In this section Overview Prices and opening times Getting here Access History Overview Explore mighty coastal defences built to protect merchant shipping interests during the Napoleonic </td><td class=\"match_col\">Wars</td><td class=\"\"></td><td class=\"\">2021-04-04</td></tr><tr><td class=\"\">37</td><td class=\"\">mm.wiki.418</td><td class=\"before_col\">Volunteers have created a great museum of military memorabilia, including medals, uniforms, photographs and weaponry from the First and Second World </td><td class=\"match_col\">Wars</td><td class=\"\"></td><td class=\"\">2021-04-04</td></tr><tr><td class=\"\">153</td><td class=\"\">mm.wiki.382</td><td class=\"before_col\">The </td><td class=\"match_col\">Wars</td><td class=\"\"> of the Roses\n",
              "Battle of Wakefield\n",
              "Duke of York Monumen</td><td class=\"\">2021-04-04</td></tr></table>"
            ],
            "text/plain": [
              "<IPython.core.display.HTML object>"
            ]
          },
          "metadata": {}
        },
        {
          "output_type": "display_data",
          "data": {
            "text/plain": [
              "<Figure size 432x288 with 0 Axes>"
            ]
          },
          "metadata": {}
        }
      ]
    },
    {
      "cell_type": "markdown",
      "metadata": {
        "id": "lcFMk7gOdO3H"
      },
      "source": [
        "# Analyse search results\n",
        "\n",
        "Run this cell to get an analysis of the composition of search results generated above in terms of museum attributes (governance, size, etc)."
      ]
    },
    {
      "cell_type": "code",
      "metadata": {
        "colab": {
          "base_uri": "https://localhost:8080/",
          "height": 1000
        },
        "id": "vm03nEIedT9j",
        "outputId": "ab642fd4-05e1-4661-e60f-235d4d4b2138"
      },
      "source": [
        "%run search_utils.py\n",
        "#@title Default title text\n",
        "token_context_size =  10#@param {type:\"integer\"}\n",
        "assert len(res_df) > 0\n",
        "res_attr_df = an_results(res_df, search_string, case_sensitive, token_context_size)\n",
        "#res_attr_df"
      ],
      "execution_count": 19,
      "outputs": [
        {
          "output_type": "stream",
          "name": "stdout",
          "text": [
            "generate_derived_attributes_muse_df\n",
            "ok\n",
            "N results: 4281 • N unique museums: 654\n",
            "                   n_results\n",
            "twitter                 3966\n",
            "website_sentences        315\n"
          ]
        },
        {
          "output_type": "display_data",
          "data": {
            "text/html": [
              "<h3>Tokens before 'wars'</h3>"
            ],
            "text/plain": [
              "<IPython.core.display.HTML object>"
            ]
          },
          "metadata": {}
        },
        {
          "output_type": "stream",
          "name": "stdout",
          "text": [
            "star (804) world (509) rt (278) two (191) civil (168) first (155) amp (144) \n",
            "evening (142) war (125) napoleonic (122) set (119) outdoor (117) screenings (115) cinema (113) \n",
            "get (113) london (111) sciam (110) flying (106) history (104) showing (104) "
          ]
        },
        {
          "output_type": "display_data",
          "data": {
            "text/html": [
              "<h3>Tokens after 'wars'</h3>"
            ],
            "text/plain": [
              "<IPython.core.display.HTML object>"
            ]
          },
          "metadata": {}
        },
        {
          "output_type": "stream",
          "name": "stdout",
          "text": [
            "tickets (187) amp (162) war (122) back (118) story (116) september (113) day (112) \n",
            "force (111) saturday (110) awakens (105) 21 (105) roses (103) gun (103) top (103) \n",
            "wars (101) popular (96) buy (92) demand (91) could (76) may (76) \n",
            "\n",
            "Unique museum results: 679\n"
          ]
        },
        {
          "output_type": "display_data",
          "data": {
            "text/html": [
              "<h3>By governance</h3>"
            ],
            "text/plain": [
              "<IPython.core.display.HTML object>"
            ]
          },
          "metadata": {}
        },
        {
          "output_type": "display_data",
          "data": {
            "text/html": [
              "<div>\n",
              "<style scoped>\n",
              "    .dataframe tbody tr th:only-of-type {\n",
              "        vertical-align: middle;\n",
              "    }\n",
              "\n",
              "    .dataframe tbody tr th {\n",
              "        vertical-align: top;\n",
              "    }\n",
              "\n",
              "    .dataframe thead th {\n",
              "        text-align: right;\n",
              "    }\n",
              "</style>\n",
              "<table border=\"1\" class=\"dataframe\">\n",
              "  <thead>\n",
              "    <tr style=\"text-align: right;\">\n",
              "      <th></th>\n",
              "      <th>attribute_value</th>\n",
              "      <th>n_museums</th>\n",
              "      <th>museum_result_pc</th>\n",
              "      <th>n_tot_museums</th>\n",
              "      <th>museum_attribute_pc</th>\n",
              "    </tr>\n",
              "  </thead>\n",
              "  <tbody>\n",
              "    <tr>\n",
              "      <th>0</th>\n",
              "      <td>Independent:Not for profit</td>\n",
              "      <td>300</td>\n",
              "      <td>44.2</td>\n",
              "      <td>1534</td>\n",
              "      <td>19.6</td>\n",
              "    </tr>\n",
              "    <tr>\n",
              "      <th>1</th>\n",
              "      <td>Government:Local Authority</td>\n",
              "      <td>194</td>\n",
              "      <td>28.6</td>\n",
              "      <td>718</td>\n",
              "      <td>27.0</td>\n",
              "    </tr>\n",
              "    <tr>\n",
              "      <th>2</th>\n",
              "      <td>Independent:Private</td>\n",
              "      <td>43</td>\n",
              "      <td>6.3</td>\n",
              "      <td>472</td>\n",
              "      <td>9.1</td>\n",
              "    </tr>\n",
              "    <tr>\n",
              "      <th>3</th>\n",
              "      <td>University</td>\n",
              "      <td>38</td>\n",
              "      <td>5.6</td>\n",
              "      <td>92</td>\n",
              "      <td>41.3</td>\n",
              "    </tr>\n",
              "    <tr>\n",
              "      <th>4</th>\n",
              "      <td>Government:National</td>\n",
              "      <td>35</td>\n",
              "      <td>5.2</td>\n",
              "      <td>69</td>\n",
              "      <td>50.7</td>\n",
              "    </tr>\n",
              "    <tr>\n",
              "      <th>5</th>\n",
              "      <td>Independent:National Trust</td>\n",
              "      <td>25</td>\n",
              "      <td>3.7</td>\n",
              "      <td>183</td>\n",
              "      <td>13.7</td>\n",
              "    </tr>\n",
              "    <tr>\n",
              "      <th>6</th>\n",
              "      <td>Independent:Unknown</td>\n",
              "      <td>25</td>\n",
              "      <td>3.7</td>\n",
              "      <td>113</td>\n",
              "      <td>22.1</td>\n",
              "    </tr>\n",
              "    <tr>\n",
              "      <th>7</th>\n",
              "      <td>Independent:English Heritage</td>\n",
              "      <td>7</td>\n",
              "      <td>1.0</td>\n",
              "      <td>52</td>\n",
              "      <td>13.5</td>\n",
              "    </tr>\n",
              "    <tr>\n",
              "      <th>8</th>\n",
              "      <td>Unknown</td>\n",
              "      <td>5</td>\n",
              "      <td>0.7</td>\n",
              "      <td>55</td>\n",
              "      <td>9.1</td>\n",
              "    </tr>\n",
              "    <tr>\n",
              "      <th>9</th>\n",
              "      <td>Independent:National Trust for Scotland</td>\n",
              "      <td>4</td>\n",
              "      <td>0.6</td>\n",
              "      <td>26</td>\n",
              "      <td>15.4</td>\n",
              "    </tr>\n",
              "    <tr>\n",
              "      <th>10</th>\n",
              "      <td>Independent:Historic Environment Scotland</td>\n",
              "      <td>2</td>\n",
              "      <td>0.3</td>\n",
              "      <td>19</td>\n",
              "      <td>10.5</td>\n",
              "    </tr>\n",
              "  </tbody>\n",
              "</table>\n",
              "</div>"
            ],
            "text/plain": [
              "                              attribute_value  ...  museum_attribute_pc\n",
              "0                  Independent:Not for profit  ...                 19.6\n",
              "1                  Government:Local Authority  ...                 27.0\n",
              "2                         Independent:Private  ...                  9.1\n",
              "3                                  University  ...                 41.3\n",
              "4                         Government:National  ...                 50.7\n",
              "5                  Independent:National Trust  ...                 13.7\n",
              "6                         Independent:Unknown  ...                 22.1\n",
              "7                Independent:English Heritage  ...                 13.5\n",
              "8                                     Unknown  ...                  9.1\n",
              "9     Independent:National Trust for Scotland  ...                 15.4\n",
              "10  Independent:Historic Environment Scotland  ...                 10.5\n",
              "\n",
              "[11 rows x 5 columns]"
            ]
          },
          "metadata": {}
        },
        {
          "output_type": "display_data",
          "data": {
            "image/png": "[encoded data removed]",
            "text/plain": [
              "<Figure size 432x288 with 1 Axes>"
            ]
          },
          "metadata": {
            "needs_background": "light"
          }
        },
        {
          "output_type": "display_data",
          "data": {
            "text/html": [
              "<h3>By region</h3>"
            ],
            "text/plain": [
              "<IPython.core.display.HTML object>"
            ]
          },
          "metadata": {}
        },
        {
          "output_type": "display_data",
          "data": {
            "text/html": [
              "<div>\n",
              "<style scoped>\n",
              "    .dataframe tbody tr th:only-of-type {\n",
              "        vertical-align: middle;\n",
              "    }\n",
              "\n",
              "    .dataframe tbody tr th {\n",
              "        vertical-align: top;\n",
              "    }\n",
              "\n",
              "    .dataframe thead th {\n",
              "        text-align: right;\n",
              "    }\n",
              "</style>\n",
              "<table border=\"1\" class=\"dataframe\">\n",
              "  <thead>\n",
              "    <tr style=\"text-align: right;\">\n",
              "      <th></th>\n",
              "      <th>attribute_value</th>\n",
              "      <th>n_museums</th>\n",
              "      <th>museum_result_pc</th>\n",
              "      <th>n_tot_museums</th>\n",
              "      <th>museum_attribute_pc</th>\n",
              "    </tr>\n",
              "  </thead>\n",
              "  <tbody>\n",
              "    <tr>\n",
              "      <th>11</th>\n",
              "      <td>South East</td>\n",
              "      <td>115</td>\n",
              "      <td>16.9</td>\n",
              "      <td>476</td>\n",
              "      <td>24.2</td>\n",
              "    </tr>\n",
              "    <tr>\n",
              "      <th>12</th>\n",
              "      <td>Scotland</td>\n",
              "      <td>91</td>\n",
              "      <td>13.4</td>\n",
              "      <td>494</td>\n",
              "      <td>18.4</td>\n",
              "    </tr>\n",
              "    <tr>\n",
              "      <th>13</th>\n",
              "      <td>London</td>\n",
              "      <td>80</td>\n",
              "      <td>11.8</td>\n",
              "      <td>238</td>\n",
              "      <td>33.6</td>\n",
              "    </tr>\n",
              "    <tr>\n",
              "      <th>14</th>\n",
              "      <td>East of England</td>\n",
              "      <td>70</td>\n",
              "      <td>10.3</td>\n",
              "      <td>333</td>\n",
              "      <td>21.0</td>\n",
              "    </tr>\n",
              "    <tr>\n",
              "      <th>15</th>\n",
              "      <td>South West</td>\n",
              "      <td>68</td>\n",
              "      <td>10.0</td>\n",
              "      <td>422</td>\n",
              "      <td>16.1</td>\n",
              "    </tr>\n",
              "    <tr>\n",
              "      <th>16</th>\n",
              "      <td>North West</td>\n",
              "      <td>52</td>\n",
              "      <td>7.7</td>\n",
              "      <td>247</td>\n",
              "      <td>21.1</td>\n",
              "    </tr>\n",
              "    <tr>\n",
              "      <th>17</th>\n",
              "      <td>Yorkshire and The Humber</td>\n",
              "      <td>52</td>\n",
              "      <td>7.7</td>\n",
              "      <td>229</td>\n",
              "      <td>22.7</td>\n",
              "    </tr>\n",
              "    <tr>\n",
              "      <th>18</th>\n",
              "      <td>West Midlands</td>\n",
              "      <td>49</td>\n",
              "      <td>7.2</td>\n",
              "      <td>228</td>\n",
              "      <td>21.5</td>\n",
              "    </tr>\n",
              "    <tr>\n",
              "      <th>19</th>\n",
              "      <td>East Midlands</td>\n",
              "      <td>35</td>\n",
              "      <td>5.2</td>\n",
              "      <td>229</td>\n",
              "      <td>15.3</td>\n",
              "    </tr>\n",
              "    <tr>\n",
              "      <th>20</th>\n",
              "      <td>Wales</td>\n",
              "      <td>25</td>\n",
              "      <td>3.7</td>\n",
              "      <td>207</td>\n",
              "      <td>12.1</td>\n",
              "    </tr>\n",
              "    <tr>\n",
              "      <th>21</th>\n",
              "      <td>North East</td>\n",
              "      <td>21</td>\n",
              "      <td>3.1</td>\n",
              "      <td>105</td>\n",
              "      <td>20.0</td>\n",
              "    </tr>\n",
              "    <tr>\n",
              "      <th>22</th>\n",
              "      <td>Northern Ireland</td>\n",
              "      <td>17</td>\n",
              "      <td>2.5</td>\n",
              "      <td>94</td>\n",
              "      <td>18.1</td>\n",
              "    </tr>\n",
              "    <tr>\n",
              "      <th>23</th>\n",
              "      <td>Channel Islands</td>\n",
              "      <td>2</td>\n",
              "      <td>0.3</td>\n",
              "      <td>24</td>\n",
              "      <td>8.3</td>\n",
              "    </tr>\n",
              "    <tr>\n",
              "      <th>24</th>\n",
              "      <td>Isle of Man</td>\n",
              "      <td>1</td>\n",
              "      <td>0.1</td>\n",
              "      <td>15</td>\n",
              "      <td>6.7</td>\n",
              "    </tr>\n",
              "  </tbody>\n",
              "</table>\n",
              "</div>"
            ],
            "text/plain": [
              "              attribute_value  n_museums  ...  n_tot_museums  museum_attribute_pc\n",
              "11                South East         115  ...            476                 24.2\n",
              "12                   Scotland         91  ...            494                 18.4\n",
              "13                    London          80  ...            238                 33.6\n",
              "14           East of England          70  ...            333                 21.0\n",
              "15                South West          68  ...            422                 16.1\n",
              "16                North West          52  ...            247                 21.1\n",
              "17  Yorkshire and The Humber          52  ...            229                 22.7\n",
              "18             West Midlands          49  ...            228                 21.5\n",
              "19             East Midlands          35  ...            229                 15.3\n",
              "20                      Wales         25  ...            207                 12.1\n",
              "21                North East          21  ...            105                 20.0\n",
              "22           Northern Ireland         17  ...             94                 18.1\n",
              "23            Channel Islands          2  ...             24                  8.3\n",
              "24                Isle of Man          1  ...             15                  6.7\n",
              "\n",
              "[14 rows x 5 columns]"
            ]
          },
          "metadata": {}
        },
        {
          "output_type": "display_data",
          "data": {
            "image/png": "[encoded data removed]",
            "text/plain": [
              "<Figure size 432x288 with 1 Axes>"
            ]
          },
          "metadata": {
            "needs_background": "light"
          }
        },
        {
          "output_type": "display_data",
          "data": {
            "text/html": [
              "<h3>By size</h3>"
            ],
            "text/plain": [
              "<IPython.core.display.HTML object>"
            ]
          },
          "metadata": {}
        },
        {
          "output_type": "display_data",
          "data": {
            "text/html": [
              "<div>\n",
              "<style scoped>\n",
              "    .dataframe tbody tr th:only-of-type {\n",
              "        vertical-align: middle;\n",
              "    }\n",
              "\n",
              "    .dataframe tbody tr th {\n",
              "        vertical-align: top;\n",
              "    }\n",
              "\n",
              "    .dataframe thead th {\n",
              "        text-align: right;\n",
              "    }\n",
              "</style>\n",
              "<table border=\"1\" class=\"dataframe\">\n",
              "  <thead>\n",
              "    <tr style=\"text-align: right;\">\n",
              "      <th></th>\n",
              "      <th>attribute_value</th>\n",
              "      <th>n_museums</th>\n",
              "      <th>museum_result_pc</th>\n",
              "      <th>n_tot_museums</th>\n",
              "      <th>museum_attribute_pc</th>\n",
              "    </tr>\n",
              "  </thead>\n",
              "  <tbody>\n",
              "    <tr>\n",
              "      <th>25</th>\n",
              "      <td>small</td>\n",
              "      <td>281</td>\n",
              "      <td>41.4</td>\n",
              "      <td>1825</td>\n",
              "      <td>15.4</td>\n",
              "    </tr>\n",
              "    <tr>\n",
              "      <th>26</th>\n",
              "      <td>medium</td>\n",
              "      <td>191</td>\n",
              "      <td>28.1</td>\n",
              "      <td>865</td>\n",
              "      <td>22.1</td>\n",
              "    </tr>\n",
              "    <tr>\n",
              "      <th>27</th>\n",
              "      <td>large</td>\n",
              "      <td>177</td>\n",
              "      <td>26.1</td>\n",
              "      <td>498</td>\n",
              "      <td>35.5</td>\n",
              "    </tr>\n",
              "    <tr>\n",
              "      <th>28</th>\n",
              "      <td>unknown</td>\n",
              "      <td>22</td>\n",
              "      <td>3.2</td>\n",
              "      <td>141</td>\n",
              "      <td>15.6</td>\n",
              "    </tr>\n",
              "    <tr>\n",
              "      <th>29</th>\n",
              "      <td>huge</td>\n",
              "      <td>7</td>\n",
              "      <td>1.0</td>\n",
              "      <td>12</td>\n",
              "      <td>58.3</td>\n",
              "    </tr>\n",
              "  </tbody>\n",
              "</table>\n",
              "</div>"
            ],
            "text/plain": [
              "   attribute_value  n_museums  ...  n_tot_museums  museum_attribute_pc\n",
              "25           small        281  ...           1825                 15.4\n",
              "26          medium        191  ...            865                 22.1\n",
              "27           large        177  ...            498                 35.5\n",
              "28         unknown         22  ...            141                 15.6\n",
              "29            huge          7  ...             12                 58.3\n",
              "\n",
              "[5 rows x 5 columns]"
            ]
          },
          "metadata": {}
        },
        {
          "output_type": "display_data",
          "data": {
            "image/png": "[encoded data removed]",
            "text/plain": [
              "<Figure size 432x288 with 1 Axes>"
            ]
          },
          "metadata": {
            "needs_background": "light"
          }
        },
        {
          "output_type": "display_data",
          "data": {
            "text/html": [
              "<h3>By subject_matter_simpl</h3>"
            ],
            "text/plain": [
              "<IPython.core.display.HTML object>"
            ]
          },
          "metadata": {}
        },
        {
          "output_type": "display_data",
          "data": {
            "text/html": [
              "<div>\n",
              "<style scoped>\n",
              "    .dataframe tbody tr th:only-of-type {\n",
              "        vertical-align: middle;\n",
              "    }\n",
              "\n",
              "    .dataframe tbody tr th {\n",
              "        vertical-align: top;\n",
              "    }\n",
              "\n",
              "    .dataframe thead th {\n",
              "        text-align: right;\n",
              "    }\n",
              "</style>\n",
              "<table border=\"1\" class=\"dataframe\">\n",
              "  <thead>\n",
              "    <tr style=\"text-align: right;\">\n",
              "      <th></th>\n",
              "      <th>attribute_value</th>\n",
              "      <th>n_museums</th>\n",
              "      <th>museum_result_pc</th>\n",
              "      <th>n_tot_museums</th>\n",
              "      <th>museum_attribute_pc</th>\n",
              "    </tr>\n",
              "  </thead>\n",
              "  <tbody>\n",
              "    <tr>\n",
              "      <th>30</th>\n",
              "      <td>Local Histories</td>\n",
              "      <td>155</td>\n",
              "      <td>22.8</td>\n",
              "      <td>764</td>\n",
              "      <td>20.3</td>\n",
              "    </tr>\n",
              "    <tr>\n",
              "      <th>31</th>\n",
              "      <td>War and conflict</td>\n",
              "      <td>112</td>\n",
              "      <td>16.5</td>\n",
              "      <td>333</td>\n",
              "      <td>33.6</td>\n",
              "    </tr>\n",
              "    <tr>\n",
              "      <th>32</th>\n",
              "      <td>Mixed</td>\n",
              "      <td>71</td>\n",
              "      <td>10.5</td>\n",
              "      <td>166</td>\n",
              "      <td>42.8</td>\n",
              "    </tr>\n",
              "    <tr>\n",
              "      <th>33</th>\n",
              "      <td>Buildings</td>\n",
              "      <td>67</td>\n",
              "      <td>9.9</td>\n",
              "      <td>553</td>\n",
              "      <td>12.1</td>\n",
              "    </tr>\n",
              "    <tr>\n",
              "      <th>34</th>\n",
              "      <td>Arts</td>\n",
              "      <td>60</td>\n",
              "      <td>8.8</td>\n",
              "      <td>247</td>\n",
              "      <td>24.3</td>\n",
              "    </tr>\n",
              "    <tr>\n",
              "      <th>35</th>\n",
              "      <td>Transport</td>\n",
              "      <td>27</td>\n",
              "      <td>4.0</td>\n",
              "      <td>224</td>\n",
              "      <td>12.1</td>\n",
              "    </tr>\n",
              "    <tr>\n",
              "      <th>36</th>\n",
              "      <td>Sea and seafaring</td>\n",
              "      <td>26</td>\n",
              "      <td>3.8</td>\n",
              "      <td>102</td>\n",
              "      <td>25.5</td>\n",
              "    </tr>\n",
              "    <tr>\n",
              "      <th>37</th>\n",
              "      <td>Personality</td>\n",
              "      <td>23</td>\n",
              "      <td>3.4</td>\n",
              "      <td>176</td>\n",
              "      <td>13.1</td>\n",
              "    </tr>\n",
              "    <tr>\n",
              "      <th>38</th>\n",
              "      <td>Leisure and sport</td>\n",
              "      <td>22</td>\n",
              "      <td>3.2</td>\n",
              "      <td>87</td>\n",
              "      <td>25.3</td>\n",
              "    </tr>\n",
              "    <tr>\n",
              "      <th>39</th>\n",
              "      <td>Belief and identity</td>\n",
              "      <td>20</td>\n",
              "      <td>2.9</td>\n",
              "      <td>96</td>\n",
              "      <td>20.8</td>\n",
              "    </tr>\n",
              "    <tr>\n",
              "      <th>40</th>\n",
              "      <td>Industry and manufacture</td>\n",
              "      <td>19</td>\n",
              "      <td>2.8</td>\n",
              "      <td>151</td>\n",
              "      <td>12.6</td>\n",
              "    </tr>\n",
              "    <tr>\n",
              "      <th>41</th>\n",
              "      <td>Archaeology</td>\n",
              "      <td>14</td>\n",
              "      <td>2.1</td>\n",
              "      <td>91</td>\n",
              "      <td>15.4</td>\n",
              "    </tr>\n",
              "    <tr>\n",
              "      <th>42</th>\n",
              "      <td>Other</td>\n",
              "      <td>13</td>\n",
              "      <td>1.9</td>\n",
              "      <td>43</td>\n",
              "      <td>30.2</td>\n",
              "    </tr>\n",
              "    <tr>\n",
              "      <th>43</th>\n",
              "      <td>Medicine and health</td>\n",
              "      <td>11</td>\n",
              "      <td>1.6</td>\n",
              "      <td>34</td>\n",
              "      <td>32.4</td>\n",
              "    </tr>\n",
              "    <tr>\n",
              "      <th>44</th>\n",
              "      <td>Natural world</td>\n",
              "      <td>10</td>\n",
              "      <td>1.5</td>\n",
              "      <td>47</td>\n",
              "      <td>21.3</td>\n",
              "    </tr>\n",
              "    <tr>\n",
              "      <th>45</th>\n",
              "      <td>Science and technology</td>\n",
              "      <td>8</td>\n",
              "      <td>1.2</td>\n",
              "      <td>21</td>\n",
              "      <td>38.1</td>\n",
              "    </tr>\n",
              "    <tr>\n",
              "      <th>46</th>\n",
              "      <td>Services</td>\n",
              "      <td>8</td>\n",
              "      <td>1.2</td>\n",
              "      <td>34</td>\n",
              "      <td>23.5</td>\n",
              "    </tr>\n",
              "    <tr>\n",
              "      <th>47</th>\n",
              "      <td>Communications</td>\n",
              "      <td>5</td>\n",
              "      <td>0.7</td>\n",
              "      <td>13</td>\n",
              "      <td>38.5</td>\n",
              "    </tr>\n",
              "    <tr>\n",
              "      <th>48</th>\n",
              "      <td>Rural Industry</td>\n",
              "      <td>5</td>\n",
              "      <td>0.7</td>\n",
              "      <td>111</td>\n",
              "      <td>4.5</td>\n",
              "    </tr>\n",
              "    <tr>\n",
              "      <th>49</th>\n",
              "      <td>Food and drink</td>\n",
              "      <td>1</td>\n",
              "      <td>0.1</td>\n",
              "      <td>15</td>\n",
              "      <td>6.7</td>\n",
              "    </tr>\n",
              "    <tr>\n",
              "      <th>50</th>\n",
              "      <td>Utilities</td>\n",
              "      <td>1</td>\n",
              "      <td>0.1</td>\n",
              "      <td>33</td>\n",
              "      <td>3.0</td>\n",
              "    </tr>\n",
              "  </tbody>\n",
              "</table>\n",
              "</div>"
            ],
            "text/plain": [
              "             attribute_value  n_museums  ...  n_tot_museums  museum_attribute_pc\n",
              "30           Local Histories        155  ...            764                 20.3\n",
              "31          War and conflict        112  ...            333                 33.6\n",
              "32                     Mixed         71  ...            166                 42.8\n",
              "33                 Buildings         67  ...            553                 12.1\n",
              "34                      Arts         60  ...            247                 24.3\n",
              "35                 Transport         27  ...            224                 12.1\n",
              "36         Sea and seafaring         26  ...            102                 25.5\n",
              "37               Personality         23  ...            176                 13.1\n",
              "38         Leisure and sport         22  ...             87                 25.3\n",
              "39       Belief and identity         20  ...             96                 20.8\n",
              "40  Industry and manufacture         19  ...            151                 12.6\n",
              "41               Archaeology         14  ...             91                 15.4\n",
              "42                     Other         13  ...             43                 30.2\n",
              "43       Medicine and health         11  ...             34                 32.4\n",
              "44             Natural world         10  ...             47                 21.3\n",
              "45    Science and technology          8  ...             21                 38.1\n",
              "46                  Services          8  ...             34                 23.5\n",
              "47            Communications          5  ...             13                 38.5\n",
              "48            Rural Industry          5  ...            111                  4.5\n",
              "49            Food and drink          1  ...             15                  6.7\n",
              "50                 Utilities          1  ...             33                  3.0\n",
              "\n",
              "[21 rows x 5 columns]"
            ]
          },
          "metadata": {}
        },
        {
          "output_type": "display_data",
          "data": {
            "image/png": "[encoded data removed]",
            "text/plain": [
              "<Figure size 432x288 with 1 Axes>"
            ]
          },
          "metadata": {
            "needs_background": "light"
          }
        }
      ]
    },
    {
      "cell_type": "markdown",
      "metadata": {
        "id": "5f2oaR20o68a"
      },
      "source": [
        "### Download results as Excel"
      ]
    },
    {
      "cell_type": "code",
      "metadata": {
        "colab": {
          "base_uri": "https://localhost:8080/",
          "height": 17
        },
        "id": "GW7uKN3nnLeR",
        "outputId": "12a9af9c-d211-4a3c-b644-3c00aafb7321"
      },
      "source": [
        "# click here to download the complete search results\n",
        "fn = 'search_results_{}.xlsx'.format(get_now_string())\n",
        "df = results_page_df.copy()\n",
        "df['search'] = search_string\n",
        "df.to_excel(fn, index=False)\n",
        "files.download(fn)"
      ],
      "execution_count": 15,
      "outputs": [
        {
          "output_type": "display_data",
          "data": {
            "application/javascript": [
              "\n",
              "    async function download(id, filename, size) {\n",
              "      if (!google.colab.kernel.accessAllowed) {\n",
              "        return;\n",
              "      }\n",
              "      const div = document.createElement('div');\n",
              "      const label = document.createElement('label');\n",
              "      label.textContent = `Downloading \"${filename}\": `;\n",
              "      div.appendChild(label);\n",
              "      const progress = document.createElement('progress');\n",
              "      progress.max = size;\n",
              "      div.appendChild(progress);\n",
              "      document.body.appendChild(div);\n",
              "\n",
              "      const buffers = [];\n",
              "      let downloaded = 0;\n",
              "\n",
              "      const channel = await google.colab.kernel.comms.open(id);\n",
              "      // Send a message to notify the kernel that we're ready.\n",
              "      channel.send({})\n",
              "\n",
              "      for await (const message of channel.messages) {\n",
              "        // Send a message to notify the kernel that we're ready.\n",
              "        channel.send({})\n",
              "        if (message.buffers) {\n",
              "          for (const buffer of message.buffers) {\n",
              "            buffers.push(buffer);\n",
              "            downloaded += buffer.byteLength;\n",
              "            progress.value = downloaded;\n",
              "          }\n",
              "        }\n",
              "      }\n",
              "      const blob = new Blob(buffers, {type: 'application/binary'});\n",
              "      const a = document.createElement('a');\n",
              "      a.href = window.URL.createObjectURL(blob);\n",
              "      a.download = filename;\n",
              "      div.appendChild(a);\n",
              "      a.click();\n",
              "      div.remove();\n",
              "    }\n",
              "  "
            ],
            "text/plain": [
              "<IPython.core.display.Javascript object>"
            ]
          },
          "metadata": {}
        },
        {
          "output_type": "display_data",
          "data": {
            "application/javascript": [
              "download(\"download_a88f097a-3197-4d5e-9674-e63372f2cbb4\", \"search_results_20211124-100323.xlsx\", 286365)"
            ],
            "text/plain": [
              "<IPython.core.display.Javascript object>"
            ]
          },
          "metadata": {}
        }
      ]
    },
    {
      "cell_type": "code",
      "metadata": {
        "colab": {
          "base_uri": "https://localhost:8080/",
          "height": 17
        },
        "id": "RU_o0DCe0mWF",
        "outputId": "a6289ab1-7dbe-4548-8192-a37fe5f031bf"
      },
      "source": [
        "# click here to download the attribute analysis of results\n",
        "fn = 'search_results_attributes_{}.xlsx'.format(get_now_string())\n",
        "df = res_attr_df.copy()\n",
        "df['search'] = search_string\n",
        "df.to_excel(fn, index=False)\n",
        "files.download(fn)"
      ],
      "execution_count": 16,
      "outputs": [
        {
          "output_type": "display_data",
          "data": {
            "application/javascript": [
              "\n",
              "    async function download(id, filename, size) {\n",
              "      if (!google.colab.kernel.accessAllowed) {\n",
              "        return;\n",
              "      }\n",
              "      const div = document.createElement('div');\n",
              "      const label = document.createElement('label');\n",
              "      label.textContent = `Downloading \"${filename}\": `;\n",
              "      div.appendChild(label);\n",
              "      const progress = document.createElement('progress');\n",
              "      progress.max = size;\n",
              "      div.appendChild(progress);\n",
              "      document.body.appendChild(div);\n",
              "\n",
              "      const buffers = [];\n",
              "      let downloaded = 0;\n",
              "\n",
              "      const channel = await google.colab.kernel.comms.open(id);\n",
              "      // Send a message to notify the kernel that we're ready.\n",
              "      channel.send({})\n",
              "\n",
              "      for await (const message of channel.messages) {\n",
              "        // Send a message to notify the kernel that we're ready.\n",
              "        channel.send({})\n",
              "        if (message.buffers) {\n",
              "          for (const buffer of message.buffers) {\n",
              "            buffers.push(buffer);\n",
              "            downloaded += buffer.byteLength;\n",
              "            progress.value = downloaded;\n",
              "          }\n",
              "        }\n",
              "      }\n",
              "      const blob = new Blob(buffers, {type: 'application/binary'});\n",
              "      const a = document.createElement('a');\n",
              "      a.href = window.URL.createObjectURL(blob);\n",
              "      a.download = filename;\n",
              "      div.appendChild(a);\n",
              "      a.click();\n",
              "      div.remove();\n",
              "    }\n",
              "  "
            ],
            "text/plain": [
              "<IPython.core.display.Javascript object>"
            ]
          },
          "metadata": {}
        },
        {
          "output_type": "display_data",
          "data": {
            "application/javascript": [
              "download(\"download_c290cd80-1ce9-460a-8144-e4e3187a16ee\", \"search_results_attributes_20211124-100329.xlsx\", 7193)"
            ],
            "text/plain": [
              "<IPython.core.display.Javascript object>"
            ]
          },
          "metadata": {}
        }
      ]
    },
    {
      "cell_type": "markdown",
      "metadata": {
        "id": "QM5pIonivg2C"
      },
      "source": [
        "### Backup application\n",
        "\n",
        "This is for the platform's developer."
      ]
    },
    {
      "cell_type": "code",
      "metadata": {
        "colab": {
          "base_uri": "https://localhost:8080/",
          "height": 17
        },
        "id": "qlczUd9QvkW-",
        "outputId": "f2a5d854-5b60-4ff1-bd31-4744886be264"
      },
      "source": [
        "files.download('search_utils.py')"
      ],
      "execution_count": 18,
      "outputs": [
        {
          "output_type": "display_data",
          "data": {
            "application/javascript": [
              "\n",
              "    async function download(id, filename, size) {\n",
              "      if (!google.colab.kernel.accessAllowed) {\n",
              "        return;\n",
              "      }\n",
              "      const div = document.createElement('div');\n",
              "      const label = document.createElement('label');\n",
              "      label.textContent = `Downloading \"${filename}\": `;\n",
              "      div.appendChild(label);\n",
              "      const progress = document.createElement('progress');\n",
              "      progress.max = size;\n",
              "      div.appendChild(progress);\n",
              "      document.body.appendChild(div);\n",
              "\n",
              "      const buffers = [];\n",
              "      let downloaded = 0;\n",
              "\n",
              "      const channel = await google.colab.kernel.comms.open(id);\n",
              "      // Send a message to notify the kernel that we're ready.\n",
              "      channel.send({})\n",
              "\n",
              "      for await (const message of channel.messages) {\n",
              "        // Send a message to notify the kernel that we're ready.\n",
              "        channel.send({})\n",
              "        if (message.buffers) {\n",
              "          for (const buffer of message.buffers) {\n",
              "            buffers.push(buffer);\n",
              "            downloaded += buffer.byteLength;\n",
              "            progress.value = downloaded;\n",
              "          }\n",
              "        }\n",
              "      }\n",
              "      const blob = new Blob(buffers, {type: 'application/binary'});\n",
              "      const a = document.createElement('a');\n",
              "      a.href = window.URL.createObjectURL(blob);\n",
              "      a.download = filename;\n",
              "      div.appendChild(a);\n",
              "      a.click();\n",
              "      div.remove();\n",
              "    }\n",
              "  "
            ],
            "text/plain": [
              "<IPython.core.display.Javascript object>"
            ]
          },
          "metadata": {}
        },
        {
          "output_type": "display_data",
          "data": {
            "application/javascript": [
              "download(\"download_2fef04cc-700b-4661-b8d3-8e56eb800c34\", \"search_utils.py\", 13693)"
            ],
            "text/plain": [
              "<IPython.core.display.Javascript object>"
            ]
          },
          "metadata": {}
        }
      ]
    }
  ]
}