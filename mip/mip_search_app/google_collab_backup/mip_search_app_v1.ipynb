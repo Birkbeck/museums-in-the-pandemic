{
  "nbformat": 4,
  "nbformat_minor": 0,
  "metadata": {
    "kernelspec": {
      "display_name": "Python 3 (ipykernel)",
      "language": "python",
      "name": "python3"
    },
    "language_info": {
      "codemirror_mode": {
        "name": "ipython",
        "version": 3
      },
      "file_extension": ".py",
      "mimetype": "text/x-python",
      "name": "python",
      "nbconvert_exporter": "python",
      "pygments_lexer": "ipython3",
      "version": "3.8.12"
    },
    "toc-autonumbering": false,
    "toc-showcode": false,
    "toc-showmarkdowntxt": false,
    "toc-showtags": false,
    "colab": {
      "name": "mip_search_app-v1.ipynb",
      "provenance": [],
      "collapsed_sections": []
    }
  },
  "cells": [
    {
      "cell_type": "markdown",
      "metadata": {
        "tags": [],
        "id": "x5wjno2TWPIP"
      },
      "source": [
        "# MIP Search App\n",
        "\n",
        "Search facility for MIP data"
      ]
    },
    {
      "cell_type": "code",
      "metadata": {
        "colab": {
          "base_uri": "https://localhost:8080/"
        },
        "id": "CJfE_kOGWPIW",
        "outputId": "832bde56-8012-49be-de97-caf45dfbab2c"
      },
      "source": [
        "%run search_utils.py"
      ],
      "execution_count": 191,
      "outputs": [
        {
          "output_type": "stream",
          "name": "stdout",
          "text": [
            "ok\n"
          ]
        }
      ]
    },
    {
      "cell_type": "markdown",
      "metadata": {
        "id": "KJYqmA8UWPIZ"
      },
      "source": [
        "## Search"
      ]
    },
    {
      "cell_type": "code",
      "metadata": {
        "id": "RcNKIXpcWPIa",
        "colab": {
          "base_uri": "https://localhost:8080/",
          "height": 1000
        },
        "outputId": "9138e0e8-1ce4-4e8b-bd86-d3501d690029"
      },
      "source": [
        "#@title Search corpus { display-mode: \"form\" }\n",
        "search_string = \"Spooky\" #@param {type:\"string\"}\n",
        "case_sensitive = False #@param {type:\"boolean\"}\n",
        "search_facebook = True #@param {type:\"boolean\"}\n",
        "search_twitter = True #@param {type:\"boolean\"}\n",
        "search_websites = True #@param {type:\"boolean\"}\n",
        "result_limit =  20#@param {type:\"integer\"}\n",
        "res_df = run_search(search_string, case_sensitive,\n",
        "           search_facebook, search_twitter, search_websites)\n",
        "\n",
        "display(HTML(generate_html_matches(res_df, search_string, case_sensitive, result_limit)))"
      ],
      "execution_count": 192,
      "outputs": [
        {
          "output_type": "stream",
          "name": "stdout",
          "text": [
            "select * from social_media_msg where platform in ('website','facebook','twitter') and msg_text like '%Spooky%';\n",
            "N results: 2376\n",
            "search_regex: (?i)Spooky\n"
          ]
        },
        {
          "output_type": "display_data",
          "data": {
            "text/html": [
              "<table><style>\n",
              "  table, tr, td {\n",
              "    margin: 3px;\n",
              "    border: solid 1px gray;\n",
              "    font-size: 1em;\n",
              "    font-family: sans-serif;  \n",
              "    }\n",
              "  strong { background-color: blue; color: white; }\n",
              "  </style><tr><td>mm.misc.120</td><td>🕷🎃 Halloween season is almost upon us! 🎃 🕷\n",
              "\n",
              "<strong>Spooky</strong> shows 👻 \n",
              "Fangtastic animal feeds 🕷 \n",
              "and loads more to howl about 🐺\n",
              "Book tickets for October half-term now at https://t.co/9cXkQaSclP 😃\n",
              "\n",
              "#halloween #hertfordshire https://t.co/YKQQEwl04b</td><td>twitter</td></tr><tr><td>mm.misc.120</td><td>👻 Its the official week leading up to Halloween!\n",
              "\n",
              "🎃 Have you been to see our new <strong>spooky</strong> photo opportunities around the park?\n",
              "\n",
              "📸 Make sure to tag us so we can take a look! https://t.co/LpbbW4Rg8c</td><td>twitter</td></tr><tr><td>mm.misc.015</td><td>RT @DayOutYorkshire: <strong>Spooky</strong> season has arrived at the The @nvmuk 🎮\n",
              "\n",
              "Enjoy some super <strong>spooky</strong> videogames at NVM including Mystery House, Luig…</td><td>twitter</td></tr><tr><td>mm.misc.015</td><td>Let's get <strong>spooky</strong>!\n",
              "\n",
              "From October 6th, the National Videogame Museum is being haunted!\n",
              "We'll be having extra special game exhibits such as Luigi's Mansion (2001) and Mystery House (1980).\n",
              "\n",
              "More info here: https://t.co/jTQbUuzSx0</td><td>twitter</td></tr><tr><td>mm.misc.015</td><td>@nvmuk @gangbeasts <strong>SPOOKY</strong>!👻 Great to know, thank you! :)</td><td>twitter</td></tr><tr><td>mm.misc.015</td><td>This <strong>spooky</strong> batch is great. \n",
              "\n",
              "Particularly love the \"wooooo\" as it could be scary, or maybe they're just having fun. https://t.co/jH9JBClFFi</td><td>twitter</td></tr><tr><td>mm.misc.015</td><td>RT @faveplaces: It's half term! Get <strong>spooky</strong> down at the National Videogame Museum @nvmuk this holiday with its Halloween activities 👻🎮 Creat…</td><td>twitter</td></tr><tr><td>mm.misc.015</td><td>It's <strong>Spooky</strong> season, so the team at the NVM are playing some of our favourite scary games! 👻🎮🎃\n",
              "\n",
              "Which classics will you be catching up on this week? https://t.co/keJxoKxoK6</td><td>twitter</td></tr><tr><td>mm.misc.015</td><td>It’s <strong>spooky</strong> season! October is the month of Ghouls ‘n Ghosts ‘n Goblins, so we’re going to be celebrating by playing some of our favourite retro scary games. \n",
              "\n",
              "Capcom’s sidescrolling platformer ‘Makaimura’ was released over 34 years ago in the arcades! https://t.co/kbdh51PlXk</td><td>twitter</td></tr><tr><td>mm.musa.344</td><td><strong>Spooky</strong> pancakes await!\n",
              "\n",
              "#Scotland #Scottish #food #dining #restaurants #eatingout #reviews @stackandstill \n",
              "\n",
              "https://t.co/k317k0GDBc</td><td>twitter</td></tr><tr><td>mm.musa.344</td><td>10 stories to spook you this Halloween evening\n",
              "\n",
              "#Scotland #Scottish #ghosts #Halloween #<strong>spooky</strong>\n",
              "\n",
              "https://t.co/tyIpB1PWuF</td><td>twitter</td></tr><tr><td>mm.musa.344</td><td><strong>Spooky</strong> pancakes await!\n",
              "\n",
              "#Scotland #Scottish #food #dining #restaurants #eatingout #reviews @stackandstill \n",
              "\n",
              "https://t.co/k317k0YeZM</td><td>twitter</td></tr><tr><td>mm.ace.1097</td><td>RT @insane_root: @VisitBristol We have a #<strong>Spooky</strong>Bristol offering this autumn with @mattgrinter's #Rumpelstiltskin @NewRoomBristol Come and…</td><td>twitter</td></tr><tr><td>mm.ace.1097</td><td>RT @VisitBristol: See a new adaptation of Rumpelstiltskin at @NewRoomBristol this month: https://t.co/qfXSRRrM3G\n",
              "#<strong>Spooky</strong>Bristol https://t.c…</td><td>twitter</td></tr><tr><td>mm.ace.1097</td><td>RT @DorisSkull: Saw Rumpelstiltskin @NewRoomBristol this evening. Great venue for some candlelit <strong>spooky</strong>ness. (It looked lovely on Sanditon…</td><td>twitter</td></tr><tr><td>mm.domus.SE236</td><td>Something <strong>spooky</strong> is heading your way this August...\n",
              "\n",
              "Join @TheatreofDark  on Saturday 28 August in Priory Park, Chichester for a totally unique immersive Ghost Walk. \n",
              "\n",
              "For more information, and to book visit:  https://t.co/2V5KYJmbVA \n",
              "\n",
              "#whatson #ghostwalk #haunted #chichester https://t.co/EwxPaNU7E4</td><td>twitter</td></tr><tr><td>mm.domus.SE236</td><td>Something <strong>spooky</strong> is heading your way this August...\n",
              "\n",
              "Join @TheatreofDark  on Saturday 28 August in Priory Park, Chichester for a totally unique immersive Ghost Walk. \n",
              "\n",
              "For more information, and to book visit:  https://t.co/zMqsigykCk \n",
              "\n",
              "#whatson #ghostwalk #haunted #chichester https://t.co/SSDUVgk96j</td><td>twitter</td></tr><tr><td>mm.domus.SE236</td><td>Something <strong>spooky</strong> is heading your way this August...\n",
              "Join @TheatreofDark on  28th August for an immersive  Ghost walk like no other. \n",
              "\n",
              "The Chichester Assizes. Don't be scared. Be Prepared.\n",
              "\n",
              "Book tickets here: https://t.co/5FRR586HAc\n",
              "\n",
              "For more details: https://t.co/abOznxDWAS https://t.co/HLY27SAVx0</td><td>twitter</td></tr><tr><td>mm.domus.SE236</td><td>It's 'Spotlight Saturday' &amp; as it's #Halloween today here is an eerie postcard of Racton Monument. The monument was built as a view-point by the Earl of Halifax between 1766 &amp; 1775.  This article by @sdnpa features some <strong>spooky</strong> stories about the monument - https://t.co/xMhUKn7Jj5 https://t.co/N2R1ZJZkXJ</td><td>twitter</td></tr><tr><td>mm.wiki.264</td><td><strong>Spooky</strong> scenes out in the wild today at #WatersEdge! #VisitNorthLincs https://t.co/2N4LKeLtQt</td><td>twitter</td></tr></table>"
            ],
            "text/plain": [
              "<IPython.core.display.HTML object>"
            ]
          },
          "metadata": {}
        }
      ]
    },
    {
      "cell_type": "markdown",
      "metadata": {
        "id": "lcFMk7gOdO3H"
      },
      "source": [
        "# Analyse search results"
      ]
    },
    {
      "cell_type": "code",
      "metadata": {
        "colab": {
          "base_uri": "https://localhost:8080/"
        },
        "id": "vm03nEIedT9j",
        "outputId": "5bd7b584-c928-4687-f9d1-ccc468d1f568"
      },
      "source": [
        "#@title Default title text\n",
        "context_size = 5 #@param {type:\"integer\"}\n",
        "an_results(res_df, search_string, case_sensitive, context_size)"
      ],
      "execution_count": 193,
      "outputs": [
        {
          "output_type": "stream",
          "name": "stdout",
          "text": [
            "N results:  2376\n",
            "N museums:  484\n",
            "Platforms:\n",
            " twitter    2376\n",
            "Name: platform, dtype: int64\n",
            "before\n",
            "\n",
            "\n",
            "halloween          584\n",
            "rt                 456\n",
            "wally              273\n",
            "us                 189\n",
            "join               182\n",
            "                  ... \n",
            "vinceninn            1\n",
            "brickwrksmuseum      1\n",
            "purcell              1\n",
            "flashbackfriday      1\n",
            "clifton              1\n",
            "Length: 4343, dtype: int64\n",
            "after\n",
            "\n",
            "\n",
            "halloween        607\n",
            "fun              269\n",
            "museum           267\n",
            "amp              262\n",
            "book             229\n",
            "                ... \n",
            "👻24                1\n",
            "chimneys           1\n",
            "tolbooth           1\n",
            "suc                1\n",
            "ilovethelakes      1\n",
            "Length: 5285, dtype: int64\n"
          ]
        }
      ]
    }
  ]
}