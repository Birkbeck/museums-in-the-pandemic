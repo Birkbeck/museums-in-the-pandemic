{
  "nbformat": 4,
  "nbformat_minor": 0,
  "metadata": {
    "kernelspec": {
      "display_name": "Python 3 (ipykernel)",
      "language": "python",
      "name": "python3"
    },
    "language_info": {
      "codemirror_mode": {
        "name": "ipython",
        "version": 3
      },
      "file_extension": ".py",
      "mimetype": "text/x-python",
      "name": "python",
      "nbconvert_exporter": "python",
      "pygments_lexer": "ipython3",
      "version": "3.8.12"
    },
    "toc-autonumbering": false,
    "toc-showcode": false,
    "toc-showmarkdowntxt": false,
    "toc-showtags": false,
    "colab": {
      "name": "mip_search_app-v1.ipynb",
      "provenance": [],
      "collapsed_sections": []
    }
  },
  "cells": [
    {
      "cell_type": "markdown",
      "metadata": {
        "tags": [],
        "id": "x5wjno2TWPIP"
      },
      "source": [
        "# MIP Search App\n",
        "\n",
        "Search facility for MIP data"
      ]
    },
    {
      "cell_type": "code",
      "metadata": {
        "colab": {
          "base_uri": "https://localhost:8080/"
        },
        "id": "CJfE_kOGWPIW",
        "outputId": "ad1978c2-fc80-4013-90bb-d0e9bf3eab3b"
      },
      "source": [
        "#!wget -O mip_corpus_search-test2.db \"https://www.dropbox.com/s/cg04fgxoamtq72x/mip_corpus_search-test2.db?dl=1\"\n",
        "from google.colab import drive, files\n",
        "drive.mount('/content/drive')\n",
        "%run /content/drive/MyDrive/Colab/search_utils.py"
      ],
      "execution_count": 106,
      "outputs": [
        {
          "output_type": "stream",
          "name": "stdout",
          "text": [
            "Drive already mounted at /content/drive; to attempt to forcibly remount, call drive.mount(\"/content/drive\", force_remount=True).\n",
            "ok\n"
          ]
        }
      ]
    },
    {
      "cell_type": "markdown",
      "metadata": {
        "id": "KJYqmA8UWPIZ"
      },
      "source": [
        "## Search"
      ]
    },
    {
      "cell_type": "code",
      "metadata": {
        "id": "RcNKIXpcWPIa",
        "colab": {
          "base_uri": "https://localhost:8080/",
          "height": 1000
        },
        "outputId": "55aa8d7c-6528-4252-f886-904ab61197f8"
      },
      "source": [
        "#@title Search corpus { display-mode: \"form\" }\n",
        "search_string = \"MuseumSheffield\" #@param {type:\"string\"}\n",
        "case_sensitive = False #@param {type:\"boolean\"}\n",
        "search_facebook = True #@param {type:\"boolean\"}\n",
        "search_twitter = True #@param {type:\"boolean\"}\n",
        "search_websites = True #@param {type:\"boolean\"}\n",
        "max_results =  50#@param {type:\"integer\"}\n",
        "context_window =  8#@param {type:\"integer\"}\n",
        "res_df = run_search(search_string, case_sensitive,\n",
        "           search_facebook, search_twitter, search_websites)\n",
        "results_html, results_page_df = generate_html_matches(res_df, search_string, \n",
        "    case_sensitive, context_window, max_results)\n",
        "display(HTML(results_html))"
      ],
      "execution_count": 108,
      "outputs": [
        {
          "output_type": "stream",
          "name": "stdout",
          "text": [
            "N results: 1332\n",
            "search_regex: (?i)MuseumSheffield\n"
          ]
        },
        {
          "output_type": "display_data",
          "data": {
            "text/html": [
              "<style>\n",
              "  table, tr, th, td {\n",
              "    margin: 3px;\n",
              "    border: solid 1px gray;\n",
              "    font-size: .9em;\n",
              "    border-collapse: collapse;\n",
              "    font-family: sans-serif;\n",
              "    vertical-align: top;\n",
              "    }\n",
              "  .before_col { text-align: right; }\n",
              "  strong { background-color: blue; color: white; }\n",
              "  </style><table><tr><th>res</th><th>museum_id</th><th>before</th><th>match</th><th>after</th><th>platform</th></tr><tr><td class=\"\">1</td><td class=\"\">mm.misc.015</td><td class=\"before_col\">winners @YorkArtGallery, @LeedsCityMuseum and Weston Park Museum @</td><td class=\"\">MuseumSheffield</td><td class=\"\"> </td><td class=\"\">twitter</td></tr><tr><td class=\"\">2</td><td class=\"\">mm.misc.015</td><td class=\"before_col\">@SheffieldStar @</td><td class=\"\">MuseumSheffield</td><td class=\"\">Yes, please do! ☺</td><td class=\"\">twitter</td></tr><tr><td class=\"\">3</td><td class=\"\">mm.misc.015</td><td class=\"before_col\">@nvmuk @</td><td class=\"\">MuseumSheffield</td><td class=\"\">That's excellent! Would we be get permission to</td><td class=\"\">twitter</td></tr><tr><td class=\"\">4</td><td class=\"\">mm.misc.015</td><td class=\"before_col\">@SheffieldStar @</td><td class=\"\">MuseumSheffield</td><td class=\"\">It's not as big as @MuseumSheffield tremendous effort,</td><td class=\"\">twitter</td></tr><tr><td class=\"\">5</td><td class=\"\">mm.misc.015</td><td class=\"before_col\">@HunterianLondon @Heather1576 @ktrcarpenter @vicky_ig @ClivedenNT @readingmuseum @stalbansmuseums @</td><td class=\"\">MuseumSheffield</td><td class=\"\">@CrawleyMuseum @DorsetArchives @AmzStone @EstellaCastle @Royal_Armouries @YorkAdventurers @MuseumCrush @haslemeremuseum</td><td class=\"\">twitter</td></tr><tr><td class=\"\">6</td><td class=\"\">mm.misc.015</td><td class=\"before_col\">@HunterianLondon @Heather1576 @ktrcarpenter @vicky_ig @ClivedenNT @readingmuseum @stalbansmuseums @</td><td class=\"\">MuseumSheffield</td><td class=\"\">@CrawleyMuseum @DorsetArchives @AmzStone @EstellaCastle @Royal_Armouries @YorkAdventurers @MuseumCrush @haslemeremuseum</td><td class=\"\">twitter</td></tr><tr><td class=\"\">7</td><td class=\"\">mm.misc.015</td><td class=\"before_col\">@HunterianLondon @Heather1576 @ktrcarpenter @vicky_ig @ClivedenNT @readingmuseum @stalbansmuseums @</td><td class=\"\">MuseumSheffield</td><td class=\"\">@CrawleyMuseum @DorsetArchives @AmzStone @EstellaCastle @Royal_Armouries @YorkAdventurers @MuseumCrush @haslemeremuseum</td><td class=\"\">twitter</td></tr><tr><td class=\"\">8</td><td class=\"\">mm.misc.015</td><td class=\"before_col\">@HunterianLondon @Heather1576 @ktrcarpenter @vicky_ig @ClivedenNT @readingmuseum @stalbansmuseums @</td><td class=\"\">MuseumSheffield</td><td class=\"\">@CrawleyMuseum @DorsetArchives @AmzStone @EstellaCastle @Royal_Armouries @YorkAdventurers @MuseumCrush @haslemeremuseum</td><td class=\"\">twitter</td></tr><tr><td class=\"\">9</td><td class=\"\">mm.misc.015</td><td class=\"before_col\">@HunterianLondon @Heather1576 @ktrcarpenter @vicky_ig @ClivedenNT @readingmuseum @stalbansmuseums @</td><td class=\"\">MuseumSheffield</td><td class=\"\">@CrawleyMuseum @DorsetArchives @AmzStone @EstellaCastle @Royal_Armouries @YorkAdventurers @MuseumCrush @haslemeremuseum</td><td class=\"\">twitter</td></tr><tr><td class=\"\">10</td><td class=\"\">mm.misc.015</td><td class=\"before_col\">@nvmuk @</td><td class=\"\">MuseumSheffield</td><td class=\"\">@CuratorClar</td><td class=\"\">twitter</td></tr><tr><td class=\"\">11</td><td class=\"\">mm.misc.015</td><td class=\"before_col\">@hardistymark @</td><td class=\"\">MuseumSheffield</td><td class=\"\">Yo @MuseumSheffield. Time to get the crayons out</td><td class=\"\">twitter</td></tr><tr><td class=\"\">12</td><td class=\"\">mm.misc.015</td><td class=\"before_col\">of 226 Gremlin/Infogrames Sheffield releases all in @</td><td class=\"\">MuseumSheffield</td><td class=\"\"></td><td class=\"\">twitter</td></tr><tr><td class=\"\">13</td><td class=\"\">mm.misc.015</td><td class=\"before_col\">@</td><td class=\"\">MuseumSheffield</td><td class=\"\">❤️❤️❤</td><td class=\"\">twitter</td></tr><tr><td class=\"\">14</td><td class=\"\">mm.misc.015</td><td class=\"before_col\">RT @</td><td class=\"\">MuseumSheffield</td><td class=\"\"> Museums rely on the income they generate</td><td class=\"\">twitter</td></tr><tr><td class=\"\">15</td><td class=\"\">mm.misc.015</td><td class=\"before_col\">@hardistymark @CuratorClara @bigevilboss @</td><td class=\"\">MuseumSheffield</td><td class=\"\">Yep! Alongside Gang Beasts, Zool, and Snake Pass,</td><td class=\"\">twitter</td></tr><tr><td class=\"\">16</td><td class=\"\">mm.misc.015</td><td class=\"before_col\">RT @Sparky_inK: @hardistymark @</td><td class=\"\">MuseumSheffield</td><td class=\"\">@nvmuk @BGI_Rick @jacobmph @TurboCarlos Such a gaming legacy</td><td class=\"\">twitter</td></tr><tr><td class=\"\">17</td><td class=\"\">mm.misc.015</td><td class=\"before_col\">RT @hardistymark: Brilliant news! @</td><td class=\"\">MuseumSheffield</td><td class=\"\">have agreed to establish a brand new collection</td><td class=\"\">twitter</td></tr><tr><td class=\"\">18</td><td class=\"\">mm.domus.YH107</td><td class=\"before_col\">@RoystonMuseum @MPSHeritage @BradfordMuseums @PenleeHouse @ColMuseums @AshmoleanMuseum @OxonMuseum @</td><td class=\"\">MuseumSheffield</td><td class=\"\">Sorted - what shall we say, Yorkshire vs.</td><td class=\"\">twitter</td></tr><tr><td class=\"\">19</td><td class=\"\">mm.domus.YH107</td><td class=\"before_col\">@RoystonMuseum @MPSHeritage @BradfordMuseums @PenleeHouse @ColMuseums @AshmoleanMuseum @OxonMuseum @</td><td class=\"\">MuseumSheffield</td><td class=\"\">ON IT. https://t.co/pKe8LhXxc</td><td class=\"\">twitter</td></tr><tr><td class=\"\">20</td><td class=\"\">mm.domus.YH107</td><td class=\"before_col\">@RoystonMuseum @MPSHeritage @BradfordMuseums @PenleeHouse @ColMuseums @AshmoleanMuseum @OxonMuseum @</td><td class=\"\">MuseumSheffield</td><td class=\"\">Leeds straight in there with a blow for</td><td class=\"\">twitter</td></tr><tr><td class=\"\">21</td><td class=\"\">mm.domus.YH107</td><td class=\"before_col\">@NTChastleton @RoystonMuseum @MPSHeritage @BradfordMuseums @PenleeHouse @ColMuseums @AshmoleanMuseum @</td><td class=\"\">MuseumSheffield</td><td class=\"\">https://t.co/4carYCSxp</td><td class=\"\">twitter</td></tr><tr><td class=\"\">22</td><td class=\"\">mm.domus.YH107</td><td class=\"before_col\">@NTChastleton @RoystonMuseum @MPSHeritage @BradfordMuseums @PenleeHouse @ColMuseums @AshmoleanMuseum @</td><td class=\"\">MuseumSheffield</td><td class=\"\">We would take this mirror, because we can't</td><td class=\"\">twitter</td></tr><tr><td class=\"\">23</td><td class=\"\">mm.domus.YH107</td><td class=\"before_col\">@RoystonMuseum @MPSHeritage @BradfordMuseums @PenleeHouse @ColMuseums @AshmoleanMuseum @OxonMuseum @</td><td class=\"\">MuseumSheffield</td><td class=\"\">You should take the dolls to Mars and</td><td class=\"\">twitter</td></tr><tr><td class=\"\">24</td><td class=\"\">mm.domus.YH107</td><td class=\"before_col\">@WFMuseums @BarnsleyMuseums @BradfordMuseums @</td><td class=\"\">MuseumSheffield</td><td class=\"\">@LeedsMuseums @KirkleesMuseums @YorkMuseumTrust @EghamMuseum @SMTrust @CreswellCrags @NostellNT So</td><td class=\"\">twitter</td></tr><tr><td class=\"\">25</td><td class=\"\">mm.domus.YH107</td><td class=\"before_col\">@BarnsleyMuseums @CliftonParkMus @NESMUSEUM @</td><td class=\"\">MuseumSheffield</td><td class=\"\">@WFMuseums @EghamMuseum @YorkMuseumTrust @YorkAdventurers @SMTrust @romanpalace @CreswellCrags @Northlincmuseum</td><td class=\"\">twitter</td></tr><tr><td class=\"\">26</td><td class=\"\">mm.domus.YH107</td><td class=\"before_col\">@NESMUSEUM @</td><td class=\"\">MuseumSheffield</td><td class=\"\">@WFMuseums @CliftonParkMus @EghamMuseum @YorkMuseumTrust @YorkAdventurers @BarnsleyMuseums @SMTrust @romanpalace</td><td class=\"\">twitter</td></tr><tr><td class=\"\">27</td><td class=\"\">mm.domus.YH107</td><td class=\"before_col\">@NESMUSEUM @</td><td class=\"\">MuseumSheffield</td><td class=\"\">@WFMuseums @CliftonParkMus @EghamMuseum @YorkMuseumTrust @YorkAdventurers @BarnsleyMuseums @SMTrust @romanpalace</td><td class=\"\">twitter</td></tr><tr><td class=\"\">28</td><td class=\"\">mm.domus.YH107</td><td class=\"before_col\">@LULGalleries @</td><td class=\"\">MuseumSheffield</td><td class=\"\">@fairfax_house @JorvikViking @YorkArtGallery @YorkMansionHse @Royal_Armouries @SMT_Collections @RoystonMuseum @MuseumCromwell</td><td class=\"\">twitter</td></tr><tr><td class=\"\">29</td><td class=\"\">mm.domus.YH107</td><td class=\"before_col\">@</td><td class=\"\">MuseumSheffield</td><td class=\"\">@YorkAdventurers @fairfax_house @JorvikViking @YorkArtGallery @YorkMansionHse @Royal_Armouries @SMT_Collections @RoystonMuseum</td><td class=\"\">twitter</td></tr><tr><td class=\"\">30</td><td class=\"\">mm.domus.YH107</td><td class=\"before_col\">@LULGalleries @fairfax_house @JorvikViking @YorkArtGallery @YorkMansionHse @</td><td class=\"\">MuseumSheffield</td><td class=\"\">@Royal_Armouries @SMT_Collections @RoystonMuseum @MuseumCromwell @RCMMuseum He also plays</td><td class=\"\">twitter</td></tr><tr><td class=\"\">31</td><td class=\"\">mm.domus.YH107</td><td class=\"before_col\">@YorkAdventurers @fairfax_house @JorvikViking @YorkArtGallery @YorkMansionHse @</td><td class=\"\">MuseumSheffield</td><td class=\"\">@Royal_Armouries @SMT_Collections @RoystonMuseum @MuseumCromwell @RCMMuseum Feeling super fly</td><td class=\"\">twitter</td></tr><tr><td class=\"\">32</td><td class=\"\">mm.domus.YH107</td><td class=\"before_col\">for beards and @fairfax_house, @JorvikViking, @YorkArtGallery @YorkMansionHse, @</td><td class=\"\">MuseumSheffield</td><td class=\"\"> @Royal_Armou</td><td class=\"\">twitter</td></tr><tr><td class=\"\">33</td><td class=\"\">mm.domus.YH107</td><td class=\"before_col\">@LULGalleries @</td><td class=\"\">MuseumSheffield</td><td class=\"\">@YorkAdventurers @YorkshireMuseum @TheMERL YES!  (we forgot to</td><td class=\"\">twitter</td></tr><tr><td class=\"\">34</td><td class=\"\">mm.domus.YH107</td><td class=\"before_col\">@</td><td class=\"\">MuseumSheffield</td><td class=\"\">@BradfordMuseums @YorkAdventurers @YorkshireMuseum I know who would LOVE</td><td class=\"\">twitter</td></tr><tr><td class=\"\">35</td><td class=\"\">mm.domus.YH107</td><td class=\"before_col\">@NS_Museum @</td><td class=\"\">MuseumSheffield</td><td class=\"\">@fairfax_house @YorkCastle @BarnsleyMuseums @YorkshireMuseum @MuseumCrush https://t.co/Gk9rdjn7K</td><td class=\"\">twitter</td></tr><tr><td class=\"\">36</td><td class=\"\">mm.domus.YH107</td><td class=\"before_col\">@LULGalleries @</td><td class=\"\">MuseumSheffield</td><td class=\"\">@fairfax_house @YorkCastle @BarnsleyMuseums @YorkshireMuseum @MuseumCrush I see you.</td><td class=\"\">twitter</td></tr><tr><td class=\"\">37</td><td class=\"\">mm.domus.YH107</td><td class=\"before_col\">@</td><td class=\"\">MuseumSheffield</td><td class=\"\">@NS_Museum @fairfax_house @YorkCastle @BarnsleyMuseums @YorkshireMuseum @MuseumCrush Read the</td><td class=\"\">twitter</td></tr><tr><td class=\"\">38</td><td class=\"\">mm.domus.YH107</td><td class=\"before_col\">@LULGalleries @YorkshireMuseum @YorkAdventurers @CrapFinds @Royal_Armouries @SMTrust @BarnsleyMuseums @</td><td class=\"\">MuseumSheffield</td><td class=\"\">@fairfax_house @thackraymuseum @YorkCastle @YorkArtGallery Would love to have</td><td class=\"\">twitter</td></tr><tr><td class=\"\">39</td><td class=\"\">mm.domus.YH107</td><td class=\"before_col\">@BarnsleyMuseums @YorkshireMuseum @YorkAdventurers @CrapFinds @Royal_Armouries @SMTrust @</td><td class=\"\">MuseumSheffield</td><td class=\"\">@fairfax_house @thackraymuseum @YorkCastle @YorkArtGallery Cake? Without...eggs? https://t.co/xyqUfgPcv</td><td class=\"\">twitter</td></tr><tr><td class=\"\">40</td><td class=\"\">mm.domus.YH107</td><td class=\"before_col\">@LULGalleries @YorkshireMuseum @CrapFinds @Royal_Armouries @SMTrust @BarnsleyMuseums @</td><td class=\"\">MuseumSheffield</td><td class=\"\">@fairfax_house @thackraymuseum @YorkCastle @YorkArtGallery Probably the only really</td><td class=\"\">twitter</td></tr><tr><td class=\"\">41</td><td class=\"\">mm.domus.YH107</td><td class=\"before_col\">@LULGalleries @YorkshireMuseum @YorkAdventurers @CrapFinds @Royal_Armouries @SMTrust @</td><td class=\"\">MuseumSheffield</td><td class=\"\">@fairfax_house @thackraymuseum @YorkCastle @YorkArtGallery We're a bit eggless</td><td class=\"\">twitter</td></tr><tr><td class=\"\">42</td><td class=\"\">mm.domus.YH107</td><td class=\"before_col\">@YorkshireMuseum @YorkAdventurers @CrapFinds @Royal_Armouries @SMTrust @BarnsleyMuseums @</td><td class=\"\">MuseumSheffield</td><td class=\"\">@fairfax_house @thackraymuseum @YorkCastle @YorkArtGallery Oh crumbs. There's not</td><td class=\"\">twitter</td></tr><tr><td class=\"\">43</td><td class=\"\">mm.domus.YH148</td><td class=\"before_col\">RT @</td><td class=\"\">MuseumSheffield</td><td class=\"\"> @YorkshireMuseum Can't have a #mostmagial #curatorbattle without</td><td class=\"\">twitter</td></tr><tr><td class=\"\">44</td><td class=\"\">mm.domus.YH148</td><td class=\"before_col\">RT @</td><td class=\"\">MuseumSheffield</td><td class=\"\"> @YorkshireMuseum Step aside Constantine!\n",
              "\n",
              "#HortenseMancini was known for</td><td class=\"\">twitter</td></tr><tr><td class=\"\">45</td><td class=\"\">mm.domus.YH148</td><td class=\"before_col\">@MuseumsTogethe1 @SMTrust @BarnsleyMuseums @WFMuseums @LeedsMuseums @YorkAdventurers @Hull_Museums @</td><td class=\"\">MuseumSheffield</td><td class=\"\">Doggos will always earn extra points in our</td><td class=\"\">twitter</td></tr><tr><td class=\"\">46</td><td class=\"\">mm.domus.YH148</td><td class=\"before_col\">@YorkAdventurers @SMTrust @MuseumsTogethe1 @BarnsleyMuseums @WFMuseums @LeedsMuseums @Hull_Museums @</td><td class=\"\">MuseumSheffield</td><td class=\"\">No dogs...but we have a cat called Peanut</td><td class=\"\">twitter</td></tr><tr><td class=\"\">47</td><td class=\"\">mm.domus.YH148</td><td class=\"before_col\">@YorkAdventurers @JusticeMuseum @MuseumsTogethe1 @BarnsleyMuseums @WFMuseums @LeedsMuseums @Hull_Museums @</td><td class=\"\">MuseumSheffield</td><td class=\"\">HI BARNEY! Who’s a good boy? You are!</td><td class=\"\">twitter</td></tr><tr><td class=\"\">48</td><td class=\"\">mm.domus.YH148</td><td class=\"before_col\">@YorkAdventurers @JusticeMuseum @MuseumsTogethe1 @BarnsleyMuseums @WFMuseums @LeedsMuseums @Hull_Museums @</td><td class=\"\">MuseumSheffield</td><td class=\"\">He’s the one in the top picture!\n",
              "\n",
              "this good</td><td class=\"\">twitter</td></tr><tr><td class=\"\">49</td><td class=\"\">mm.domus.YH148</td><td class=\"before_col\">@YorkAdventurers @JusticeMuseum @MuseumsTogethe1 @BarnsleyMuseums @WFMuseums @LeedsMuseums @Hull_Museums @</td><td class=\"\">MuseumSheffield</td><td class=\"\">PICTURES PLEASE</td><td class=\"\">twitter</td></tr><tr><td class=\"\">50</td><td class=\"\">mm.domus.YH148</td><td class=\"before_col\">@SMTrust @JusticeMuseum @MuseumsTogethe1 @BarnsleyMuseums @WFMuseums @LeedsMuseums @Hull_Museums @</td><td class=\"\">MuseumSheffield</td><td class=\"\">OMG MY MUSEUM DOG IS ALSO CALLED BARNE</td><td class=\"\">twitter</td></tr></table>"
            ],
            "text/plain": [
              "<IPython.core.display.HTML object>"
            ]
          },
          "metadata": {}
        }
      ]
    },
    {
      "cell_type": "markdown",
      "metadata": {
        "id": "lcFMk7gOdO3H"
      },
      "source": [
        "# Analyse search results"
      ]
    },
    {
      "cell_type": "code",
      "metadata": {
        "colab": {
          "base_uri": "https://localhost:8080/"
        },
        "id": "vm03nEIedT9j",
        "outputId": "1c29a082-e856-40d5-f546-d991e87bc76f"
      },
      "source": [
        "#@title Default title text\n",
        "context_size = 5 #@param {type:\"integer\"}\n",
        "an_results(res_df, search_string, case_sensitive, context_size)"
      ],
      "execution_count": 73,
      "outputs": [
        {
          "output_type": "stream",
          "name": "stdout",
          "text": [
            "N results:  1332\n",
            "N museums:  86\n",
            "Platforms:\n",
            " twitter    1332\n",
            "Name: platform, dtype: int64\n",
            "before\n",
            "\n",
            "\n",
            "yorkshiremuseum    633\n",
            "barnsleymuseums    612\n",
            "smtrust            603\n",
            "yorkadventurers    603\n",
            "wfmuseums          412\n",
            "                  ... \n",
            "heritagefunduk       1\n",
            "exhibitions          1\n",
            "test                 1\n",
            "island               1\n",
            "given                1\n",
            "Length: 778, dtype: int64\n",
            "after\n",
            "\n",
            "\n",
            "thackraymuseum     443\n",
            "yorkcastle         429\n",
            "fairfax_house      383\n",
            "yorkartgallery     312\n",
            "royal_armouries    231\n",
            "                  ... \n",
            "bachelor             1\n",
            "fabergé              1\n",
            "government           1\n",
            "mustache             1\n",
            "clouds               1\n",
            "Length: 3522, dtype: int64\n"
          ]
        }
      ]
    },
    {
      "cell_type": "markdown",
      "metadata": {
        "id": "5f2oaR20o68a"
      },
      "source": [
        "### Download results as Excel"
      ]
    },
    {
      "cell_type": "code",
      "metadata": {
        "colab": {
          "base_uri": "https://localhost:8080/",
          "height": 17
        },
        "id": "GW7uKN3nnLeR",
        "outputId": "dc4d1450-8f49-42d6-ac26-1544b5682baa"
      },
      "source": [
        "fn = 'search_results_{}.xlsx'.format(get_now_string())\n",
        "results_page_df.to_excel(fn, index=False)\n",
        "files.download(fn)"
      ],
      "execution_count": 110,
      "outputs": [
        {
          "output_type": "display_data",
          "data": {
            "application/javascript": [
              "\n",
              "    async function download(id, filename, size) {\n",
              "      if (!google.colab.kernel.accessAllowed) {\n",
              "        return;\n",
              "      }\n",
              "      const div = document.createElement('div');\n",
              "      const label = document.createElement('label');\n",
              "      label.textContent = `Downloading \"${filename}\": `;\n",
              "      div.appendChild(label);\n",
              "      const progress = document.createElement('progress');\n",
              "      progress.max = size;\n",
              "      div.appendChild(progress);\n",
              "      document.body.appendChild(div);\n",
              "\n",
              "      const buffers = [];\n",
              "      let downloaded = 0;\n",
              "\n",
              "      const channel = await google.colab.kernel.comms.open(id);\n",
              "      // Send a message to notify the kernel that we're ready.\n",
              "      channel.send({})\n",
              "\n",
              "      for await (const message of channel.messages) {\n",
              "        // Send a message to notify the kernel that we're ready.\n",
              "        channel.send({})\n",
              "        if (message.buffers) {\n",
              "          for (const buffer of message.buffers) {\n",
              "            buffers.push(buffer);\n",
              "            downloaded += buffer.byteLength;\n",
              "            progress.value = downloaded;\n",
              "          }\n",
              "        }\n",
              "      }\n",
              "      const blob = new Blob(buffers, {type: 'application/binary'});\n",
              "      const a = document.createElement('a');\n",
              "      a.href = window.URL.createObjectURL(blob);\n",
              "      a.download = filename;\n",
              "      div.appendChild(a);\n",
              "      a.click();\n",
              "      div.remove();\n",
              "    }\n",
              "  "
            ],
            "text/plain": [
              "<IPython.core.display.Javascript object>"
            ]
          },
          "metadata": {}
        },
        {
          "output_type": "display_data",
          "data": {
            "application/javascript": [
              "download(\"download_778d2a0d-7b04-4760-ae09-15d562906e09\", \"search_results_20211121-182347.xlsx\", 64902)"
            ],
            "text/plain": [
              "<IPython.core.display.Javascript object>"
            ]
          },
          "metadata": {}
        }
      ]
    },
    {
      "cell_type": "markdown",
      "metadata": {
        "id": "QM5pIonivg2C"
      },
      "source": [
        "### Backup application"
      ]
    },
    {
      "cell_type": "code",
      "metadata": {
        "colab": {
          "base_uri": "https://localhost:8080/",
          "height": 305
        },
        "id": "qlczUd9QvkW-",
        "outputId": "aab3ac06-3ed6-4246-d0ca-18abc96a2bc0"
      },
      "source": [
        "files.download('/content/drive/MyDrive/Colab/search_utils.py')\n",
        "files.download('mip_search_app-v1.ipynb')"
      ],
      "execution_count": 111,
      "outputs": [
        {
          "output_type": "display_data",
          "data": {
            "application/javascript": [
              "\n",
              "    async function download(id, filename, size) {\n",
              "      if (!google.colab.kernel.accessAllowed) {\n",
              "        return;\n",
              "      }\n",
              "      const div = document.createElement('div');\n",
              "      const label = document.createElement('label');\n",
              "      label.textContent = `Downloading \"${filename}\": `;\n",
              "      div.appendChild(label);\n",
              "      const progress = document.createElement('progress');\n",
              "      progress.max = size;\n",
              "      div.appendChild(progress);\n",
              "      document.body.appendChild(div);\n",
              "\n",
              "      const buffers = [];\n",
              "      let downloaded = 0;\n",
              "\n",
              "      const channel = await google.colab.kernel.comms.open(id);\n",
              "      // Send a message to notify the kernel that we're ready.\n",
              "      channel.send({})\n",
              "\n",
              "      for await (const message of channel.messages) {\n",
              "        // Send a message to notify the kernel that we're ready.\n",
              "        channel.send({})\n",
              "        if (message.buffers) {\n",
              "          for (const buffer of message.buffers) {\n",
              "            buffers.push(buffer);\n",
              "            downloaded += buffer.byteLength;\n",
              "            progress.value = downloaded;\n",
              "          }\n",
              "        }\n",
              "      }\n",
              "      const blob = new Blob(buffers, {type: 'application/binary'});\n",
              "      const a = document.createElement('a');\n",
              "      a.href = window.URL.createObjectURL(blob);\n",
              "      a.download = filename;\n",
              "      div.appendChild(a);\n",
              "      a.click();\n",
              "      div.remove();\n",
              "    }\n",
              "  "
            ],
            "text/plain": [
              "<IPython.core.display.Javascript object>"
            ]
          },
          "metadata": {}
        },
        {
          "output_type": "display_data",
          "data": {
            "application/javascript": [
              "download(\"download_ae64dce3-31de-4b9b-8651-c1135868755d\", \"search_utils.py\", 6274)"
            ],
            "text/plain": [
              "<IPython.core.display.Javascript object>"
            ]
          },
          "metadata": {}
        },
        {
          "output_type": "error",
          "ename": "FileNotFoundError",
          "evalue": "ignored",
          "traceback": [
            "\u001b[0;31m---------------------------------------------------------------------------\u001b[0m",
            "\u001b[0;31mFileNotFoundError\u001b[0m                         Traceback (most recent call last)",
            "\u001b[0;32m<ipython-input-111-ddd087b9d454>\u001b[0m in \u001b[0;36m<module>\u001b[0;34m()\u001b[0m\n\u001b[1;32m      1\u001b[0m \u001b[0mfiles\u001b[0m\u001b[0;34m.\u001b[0m\u001b[0mdownload\u001b[0m\u001b[0;34m(\u001b[0m\u001b[0;34m'/content/drive/MyDrive/Colab/search_utils.py'\u001b[0m\u001b[0;34m)\u001b[0m\u001b[0;34m\u001b[0m\u001b[0;34m\u001b[0m\u001b[0m\n\u001b[0;32m----> 2\u001b[0;31m \u001b[0mfiles\u001b[0m\u001b[0;34m.\u001b[0m\u001b[0mdownload\u001b[0m\u001b[0;34m(\u001b[0m\u001b[0;34m'mip_search_app-v1.ipynb'\u001b[0m\u001b[0;34m)\u001b[0m\u001b[0;34m\u001b[0m\u001b[0;34m\u001b[0m\u001b[0m\n\u001b[0m",
            "\u001b[0;32m/usr/local/lib/python3.7/dist-packages/google/colab/files.py\u001b[0m in \u001b[0;36mdownload\u001b[0;34m(filename)\u001b[0m\n\u001b[1;32m    141\u001b[0m       \u001b[0;32mraise\u001b[0m \u001b[0mOSError\u001b[0m\u001b[0;34m(\u001b[0m\u001b[0mmsg\u001b[0m\u001b[0;34m)\u001b[0m\u001b[0;34m\u001b[0m\u001b[0;34m\u001b[0m\u001b[0m\n\u001b[1;32m    142\u001b[0m     \u001b[0;32melse\u001b[0m\u001b[0;34m:\u001b[0m\u001b[0;34m\u001b[0m\u001b[0;34m\u001b[0m\u001b[0m\n\u001b[0;32m--> 143\u001b[0;31m       \u001b[0;32mraise\u001b[0m \u001b[0mFileNotFoundError\u001b[0m\u001b[0;34m(\u001b[0m\u001b[0mmsg\u001b[0m\u001b[0;34m)\u001b[0m  \u001b[0;31m# pylint: disable=undefined-variable\u001b[0m\u001b[0;34m\u001b[0m\u001b[0;34m\u001b[0m\u001b[0m\n\u001b[0m\u001b[1;32m    144\u001b[0m \u001b[0;34m\u001b[0m\u001b[0m\n\u001b[1;32m    145\u001b[0m   \u001b[0mcomm_manager\u001b[0m \u001b[0;34m=\u001b[0m \u001b[0m_IPython\u001b[0m\u001b[0;34m.\u001b[0m\u001b[0mget_ipython\u001b[0m\u001b[0;34m(\u001b[0m\u001b[0;34m)\u001b[0m\u001b[0;34m.\u001b[0m\u001b[0mkernel\u001b[0m\u001b[0;34m.\u001b[0m\u001b[0mcomm_manager\u001b[0m\u001b[0;34m\u001b[0m\u001b[0;34m\u001b[0m\u001b[0m\n",
            "\u001b[0;31mFileNotFoundError\u001b[0m: Cannot find file: mip_search_app-v1.ipynb"
          ]
        }
      ]
    }
  ]
}