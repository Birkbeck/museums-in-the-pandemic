{
 "cells": [
  {
   "cell_type": "markdown",
   "metadata": {
    "tags": []
   },
   "source": [
    "# Museums in the Pandemic - Social media analytics\n",
    "\n",
    "**Authors**: Andrea Ballatore (KCL)\n",
    "\n",
    "**Abstract**: Analysis of social media data\n",
    "\n",
    "## Setup\n",
    "This is to check that your environment is set up correctly (it should print 'env ok', ignore warnings)."
   ]
  },
  {
   "cell_type": "code",
   "execution_count": 1,
   "metadata": {
    "tags": []
   },
   "outputs": [
    {
     "name": "stdout",
     "output_type": "stream",
     "text": [
      "Conda env: mip_v1\n",
      "/Users/andreaballatore/Dropbox/DRBX_Docs/Work/Projects/github_projects/museums-in-the-pandemic/mip/notebooks\n",
      "env ok\n"
     ]
    }
   ],
   "source": [
    "# Test geospatial libraries\n",
    "# check environment\n",
    "import os\n",
    "print(\"Conda env:\", os.environ['CONDA_DEFAULT_ENV'])\n",
    "if os.environ['CONDA_DEFAULT_ENV'] != 'mip_v1':\n",
    "    raise Exception(\"Set the environment 'mip_v1' on Anaconda. Current environment: \" + os.environ['CONDA_DEFAULT_ENV'])\n",
    "\n",
    "# spatial libraries \n",
    "import pandas as pd\n",
    "import pickle\n",
    "import spacy\n",
    "from termcolor import colored\n",
    "import matplotlib.dates as mdates\n",
    "import sys\n",
    "import numpy as np\n",
    "from numpy import arange\n",
    "#import tensorflow as tf\n",
    "from bs4 import BeautifulSoup\n",
    "from bs4.element import Comment\n",
    "#import torch\n",
    "import matplotlib.pyplot as plt\n",
    "from sklearn.preprocessing import StandardScaler\n",
    "from matplotlib import pyplot as plt\n",
    "%matplotlib inline\n",
    "\n",
    "# import from `mip` project\n",
    "print(os.getcwd())\n",
    "fpath = os.path.abspath('../')\n",
    "if not fpath in sys.path:\n",
    "    sys.path.insert(0, fpath)\n",
    "\n",
    "out_folder = '../../'\n",
    "\n",
    "from museums import *\n",
    "from utils import _is_number\n",
    "from analytics.text_models import derive_new_attributes_matches, get_all_matches_from_db, get_indicator_annotations\n",
    "from museums import get_museums_w_web_urls\n",
    "\n",
    "print('env ok')"
   ]
  },
  {
   "cell_type": "markdown",
   "metadata": {},
   "source": [
    "## Connect to DB\n",
    "\n",
    "It needs the DCS VPN active to work."
   ]
  },
  {
   "cell_type": "code",
   "execution_count": 13,
   "metadata": {
    "tags": []
   },
   "outputs": [
    {
     "name": "stdout",
     "output_type": "stream",
     "text": [
      "DB connected\n"
     ]
    }
   ],
   "source": [
    "# open connection to DB\n",
    "from db.db import connect_to_postgresql_db\n",
    "\n",
    "db_conn = connect_to_postgresql_db()\n",
    "print(\"DB connected\")"
   ]
  },
  {
   "cell_type": "markdown",
   "metadata": {},
   "source": [
    "## Temporal analysis of Twitter/Facebook\n",
    "\n",
    "Temporal analysis based on message counts."
   ]
  },
  {
   "cell_type": "code",
   "execution_count": 3,
   "metadata": {},
   "outputs": [
    {
     "name": "stdout",
     "output_type": "stream",
     "text": [
      "museums urls: ../../data/museums/museum_websites_urls-v3.tsv\n",
      "nationaltrust.org.uk       179\n",
      "english-heritage.org.uk     52\n",
      "no_resource.                33\n",
      "visitscotland.com           24\n",
      "nts.org.uk                  21\n",
      "                          ... \n",
      "glynnvivian.co.uk            1\n",
      "glynde.co.uk                 1\n",
      "gwsr.com                     1\n",
      "gloucesterquays.co.uk        1\n",
      "smithsonfarm.co.uk           1\n",
      "Name: domain, Length: 2441, dtype: int64\n",
      "get_museums_w_web_urls Museums=3344 URLs=3344\n",
      "museums url N: 3344\n",
      "Index(['musname', 'muse_id', 'town', 'postcode', 'accreditation', 'governance',\n",
      "       'size', 'subject_matter', 'closing_date', 'provenance',\n",
      "       'deprivation_index', 'geodemographic_group', 'geodemographic_subgroup',\n",
      "       'admin_area'],\n",
      "      dtype='object')\n",
      "loaded museums w attributes (open): 3341 data/museums/museums_wattributes-2020-02-23.tsv\n",
      "museum df with attributes: len 3344\n"
     ]
    },
    {
     "data": {
      "text/plain": [
       "3344"
      ]
     },
     "execution_count": 3,
     "metadata": {},
     "output_type": "execute_result"
    }
   ],
   "source": [
    "# load museums\n",
    "df = get_museums_w_web_urls(out_folder)\n",
    "print(\"museums url N:\",len(df))\n",
    "attr_df = load_input_museums_wattributes(out_folder)\n",
    "df = pd.merge(df, attr_df, on='muse_id', how='left')\n",
    "print(\"museum df with attributes: len\", len(df))\n",
    "mus_df = df\n",
    "del df\n",
    "len(mus_df)"
   ]
  },
  {
   "cell_type": "markdown",
   "metadata": {},
   "source": [
    "### Download Twitter/Facebook from DB"
   ]
  },
  {
   "cell_type": "code",
   "execution_count": 14,
   "metadata": {},
   "outputs": [
    {
     "name": "stdout",
     "output_type": "stream",
     "text": [
      "Index(['museum_id', 'account', 'ts'], dtype='object')\n",
      "5653012\n"
     ]
    },
    {
     "data": {
      "text/plain": [
       "'../../tmp/tweets.pik'"
      ]
     },
     "execution_count": 14,
     "metadata": {},
     "output_type": "execute_result"
    }
   ],
   "source": [
    "sql = \"select muse_id as museum_id, account, tw_ts as ts from twitter.tweets_dump td;\" # limit 10000\n",
    "df = pd.read_sql(sql, db_conn)\n",
    "df['ts'] = pd.to_datetime(df['ts'])\n",
    "print(df.columns)\n",
    "df = df.set_index('ts')\n",
    "tw_fn = out_folder+'tmp/tweets.pik'\n",
    "df.to_pickle(tw_fn)\n",
    "print(len(df))\n",
    "tw_fn"
   ]
  },
  {
   "cell_type": "code",
   "execution_count": 5,
   "metadata": {},
   "outputs": [
    {
     "name": "stdout",
     "output_type": "stream",
     "text": [
      "Index(['museum_id', 'post_ts'], dtype='object')\n",
      "1468515\n"
     ]
    },
    {
     "data": {
      "text/plain": [
       "'../../tmp/facebook_posts.pik'"
      ]
     },
     "execution_count": 5,
     "metadata": {},
     "output_type": "execute_result"
    }
   ],
   "source": [
    "sql = \"select museum_id, post_ts as ts from facebook.facebook_posts_dump;\" # limit 10000\n",
    "df = pd.read_sql(sql, db_conn)\n",
    "fb_fn = out_folder+'tmp/facebook_posts.pik'\n",
    "df['post_ts'] = pd.to_datetime(df['post_ts'])\n",
    "print(df.columns)\n",
    "df = df.set_index('post_ts')\n",
    "df.to_pickle(fb_fn)\n",
    "print(len(df))\n",
    "fb_fn"
   ]
  },
  {
   "cell_type": "markdown",
   "metadata": {},
   "source": [
    "### All tweets/posts over time\n",
    "\n",
    "Summarise tweets using pandas aggregation."
   ]
  },
  {
   "cell_type": "code",
   "execution_count": 57,
   "metadata": {},
   "outputs": [
    {
     "name": "stdout",
     "output_type": "stream",
     "text": [
      "5653012\n",
      "                                museum_id         account\n",
      "ts                                                       \n",
      "2020-07-30 12:03:05+00:00  mm.domus.SE309  hornimanmuseum\n",
      "2020-06-12 18:51:18+00:00  mm.domus.WM094   mjqbirmingham\n",
      "2020-08-17 19:11:40+00:00     mm.aim.0245  croydonairport\n",
      "2020-05-19 15:30:45+00:00  mm.domus.SE290     guildfordbc\n",
      "2019-08-07 14:00:49+00:00  mm.domus.WM068   sarehole_mill\n",
      "2020-02-04 12:22:06+00:00  mm.domus.SE079         kent_cc\n",
      "2020-06-24 08:01:19+00:00  mm.domus.SC281  somersetmuseum\n",
      "2021-02-09 11:53:21+00:00  mm.domus.EM034    derbymuseums\n",
      "2021-08-21 09:18:47+00:00      mm.hha.190     cressellycc\n",
      "2020-05-24 16:35:03+00:00  mm.domus.SE511       rafmuseum\n",
      "generate_time_plots\n",
      "date range: 2019-01-01 00:00:00+00:00 2021-10-15 12:45:39+00:00\n",
      "W\n",
      "../../data/analysis/temporal_analysis/tweets_temporal-all_mus-W.pdf\n",
      "D\n",
      "../../data/analysis/temporal_analysis/tweets_temporal-all_mus-D.pdf\n",
      "M\n",
      "../../data/analysis/temporal_analysis/tweets_temporal-all_mus-M.pdf\n",
      "Q\n",
      "../../data/analysis/temporal_analysis/tweets_temporal-all_mus-Q.pdf\n",
      "1468515\n",
      "                                museum_id\n",
      "post_ts                                  \n",
      "2021-08-27 10:03:24+00:00     mm.misc.104\n",
      "2020-01-29 15:45:14+00:00  mm.domus.NW093\n",
      "2020-01-03 09:47:26+00:00  mm.domus.SC243\n",
      "2019-04-24 15:48:00+00:00     mm.nimc.043\n",
      "2019-02-24 14:32:25+00:00      mm.hha.045\n",
      "2019-05-22 15:22:16+00:00      mm.MDN.025\n",
      "2020-06-05 08:52:12+00:00  mm.domus.YH093\n",
      "2020-04-13 09:42:11+00:00     mm.ace.1250\n",
      "2020-08-05 17:48:58+00:00      mm.New.141\n",
      "2020-06-05 12:00:08+00:00      mm.MDN.025\n",
      "generate_time_plots\n",
      "date range: 2019-01-01 00:00:00+00:00 2021-10-20 23:43:03+00:00\n",
      "W\n",
      "../../data/analysis/temporal_analysis/facebook_posts_temporal-all_mus-W.pdf\n",
      "D\n",
      "../../data/analysis/temporal_analysis/facebook_posts_temporal-all_mus-D.pdf\n",
      "M\n",
      "../../data/analysis/temporal_analysis/facebook_posts_temporal-all_mus-M.pdf\n",
      "Q\n",
      "../../data/analysis/temporal_analysis/facebook_posts_temporal-all_mus-Q.pdf\n"
     ]
    },
    {
     "data": {
      "text/html": [
       "<div>\n",
       "<style scoped>\n",
       "    .dataframe tbody tr th:only-of-type {\n",
       "        vertical-align: middle;\n",
       "    }\n",
       "\n",
       "    .dataframe tbody tr th {\n",
       "        vertical-align: top;\n",
       "    }\n",
       "\n",
       "    .dataframe thead th {\n",
       "        text-align: right;\n",
       "    }\n",
       "</style>\n",
       "<table border=\"1\" class=\"dataframe\">\n",
       "  <thead>\n",
       "    <tr style=\"text-align: right;\">\n",
       "      <th></th>\n",
       "    </tr>\n",
       "  </thead>\n",
       "  <tbody>\n",
       "  </tbody>\n",
       "</table>\n",
       "</div>"
      ],
      "text/plain": [
       "Empty DataFrame\n",
       "Columns: []\n",
       "Index: []"
      ]
     },
     "execution_count": 57,
     "metadata": {},
     "output_type": "execute_result"
    }
   ],
   "source": [
    "def generate_time_plots(df, label, aggr_func):\n",
    "    print('generate_time_plots', label)\n",
    "    print('date range:', min(df.index), max(df.index))\n",
    "    tdf = pd.DataFrame()\n",
    "    for time_aggr in ['W','D','M','Q']:\n",
    "        print(time_aggr)\n",
    "        tmpdf = aggr_func(df, time_aggr)\n",
    "\n",
    "        # plot tweets\n",
    "        fig, ax = plt.subplots()\n",
    "        tmpdf['count'].plot(linewidth=1, figsize=(20,7))\n",
    "        plt.title('All museums - N={} - {} over time by {}'.format(len(df), label, time_aggr))\n",
    "        plt.xlabel('Time')\n",
    "        plt.grid(True, which='both')\n",
    "        plt.ylabel('N  '+label)\n",
    "        #ax.xaxis.set_minor_formatter(mdates.DateFormatter('%m'))\n",
    "        fig_fn = out_folder+'data/analysis/temporal_analysis/{}_temporal-all_mus-{}.pdf'.format(label,time_aggr)\n",
    "        plt.savefig(fig_fn)\n",
    "        print(fig_fn)\n",
    "        #plt.show()\n",
    "        \n",
    "        plt.clf(); plt.cla(); plt.close()\n",
    "\n",
    "        # add data\n",
    "        tmpdf = tmpdf.reset_index()\n",
    "        tdf.append(tmpdf)\n",
    "\n",
    "    return tdf\n",
    "\n",
    "def count_messages(df, time_aggr):\n",
    "    tmpdf = df.resample(time_aggr).size().to_frame('count')\n",
    "    tmpdf['time_unit'] = time_aggr\n",
    "    return tmpdf\n",
    "\n",
    "# generate tweet plots\n",
    "df = pd.read_pickle(tw_fn)\n",
    "print(len(df))\n",
    "print(df.sample(10))\n",
    "generate_time_plots(df, 'tweets', count_messages)\n",
    "\n",
    "# generate facebook plots\n",
    "df = pd.read_pickle(fb_fn)\n",
    "print(len(df))\n",
    "print(df.sample(10))\n",
    "generate_time_plots(df, 'facebook_posts', count_messages)"
   ]
  },
  {
   "cell_type": "markdown",
   "metadata": {},
   "source": [
    "### Active museums over time\n",
    "\n",
    "Count museums that are active on FB/TW in a give period"
   ]
  },
  {
   "cell_type": "code",
   "execution_count": 1,
   "metadata": {},
   "outputs": [
    {
     "ename": "SyntaxError",
     "evalue": "invalid syntax (3252168005.py, line 18)",
     "output_type": "error",
     "traceback": [
      "\u001b[0;36m  File \u001b[0;32m\"/var/folders/f6/jwz5v525215521t6qbnxcdh80000gn/T/ipykernel_37612/3252168005.py\"\u001b[0;36m, line \u001b[0;32m18\u001b[0m\n\u001b[0;31m    TODO: heatmap https://www.analyticsvidhya.com/blog/2021/02/visualization-in-time-series-using-heatmaps-in-python/\u001b[0m\n\u001b[0m                  ^\u001b[0m\n\u001b[0;31mSyntaxError\u001b[0m\u001b[0;31m:\u001b[0m invalid syntax\n"
     ]
    }
   ],
   "source": [
    "def count_museums(df, time_aggr):\n",
    "    df = df[['museum_id']]\n",
    "    tmpdf = df.resample(time_aggr).nunique()\n",
    "    tmpdf.columns = ['count']\n",
    "    tmpdf['time_unit'] = time_aggr\n",
    "    return tmpdf\n",
    "\n",
    "# generate tweet plots\n",
    "df = pd.read_pickle(tw_fn)\n",
    "print(len(df))\n",
    "generate_time_plots(df, 'museums_on_tw', count_museums)\n",
    "\n",
    "# generate facebook plots\n",
    "df = pd.read_pickle(fb_fn)\n",
    "print(len(df))\n",
    "generate_time_plots(df, 'museums_on_fb', count_museums)\n",
    "\n",
    "TODO: heatmap https://www.analyticsvidhya.com/blog/2021/02/visualization-in-time-series-using-heatmaps-in-python/"
   ]
  },
  {
   "cell_type": "markdown",
   "metadata": {},
   "source": [
    "### Activity by museum\n",
    "TODO"
   ]
  },
  {
   "cell_type": "code",
   "execution_count": null,
   "metadata": {},
   "outputs": [],
   "source": [
    "TODO\n",
    "for index, row in mus_df.sample(frac=1).iterrows():\n",
    "    muse_id = row['muse_id']\n",
    "    \n",
    "    #df = pd.read_sql(sql, db_conn)"
   ]
  },
  {
   "cell_type": "code",
   "execution_count": null,
   "metadata": {},
   "outputs": [],
   "source": []
  },
  {
   "cell_type": "markdown",
   "metadata": {},
   "source": [
    "### Activity by museum groups\n",
    "TODO"
   ]
  },
  {
   "cell_type": "code",
   "execution_count": null,
   "metadata": {},
   "outputs": [],
   "source": []
  },
  {
   "cell_type": "code",
   "execution_count": null,
   "metadata": {},
   "outputs": [],
   "source": []
  },
  {
   "cell_type": "markdown",
   "metadata": {},
   "source": [
    "End of notebook."
   ]
  }
 ],
 "metadata": {
  "kernelspec": {
   "display_name": "Python 3 (ipykernel)",
   "language": "python",
   "name": "python3"
  },
  "language_info": {
   "codemirror_mode": {
    "name": "ipython",
    "version": 3
   },
   "file_extension": ".py",
   "mimetype": "text/x-python",
   "name": "python",
   "nbconvert_exporter": "python",
   "pygments_lexer": "ipython3",
   "version": "3.8.11"
  },
  "toc-autonumbering": false,
  "toc-showcode": false,
  "toc-showmarkdowntxt": false,
  "toc-showtags": false
 },
 "nbformat": 4,
 "nbformat_minor": 4
}
