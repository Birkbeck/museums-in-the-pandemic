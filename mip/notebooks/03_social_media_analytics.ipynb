{
 "cells": [
  {
   "cell_type": "markdown",
   "metadata": {
    "tags": []
   },
   "source": [
    "# Museums in the Pandemic - Social media analytics\n",
    "\n",
    "**Authors**: Andrea Ballatore (KCL)\n",
    "\n",
    "**Abstract**: Analysis of social media data\n",
    "\n",
    "## Setup\n",
    "This is to check that your environment is set up correctly (it should print 'env ok', ignore warnings)."
   ]
  },
  {
   "cell_type": "code",
   "execution_count": 2,
   "metadata": {
    "tags": []
   },
   "outputs": [
    {
     "name": "stdout",
     "output_type": "stream",
     "text": [
      "Conda env: mip_v1\n",
      "/Users/andreaballatore/Dropbox/DRBX_Docs/Work/Projects/github_projects/museums-in-the-pandemic/mip/notebooks\n",
      "env ok\n"
     ]
    }
   ],
   "source": [
    "# Test geospatial libraries\n",
    "# check environment\n",
    "import os\n",
    "print(\"Conda env:\", os.environ['CONDA_DEFAULT_ENV'])\n",
    "if os.environ['CONDA_DEFAULT_ENV'] != 'mip_v1':\n",
    "    raise Exception(\"Set the environment 'mip_v1' on Anaconda. Current environment: \" + os.environ['CONDA_DEFAULT_ENV'])\n",
    "\n",
    "# spatial libraries \n",
    "import pandas as pd\n",
    "import pickle\n",
    "import spacy\n",
    "from termcolor import colored\n",
    "import sys\n",
    "import numpy as np\n",
    "from numpy import arange\n",
    "#import tensorflow as tf\n",
    "from bs4 import BeautifulSoup\n",
    "from bs4.element import Comment\n",
    "#import torch\n",
    "import matplotlib.pyplot as plt\n",
    "from sklearn.preprocessing import StandardScaler\n",
    "\n",
    "# import from `mip` project\n",
    "print(os.getcwd())\n",
    "fpath = os.path.abspath('../')\n",
    "if not fpath in sys.path:\n",
    "    sys.path.insert(0, fpath)\n",
    "\n",
    "out_folder = '../../'\n",
    "\n",
    "from museums import *\n",
    "from utils import _is_number\n",
    "from analytics.text_models import derive_new_attributes_matches, get_all_matches_from_db, get_indicator_annotations\n",
    "\n",
    "print('env ok')"
   ]
  },
  {
   "cell_type": "markdown",
   "metadata": {},
   "source": [
    "## Connect to DB\n",
    "\n",
    "It needs the DCS VPN active to work."
   ]
  },
  {
   "cell_type": "code",
   "execution_count": 3,
   "metadata": {
    "tags": []
   },
   "outputs": [
    {
     "name": "stdout",
     "output_type": "stream",
     "text": [
      "DB connected\n"
     ]
    }
   ],
   "source": [
    "# open connection to DB\n",
    "from db.db import connect_to_postgresql_db\n",
    "\n",
    "db_conn = connect_to_postgresql_db()\n",
    "print(\"DB connected\")"
   ]
  },
  {
   "cell_type": "markdown",
   "metadata": {},
   "source": [
    "## Temporal analysis of Twitter/Facebook\n",
    "\n",
    "TODO"
   ]
  },
  {
   "cell_type": "code",
   "execution_count": null,
   "metadata": {},
   "outputs": [],
   "source": []
  },
  {
   "cell_type": "code",
   "execution_count": null,
   "metadata": {},
   "outputs": [],
   "source": []
  },
  {
   "cell_type": "code",
   "execution_count": null,
   "metadata": {},
   "outputs": [],
   "source": []
  },
  {
   "cell_type": "code",
   "execution_count": null,
   "metadata": {},
   "outputs": [],
   "source": []
  }
 ],
 "metadata": {
  "kernelspec": {
   "display_name": "Python 3 (ipykernel)",
   "language": "python",
   "name": "python3"
  },
  "language_info": {
   "codemirror_mode": {
    "name": "ipython",
    "version": 3
   },
   "file_extension": ".py",
   "mimetype": "text/x-python",
   "name": "python",
   "nbconvert_exporter": "python",
   "pygments_lexer": "ipython3",
   "version": "3.8.11"
  },
  "toc-autonumbering": false,
  "toc-showcode": false,
  "toc-showmarkdowntxt": false,
  "toc-showtags": false
 },
 "nbformat": 4,
 "nbformat_minor": 4
}
