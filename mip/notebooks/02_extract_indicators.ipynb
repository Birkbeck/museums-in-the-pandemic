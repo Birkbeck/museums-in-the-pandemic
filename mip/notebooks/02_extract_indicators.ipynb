{
 "cells": [
  {
   "cell_type": "markdown",
   "metadata": {
    "tags": []
   },
   "source": [
    "# Museums in the Pandemic - Extract indicators\n",
    "\n",
    "**Authors**: Andrea Ballatore (KCL)\n",
    "\n",
    "**Abstract**: Extract indicators from museum text.\n",
    "\n",
    "## Setup\n",
    "This is to check that your environment is set up correctly (it should print 'env ok', ignore warnings)."
   ]
  },
  {
   "cell_type": "code",
   "execution_count": 1,
   "metadata": {
    "tags": []
   },
   "outputs": [
    {
     "name": "stdout",
     "output_type": "stream",
     "text": [
      "Conda env: mip_v1\n",
      "/Users/andreaballatore/Dropbox/DRBX_Docs/Work/Projects/github_projects/museums-in-the-pandemic/mip/notebooks\n",
      "env ok\n"
     ]
    }
   ],
   "source": [
    "# Test geospatial libraries\n",
    "# check environment\n",
    "import os\n",
    "print(\"Conda env:\", os.environ['CONDA_DEFAULT_ENV'])\n",
    "if os.environ['CONDA_DEFAULT_ENV'] != 'mip_v1':\n",
    "    raise Exception(\"Set the environment 'mip_v1' on Anaconda. Current environment: \" + os.environ['CONDA_DEFAULT_ENV'])\n",
    "\n",
    "# spatial libraries \n",
    "import pandas as pd\n",
    "import pickle\n",
    "from termcolor import colored\n",
    "import sys\n",
    "import spacy\n",
    "import numpy as np\n",
    "from numpy import arange\n",
    "#import tensorflow as tf\n",
    "from bs4 import BeautifulSoup\n",
    "from bs4.element import Comment\n",
    "#import torch\n",
    "import matplotlib.pyplot as plt\n",
    "from sklearn.preprocessing import StandardScaler\n",
    "\n",
    "# import from `mip` project\n",
    "print(os.getcwd())\n",
    "fpath = os.path.abspath('../')\n",
    "if not fpath in sys.path:\n",
    "    sys.path.insert(0, fpath)\n",
    "\n",
    "out_folder = '../../'\n",
    "\n",
    "from museums import *\n",
    "from utils import _is_number\n",
    "\n",
    "print('env ok')"
   ]
  },
  {
   "cell_type": "markdown",
   "metadata": {},
   "source": [
    "## Connect to DB\n",
    "\n",
    "It needs the DCS VPN active to work."
   ]
  },
  {
   "cell_type": "code",
   "execution_count": 3,
   "metadata": {
    "tags": []
   },
   "outputs": [
    {
     "name": "stdout",
     "output_type": "stream",
     "text": [
      "DB connected\n"
     ]
    }
   ],
   "source": [
    "# open connection to DB\n",
    "from db.db import connect_to_postgresql_db\n",
    "\n",
    "db_conn = connect_to_postgresql_db()\n",
    "print(\"DB connected\")"
   ]
  },
  {
   "cell_type": "markdown",
   "metadata": {},
   "source": [
    "## Extract matches for all museums\n",
    "\n",
    "Using the best deep learning model defined above, find indicators for all museums (from websites and social media)."
   ]
  },
  {
   "cell_type": "markdown",
   "metadata": {},
   "source": [
    "### Load deep learning validation model"
   ]
  },
  {
   "cell_type": "code",
   "execution_count": 26,
   "metadata": {},
   "outputs": [
    {
     "data": {
      "text/html": [
       "<div>\n",
       "<style scoped>\n",
       "    .dataframe tbody tr th:only-of-type {\n",
       "        vertical-align: middle;\n",
       "    }\n",
       "\n",
       "    .dataframe tbody tr th {\n",
       "        vertical-align: top;\n",
       "    }\n",
       "\n",
       "    .dataframe thead th {\n",
       "        text-align: right;\n",
       "    }\n",
       "</style>\n",
       "<table border=\"1\" class=\"dataframe\">\n",
       "  <thead>\n",
       "    <tr style=\"text-align: right;\">\n",
       "      <th></th>\n",
       "      <th>muse_id</th>\n",
       "      <th>sentence_id</th>\n",
       "      <th>page_tokens</th>\n",
       "      <th>indicator_code</th>\n",
       "      <th>ann_ex_tokens</th>\n",
       "      <th>token_n</th>\n",
       "      <th>lemma_n</th>\n",
       "      <th>ann_overlap_lemma</th>\n",
       "      <th>ann_overlap_token</th>\n",
       "      <th>example_len</th>\n",
       "      <th>...</th>\n",
       "      <th>indicator_code_online_exhib</th>\n",
       "      <th>indicator_code_open_cafe</th>\n",
       "      <th>indicator_code_open_cur</th>\n",
       "      <th>indicator_code_open_onlineshop</th>\n",
       "      <th>indicator_code_project_postpone</th>\n",
       "      <th>indicator_code_reopen_intent</th>\n",
       "      <th>indicator_code_reopen_plan</th>\n",
       "      <th>indicator_code_staff_hiring</th>\n",
       "      <th>indicator_code_staff_working</th>\n",
       "      <th>predicted_valid</th>\n",
       "    </tr>\n",
       "  </thead>\n",
       "  <tbody>\n",
       "    <tr>\n",
       "      <th>216</th>\n",
       "      <td>mm.aim.1315</td>\n",
       "      <td>mus_page1027294_sent00009</td>\n",
       "      <td>more information reopening will given here whe...</td>\n",
       "      <td>lang_difficulty</td>\n",
       "      <td>we need help to keep afloat</td>\n",
       "      <td>2</td>\n",
       "      <td>2</td>\n",
       "      <td>0.33333</td>\n",
       "      <td>0.33333</td>\n",
       "      <td>6</td>\n",
       "      <td>...</td>\n",
       "      <td>0</td>\n",
       "      <td>0</td>\n",
       "      <td>0</td>\n",
       "      <td>0</td>\n",
       "      <td>0</td>\n",
       "      <td>0</td>\n",
       "      <td>0</td>\n",
       "      <td>0</td>\n",
       "      <td>0</td>\n",
       "      <td>False</td>\n",
       "    </tr>\n",
       "    <tr>\n",
       "      <th>146</th>\n",
       "      <td>mm.domus.YH030</td>\n",
       "      <td>mus_page585545_sent00035</td>\n",
       "      <td>how your donation will help what events 22nd june</td>\n",
       "      <td>funding_fundraise</td>\n",
       "      <td>your help needed</td>\n",
       "      <td>2</td>\n",
       "      <td>2</td>\n",
       "      <td>0.66667</td>\n",
       "      <td>0.66667</td>\n",
       "      <td>3</td>\n",
       "      <td>...</td>\n",
       "      <td>0</td>\n",
       "      <td>0</td>\n",
       "      <td>0</td>\n",
       "      <td>0</td>\n",
       "      <td>0</td>\n",
       "      <td>0</td>\n",
       "      <td>0</td>\n",
       "      <td>0</td>\n",
       "      <td>0</td>\n",
       "      <td>True</td>\n",
       "    </tr>\n",
       "    <tr>\n",
       "      <th>259</th>\n",
       "      <td>mm.musa.120</td>\n",
       "      <td>mus_page939737_sent00026</td>\n",
       "      <td>oldest artefact our collection displayed downs...</td>\n",
       "      <td>open_cafe</td>\n",
       "      <td>our cafe open</td>\n",
       "      <td>1</td>\n",
       "      <td>1</td>\n",
       "      <td>0.33333</td>\n",
       "      <td>0.33333</td>\n",
       "      <td>3</td>\n",
       "      <td>...</td>\n",
       "      <td>0</td>\n",
       "      <td>1</td>\n",
       "      <td>0</td>\n",
       "      <td>0</td>\n",
       "      <td>0</td>\n",
       "      <td>0</td>\n",
       "      <td>0</td>\n",
       "      <td>0</td>\n",
       "      <td>0</td>\n",
       "      <td>False</td>\n",
       "    </tr>\n",
       "    <tr>\n",
       "      <th>375</th>\n",
       "      <td>mm.domus.SC301</td>\n",
       "      <td>mus_page712918_sent00048</td>\n",
       "      <td>td6 9lg visitor information opening times cont...</td>\n",
       "      <td>lang_difficulty</td>\n",
       "      <td>next months will critical time museum</td>\n",
       "      <td>0</td>\n",
       "      <td>1</td>\n",
       "      <td>0.16667</td>\n",
       "      <td>0.00000</td>\n",
       "      <td>6</td>\n",
       "      <td>...</td>\n",
       "      <td>0</td>\n",
       "      <td>0</td>\n",
       "      <td>0</td>\n",
       "      <td>0</td>\n",
       "      <td>0</td>\n",
       "      <td>0</td>\n",
       "      <td>0</td>\n",
       "      <td>0</td>\n",
       "      <td>0</td>\n",
       "      <td>False</td>\n",
       "    </tr>\n",
       "    <tr>\n",
       "      <th>545</th>\n",
       "      <td>mm.domus.NW070</td>\n",
       "      <td>mus_page15046_sent00016</td>\n",
       "      <td>we look forward welcoming you back soon</td>\n",
       "      <td>reopen_intent</td>\n",
       "      <td>look forward welcoming you again soon</td>\n",
       "      <td>5</td>\n",
       "      <td>5</td>\n",
       "      <td>0.83333</td>\n",
       "      <td>0.83333</td>\n",
       "      <td>6</td>\n",
       "      <td>...</td>\n",
       "      <td>0</td>\n",
       "      <td>0</td>\n",
       "      <td>0</td>\n",
       "      <td>0</td>\n",
       "      <td>0</td>\n",
       "      <td>1</td>\n",
       "      <td>0</td>\n",
       "      <td>0</td>\n",
       "      <td>0</td>\n",
       "      <td>True</td>\n",
       "    </tr>\n",
       "  </tbody>\n",
       "</table>\n",
       "<p>5 rows × 37 columns</p>\n",
       "</div>"
      ],
      "text/plain": [
       "            muse_id                sentence_id  \\\n",
       "216     mm.aim.1315  mus_page1027294_sent00009   \n",
       "146  mm.domus.YH030   mus_page585545_sent00035   \n",
       "259     mm.musa.120   mus_page939737_sent00026   \n",
       "375  mm.domus.SC301   mus_page712918_sent00048   \n",
       "545  mm.domus.NW070    mus_page15046_sent00016   \n",
       "\n",
       "                                           page_tokens     indicator_code  \\\n",
       "216  more information reopening will given here whe...    lang_difficulty   \n",
       "146  how your donation will help what events 22nd june  funding_fundraise   \n",
       "259  oldest artefact our collection displayed downs...          open_cafe   \n",
       "375  td6 9lg visitor information opening times cont...    lang_difficulty   \n",
       "545            we look forward welcoming you back soon      reopen_intent   \n",
       "\n",
       "                             ann_ex_tokens  token_n  lemma_n  \\\n",
       "216            we need help to keep afloat        2        2   \n",
       "146                       your help needed        2        2   \n",
       "259                          our cafe open        1        1   \n",
       "375  next months will critical time museum        0        1   \n",
       "545  look forward welcoming you again soon        5        5   \n",
       "\n",
       "     ann_overlap_lemma  ann_overlap_token  example_len  ...  \\\n",
       "216            0.33333            0.33333            6  ...   \n",
       "146            0.66667            0.66667            3  ...   \n",
       "259            0.33333            0.33333            3  ...   \n",
       "375            0.16667            0.00000            6  ...   \n",
       "545            0.83333            0.83333            6  ...   \n",
       "\n",
       "     indicator_code_online_exhib  indicator_code_open_cafe  \\\n",
       "216                            0                         0   \n",
       "146                            0                         0   \n",
       "259                            0                         1   \n",
       "375                            0                         0   \n",
       "545                            0                         0   \n",
       "\n",
       "     indicator_code_open_cur  indicator_code_open_onlineshop  \\\n",
       "216                        0                               0   \n",
       "146                        0                               0   \n",
       "259                        0                               0   \n",
       "375                        0                               0   \n",
       "545                        0                               0   \n",
       "\n",
       "     indicator_code_project_postpone  indicator_code_reopen_intent  \\\n",
       "216                                0                             0   \n",
       "146                                0                             0   \n",
       "259                                0                             0   \n",
       "375                                0                             0   \n",
       "545                                0                             1   \n",
       "\n",
       "     indicator_code_reopen_plan  indicator_code_staff_hiring  \\\n",
       "216                           0                            0   \n",
       "146                           0                            0   \n",
       "259                           0                            0   \n",
       "375                           0                            0   \n",
       "545                           0                            0   \n",
       "\n",
       "     indicator_code_staff_working  predicted_valid  \n",
       "216                             0            False  \n",
       "146                             0             True  \n",
       "259                             0            False  \n",
       "375                             0            False  \n",
       "545                             0             True  \n",
       "\n",
       "[5 rows x 37 columns]"
      ]
     },
     "execution_count": 26,
     "metadata": {},
     "output_type": "execute_result"
    }
   ],
   "source": [
    "from keras.models import load_model\n",
    "from sklearn.preprocessing import MinMaxScaler\n",
    "\n",
    "def prep_match_data(df):\n",
    "    num_df = valid_ann_df.select_dtypes(include=[np.number])\n",
    "    scaler = MinMaxScaler()\n",
    "    # fit and transform in one step\n",
    "    cols = num_df.columns\n",
    "    x_data = pd.DataFrame(scaler.fit_transform(num_df),columns=cols)\n",
    "    return x_data\n",
    "\n",
    "def convert_pred_to_bool(vals):\n",
    "    pred_y = (vals > 0.5).astype(\"bool\")\n",
    "    # unpack results\n",
    "    bool_vals = [item for sublist in pred_y for item in sublist]\n",
    "    return bool_vals\n",
    "\n",
    "valid_ann_df_fn = 'matches_valid_ann_df_v2.pik'\n",
    "valid_ann_df = pd.read_pickle(out_folder+'data/annotations/'+valid_ann_df_fn)\n",
    "\n",
    "valid_match_cnn_model = load_model(out_folder+\"data/analysis/matching_validation/matching_validation_deep_learning_model.h5\")\n",
    "valid_match_cnn_model\n",
    "\n",
    "#x_data = prep_match_data(valid_ann_df)\n",
    "#pred_valid = convert_pred_to_bool(valid_match_cnn_model.predict(x_data))\n",
    "\n",
    "#valid_ann_df['predicted_valid'] = pred_valid\n",
    "\n",
    "#valid_ann_df.to_excel(out_folder+\"tmp/check_deeplearning.xlsx\",index=False)\n",
    "#valid_ann_df.sample(5)"
   ]
  },
  {
   "cell_type": "markdown",
   "metadata": {},
   "source": [
    "### Load all matches from DB for all museums\n",
    "\n",
    "- Dump all matches from DB, after running `an_text` on ALL museums for a given crawling session."
   ]
  },
  {
   "cell_type": "code",
   "execution_count": null,
   "metadata": {
    "tags": []
   },
   "outputs": [],
   "source": [
    "# load from DB\n"
   ]
  },
  {
   "cell_type": "markdown",
   "metadata": {
    "jupyter": {
     "outputs_hidden": true
    }
   },
   "source": [
    "### Predict all matches"
   ]
  },
  {
   "cell_type": "code",
   "execution_count": 274,
   "metadata": {
    "collapsed": true,
    "jupyter": {
     "outputs_hidden": true
    },
    "tags": []
   },
   "outputs": [
    {
     "data": {
      "text/plain": [
       "<keras.engine.sequential.Sequential at 0x7f91e0d7a4c0>"
      ]
     },
     "execution_count": 274,
     "metadata": {},
     "output_type": "execute_result"
    }
   ],
   "source": [
    "TODO\n",
    "#x_data = prep_match_data(valid_ann_df)\n",
    "#pred_valid = convert_pred_to_bool(valid_match_cnn_model.predict(x_data))\n"
   ]
  },
  {
   "cell_type": "code",
   "execution_count": 269,
   "metadata": {
    "collapsed": true,
    "jupyter": {
     "outputs_hidden": true,
     "source_hidden": true
    }
   },
   "outputs": [],
   "source": [
    "### extract stable results"
   ]
  },
  {
   "cell_type": "markdown",
   "metadata": {},
   "source": [
    "End of notebook"
   ]
  }
 ],
 "metadata": {
  "kernelspec": {
   "display_name": "Python 3 (ipykernel)",
   "language": "python",
   "name": "python3"
  },
  "language_info": {
   "codemirror_mode": {
    "name": "ipython",
    "version": 3
   },
   "file_extension": ".py",
   "mimetype": "text/x-python",
   "name": "python",
   "nbconvert_exporter": "python",
   "pygments_lexer": "ipython3",
   "version": "3.8.11"
  },
  "toc-autonumbering": false,
  "toc-showcode": false,
  "toc-showmarkdowntxt": false,
  "toc-showtags": false
 },
 "nbformat": 4,
 "nbformat_minor": 4
}
