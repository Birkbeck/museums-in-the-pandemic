{
 "cells": [
  {
   "cell_type": "markdown",
   "metadata": {},
   "source": [
    "# Museums in the Pandemic - Text analytics\n",
    "\n",
    "**Author**: Andrea Ballatore (Birkbeck, University of London)\n",
    "\n",
    "**Abstract**: TODO\n",
    "\n",
    "## Setup\n",
    "This is to check that your environment is set up correctly (it should print 'env ok', ignore warnings)."
   ]
  },
  {
   "cell_type": "code",
   "execution_count": 1,
   "metadata": {},
   "outputs": [
    {
     "name": "stdout",
     "output_type": "stream",
     "text": [
      "Conda env: mip_v1\n",
      "/Users/andreab/Dropbox/DRBX_Docs/Work/Projects/github_projects/museums-in-the-pandemic/mip/notebooks\n",
      "env ok\n"
     ]
    }
   ],
   "source": [
    "# Test geospatial libraries\n",
    "# check environment\n",
    "import os\n",
    "print(\"Conda env:\", os.environ['CONDA_DEFAULT_ENV'])\n",
    "if os.environ['CONDA_DEFAULT_ENV'] != 'mip_v1':\n",
    "    raise Exception(\"Set the environment 'mip_v1' on Anaconda. Current environment: \" + os.environ['CONDA_DEFAULT_ENV'])\n",
    "\n",
    "# spatial libraries \n",
    "import pandas as pd\n",
    "import pickle\n",
    "import sys\n",
    "import numpy as np\n",
    "#import tensorflow as tf\n",
    "from bs4 import BeautifulSoup\n",
    "from bs4.element import Comment\n",
    "#import torch\n",
    "import matplotlib.pyplot as plt\n",
    "\n",
    "# import from `mip` project\n",
    "print(os.getcwd())\n",
    "fpath = os.path.abspath('../')\n",
    "if not fpath in sys.path:\n",
    "    sys.path.insert(0, fpath)\n",
    "\n",
    "print('env ok')"
   ]
  },
  {
   "cell_type": "markdown",
   "metadata": {},
   "source": [
    "# Museum text analytics\n"
   ]
  },
  {
   "cell_type": "markdown",
   "metadata": {},
   "source": [
    "## Vectorise text from museum websites"
   ]
  },
  {
   "cell_type": "code",
   "execution_count": 2,
   "metadata": {},
   "outputs": [
    {
     "name": "stdout",
     "output_type": "stream",
     "text": [
      "<connection object at 0x7fc921a3feb0; dsn: 'user=postgres password=xxx connect_timeout=3 dbname=mip host=193.61.36.75', closed: 0>\n"
     ]
    }
   ],
   "source": [
    "# open connection to DB\n",
    "from db.db import connect_to_postgresql_db\n",
    "\n",
    "db_conn = connect_to_postgresql_db()\n",
    "print(db_conn)"
   ]
  },
  {
   "cell_type": "code",
   "execution_count": 3,
   "metadata": {},
   "outputs": [
    {
     "name": "stdout",
     "output_type": "stream",
     "text": [
      "https://www.britishmuseum.org/\n",
      "LEN 57\n",
      "[\"Skip to main content Please enable JavaScript in your web browser to get the best experience. We use cookies to make our website work more efficiently, to provide you with more personalised services or advertising to you, and to analyse traffic on our website. For more information on how we use cookies and how to manage cookies, please follow the 'Read more' link, otherwise select 'Accept and close'. Read more about our cookie policy Accept and close the cookie policy Menu Main navigation Visit Toggle Visit submenu Back\", 'to previous menu —', 'Visit —', 'Visit —', 'Family visits —', 'Group visits —', 'Audio guide —', 'Out-of-hours tours —', 'Tours and talks —', 'Object trails —', 'Accessibility —', 'Food and drink —', 'Late opening on Fridays —', 'Museum map Exhibitions and events Collection Toggle Collection submenu Back', 'to previous menu —', 'Collection —', 'Collection —', 'Collection online —', 'Galleries —', 'Blog —', 'Audio tour highlights —', 'The British Museum podcast Learn Toggle Learn submenu Back', 'to previous menu —', 'Learn —', 'Learn —', 'Schools —', 'Communities —', 'Adult learning —', 'Young people Membership Toggle Membership submenu Back', 'to previous menu —', 'Membership —', 'Membership —', 'Renew Membership —', 'Events —', 'Buy Membership —', 'Renew Gift Membership —', 'Existing Members —', 'Buy Under 26 Membership —', 'Upgrade your Membership —', 'How your money helps —', 'Buy Gift Membership —', 'Visiting as a Member —', \"Members' Room Support us Toggle Support us submenu Back\", 'to previous menu —', 'Support us —', 'Donate —', 'Corporate support —', 'Become a Patron —', 'Supporter case studies —', 'Become a Volunteer —', 'Leave a legacy —', \"American Friends of the British Museum Secondary navigation Shop Search Donate Hide menu The British Museum Stay connected We're planning to reopen in May – until then you can explore the Museum online. Find out more Show image caption Close image caption The Great Court at the British Museum. Explore the Great Court Discover two million years of human history and culture Free entry The Museum is closed Exhibitions and events See all exhibitions and events Thomas Becket murder and the making of a saint . Coming soon\", '. Exhibition Coming soon Reflections', 'contemporary art of the Middle East and North Africa . Coming soon', \". Exhibition Coming soon We need your support Your support is vital and helps the Museum to share the collection with the world. Make a donation What's online... The flowers of Mary Delany 233 years after her death, Delany's detailed floral collages still delight and inspire. Take a closer look at her work in the collection. How to explore the British Museum from home Whether it's a behind-the-scenes podcast or a closer look at our galleries, here are 10 ways to explore the Museum while we're closed. British histories beyond 'Bridgerton' Inspired by the hit Netflix show, watch a panel discussion exploring the reality behind the fantasy of 'Bridgerton'. Discover the Maya World Take a trip to Mexico and explore a wealth of content from the Maya Research Project, including stories, videos and 3D explorations. More ways to enjoy the Museum from home Take a virtual gallery tour Explore the Museum's galleries from home and get closer to the collection, using Google Street View. Fill your bookshelves this spring Dive into a new novel, brush up on your history or leaf through exhibition catalogues in our online bookshop. Objects in 3D See some of our most popular objects from every angle on Sketchfab, including mummy masks and the Rosetta Stone. Traverse our object timeline From ancient handaxes to a penny defaced by suffragettes, travel through thousands of years of history in an audio tour of popular objects. Sign up to our newsletters Stay connected and receive all our latest news, online events and ways to visit the Museum from home. Sign up Support the Museum Become a Member Support us by becoming a Member today and get 10% off in our online shop. Donate Your support is vital and helps the Museum to share the collection with the world. Shop online The British Museum shop has a range of unique gifts, replicas, games and more. 10% off for Members Become a Member and enjoy a 10% discount at all of the Museum's shops. Visit the online shop Explore the collection See all Egypt Read more Desire, love and identity Read the blog Animals See the collection Americas See the collection Death and memory Read more Africa See the collection Welcome to the British Museum Shop Shop now Inspired by the Museum https://www.britishmuseumshoponline.org/inspired-by/inspired-by-the-british-mus... Inspired by the Lewis Chessmen https://www.britishmuseumshoponline.org/inspired-by/lewis-chessmen-collection.h... Inspired by Sutton Hoo https://www.britishmuseumshoponline.org/inspired-by/sutton-hoo.html Inspired by London https://www.britishmuseumshoponline.org/inspired-by/inspired-by-london.html Inspired by cats https://www.britishmuseumshoponline.org/inspired-by/inspired-by-cats.html Inspired by Hokusai https://www.britishmuseumshoponline.org/inspired-by/inspired-by-hokusai.html Inspired by ancient Egypt https://www.britishmuseumshoponline.org/inspired-by/ancient-egypt.html Connect with us Enter your email address to receive our newsletter Facebook Twitter Instagram Youtube weibo wechat . Opens a pop-up detailing how to access wechat. Close wechat Scan the QR code to be taken to WeChat. Back to the top Free entry Great Russell Street\", 'London WC1B 3DG +44 (0)20 7323 8000 Opening hours The Museum is closed. Footer About us Governance The British Museum story Jobs Press Contact us Visit Museum map Exhibitions and events Accessibility Food and drink Audio guide Commercial Commercial hire Filming Travel trade tours British Museum Press BM Images Our work Departments National International How to borrow Research Research projects Research publications Scientific studies Resources Study rooms Library and archive Search the collection Blog Footer Legal Links Privacy policy Cookies Accessibility Statement Terms of use Modern Slavery Act Statement Chinese site 中文 © 2021', 'The Trustees of the British Museum']\n"
     ]
    }
   ],
   "source": [
    "from analytics.an_websites import get_attribute_for_webpage_url\n",
    "\n",
    "session_id = '20210420'\n",
    "test_urls = ['https://www.britishmuseum.org/']\n",
    "attrib_name = 'all_text' # 'title'\n",
    "\n",
    "for url in test_urls:\n",
    "    print(url)\n",
    "    res = get_attribute_for_webpage_url(url, session_id, attrib_name, db_conn)\n",
    "    if not res: continue\n",
    "    blocks = res.split(\"\\n\")\n",
    "    print(\"LEN\", len(blocks))\n",
    "    print(blocks)\n",
    "    \n",
    "    # TODO: segment sentences\n",
    "    \n",
    "    # TODO: remove stopwords \n",
    "    \n",
    "    # TODO: lemmatise  \n",
    "    \n",
    "    "
   ]
  },
  {
   "cell_type": "code",
   "execution_count": null,
   "metadata": {},
   "outputs": [],
   "source": []
  },
  {
   "cell_type": "code",
   "execution_count": null,
   "metadata": {},
   "outputs": [],
   "source": []
  },
  {
   "cell_type": "code",
   "execution_count": null,
   "metadata": {},
   "outputs": [],
   "source": []
  },
  {
   "cell_type": "code",
   "execution_count": null,
   "metadata": {},
   "outputs": [],
   "source": []
  },
  {
   "cell_type": "code",
   "execution_count": null,
   "metadata": {},
   "outputs": [],
   "source": []
  },
  {
   "cell_type": "markdown",
   "metadata": {},
   "source": [
    "End of notebook"
   ]
  }
 ],
 "metadata": {
  "kernelspec": {
   "display_name": "Python 3",
   "language": "python",
   "name": "python3"
  },
  "language_info": {
   "codemirror_mode": {
    "name": "ipython",
    "version": 3
   },
   "file_extension": ".py",
   "mimetype": "text/x-python",
   "name": "python",
   "nbconvert_exporter": "python",
   "pygments_lexer": "ipython3",
   "version": "3.8.5"
  },
  "toc-autonumbering": false
 },
 "nbformat": 4,
 "nbformat_minor": 4
}
