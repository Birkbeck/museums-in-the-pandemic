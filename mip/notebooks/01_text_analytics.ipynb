{
 "cells": [
  {
   "cell_type": "markdown",
   "metadata": {},
   "source": [
    "# Museums in the Pandemic - Text analytics\n",
    "\n",
    "**Author**: Andrea Ballatore (Birkbeck, University of London)\n",
    "\n",
    "**Abstract**: TODO\n",
    "\n",
    "## Setup\n",
    "This is to check that your environment is set up correctly (it should print 'env ok', ignore warnings)."
   ]
  },
  {
   "cell_type": "code",
   "execution_count": 52,
   "metadata": {},
   "outputs": [
    {
     "name": "stdout",
     "output_type": "stream",
     "text": [
      "Conda env: mip_v1\n",
      "/Users/andreab/Dropbox/DRBX_Docs/Work/Projects/github_projects/museums-in-the-pandemic/mip/notebooks\n",
      "env ok\n"
     ]
    }
   ],
   "source": [
    "# Test geospatial libraries\n",
    "# check environment\n",
    "import os\n",
    "print(\"Conda env:\", os.environ['CONDA_DEFAULT_ENV'])\n",
    "if os.environ['CONDA_DEFAULT_ENV'] != 'mip_v1':\n",
    "    raise Exception(\"Set the environment 'mip_v1' on Anaconda. Current environment: \" + os.environ['CONDA_DEFAULT_ENV'])\n",
    "\n",
    "# spatial libraries \n",
    "import pandas as pd\n",
    "import pickle\n",
    "from termcolor import colored\n",
    "import sys\n",
    "import numpy as np\n",
    "#import tensorflow as tf\n",
    "from bs4 import BeautifulSoup\n",
    "from bs4.element import Comment\n",
    "#import torch\n",
    "import matplotlib.pyplot as plt\n",
    "\n",
    "# import from `mip` project\n",
    "print(os.getcwd())\n",
    "fpath = os.path.abspath('../')\n",
    "if not fpath in sys.path:\n",
    "    sys.path.insert(0, fpath)\n",
    "\n",
    "out_folder = '../../'\n",
    "    \n",
    "print('env ok')"
   ]
  },
  {
   "cell_type": "markdown",
   "metadata": {},
   "source": [
    "# Museum text analytics\n"
   ]
  },
  {
   "cell_type": "markdown",
   "metadata": {},
   "source": [
    "## Model1: Vectorise text from museum websites"
   ]
  },
  {
   "cell_type": "markdown",
   "metadata": {},
   "source": [
    "### Connect to DB"
   ]
  },
  {
   "cell_type": "code",
   "execution_count": 17,
   "metadata": {},
   "outputs": [
    {
     "name": "stdout",
     "output_type": "stream",
     "text": [
      "DB connected\n"
     ]
    }
   ],
   "source": [
    "# open connection to DB\n",
    "from db.db import connect_to_postgresql_db\n",
    "\n",
    "db_conn = connect_to_postgresql_db()\n",
    "print(\"DB connected\")"
   ]
  },
  {
   "cell_type": "markdown",
   "metadata": {},
   "source": [
    "### Setup spacy NLP"
   ]
  },
  {
   "cell_type": "code",
   "execution_count": 7,
   "metadata": {},
   "outputs": [
    {
     "name": "stdout",
     "output_type": "stream",
     "text": [
      "Collecting en_core_web_sm==2.3.1\n",
      "  Downloading https://github.com/explosion/spacy-models/releases/download/en_core_web_sm-2.3.1/en_core_web_sm-2.3.1.tar.gz (12.0 MB)\n",
      "\u001b[K     |████████████████████████████████| 12.0 MB 5.2 MB/s eta 0:00:01\n",
      "\u001b[?25hRequirement already satisfied: spacy<2.4.0,>=2.3.0 in /Users/andreab/opt/anaconda3/envs/mip_v1/lib/python3.8/site-packages (from en_core_web_sm==2.3.1) (2.3.5)\n",
      "Requirement already satisfied: requests<3.0.0,>=2.13.0 in /Users/andreab/opt/anaconda3/envs/mip_v1/lib/python3.8/site-packages (from spacy<2.4.0,>=2.3.0->en_core_web_sm==2.3.1) (2.25.1)\n",
      "Requirement already satisfied: wasabi<1.1.0,>=0.4.0 in /Users/andreab/opt/anaconda3/envs/mip_v1/lib/python3.8/site-packages (from spacy<2.4.0,>=2.3.0->en_core_web_sm==2.3.1) (0.8.2)\n",
      "Requirement already satisfied: setuptools in /Users/andreab/opt/anaconda3/envs/mip_v1/lib/python3.8/site-packages (from spacy<2.4.0,>=2.3.0->en_core_web_sm==2.3.1) (52.0.0.post20210125)\n",
      "Requirement already satisfied: numpy>=1.15.0 in /Users/andreab/opt/anaconda3/envs/mip_v1/lib/python3.8/site-packages (from spacy<2.4.0,>=2.3.0->en_core_web_sm==2.3.1) (1.19.2)\n",
      "Requirement already satisfied: murmurhash<1.1.0,>=0.28.0 in /Users/andreab/opt/anaconda3/envs/mip_v1/lib/python3.8/site-packages (from spacy<2.4.0,>=2.3.0->en_core_web_sm==2.3.1) (1.0.5)\n",
      "Requirement already satisfied: thinc<7.5.0,>=7.4.1 in /Users/andreab/opt/anaconda3/envs/mip_v1/lib/python3.8/site-packages (from spacy<2.4.0,>=2.3.0->en_core_web_sm==2.3.1) (7.4.5)\n",
      "Requirement already satisfied: blis<0.8.0,>=0.4.0 in /Users/andreab/opt/anaconda3/envs/mip_v1/lib/python3.8/site-packages (from spacy<2.4.0,>=2.3.0->en_core_web_sm==2.3.1) (0.7.4)\n",
      "Requirement already satisfied: preshed<3.1.0,>=3.0.2 in /Users/andreab/opt/anaconda3/envs/mip_v1/lib/python3.8/site-packages (from spacy<2.4.0,>=2.3.0->en_core_web_sm==2.3.1) (3.0.5)\n",
      "Requirement already satisfied: plac<1.2.0,>=0.9.6 in /Users/andreab/opt/anaconda3/envs/mip_v1/lib/python3.8/site-packages (from spacy<2.4.0,>=2.3.0->en_core_web_sm==2.3.1) (1.1.0)\n",
      "Requirement already satisfied: catalogue<1.1.0,>=0.0.7 in /Users/andreab/opt/anaconda3/envs/mip_v1/lib/python3.8/site-packages (from spacy<2.4.0,>=2.3.0->en_core_web_sm==2.3.1) (1.0.0)\n",
      "Requirement already satisfied: tqdm<5.0.0,>=4.38.0 in /Users/andreab/opt/anaconda3/envs/mip_v1/lib/python3.8/site-packages (from spacy<2.4.0,>=2.3.0->en_core_web_sm==2.3.1) (4.59.0)\n",
      "Requirement already satisfied: cymem<2.1.0,>=2.0.2 in /Users/andreab/opt/anaconda3/envs/mip_v1/lib/python3.8/site-packages (from spacy<2.4.0,>=2.3.0->en_core_web_sm==2.3.1) (2.0.5)\n",
      "Requirement already satisfied: srsly<1.1.0,>=1.0.2 in /Users/andreab/opt/anaconda3/envs/mip_v1/lib/python3.8/site-packages (from spacy<2.4.0,>=2.3.0->en_core_web_sm==2.3.1) (1.0.5)\n",
      "Requirement already satisfied: certifi>=2017.4.17 in /Users/andreab/opt/anaconda3/envs/mip_v1/lib/python3.8/site-packages (from requests<3.0.0,>=2.13.0->spacy<2.4.0,>=2.3.0->en_core_web_sm==2.3.1) (2020.12.5)\n",
      "Requirement already satisfied: chardet<5,>=3.0.2 in /Users/andreab/opt/anaconda3/envs/mip_v1/lib/python3.8/site-packages (from requests<3.0.0,>=2.13.0->spacy<2.4.0,>=2.3.0->en_core_web_sm==2.3.1) (3.0.4)\n",
      "Requirement already satisfied: idna<3,>=2.5 in /Users/andreab/opt/anaconda3/envs/mip_v1/lib/python3.8/site-packages (from requests<3.0.0,>=2.13.0->spacy<2.4.0,>=2.3.0->en_core_web_sm==2.3.1) (2.10)\n",
      "Requirement already satisfied: urllib3<1.27,>=1.21.1 in /Users/andreab/opt/anaconda3/envs/mip_v1/lib/python3.8/site-packages (from requests<3.0.0,>=2.13.0->spacy<2.4.0,>=2.3.0->en_core_web_sm==2.3.1) (1.26.4)\n",
      "Building wheels for collected packages: en-core-web-sm\n",
      "  Building wheel for en-core-web-sm (setup.py) ... \u001b[?25ldone\n",
      "\u001b[?25h  Created wheel for en-core-web-sm: filename=en_core_web_sm-2.3.1-py3-none-any.whl size=12047106 sha256=6e736cfbfe09463c336696b4717b7863a88b5d6766fe3bbf830fc9b77c861a42\n",
      "  Stored in directory: /private/var/folders/84/_52b_kt95ybgx9pwl31_nvqh0000gn/T/pip-ephem-wheel-cache-dcoj7ilh/wheels/ee/4d/f7/563214122be1540b5f9197b52cb3ddb9c4a8070808b22d5a84\n",
      "Successfully built en-core-web-sm\n",
      "Installing collected packages: en-core-web-sm\n",
      "Successfully installed en-core-web-sm-2.3.1\n",
      "\u001b[38;5;2m✔ Download and installation successful\u001b[0m\n",
      "You can now load the model via spacy.load('en_core_web_sm')\n"
     ]
    }
   ],
   "source": [
    "import spacy\n",
    "\n",
    "# install language model\n",
    "!python -m spacy download en_core_web_sm\n",
    "# Note: if this cell does not work, run the same command \n",
    "#       without \"!\" in the Anaconda terminal"
   ]
  },
  {
   "cell_type": "code",
   "execution_count": 34,
   "metadata": {},
   "outputs": [],
   "source": [
    "# set up the spacy environment\n",
    "import spacy\n",
    "from spacy import displacy\n",
    "from collections import Counter\n",
    "spacy.prefer_gpu()\n",
    "# load language model\n",
    "import en_core_web_sm\n",
    "nlp = en_core_web_sm.load()"
   ]
  },
  {
   "cell_type": "code",
   "execution_count": 38,
   "metadata": {},
   "outputs": [],
   "source": [
    "# Spacy stopwords\n",
    "all_stopwords = nlp.Defaults.stop_words"
   ]
  },
  {
   "cell_type": "code",
   "execution_count": 19,
   "metadata": {},
   "outputs": [
    {
     "name": "stdout",
     "output_type": "stream",
     "text": [
      "https://www.britishmuseum.org/\n",
      "Skip to main content Please enable JavaScript in your web browser to get the best experience. We use cookies to make our website work more efficiently, to provide you with more personalised services or advertising to you, and to analyse traffic on our website. For more information on how we use cookies and how to manage cookies, please follow the 'Read more' link, otherwise select 'Accept and close'. Read more about our cookie policy Accept and close the cookie policy Menu Main navigation Visit Toggle Visit submenu Back\n",
      "to previous menu —\n",
      "Visit —\n",
      "Visit —\n",
      "Family visits —\n",
      "Group visits —\n",
      "Audio guide —\n",
      "Out-of-hours tours —\n",
      "Tours and talks —\n",
      "Object trails —\n",
      "Accessibility —\n",
      "Food and drink —\n",
      "Late opening on Fridays —\n",
      "Museum map Exhibitions and events Collection Toggle Collection submenu Back\n",
      "to previous menu —\n",
      "Collection —\n",
      "Collection —\n",
      "Collection online —\n",
      "Galleries —\n",
      "Blog —\n",
      "Audio tour highlights —\n",
      "The British Museum podcast Learn Toggle Learn submenu Back\n",
      "to previous menu —\n",
      "Learn —\n",
      "Learn —\n",
      "Schools —\n",
      "Communities —\n",
      "Adult learning —\n",
      "Young people Membership Toggle Membership submenu Back\n",
      "to previous menu —\n",
      "Membership —\n",
      "Membership —\n",
      "Renew Membership —\n",
      "Events —\n",
      "Buy Membership —\n",
      "Renew Gift Membership —\n",
      "Existing Members —\n",
      "Buy Under 26 Membership —\n",
      "Upgrade your Membership —\n",
      "How your money helps —\n",
      "Buy Gift Membership —\n",
      "Visiting as a Member —\n",
      "Members' Room Support us Toggle Support us submenu Back\n",
      "to previous menu —\n",
      "Support us —\n",
      "Donate —\n",
      "Corporate support —\n",
      "Become a Patron —\n",
      "Supporter case studies —\n",
      "Become a Volunteer —\n",
      "Leave a legacy —\n",
      "American Friends of the British Museum Secondary navigation Shop Search Donate Hide menu The British Museum Stay connected We're planning to reopen in May – until then you can explore the Museum online. Find out more Show image caption Close image caption The Great Court at the British Museum. Explore the Great Court Discover two million years of human history and culture Free entry The Museum is closed Exhibitions and events See all exhibitions and events Thomas Becket murder and the making of a saint . Coming soon\n",
      ". Exhibition Coming soon Reflections\n",
      "contemporary art of the Middle East and North Africa . Coming soon\n",
      ". Exhibition Coming soon We need your support Your support is vital and helps the Museum to share the collection with the world. Make a donation What's online... The flowers of Mary Delany 233 years after her death, Delany's detailed floral collages still delight and inspire. Take a closer look at her work in the collection. How to explore the British Museum from home Whether it's a behind-the-scenes podcast or a closer look at our galleries, here are 10 ways to explore the Museum while we're closed. British histories beyond 'Bridgerton' Inspired by the hit Netflix show, watch a panel discussion exploring the reality behind the fantasy of 'Bridgerton'. Discover the Maya World Take a trip to Mexico and explore a wealth of content from the Maya Research Project, including stories, videos and 3D explorations. More ways to enjoy the Museum from home Take a virtual gallery tour Explore the Museum's galleries from home and get closer to the collection, using Google Street View. Fill your bookshelves this spring Dive into a new novel, brush up on your history or leaf through exhibition catalogues in our online bookshop. Objects in 3D See some of our most popular objects from every angle on Sketchfab, including mummy masks and the Rosetta Stone. Traverse our object timeline From ancient handaxes to a penny defaced by suffragettes, travel through thousands of years of history in an audio tour of popular objects. Sign up to our newsletters Stay connected and receive all our latest news, online events and ways to visit the Museum from home. Sign up Support the Museum Become a Member Support us by becoming a Member today and get 10% off in our online shop. Donate Your support is vital and helps the Museum to share the collection with the world. Shop online The British Museum shop has a range of unique gifts, replicas, games and more. 10% off for Members Become a Member and enjoy a 10% discount at all of the Museum's shops. Visit the online shop Explore the collection See all Egypt Read more Desire, love and identity Read the blog Animals See the collection Americas See the collection Death and memory Read more Africa See the collection Welcome to the British Museum Shop Shop now Inspired by the Museum https://www.britishmuseumshoponline.org/inspired-by/inspired-by-the-british-mus... Inspired by the Lewis Chessmen https://www.britishmuseumshoponline.org/inspired-by/lewis-chessmen-collection.h... Inspired by Sutton Hoo https://www.britishmuseumshoponline.org/inspired-by/sutton-hoo.html Inspired by London https://www.britishmuseumshoponline.org/inspired-by/inspired-by-london.html Inspired by cats https://www.britishmuseumshoponline.org/inspired-by/inspired-by-cats.html Inspired by Hokusai https://www.britishmuseumshoponline.org/inspired-by/inspired-by-hokusai.html Inspired by ancient Egypt https://www.britishmuseumshoponline.org/inspired-by/ancient-egypt.html Connect with us Enter your email address to receive our newsletter Facebook Twitter Instagram Youtube weibo wechat . Opens a pop-up detailing how to access wechat. Close wechat Scan the QR code to be taken to WeChat. Back to the top Free entry Great Russell Street\n",
      "London WC1B 3DG +44 (0)20 7323 8000 Opening hours The Museum is closed. Footer About us Governance The British Museum story Jobs Press Contact us Visit Museum map Exhibitions and events Accessibility Food and drink Audio guide Commercial Commercial hire Filming Travel trade tours British Museum Press BM Images Our work Departments National International How to borrow Research Research projects Research publications Scientific studies Resources Study rooms Library and archive Search the collection Blog Footer Legal Links Privacy policy Cookies Accessibility Statement Terms of use Modern Slavery Act Statement Chinese site 中文 © 2021\n",
      "The Trustees of the British Museum\n",
      "LEN 57\n",
      "[\"Skip to main content Please enable JavaScript in your web browser to get the best experience. We use cookies to make our website work more efficiently, to provide you with more personalised services or advertising to you, and to analyse traffic on our website. For more information on how we use cookies and how to manage cookies, please follow the 'Read more' link, otherwise select 'Accept and close'. Read more about our cookie policy Accept and close the cookie policy Menu Main navigation Visit Toggle Visit submenu Back\", 'to previous menu —', 'Visit —', 'Visit —', 'Family visits —', 'Group visits —', 'Audio guide —', 'Out-of-hours tours —', 'Tours and talks —', 'Object trails —', 'Accessibility —', 'Food and drink —', 'Late opening on Fridays —', 'Museum map Exhibitions and events Collection Toggle Collection submenu Back', 'to previous menu —', 'Collection —', 'Collection —', 'Collection online —', 'Galleries —', 'Blog —', 'Audio tour highlights —', 'The British Museum podcast Learn Toggle Learn submenu Back', 'to previous menu —', 'Learn —', 'Learn —', 'Schools —', 'Communities —', 'Adult learning —', 'Young people Membership Toggle Membership submenu Back', 'to previous menu —', 'Membership —', 'Membership —', 'Renew Membership —', 'Events —', 'Buy Membership —', 'Renew Gift Membership —', 'Existing Members —', 'Buy Under 26 Membership —', 'Upgrade your Membership —', 'How your money helps —', 'Buy Gift Membership —', 'Visiting as a Member —', \"Members' Room Support us Toggle Support us submenu Back\", 'to previous menu —', 'Support us —', 'Donate —', 'Corporate support —', 'Become a Patron —', 'Supporter case studies —', 'Become a Volunteer —', 'Leave a legacy —', \"American Friends of the British Museum Secondary navigation Shop Search Donate Hide menu The British Museum Stay connected We're planning to reopen in May – until then you can explore the Museum online. Find out more Show image caption Close image caption The Great Court at the British Museum. Explore the Great Court Discover two million years of human history and culture Free entry The Museum is closed Exhibitions and events See all exhibitions and events Thomas Becket murder and the making of a saint . Coming soon\", '. Exhibition Coming soon Reflections', 'contemporary art of the Middle East and North Africa . Coming soon', \". Exhibition Coming soon We need your support Your support is vital and helps the Museum to share the collection with the world. Make a donation What's online... The flowers of Mary Delany 233 years after her death, Delany's detailed floral collages still delight and inspire. Take a closer look at her work in the collection. How to explore the British Museum from home Whether it's a behind-the-scenes podcast or a closer look at our galleries, here are 10 ways to explore the Museum while we're closed. British histories beyond 'Bridgerton' Inspired by the hit Netflix show, watch a panel discussion exploring the reality behind the fantasy of 'Bridgerton'. Discover the Maya World Take a trip to Mexico and explore a wealth of content from the Maya Research Project, including stories, videos and 3D explorations. More ways to enjoy the Museum from home Take a virtual gallery tour Explore the Museum's galleries from home and get closer to the collection, using Google Street View. Fill your bookshelves this spring Dive into a new novel, brush up on your history or leaf through exhibition catalogues in our online bookshop. Objects in 3D See some of our most popular objects from every angle on Sketchfab, including mummy masks and the Rosetta Stone. Traverse our object timeline From ancient handaxes to a penny defaced by suffragettes, travel through thousands of years of history in an audio tour of popular objects. Sign up to our newsletters Stay connected and receive all our latest news, online events and ways to visit the Museum from home. Sign up Support the Museum Become a Member Support us by becoming a Member today and get 10% off in our online shop. Donate Your support is vital and helps the Museum to share the collection with the world. Shop online The British Museum shop has a range of unique gifts, replicas, games and more. 10% off for Members Become a Member and enjoy a 10% discount at all of the Museum's shops. Visit the online shop Explore the collection See all Egypt Read more Desire, love and identity Read the blog Animals See the collection Americas See the collection Death and memory Read more Africa See the collection Welcome to the British Museum Shop Shop now Inspired by the Museum https://www.britishmuseumshoponline.org/inspired-by/inspired-by-the-british-mus... Inspired by the Lewis Chessmen https://www.britishmuseumshoponline.org/inspired-by/lewis-chessmen-collection.h... Inspired by Sutton Hoo https://www.britishmuseumshoponline.org/inspired-by/sutton-hoo.html Inspired by London https://www.britishmuseumshoponline.org/inspired-by/inspired-by-london.html Inspired by cats https://www.britishmuseumshoponline.org/inspired-by/inspired-by-cats.html Inspired by Hokusai https://www.britishmuseumshoponline.org/inspired-by/inspired-by-hokusai.html Inspired by ancient Egypt https://www.britishmuseumshoponline.org/inspired-by/ancient-egypt.html Connect with us Enter your email address to receive our newsletter Facebook Twitter Instagram Youtube weibo wechat . Opens a pop-up detailing how to access wechat. Close wechat Scan the QR code to be taken to WeChat. Back to the top Free entry Great Russell Street\", 'London WC1B 3DG +44 (0)20 7323 8000 Opening hours The Museum is closed. Footer About us Governance The British Museum story Jobs Press Contact us Visit Museum map Exhibitions and events Accessibility Food and drink Audio guide Commercial Commercial hire Filming Travel trade tours British Museum Press BM Images Our work Departments National International How to borrow Research Research projects Research publications Scientific studies Resources Study rooms Library and archive Search the collection Blog Footer Legal Links Privacy policy Cookies Accessibility Statement Terms of use Modern Slavery Act Statement Chinese site 中文 © 2021', 'The Trustees of the British Museum']\n"
     ]
    }
   ],
   "source": [
    "# get text from websites\n",
    "\n",
    "from analytics.an_websites import get_attribute_for_webpage_url\n",
    "\n",
    "session_id = '20210420'\n",
    "test_urls = ['https://www.britishmuseum.org/']\n",
    "attrib_name = 'all_text' # 'title'\n",
    "\n",
    "for url in test_urls:\n",
    "    print(url)\n",
    "    res = get_attribute_for_webpage_url(url, session_id, attrib_name, db_conn)\n",
    "    if not res: continue\n",
    "    print(res)\n",
    "    blocks = res.split(\"\\n\")\n",
    "    print(\"LEN\", len(blocks))\n",
    "    print(blocks)"
   ]
  },
  {
   "cell_type": "markdown",
   "metadata": {},
   "source": [
    "### Preprocess text"
   ]
  },
  {
   "cell_type": "code",
   "execution_count": 57,
   "metadata": {},
   "outputs": [
    {
     "name": "stdout",
     "output_type": "stream",
     "text": [
      "We need your support Your support is vital and helps the Museum to share the collection with the world. Make a donation What's online... The flowers of Mary Delany 233 years after her death, Delany's detailed floral collages still delight and inspire. Take a closer look at her work in the collection. How to explore the British Museum from home Whether it's a behind-the-scenes podcast or a closer look at our galleries, here are 10 ways to explore the Museum while we're closed. British histories beyond 'Bridgerton' Inspired by the hit Netflix show, watch a panel discussion exploring the reality behind the fantasy of 'Bridgerton'. Discover the Maya World Take a trip to Mexico and explore a wealth of content from the Maya Research Project, including stories, videos and 3D explorations.\n",
      "\n",
      "\u001b[31m>\u001b[0m We need your support Your support is vital and helps the Museum to share the collection with the world.\n",
      "\u001b[31m>\u001b[0m Make a donation\n",
      "\u001b[31m>\u001b[0m What's online...\n",
      "\u001b[31m>\u001b[0m The flowers of Mary Delany 233 years after her death, Delany's detailed floral collages still delight and inspire.\n",
      "\u001b[31m>\u001b[0m Take a closer look at her work in the collection.\n",
      "\u001b[31m>\u001b[0m How to explore the British Museum from home\n",
      "\u001b[31m>\u001b[0m Whether it's a behind-the-scenes podcast or a closer look at our galleries, here are 10 ways to explore the Museum while we're closed.\n",
      "\u001b[31m>\u001b[0m British histories beyond 'Bridgerton' Inspired by the hit Netflix show, watch a panel discussion exploring the reality behind the fantasy of 'Bridgerton'.\n",
      "\u001b[31m>\u001b[0m Discover\n",
      "\u001b[31m>\u001b[0m the Maya World Take a trip to Mexico and explore a wealth of content from the Maya Research Project, including stories, videos and 3D explorations.\n",
      "Tokens N = 155\n",
      "../../tmp/test_tokens.csv\n"
     ]
    }
   ],
   "source": [
    "test_texts = [\"\"\"We need your support Your support is vital and helps the Museum to share the collection with the world. Make a donation What's online... The flowers of Mary Delany 233 years after her death, Delany's detailed floral collages still delight and inspire. Take a closer look at her work in the collection. How to explore the British Museum from home Whether it's a behind-the-scenes podcast or a closer look at our galleries, here are 10 ways to explore the Museum while we're closed. British histories beyond 'Bridgerton' Inspired by the hit Netflix show, watch a panel discussion exploring the reality behind the fantasy of 'Bridgerton'. Discover the Maya World Take a trip to Mexico and explore a wealth of content from the Maya Research Project, including stories, videos and 3D explorations.\"\"\"]\n",
    "\n",
    "tokens_df = pd.DataFrame()\n",
    "\n",
    "for tt in test_texts:\n",
    "    print(tt)\n",
    "    print(\"\")\n",
    "    text_sentences = nlp(tt)\n",
    "    sent_id = 0 \n",
    "    # segment sentences\n",
    "    for sentence in text_sentences.sents:\n",
    "        sent_id += 1\n",
    "        # for each sentence\n",
    "        snt_text = sentence.text\n",
    "        pos_df = pd.DataFrame()\n",
    "        print(colored('>', 'red'), snt_text)\n",
    "        for token in sentence:\n",
    "            # for each token\n",
    "            tokens_df = tokens_df.append(pd.DataFrame(\n",
    "                {\"sentence_id\": sent_id, \"token\":token.text, 'lemma':token.lemma_,\n",
    "                 \"pos_tag\":token.pos_, 'is_stop': token.is_stop}, \n",
    "                index=[0]), ignore_index=True)\n",
    "\n",
    "print(\"Tokens N =\",len(tokens_df))\n",
    "fout = out_folder+'tmp/test_tokens.csv'\n",
    "\n",
    "tokens_df.to_csv(fout, index=False)\n",
    "print(\"See tokens in\",fout)"
   ]
  },
  {
   "cell_type": "code",
   "execution_count": null,
   "metadata": {},
   "outputs": [],
   "source": []
  },
  {
   "cell_type": "code",
   "execution_count": null,
   "metadata": {},
   "outputs": [],
   "source": []
  },
  {
   "cell_type": "code",
   "execution_count": null,
   "metadata": {},
   "outputs": [],
   "source": []
  },
  {
   "cell_type": "code",
   "execution_count": null,
   "metadata": {},
   "outputs": [],
   "source": []
  },
  {
   "cell_type": "code",
   "execution_count": null,
   "metadata": {},
   "outputs": [],
   "source": []
  },
  {
   "cell_type": "markdown",
   "metadata": {},
   "source": [
    "End of notebook"
   ]
  }
 ],
 "metadata": {
  "kernelspec": {
   "display_name": "Python 3",
   "language": "python",
   "name": "python3"
  },
  "language_info": {
   "codemirror_mode": {
    "name": "ipython",
    "version": 3
   },
   "file_extension": ".py",
   "mimetype": "text/x-python",
   "name": "python",
   "nbconvert_exporter": "python",
   "pygments_lexer": "ipython3",
   "version": "3.8.5"
  },
  "toc-autonumbering": false
 },
 "nbformat": 4,
 "nbformat_minor": 4
}
