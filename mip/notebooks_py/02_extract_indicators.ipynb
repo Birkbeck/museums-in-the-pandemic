{
 "cells": [
  {
   "cell_type": "markdown",
   "metadata": {
    "tags": []
   },
   "source": [
    "# Museums in the Pandemic - Extract indicators\n",
    "\n",
    "**Authors**: Andrea Ballatore (KCL)\n",
    "\n",
    "**Abstract**: Extract indicators from museum text.\n",
    "\n",
    "## Setup\n",
    "This is to check that your environment is set up correctly (it should print 'env ok', ignore warnings)."
   ]
  },
  {
   "cell_type": "code",
   "execution_count": 1,
   "metadata": {
    "tags": []
   },
   "outputs": [
    {
     "name": "stdout",
     "output_type": "stream",
     "text": [
      "Conda env: mip_v1\n",
      "/Users/andreaballatore/Dropbox/DRBX_Docs/Work/Projects/github_projects/museums-in-the-pandemic/mip/notebooks_py\n",
      "env ok\n"
     ]
    }
   ],
   "source": [
    "# Test geospatial libraries\n",
    "# check environment\n",
    "import os\n",
    "print(\"Conda env:\", os.environ['CONDA_DEFAULT_ENV'])\n",
    "if os.environ['CONDA_DEFAULT_ENV'] != 'mip_v1':\n",
    "    raise Exception(\"Set the environment 'mip_v1' on Anaconda. Current environment: \" + os.environ['CONDA_DEFAULT_ENV'])\n",
    "\n",
    "# spatial libraries \n",
    "import pandas as pd\n",
    "import pickle\n",
    "import random\n",
    "import spacy\n",
    "from termcolor import colored\n",
    "import sys\n",
    "import numpy as np\n",
    "from numpy import arange\n",
    "#import tensorflow as tf\n",
    "from bs4 import BeautifulSoup\n",
    "from bs4.element import Comment\n",
    "from datetime import datetime\n",
    "import seaborn as sns\n",
    "#import torch\n",
    "import matplotlib.pyplot as plt\n",
    "from sklearn.preprocessing import StandardScaler\n",
    "\n",
    "# import from `mip` project\n",
    "print(os.getcwd())\n",
    "fpath = os.path.abspath('../')\n",
    "if not fpath in sys.path:\n",
    "    sys.path.insert(0, fpath)\n",
    "\n",
    "out_folder = '../../'\n",
    "\n",
    "from museums import *\n",
    "from museums import get_museums_w_web_urls, get_twitter_facebook_links, load_input_museums_wattributes, get_extra_museum_attributes\n",
    "from utils import _is_number\n",
    "from analytics.text_models import derive_new_attributes_matches, get_all_matches_from_db, get_indicator_annotations\n",
    "from scrapers.scraper_websites import get_scraping_session_tables, get_session_id_from_table_name\n",
    "from sklearn.metrics import confusion_matrix, classification_report, precision_recall_fscore_support, accuracy_score\n",
    "\n",
    "print('env ok')"
   ]
  },
  {
   "cell_type": "markdown",
   "metadata": {},
   "source": [
    "## Connect to DB\n",
    "\n",
    "It needs the DCS VPN active to work."
   ]
  },
  {
   "cell_type": "code",
   "execution_count": 2,
   "metadata": {
    "tags": []
   },
   "outputs": [
    {
     "name": "stdout",
     "output_type": "stream",
     "text": [
      "DB connected\n"
     ]
    }
   ],
   "source": [
    "# open connection to DB\n",
    "from db.db import connect_to_postgresql_db\n",
    "\n",
    "db_conn = connect_to_postgresql_db()\n",
    "print(\"DB connected\")\n",
    "\n",
    "def get_all_sessions():\n",
    "    return sorted([get_session_id_from_table_name(x) for x in get_scraping_session_tables(db_conn)])"
   ]
  },
  {
   "cell_type": "markdown",
   "metadata": {},
   "source": [
    "## Extract matches for all museums\n",
    "\n",
    "Using the best deep learning model defined above, find indicators for all museums (from websites and social media).\n",
    "\n",
    "The manual annotation data with 700 cases is in `matches_valid_ann_df_v3.pik`."
   ]
  },
  {
   "cell_type": "markdown",
   "metadata": {},
   "source": [
    "### Load deep learning validation model"
   ]
  },
  {
   "cell_type": "code",
   "execution_count": null,
   "metadata": {
    "tags": []
   },
   "outputs": [],
   "source": [
    "from keras.models import load_model\n",
    "from sklearn.preprocessing import MinMaxScaler\n",
    "\n",
    "def remove_duplicate_matches(df):\n",
    "    # find duplicates\n",
    "    n = len(df)\n",
    "    df = df.drop_duplicates(subset=df.columns.difference(['page_id','sentence_id']))\n",
    "    print('remove_duplicate_matches:',n,len(df))\n",
    "    return df\n",
    "\n",
    "def prep_match_data(df):\n",
    "    for c in valid_model_columns:\n",
    "        if not c in df.columns:\n",
    "            print(\"Warning: column '{}' is missing, adding a zero column\".format(c))\n",
    "            df[c] = 0\n",
    "    \n",
    "    df = remove_duplicate_matches(df)\n",
    "    df = df[valid_model_columns]\n",
    "    assert len(df.columns) == 33, len(df.columns)\n",
    "    num_df = df.select_dtypes(include=[np.number])\n",
    "    scaler = MinMaxScaler()\n",
    "    # fit and transform in one step\n",
    "    cols = num_df.columns\n",
    "    x_data = pd.DataFrame(scaler.fit_transform(num_df),columns=cols)\n",
    "    return x_data\n",
    "\n",
    "def convert_pred_to_bool(vals):\n",
    "    pred_y = (vals > 0.5).astype(\"bool\")\n",
    "    # unpack results\n",
    "    bool_vals = [item for sublist in pred_y for item in sublist]\n",
    "    return bool_vals"
   ]
  },
  {
   "cell_type": "code",
   "execution_count": null,
   "metadata": {
    "tags": []
   },
   "outputs": [],
   "source": [
    "# MODEL COLUMNS\n",
    "cols_fn = out_folder+\"data/analysis/matching_validation/matching_validation_deep_learning_model_columns.csv\"\n",
    "valid_model_columns = pd.read_csv(cols_fn).iloc[:, 0].tolist()\n",
    "\n",
    "valid_ann_df_fn = 'matches_valid_ann_df_v3.pik'\n",
    "valid_ann_df = pd.read_pickle(out_folder+'data/annotations/'+valid_ann_df_fn)\n",
    "\n",
    "valid_match_cnn_model = load_model(out_folder+\"data/analysis/matching_validation/matching_validation_deep_learning_model.h5\")\n",
    "valid_match_cnn_model\n",
    "\n",
    "x_data = prep_match_data(valid_ann_df)\n",
    "assert len(x_data.columns) == 33, len(x_data.columns)\n",
    "print(x_data)\n",
    "pred_valid = convert_pred_to_bool(valid_match_cnn_model.predict(x_data))\n",
    "\n",
    "valid_ann_df['predicted_valid'] = pred_valid\n",
    "\n",
    "#valid_ann_df.to_excel(out_folder+\"tmp/check_deeplearning.xlsx\",index=False)\n",
    "valid_ann_df.sample(5)"
   ]
  },
  {
   "cell_type": "code",
   "execution_count": null,
   "metadata": {
    "tags": []
   },
   "outputs": [],
   "source": [
    "def aggr_indicators_by_indic(df):\n",
    "    d = {}\n",
    "    for c in ['indicator_code']:\n",
    "        d[c] = df[c].tolist()[0]\n",
    "    d['cases_700'] = len(df)\n",
    "    d['precision'], d['recall'], d['fscore'], support = precision_recall_fscore_support(df.valid_match_b, df.predicted_valid, average='binary')\n",
    "    confmat = confusion_matrix(df.valid_match_b, df.predicted_valid, normalize='all')\n",
    "    if len(confmat)>1:\n",
    "        d['tn'], d['fp'], d['fn'], d['tp'] = confmat.ravel()\n",
    "    for k,v in d.items():\n",
    "        d[k] = [v]\n",
    "        \n",
    "    res = pd.DataFrame.from_dict(d)\n",
    "    return res\n",
    "\n",
    "# extract indicator stats\n",
    "#indf2 = valid_ann_df.indicator_code.value_counts().to_frame('valid_set_700_cases')\n",
    "#indf2['indicator_code'] = indf2.index\n",
    "#indf2\n",
    "\n",
    "indf2 = pd.DataFrame()\n",
    "for indic,subdf in valid_ann_df.groupby('indicator_code'):\n",
    "    indf2 = indf2.append(aggr_indicators_by_indic(subdf))\n",
    "indf2 = indf2.round(3)\n",
    "indf2"
   ]
  },
  {
   "cell_type": "markdown",
   "metadata": {},
   "source": [
    "### Load all matches from DB (slow)\n",
    "\n",
    "- Dump all matches from DB, after running `an_text` on ALL museums for a given crawling session."
   ]
  },
  {
   "cell_type": "code",
   "execution_count": null,
   "metadata": {
    "tags": []
   },
   "outputs": [],
   "source": [
    "# DB columns:\n",
    "\"\"\" \n",
    "example_id indicator_code lemma_n lemma_n_wdupl token_n token_n_wdupl criticalwords_n criticalwords_n_wdupl sentence_id  sent_len\n",
    "example_len example_crit_len ann_overlap_lemma ann_overlap_token ann_overlap_criticwords txt_overlap_lemma\n",
    "txt_overlap_token ann_ex_tokens ann_ex_tokens page_tokens session_id page_id muse_id keep_stopwords\n",
    "\"\"\"\n",
    "sessions = get_all_sessions()\n",
    "sessions = ['20210304','20210404','20210629','20210914'] # DEBUG\n",
    "\n",
    "print(\"target sessions:\", sessions)\n",
    "\n",
    "# get all sessions from DB (slow)\n",
    "if True: # debug\n",
    "    for session_id in sessions:\n",
    "        get_all_matches_from_db(session_id, db_conn, out_folder)\n",
    "        "
   ]
  },
  {
   "cell_type": "markdown",
   "metadata": {
    "jupyter": {
     "outputs_hidden": true
    }
   },
   "source": [
    "## Predict and save valid matches\n",
    "\n",
    "Load matches from `../../tmp/matches_dump_df_<session>.pik`\n",
    "\n",
    "Dump results in file `../../tmp/all_valid_matches_dump_df.pik`"
   ]
  },
  {
   "cell_type": "code",
   "execution_count": null,
   "metadata": {
    "tags": []
   },
   "outputs": [],
   "source": [
    "#sessions = ['20210304','20210404']\n",
    "\n",
    "def select_and_merge_indicators(df):\n",
    "    \"\"\" based on `indicator_code_stats_validation-v2.xlsx` \"\"\"\n",
    "    print('select_and_merge_indicators',df.shape)\n",
    "    # drop invalid indicators\n",
    "    invalid_indics = ['closed_perm','finance_health','funding_did_not_get',\n",
    "                     'funding_other_emer','lang_difficulty','made_covid_safe',\n",
    "                     'open_cafe','open_onlineshop','project_postpone',\n",
    "                      'staff_hiring','staff_restruct']\n",
    "    vdf = df[~df['indicator_code'].isin(invalid_indics)].copy()\n",
    "    \n",
    "    # merge indicators\n",
    "    merged_indic = {'online_event':'online_engag',\n",
    "                    'online_exhib':'online_engag',\n",
    "                    'reopen_plan':'reopen_intent',\n",
    "                    'funding_fundraise':'funding',\n",
    "                    'funding_gov_emer':'funding',\n",
    "                    'closed_indef':'closed_cur'}\n",
    "    indicator_code_merged = vdf['indicator_code'].replace(merged_indic)\n",
    "    vdf.loc[:,['indicator_code_merged']]=indicator_code_merged\n",
    "    # compare results\n",
    "    print(df['indicator_code'].value_counts())\n",
    "    print(vdf['indicator_code_merged'].value_counts())\n",
    "    print('  select_and_merge_indicators filtered:',vdf.shape)\n",
    "    return vdf\n",
    "\n",
    "def select_valid_matches(df, model):\n",
    "    \"\"\" use Deep Learning model to validate matches \"\"\"\n",
    "    x_data = prep_match_data(df)\n",
    "    \n",
    "    print('select_valid_matches', x_data.shape)\n",
    "    # check column order\n",
    "    assert valid_model_columns == x_data.columns.tolist()\n",
    "    print(x_data.shape)\n",
    "    # apply model for predictions\n",
    "    valid_int = model.predict(x_data)\n",
    "    pred_valid = convert_pred_to_bool(valid_int)\n",
    "    #print(type(pred_valid),len(pred_valid))\n",
    "    df['valid_match'] = pred_valid\n",
    "    print(df.valid_match.value_counts())\n",
    "    return df\n",
    "\n",
    "assert len(valid_model_columns) > 0\n",
    "allsess_match_df = pd.DataFrame(columns=valid_model_columns)\n",
    "\n",
    "print('sessions:', sessions)\n",
    "for session_id in sessions:\n",
    "    print('\\n> session_id',session_id)\n",
    "    matches_fn = out_folder+'tmp/matches_dump_df_{}.pik'.format(session_id)\n",
    "    matchdf = pd.read_pickle(matches_fn)\n",
    "    matchdf = remove_duplicate_matches(matchdf)\n",
    "    #matchdf = matchdf.sample(100) # DEBUG\n",
    "    print(\"\\t\", matches_fn, matchdf.shape)\n",
    "    # apply model to get valid matches\n",
    "    validmatch_df = select_valid_matches(matchdf, valid_match_cnn_model)\n",
    "    # save sample to inspect results\n",
    "    #validmatch_df.sample(200).to_csv(out_folder+'tmp/valid_matches_sample_{}.tsv'.format(session_id),sep='\\t')\n",
    "    # save results\n",
    "    allsess_match_df = pd.concat([allsess_match_df, validmatch_df])\n",
    "    del validmatch_df\n",
    "\n",
    "allsess_match_df2 = select_and_merge_indicators(allsess_match_df)\n",
    "allsess_match_df2 = remove_duplicate_matches(allsess_match_df2)\n",
    "all_vmatches_fn = out_folder+'tmp/all_valid_matches_dump_df.pik'\n",
    "print(\"valid matches vs invalid\\n\", allsess_match_df2.valid_match.value_counts())\n",
    "print(\"sessions\\n\", allsess_match_df2.session_id.value_counts())\n",
    "valdf = allsess_match_df2[allsess_match_df2.valid_match]\n",
    "valdf.to_pickle(all_vmatches_fn)\n",
    "print('valid matches for all sessions:', len(valdf), all_vmatches_fn)"
   ]
  },
  {
   "cell_type": "code",
   "execution_count": null,
   "metadata": {
    "tags": []
   },
   "outputs": [],
   "source": [
    "print(allsess_match_df.columns)\n",
    "print(\"Matches from DB:\")\n",
    "round(allsess_match_df['valid_match'].value_counts()/len(allsess_match_df),2)"
   ]
  },
  {
   "cell_type": "markdown",
   "metadata": {},
   "source": [
    "## [Aggregate indicators for extra evaluation]\n",
    "\n",
    "This section extends and finalises the validation in notebook 01."
   ]
  },
  {
   "cell_type": "markdown",
   "metadata": {},
   "source": [
    "### Basic stats"
   ]
  },
  {
   "cell_type": "code",
   "execution_count": null,
   "metadata": {
    "tags": []
   },
   "outputs": [],
   "source": [
    "assert len(allsess_match_df) > 0\n",
    "allsess_match_valid_df = allsess_match_df[allsess_match_df.valid_match]\n",
    "allsess_match_valid_df = remove_duplicate_matches(allsess_match_valid_df)\n",
    "print(\"N =\", len(allsess_match_valid_df))\n",
    "print(\"N museums =\", len(allsess_match_valid_df.muse_id.unique()))\n",
    "allsess_match_valid_df.head(100)"
   ]
  },
  {
   "cell_type": "code",
   "execution_count": null,
   "metadata": {
    "tags": []
   },
   "outputs": [],
   "source": [
    "# load annotations\n",
    "indic_df, ann_df = get_indicator_annotations(out_folder)\n",
    "del indic_df\n",
    "# calculate n_indic_all_ann_examples\n",
    "ann_stats_df = ann_df.groupby(['indicator_code']).size().reset_index(name='n_indic_all_ann_examples')\n",
    "print(ann_df.head(30))\n",
    "ann_stats_df"
   ]
  },
  {
   "cell_type": "markdown",
   "metadata": {},
   "source": [
    "### Calculate precision of matching by indicator\n",
    "\n",
    "This is to evaluate the performance by indicator to account for the high variability, as suggested by AP. \n",
    "\n",
    "- The results are in `indicator_code_stats_validation-v1.xlsx`. \n",
    "- Some indicators were removed.\n",
    "- An extra evaluation was designed."
   ]
  },
  {
   "cell_type": "code",
   "execution_count": null,
   "metadata": {
    "tags": []
   },
   "outputs": [],
   "source": [
    "# get indicator stats\n",
    "\n",
    "def aggr_indicators_by_indic_allmatches(df):\n",
    "    d = {}\n",
    "    for c in ['indicator_code']:\n",
    "        d[c] = df[c].tolist()[0]\n",
    "    d['matches_ml_true'] = len(df)\n",
    "    d['matches_ml_tot'] = len(allsess_match_df)\n",
    "    d['matches_ml_pc'] = round(d['matches_ml_true'] / d['matches_ml_tot'],3)\n",
    "    d['precision'], d['recall'], d['fscore'], support = precision_recall_fscore_support(df.valid_match_b, df.predicted_valid, average='binary')\n",
    "    confmat = confusion_matrix(df.valid_match_b, df.predicted_valid, normalize='all')\n",
    "    if len(confmat)>1:\n",
    "        d['tn'], d['fp'], d['fn'], d['tp'] = confmat.ravel()\n",
    "    for k,v in d.items():\n",
    "        d[k] = [v]\n",
    "        \n",
    "    res = pd.DataFrame.from_dict(d)\n",
    "    return res"
   ]
  },
  {
   "cell_type": "code",
   "execution_count": null,
   "metadata": {
    "tags": []
   },
   "outputs": [],
   "source": [
    "indf3 = pd.DataFrame()\n",
    "for indic,subdf in allsess_match_df.groupby('indicator_code'):\n",
    "    indf3 = indf3.append(aggr_indicators_by_indic_allmatches(subdf))\n",
    "\n",
    "indf3 = indf3.reset_index()\n",
    "indf3 = indf3.merge(indf2,on='indicator_code',how='outer')\n",
    "indf3 = indf3.merge(ann_stats_df,on='indicator_code',how='outer')\n",
    "indf3.to_excel(out_folder+'tmp/indicator_code_stats_validation.xlsx',index=False)\n",
    "indf3"
   ]
  },
  {
   "cell_type": "markdown",
   "metadata": {
    "tags": []
   },
   "source": [
    "Aggregate indicator stats by sentence."
   ]
  },
  {
   "cell_type": "code",
   "execution_count": null,
   "metadata": {
    "tags": []
   },
   "outputs": [],
   "source": [
    "col_aggr = ['muse_id','session_id','page_id','indicator_code','n_indic_all_ann_examples']\n",
    "\n",
    "def aggr_indicators_sent(df):\n",
    "    d = {}\n",
    "    for c in col_aggr:\n",
    "        d[c] = df[c].tolist()[0]\n",
    "    d['n_uniq_sentences'] = df['sentence_id'].nunique()\n",
    "    d['n_matched_annotations'] = df['example_id'].nunique()\n",
    "    d['n_matches'] = len(df)\n",
    "    d['matches_to_sent_ratio'] = round(d['n_matches'] / d['n_uniq_sentences'],3)\n",
    "    d['matches_to_example_ratio'] = round(d['n_matches'] / d['n_indic_all_ann_examples'],3)\n",
    "    #d['matches_ratio'] = round(d['n_matches'] / d['n_indic_all_ann_examples'],3)\n",
    "    return pd.Series(d)\n",
    "\n",
    "n = len(allsess_match_valid_df)\n",
    "allsess_match_valid_df2 = allsess_match_valid_df.merge(ann_stats_df, on='indicator_code')\n",
    "assert n == len(allsess_match_valid_df2)\n",
    "\n",
    "muse_indic_sent_df = allsess_match_valid_df2.groupby(col_aggr).apply(aggr_indicators_sent)\n",
    "print(muse_indic_sent_df.columns)\n",
    "muse_indic_sent_df.reset_index(drop=True, inplace=True)\n",
    "muse_indic_sent_df = muse_indic_sent_df.sort_values(['session_id','muse_id','indicator_code'])\n",
    "#print(muse_indic_sent_df.session_id.value_counts())\n",
    "muse_indic_sent_df.to_excel(out_folder+'tmp/museum_indicators_sent_stats-v1.xlsx', index=False)\n",
    "muse_indic_sent_df.head(30)"
   ]
  },
  {
   "cell_type": "markdown",
   "metadata": {},
   "source": [
    "### Museum indic matches sample for extra validation - v1\n",
    "\n",
    "Annotations done in `museum_website_match_sample10_summary-v1.xlsx`"
   ]
  },
  {
   "cell_type": "code",
   "execution_count": null,
   "metadata": {},
   "outputs": [],
   "source": [
    "musem_sample_ids = muse_indic_sent_df.muse_id.sample(10,random_state=10)\n",
    "muse_sample_df = muse_indic_sent_df[muse_indic_sent_df.muse_id.isin(musem_sample_ids)]\n",
    "muse_sample_df.to_excel(out_folder+'tmp/museum_website_match_sample10_summary.xlsx',index=False)\n",
    "allsess_match_valid_df[allsess_match_valid_df.muse_id.isin(musem_sample_ids)].to_excel(out_folder+'tmp/museum_website_match_sample10_matches.xlsx',index=False)\n",
    "\n",
    "muse_sample_df"
   ]
  },
  {
   "cell_type": "markdown",
   "metadata": {
    "tags": []
   },
   "source": [
    "### Museum indic matches sample for extra validation - v2\n",
    "\n",
    "- Select random sample from museums where matches > 0, 5 museums for 2 snapshots, for cases that need more investigation in `indicator_code_stats_validation-v1`\n",
    "- Indicators to include: finance_health, lang_difficulty, staff_working\n",
    "- Finance_health appears only in 2 museums, so we will discard it.\n",
    "- The sample is in\n",
    "  - `museum_website_match_sample5_lang_staff_summary-v1.xlsx`: stats for the 10 museums.\n",
    "  - `museum_website_match_sample5_lang_staff-v1.xlsx`: sample of 200 detailed matches.\n",
    "  \n",
    "- The manual annotations are in `museum_website_match_sample5_lang_staff-v2.xlsx` and `museum_website_match_sample5_lang_staff_summary-v2.xlsx`."
   ]
  },
  {
   "cell_type": "code",
   "execution_count": null,
   "metadata": {
    "tags": []
   },
   "outputs": [],
   "source": [
    "assert len(allsess_match_valid_df) > 0\n",
    "assert len(allsess_match_df) > 0\n",
    "\n",
    "print('allsess_match_valid_df N =',len(allsess_match_valid_df))\n",
    "\n",
    "df = allsess_match_valid_df[['muse_id','indicator_code']].drop_duplicates()\n",
    "muse_indic_df = df['indicator_code'].value_counts()\n",
    "print(muse_indic_df)\n",
    "del df\n",
    "\n",
    "random.seed(422)\n",
    "\n",
    "res = pd.DataFrame()\n",
    "res_all = pd.DataFrame()\n",
    "for indic in ['lang_difficulty', 'staff_working']:\n",
    "    print('\\n>> indicator:', indic)\n",
    "    mus_df = allsess_match_valid_df[allsess_match_valid_df['indicator_code'] == indic]\n",
    "    mus_df2 = allsess_match_df[allsess_match_df['indicator_code'] == indic]\n",
    "    mus_ids = random.sample(list(mus_df.muse_id.unique()), 5)\n",
    "    print(mus_ids)\n",
    "    # get sample for annotation\n",
    "    sample_df = mus_df2[mus_df2.muse_id.isin(mus_ids)]\n",
    "    print(len(sample_df))\n",
    "    print(sample_df.valid_match.value_counts())\n",
    "    #if indic == 'lang_difficulty':\n",
    "    #    df1 = sample_df[sample_df.valid_match]\n",
    "    #    neg_df = sample_df[sample_df.valid_match==False]\n",
    "    #    print('XXX', len(neg_df), len(df1))\n",
    "    #    df1.append(neg_df.sample(92))\n",
    "    #else:\n",
    "    df1 = sample_df.sample(100)\n",
    "        \n",
    "    res_all = res_all.append(sample_df)\n",
    "    print('\\nSample', len(df1), df1.valid_match.value_counts())\n",
    "    print(df1['muse_id'].unique())\n",
    "    print(df1['session_id'].unique())\n",
    "    res = res.append(df1)\n",
    "    del df1, mus_df2\n",
    "\n",
    "# add stats\n",
    "res_all = res_all.merge(ann_stats_df,on='indicator_code')\n",
    "\n",
    "# generate detailed results\n",
    "res.to_excel(out_folder+'tmp/museum_website_match_sample5_lang_staff.xlsx',index=False)"
   ]
  },
  {
   "cell_type": "code",
   "execution_count": null,
   "metadata": {
    "tags": []
   },
   "outputs": [],
   "source": [
    "# generate summary\n",
    "res_all\n",
    "print(col_aggr)\n",
    "df3 = res_all.groupby(col_aggr).apply(aggr_indicators_sent)\n",
    "df3.to_excel(out_folder+'tmp/museum_website_match_sample5_lang_staff_summary.xlsx',index=False)\n",
    "del df3"
   ]
  },
  {
   "cell_type": "markdown",
   "metadata": {},
   "source": [
    "#### Calculating precision of extra validation"
   ]
  },
  {
   "cell_type": "code",
   "execution_count": null,
   "metadata": {},
   "outputs": [],
   "source": [
    "# load extra validation for language_difficulty and staff_working\n",
    "vdf = pd.read_excel(out_folder+'data/annotations/museum_website_match_sample5_lang_staff-v2.xlsx')\n",
    "print(len(vdf))\n",
    "\n",
    "vdf['predicted_valid'] = vdf.valid_match\n",
    "vdf['valid_match_b'] = vdf['valid_PW'].map({'T': True, 'F': False})\n",
    "vdf"
   ]
  },
  {
   "cell_type": "code",
   "execution_count": null,
   "metadata": {},
   "outputs": [],
   "source": [
    "indf4 = pd.DataFrame()\n",
    "for indic,df in vdf.groupby('indicator_code'):\n",
    "    d = {}\n",
    "    for c in ['indicator_code']:\n",
    "        d[c] = df[c].tolist()[0]\n",
    "    d['cases_700'] = len(df)\n",
    "    print(df.columns)\n",
    "    d['precision'], d['recall'], d['fscore'], support = precision_recall_fscore_support(df.valid_match_b, df.predicted_valid, average='binary')\n",
    "    confmat = confusion_matrix(df.valid_match_b, df.predicted_valid, normalize='all')\n",
    "    if len(confmat) > 1:\n",
    "        d['tn'], d['fp'], d['fn'], d['tp'] = confmat.ravel()\n",
    "    for k,v in d.items():\n",
    "        d[k] = [v]\n",
    "        \n",
    "    res = pd.DataFrame.from_dict(d)\n",
    "    indf4 = indf4.append(res)\n",
    "\n",
    "indf4 = indf4.reset_index()\n",
    "indf4"
   ]
  },
  {
   "cell_type": "code",
   "execution_count": null,
   "metadata": {},
   "outputs": [],
   "source": [
    "sum_df = pd.read_excel(out_folder+'data/annotations/museum_website_match_sample10_summary-v1.xlsx')\n",
    "sum_df['valid'] = sum_df['2nd Validator (ap)'].map({'T': True, 'F': False})\n",
    "print(len(sum_df))\n",
    "\n",
    "indf2 = pd.DataFrame()\n",
    "for indic, df in sum_df.groupby('indicator_code'):\n",
    "    d = {'indicator_code': indic}\n",
    "    d['cases_n'] = len(df)\n",
    "    #print(df.columns)\n",
    "    #d['precision'], d['recall'], d['fscore'], support = precision_recall_fscore_support(df.valid_match_b, df.predicted_valid, average='binary')\n",
    "    #confmat = confusion_matrix(df.valid_match_b, df.predicted_valid, normalize='all')\n",
    "    #if len(confmat) > 1:\n",
    "    #    d['tn'], d['fp'], d['fn'], d['tp'] = confmat.ravel()\n",
    "    tdf = df[df['valid']]\n",
    "    fdf = df[~df['valid']]\n",
    "    d['cases_true'] = len(tdf)\n",
    "    d['cases_false'] = len(fdf)\n",
    "    d['indic_mus_accuracy'] = d['cases_true']/d['cases_n']\n",
    "    for k,v in d.items():\n",
    "        d[k] = [v]\n",
    "    res = pd.DataFrame.from_dict(d).round(2)\n",
    "    indf2 = indf2.append(res)\n",
    "\n",
    "# add extra validation\n",
    "#Staff_working\t6\t2\t75%\n",
    "#Language_of_difficulty\t6\t3\t67%\n",
    "\n",
    "indf2 = indf2.append(pd.DataFrame({'indicator_code':['lang_difficulty'], 'indic_mus_accuracy':[.67]}))\n",
    "\n",
    "indf2 = indf2.sort_values('indicator_code').reset_index()\n",
    "indf2.to_excel(out_folder+'tmp/indicator_code_stats_validation-v3.xlsx',index=False)\n",
    "indf2"
   ]
  },
  {
   "cell_type": "markdown",
   "metadata": {},
   "source": [
    "### Selection of valid indicators\n",
    "\n",
    "Based on the validation on the validation by indicator and by museum discussed above, these are the selected indicators.\n",
    "Main file: summary of indicator validation statistics on MS Teams: `indicator_code_stats_validation-v2.xlsx`.\n",
    "\n",
    "**Summary of validation process**\n",
    "- Three iterations of 700 matches for all indicators. Eval data v3 includes sem_similarity and critical_words). THe sample was stratified over overlap value on two groups: low and high values, to ensure that the sample contained enough TRUE cases (`[0, .45, 1.01]`). Result: 70% false, 30% true (TBC).\n",
    "- Intially, we calculated the overall performance metrics, but then we realised that there was high inter-indicator variability.\n",
    "- Sample at the museum level, as opposed to the single indicator level. Sample of 10 random museums including all matches for two time slots (Museum indic matches sample for extra validation - v1). PW and AP annotated the sample. The resulting metrics were generated in `indicator_code_stats_validation-v1.xlsx`.\n",
    "- We selected indicators (YES/NO/merge/further investigation).\n",
    "- Sample only for `finance_health, lang_difficulty, staff_working`, 5 random museums with non-zero matches  for each indicator (100 matches for each of the three groups).\n",
    "\n",
    "\n",
    "**Inclusion criteria**:\n",
    "- No. of cases in the evaluation dataset (reflecting distribution of complete data): > 10 cases\n",
    "- Precision: > .7 (exception: `online_event`)\n",
    "- Recall: no minimum\n",
    "- F-score: no minimum\n",
    "- Accuracy (by museum): > .67\n",
    "\n",
    "**Merge criteria** (for 5 indicators):\n",
    "- recall is less important because we are looking for trends over time, not absolute counts.\n",
    "- precision > .8 (exception: `online_event`)\n",
    "- semantic ambiguity (the two indicators are indistinguishable)\n",
    "\n",
    "**Decision**:\n",
    "- Valid indicators: `closed_cur funding_fundraise funding_gov_emer online_engag open_cur open_onlineshop reopen_intent`\n"
   ]
  },
  {
   "cell_type": "markdown",
   "metadata": {},
   "source": [
    "## Summarise and viz indicators\n",
    "\n",
    "Load and viz indicators from `../../tmp/all_valid_matches_dump_df.pik`."
   ]
  },
  {
   "cell_type": "markdown",
   "metadata": {},
   "source": [
    "### Load indicators"
   ]
  },
  {
   "cell_type": "code",
   "execution_count": 56,
   "metadata": {},
   "outputs": [
    {
     "name": "stdout",
     "output_type": "stream",
     "text": [
      "(310173, 43)\n",
      "20210404    84366\n",
      "20210304    83330\n",
      "20210629    78419\n",
      "20210914    64058\n",
      "Name: session_id, dtype: int64\n"
     ]
    },
    {
     "data": {
      "text/plain": [
       "'../../data/analysis/indicators/'"
      ]
     },
     "execution_count": 56,
     "metadata": {},
     "output_type": "execute_result"
    }
   ],
   "source": [
    "indf = pd.read_pickle(\"../../tmp/all_valid_matches_dump_df.pik\")\n",
    "print(indf.shape)\n",
    "#indf = indf.sample(500) # DEBUG\n",
    "print(indf['session_id'].value_counts())\n",
    "\n",
    "indf.sample(10)\n",
    "\n",
    "an_folder = out_folder+'data/analysis/indicators/'\n",
    "an_folder"
   ]
  },
  {
   "cell_type": "markdown",
   "metadata": {},
   "source": [
    "### Indicators over time"
   ]
  },
  {
   "cell_type": "code",
   "execution_count": 58,
   "metadata": {},
   "outputs": [
    {
     "data": {
      "text/html": [
       "<div>\n",
       "<style scoped>\n",
       "    .dataframe tbody tr th:only-of-type {\n",
       "        vertical-align: middle;\n",
       "    }\n",
       "\n",
       "    .dataframe tbody tr th {\n",
       "        vertical-align: top;\n",
       "    }\n",
       "\n",
       "    .dataframe thead th {\n",
       "        text-align: right;\n",
       "    }\n",
       "</style>\n",
       "<table border=\"1\" class=\"dataframe\">\n",
       "  <thead>\n",
       "    <tr style=\"text-align: right;\">\n",
       "      <th></th>\n",
       "      <th>session_id</th>\n",
       "      <th>muse_id</th>\n",
       "      <th>indicator_code_merged</th>\n",
       "      <th>n_indicator_matches</th>\n",
       "      <th>session_time</th>\n",
       "    </tr>\n",
       "  </thead>\n",
       "  <tbody>\n",
       "    <tr>\n",
       "      <th>0</th>\n",
       "      <td>20210304</td>\n",
       "      <td>domus.NE043</td>\n",
       "      <td>closed_cur</td>\n",
       "      <td>7</td>\n",
       "      <td>2021-03-04</td>\n",
       "    </tr>\n",
       "    <tr>\n",
       "      <th>1</th>\n",
       "      <td>20210304</td>\n",
       "      <td>domus.NE043</td>\n",
       "      <td>online_engag</td>\n",
       "      <td>2</td>\n",
       "      <td>2021-03-04</td>\n",
       "    </tr>\n",
       "    <tr>\n",
       "      <th>2</th>\n",
       "      <td>20210304</td>\n",
       "      <td>domus.NE043</td>\n",
       "      <td>open_cur</td>\n",
       "      <td>1</td>\n",
       "      <td>2021-03-04</td>\n",
       "    </tr>\n",
       "    <tr>\n",
       "      <th>3</th>\n",
       "      <td>20210304</td>\n",
       "      <td>domus.NE043</td>\n",
       "      <td>reopen_intent</td>\n",
       "      <td>4</td>\n",
       "      <td>2021-03-04</td>\n",
       "    </tr>\n",
       "    <tr>\n",
       "      <th>4</th>\n",
       "      <td>20210304</td>\n",
       "      <td>mm.MDN.006</td>\n",
       "      <td>closed_cur</td>\n",
       "      <td>11</td>\n",
       "      <td>2021-03-04</td>\n",
       "    </tr>\n",
       "    <tr>\n",
       "      <th>...</th>\n",
       "      <td>...</td>\n",
       "      <td>...</td>\n",
       "      <td>...</td>\n",
       "      <td>...</td>\n",
       "      <td>...</td>\n",
       "    </tr>\n",
       "    <tr>\n",
       "      <th>45182</th>\n",
       "      <td>20210914</td>\n",
       "      <td>mm.wiki.504</td>\n",
       "      <td>funding</td>\n",
       "      <td>1</td>\n",
       "      <td>2021-09-14</td>\n",
       "    </tr>\n",
       "    <tr>\n",
       "      <th>45183</th>\n",
       "      <td>20210914</td>\n",
       "      <td>mm.wiki.504</td>\n",
       "      <td>online_engag</td>\n",
       "      <td>3</td>\n",
       "      <td>2021-09-14</td>\n",
       "    </tr>\n",
       "    <tr>\n",
       "      <th>45184</th>\n",
       "      <td>20210914</td>\n",
       "      <td>mm.wiki.504</td>\n",
       "      <td>reopen_intent</td>\n",
       "      <td>1</td>\n",
       "      <td>2021-09-14</td>\n",
       "    </tr>\n",
       "    <tr>\n",
       "      <th>45185</th>\n",
       "      <td>20210914</td>\n",
       "      <td>mm.wiki.505</td>\n",
       "      <td>online_engag</td>\n",
       "      <td>4</td>\n",
       "      <td>2021-09-14</td>\n",
       "    </tr>\n",
       "    <tr>\n",
       "      <th>45186</th>\n",
       "      <td>20210914</td>\n",
       "      <td>mm.wiki.505</td>\n",
       "      <td>open_cur</td>\n",
       "      <td>1</td>\n",
       "      <td>2021-09-14</td>\n",
       "    </tr>\n",
       "  </tbody>\n",
       "</table>\n",
       "<p>45187 rows × 5 columns</p>\n",
       "</div>"
      ],
      "text/plain": [
       "      session_id      muse_id indicator_code_merged  n_indicator_matches  \\\n",
       "0       20210304  domus.NE043            closed_cur                    7   \n",
       "1       20210304  domus.NE043          online_engag                    2   \n",
       "2       20210304  domus.NE043              open_cur                    1   \n",
       "3       20210304  domus.NE043         reopen_intent                    4   \n",
       "4       20210304   mm.MDN.006            closed_cur                   11   \n",
       "...          ...          ...                   ...                  ...   \n",
       "45182   20210914  mm.wiki.504               funding                    1   \n",
       "45183   20210914  mm.wiki.504          online_engag                    3   \n",
       "45184   20210914  mm.wiki.504         reopen_intent                    1   \n",
       "45185   20210914  mm.wiki.505          online_engag                    4   \n",
       "45186   20210914  mm.wiki.505              open_cur                    1   \n",
       "\n",
       "      session_time  \n",
       "0       2021-03-04  \n",
       "1       2021-03-04  \n",
       "2       2021-03-04  \n",
       "3       2021-03-04  \n",
       "4       2021-03-04  \n",
       "...            ...  \n",
       "45182   2021-09-14  \n",
       "45183   2021-09-14  \n",
       "45184   2021-09-14  \n",
       "45185   2021-09-14  \n",
       "45186   2021-09-14  \n",
       "\n",
       "[45187 rows x 5 columns]"
      ]
     },
     "execution_count": 58,
     "metadata": {},
     "output_type": "execute_result"
    }
   ],
   "source": [
    "def sessionid_to_time(session_id):\n",
    "    dd = datetime.strptime(session_id, '%Y%m%d')\n",
    "    return dd\n",
    "\n",
    "mus_indic_df = indf.groupby(['session_id','muse_id','indicator_code_merged'], as_index=False).size()\n",
    "mus_indic_df = mus_indic_df.rename(columns={'size':'n_indicator_matches'})\n",
    "#mus_indic_df['mus_websites_n'] = mus_indic_df['muse_id'].nunique()\n",
    "mus_indic_df['session_time'] = mus_indic_df['session_id'].apply(sessionid_to_time)\n",
    "mus_indic_df.to_excel(an_folder+'museums_indicators_sessions.xlsx',index=False)\n",
    "mus_indic_df"
   ]
  },
  {
   "cell_type": "code",
   "execution_count": 59,
   "metadata": {},
   "outputs": [
    {
     "data": {
      "text/html": [
       "<div>\n",
       "<style scoped>\n",
       "    .dataframe tbody tr th:only-of-type {\n",
       "        vertical-align: middle;\n",
       "    }\n",
       "\n",
       "    .dataframe tbody tr th {\n",
       "        vertical-align: top;\n",
       "    }\n",
       "\n",
       "    .dataframe thead th {\n",
       "        text-align: right;\n",
       "    }\n",
       "</style>\n",
       "<table border=\"1\" class=\"dataframe\">\n",
       "  <thead>\n",
       "    <tr style=\"text-align: right;\">\n",
       "      <th></th>\n",
       "      <th>session_id</th>\n",
       "      <th>n_sess_museums</th>\n",
       "    </tr>\n",
       "  </thead>\n",
       "  <tbody>\n",
       "    <tr>\n",
       "      <th>0</th>\n",
       "      <td>20210304</td>\n",
       "      <td>3018</td>\n",
       "    </tr>\n",
       "    <tr>\n",
       "      <th>1</th>\n",
       "      <td>20210404</td>\n",
       "      <td>3032</td>\n",
       "    </tr>\n",
       "    <tr>\n",
       "      <th>2</th>\n",
       "      <td>20210629</td>\n",
       "      <td>3057</td>\n",
       "    </tr>\n",
       "    <tr>\n",
       "      <th>3</th>\n",
       "      <td>20210914</td>\n",
       "      <td>3047</td>\n",
       "    </tr>\n",
       "  </tbody>\n",
       "</table>\n",
       "</div>"
      ],
      "text/plain": [
       "  session_id  n_sess_museums\n",
       "0   20210304            3018\n",
       "1   20210404            3032\n",
       "2   20210629            3057\n",
       "3   20210914            3047"
      ]
     },
     "execution_count": 59,
     "metadata": {},
     "output_type": "execute_result"
    }
   ],
   "source": [
    "mus_indic_unique_df = mus_indic_df.groupby(['session_id'], as_index=False).nunique()\n",
    "mus_indic_unique_df = mus_indic_unique_df.rename(columns={'muse_id':'n_sess_museums'})\n",
    "mus_indic_unique_df = mus_indic_unique_df[['session_id','n_sess_museums']]\n",
    "mus_indic_unique_df"
   ]
  },
  {
   "cell_type": "code",
   "execution_count": 60,
   "metadata": {},
   "outputs": [
    {
     "data": {
      "text/html": [
       "<div>\n",
       "<style scoped>\n",
       "    .dataframe tbody tr th:only-of-type {\n",
       "        vertical-align: middle;\n",
       "    }\n",
       "\n",
       "    .dataframe tbody tr th {\n",
       "        vertical-align: top;\n",
       "    }\n",
       "\n",
       "    .dataframe thead th {\n",
       "        text-align: right;\n",
       "    }\n",
       "</style>\n",
       "<table border=\"1\" class=\"dataframe\">\n",
       "  <thead>\n",
       "    <tr style=\"text-align: right;\">\n",
       "      <th></th>\n",
       "      <th>session_id</th>\n",
       "      <th>indicator_code_merged</th>\n",
       "      <th>n_museums</th>\n",
       "      <th>n_sess_museums</th>\n",
       "      <th>indic_museum_pc</th>\n",
       "      <th>session_time</th>\n",
       "    </tr>\n",
       "  </thead>\n",
       "  <tbody>\n",
       "    <tr>\n",
       "      <th>0</th>\n",
       "      <td>20210304</td>\n",
       "      <td>closed_cur</td>\n",
       "      <td>2253</td>\n",
       "      <td>3018</td>\n",
       "      <td>74.7</td>\n",
       "      <td>2021-03-04</td>\n",
       "    </tr>\n",
       "    <tr>\n",
       "      <th>1</th>\n",
       "      <td>20210304</td>\n",
       "      <td>funding</td>\n",
       "      <td>1115</td>\n",
       "      <td>3018</td>\n",
       "      <td>36.9</td>\n",
       "      <td>2021-03-04</td>\n",
       "    </tr>\n",
       "    <tr>\n",
       "      <th>2</th>\n",
       "      <td>20210304</td>\n",
       "      <td>online_engag</td>\n",
       "      <td>2701</td>\n",
       "      <td>3018</td>\n",
       "      <td>89.5</td>\n",
       "      <td>2021-03-04</td>\n",
       "    </tr>\n",
       "    <tr>\n",
       "      <th>3</th>\n",
       "      <td>20210304</td>\n",
       "      <td>open_cur</td>\n",
       "      <td>1477</td>\n",
       "      <td>3018</td>\n",
       "      <td>48.9</td>\n",
       "      <td>2021-03-04</td>\n",
       "    </tr>\n",
       "    <tr>\n",
       "      <th>4</th>\n",
       "      <td>20210304</td>\n",
       "      <td>reopen_intent</td>\n",
       "      <td>2421</td>\n",
       "      <td>3018</td>\n",
       "      <td>80.2</td>\n",
       "      <td>2021-03-04</td>\n",
       "    </tr>\n",
       "    <tr>\n",
       "      <th>5</th>\n",
       "      <td>20210304</td>\n",
       "      <td>staff_working</td>\n",
       "      <td>1355</td>\n",
       "      <td>3018</td>\n",
       "      <td>44.9</td>\n",
       "      <td>2021-03-04</td>\n",
       "    </tr>\n",
       "    <tr>\n",
       "      <th>6</th>\n",
       "      <td>20210404</td>\n",
       "      <td>closed_cur</td>\n",
       "      <td>2256</td>\n",
       "      <td>3032</td>\n",
       "      <td>74.4</td>\n",
       "      <td>2021-04-04</td>\n",
       "    </tr>\n",
       "    <tr>\n",
       "      <th>7</th>\n",
       "      <td>20210404</td>\n",
       "      <td>funding</td>\n",
       "      <td>1161</td>\n",
       "      <td>3032</td>\n",
       "      <td>38.3</td>\n",
       "      <td>2021-04-04</td>\n",
       "    </tr>\n",
       "    <tr>\n",
       "      <th>8</th>\n",
       "      <td>20210404</td>\n",
       "      <td>online_engag</td>\n",
       "      <td>2726</td>\n",
       "      <td>3032</td>\n",
       "      <td>89.9</td>\n",
       "      <td>2021-04-04</td>\n",
       "    </tr>\n",
       "    <tr>\n",
       "      <th>9</th>\n",
       "      <td>20210404</td>\n",
       "      <td>open_cur</td>\n",
       "      <td>1531</td>\n",
       "      <td>3032</td>\n",
       "      <td>50.5</td>\n",
       "      <td>2021-04-04</td>\n",
       "    </tr>\n",
       "    <tr>\n",
       "      <th>10</th>\n",
       "      <td>20210404</td>\n",
       "      <td>reopen_intent</td>\n",
       "      <td>2464</td>\n",
       "      <td>3032</td>\n",
       "      <td>81.3</td>\n",
       "      <td>2021-04-04</td>\n",
       "    </tr>\n",
       "    <tr>\n",
       "      <th>11</th>\n",
       "      <td>20210404</td>\n",
       "      <td>staff_working</td>\n",
       "      <td>1358</td>\n",
       "      <td>3032</td>\n",
       "      <td>44.8</td>\n",
       "      <td>2021-04-04</td>\n",
       "    </tr>\n",
       "    <tr>\n",
       "      <th>12</th>\n",
       "      <td>20210629</td>\n",
       "      <td>closed_cur</td>\n",
       "      <td>1979</td>\n",
       "      <td>3057</td>\n",
       "      <td>64.7</td>\n",
       "      <td>2021-06-29</td>\n",
       "    </tr>\n",
       "    <tr>\n",
       "      <th>13</th>\n",
       "      <td>20210629</td>\n",
       "      <td>funding</td>\n",
       "      <td>1119</td>\n",
       "      <td>3057</td>\n",
       "      <td>36.6</td>\n",
       "      <td>2021-06-29</td>\n",
       "    </tr>\n",
       "    <tr>\n",
       "      <th>14</th>\n",
       "      <td>20210629</td>\n",
       "      <td>online_engag</td>\n",
       "      <td>2737</td>\n",
       "      <td>3057</td>\n",
       "      <td>89.5</td>\n",
       "      <td>2021-06-29</td>\n",
       "    </tr>\n",
       "    <tr>\n",
       "      <th>15</th>\n",
       "      <td>20210629</td>\n",
       "      <td>open_cur</td>\n",
       "      <td>1703</td>\n",
       "      <td>3057</td>\n",
       "      <td>55.7</td>\n",
       "      <td>2021-06-29</td>\n",
       "    </tr>\n",
       "    <tr>\n",
       "      <th>16</th>\n",
       "      <td>20210629</td>\n",
       "      <td>reopen_intent</td>\n",
       "      <td>2428</td>\n",
       "      <td>3057</td>\n",
       "      <td>79.4</td>\n",
       "      <td>2021-06-29</td>\n",
       "    </tr>\n",
       "    <tr>\n",
       "      <th>17</th>\n",
       "      <td>20210629</td>\n",
       "      <td>staff_working</td>\n",
       "      <td>1363</td>\n",
       "      <td>3057</td>\n",
       "      <td>44.6</td>\n",
       "      <td>2021-06-29</td>\n",
       "    </tr>\n",
       "    <tr>\n",
       "      <th>18</th>\n",
       "      <td>20210914</td>\n",
       "      <td>closed_cur</td>\n",
       "      <td>1761</td>\n",
       "      <td>3047</td>\n",
       "      <td>57.8</td>\n",
       "      <td>2021-09-14</td>\n",
       "    </tr>\n",
       "    <tr>\n",
       "      <th>19</th>\n",
       "      <td>20210914</td>\n",
       "      <td>funding</td>\n",
       "      <td>1090</td>\n",
       "      <td>3047</td>\n",
       "      <td>35.8</td>\n",
       "      <td>2021-09-14</td>\n",
       "    </tr>\n",
       "    <tr>\n",
       "      <th>20</th>\n",
       "      <td>20210914</td>\n",
       "      <td>online_engag</td>\n",
       "      <td>2762</td>\n",
       "      <td>3047</td>\n",
       "      <td>90.6</td>\n",
       "      <td>2021-09-14</td>\n",
       "    </tr>\n",
       "    <tr>\n",
       "      <th>21</th>\n",
       "      <td>20210914</td>\n",
       "      <td>open_cur</td>\n",
       "      <td>1776</td>\n",
       "      <td>3047</td>\n",
       "      <td>58.3</td>\n",
       "      <td>2021-09-14</td>\n",
       "    </tr>\n",
       "    <tr>\n",
       "      <th>22</th>\n",
       "      <td>20210914</td>\n",
       "      <td>reopen_intent</td>\n",
       "      <td>2308</td>\n",
       "      <td>3047</td>\n",
       "      <td>75.7</td>\n",
       "      <td>2021-09-14</td>\n",
       "    </tr>\n",
       "    <tr>\n",
       "      <th>23</th>\n",
       "      <td>20210914</td>\n",
       "      <td>staff_working</td>\n",
       "      <td>1343</td>\n",
       "      <td>3047</td>\n",
       "      <td>44.1</td>\n",
       "      <td>2021-09-14</td>\n",
       "    </tr>\n",
       "  </tbody>\n",
       "</table>\n",
       "</div>"
      ],
      "text/plain": [
       "   session_id indicator_code_merged  n_museums  n_sess_museums  \\\n",
       "0    20210304            closed_cur       2253            3018   \n",
       "1    20210304               funding       1115            3018   \n",
       "2    20210304          online_engag       2701            3018   \n",
       "3    20210304              open_cur       1477            3018   \n",
       "4    20210304         reopen_intent       2421            3018   \n",
       "5    20210304         staff_working       1355            3018   \n",
       "6    20210404            closed_cur       2256            3032   \n",
       "7    20210404               funding       1161            3032   \n",
       "8    20210404          online_engag       2726            3032   \n",
       "9    20210404              open_cur       1531            3032   \n",
       "10   20210404         reopen_intent       2464            3032   \n",
       "11   20210404         staff_working       1358            3032   \n",
       "12   20210629            closed_cur       1979            3057   \n",
       "13   20210629               funding       1119            3057   \n",
       "14   20210629          online_engag       2737            3057   \n",
       "15   20210629              open_cur       1703            3057   \n",
       "16   20210629         reopen_intent       2428            3057   \n",
       "17   20210629         staff_working       1363            3057   \n",
       "18   20210914            closed_cur       1761            3047   \n",
       "19   20210914               funding       1090            3047   \n",
       "20   20210914          online_engag       2762            3047   \n",
       "21   20210914              open_cur       1776            3047   \n",
       "22   20210914         reopen_intent       2308            3047   \n",
       "23   20210914         staff_working       1343            3047   \n",
       "\n",
       "    indic_museum_pc session_time  \n",
       "0              74.7   2021-03-04  \n",
       "1              36.9   2021-03-04  \n",
       "2              89.5   2021-03-04  \n",
       "3              48.9   2021-03-04  \n",
       "4              80.2   2021-03-04  \n",
       "5              44.9   2021-03-04  \n",
       "6              74.4   2021-04-04  \n",
       "7              38.3   2021-04-04  \n",
       "8              89.9   2021-04-04  \n",
       "9              50.5   2021-04-04  \n",
       "10             81.3   2021-04-04  \n",
       "11             44.8   2021-04-04  \n",
       "12             64.7   2021-06-29  \n",
       "13             36.6   2021-06-29  \n",
       "14             89.5   2021-06-29  \n",
       "15             55.7   2021-06-29  \n",
       "16             79.4   2021-06-29  \n",
       "17             44.6   2021-06-29  \n",
       "18             57.8   2021-09-14  \n",
       "19             35.8   2021-09-14  \n",
       "20             90.6   2021-09-14  \n",
       "21             58.3   2021-09-14  \n",
       "22             75.7   2021-09-14  \n",
       "23             44.1   2021-09-14  "
      ]
     },
     "execution_count": 60,
     "metadata": {},
     "output_type": "execute_result"
    }
   ],
   "source": [
    "mus_indic_counts_df = mus_indic_df.groupby(['session_id','indicator_code_merged'], as_index=False).size()\n",
    "mus_indic_counts_df = mus_indic_counts_df.rename(columns={'size':'n_museums'})\n",
    "mus_indic_counts_df = mus_indic_counts_df.merge(mus_indic_unique_df, on='session_id', how='left')\n",
    "\n",
    "mus_indic_counts_df['indic_museum_pc'] = mus_indic_counts_df['n_museums'] / mus_indic_counts_df['n_sess_museums'] * 100\n",
    "mus_indic_counts_df['indic_museum_pc'] = round(mus_indic_counts_df['indic_museum_pc'],1)\n",
    "mus_indic_counts_df['session_time'] = mus_indic_counts_df['session_id'].apply(sessionid_to_time)\n",
    "mus_indic_counts_df"
   ]
  },
  {
   "cell_type": "code",
   "execution_count": 129,
   "metadata": {},
   "outputs": [
    {
     "data": {
      "text/plain": [
       "<Figure size 432x288 with 0 Axes>"
      ]
     },
     "metadata": {},
     "output_type": "display_data"
    }
   ],
   "source": [
    "sns.set_style(\"whitegrid\")\n",
    "g = sns.lineplot(data=mus_indic_counts_df, x=\"session_time\", y=\"n_museums\", markers=True,\n",
    "             hue=\"indicator_code_merged\", style=\"indicator_code_merged\")\n",
    "# move legend outside\n",
    "g.legend(loc='center left', bbox_to_anchor=(1, 0.5))\n",
    "plt.savefig(an_folder+'indicators_over_time-n_museums.pdf',bbox_inches='tight')\n",
    "plt.clf()\n",
    "\n",
    "g = sns.lineplot(data=mus_indic_counts_df, x=\"session_time\", y=\"indic_museum_pc\", markers=True,\n",
    "             hue=\"indicator_code_merged\", style=\"indicator_code_merged\")\n",
    "g.legend(loc='center left', bbox_to_anchor=(1, 0.5))\n",
    "plt.savefig(an_folder+'indicators_over_time-n_museums_pc.pdf',bbox_inches='tight')\n",
    "plt.clf()"
   ]
  },
  {
   "cell_type": "markdown",
   "metadata": {},
   "source": [
    "### Pivot indicators over attributes"
   ]
  },
  {
   "cell_type": "code",
   "execution_count": 63,
   "metadata": {},
   "outputs": [
    {
     "name": "stdout",
     "output_type": "stream",
     "text": [
      "Index(['musname', 'muse_id', 'town', 'postcode', 'accreditation', 'governance',\n",
      "       'size', 'subject_matter', 'closing_date', 'provenance',\n",
      "       'deprivation_index', 'geodemographic_group', 'geodemographic_subgroup',\n",
      "       'admin_area'],\n",
      "      dtype='object')\n",
      "loaded museums w attributes (open): 3341 data/museums/museums_wattributes-2020-02-23.tsv\n",
      "independent    2399\n",
      "government      795\n",
      "university       92\n",
      "unknown          55\n",
      "Name: governance_simpl, dtype: int64\n",
      "England             2507\n",
      "Scotland             494\n",
      "Wales                207\n",
      "Northern Ireland      94\n",
      "Channel Islands       24\n",
      "Isle of Man           15\n",
      "Name: country, dtype: int64\n",
      "Scotland                     494\n",
      "South East                   476\n",
      "South West                   422\n",
      "East of England              333\n",
      "North West                   247\n",
      "London                       238\n",
      "Yorkshire and The Humber     229\n",
      "East Midlands                229\n",
      "West Midlands                228\n",
      "Wales                        207\n",
      "North East                   105\n",
      "Northern Ireland              94\n",
      "Channel Islands               24\n",
      "Isle of Man                   15\n",
      "Name: region, dtype: int64\n",
      "Local Histories             764\n",
      "Buildings                   553\n",
      "War and conflict            333\n",
      "Arts                        247\n",
      "Transport                   224\n",
      "Personality                 176\n",
      "Mixed                       166\n",
      "Industry and manufacture    151\n",
      "Rural Industry              111\n",
      "Sea and seafaring           102\n",
      "Belief and identity          96\n",
      "Archaeology                  91\n",
      "Leisure and sport            87\n",
      "Natural world                47\n",
      "Other                        43\n",
      "Services                     34\n",
      "Medicine and health          34\n",
      "Utilities                    33\n",
      "Science and technology       21\n",
      "Food and drink               15\n",
      "Communications               13\n",
      "Name: subject_matter_simpl, dtype: int64\n",
      "df rows= 45187\n",
      "Index(['session_id', 'muse_id', 'indicator_code_merged', 'n_indicator_matches',\n",
      "       'session_time', 'musname', 'town', 'postcode', 'accreditation',\n",
      "       'governance', 'size', 'subject_matter', 'closing_date', 'provenance',\n",
      "       'deprivation_index', 'geodemographic_group', 'geodemographic_subgroup',\n",
      "       'admin_area', 'governance_simpl', 'subject_matter_simpl', 'country',\n",
      "       'region'],\n",
      "      dtype='object')\n"
     ]
    },
    {
     "name": "stderr",
     "output_type": "stream",
     "text": [
      "/Users/andreaballatore/Dropbox/DRBX_Docs/Work/Projects/github_projects/museums-in-the-pandemic/mip/museums.py:401: FutureWarning: The default value of regex will change from True to False in a future version.\n",
      "  df['region'] = df['region'].str.replace('\\(English Region\\)','')\n"
     ]
    },
    {
     "data": {
      "text/html": [
       "<div>\n",
       "<style scoped>\n",
       "    .dataframe tbody tr th:only-of-type {\n",
       "        vertical-align: middle;\n",
       "    }\n",
       "\n",
       "    .dataframe tbody tr th {\n",
       "        vertical-align: top;\n",
       "    }\n",
       "\n",
       "    .dataframe thead th {\n",
       "        text-align: right;\n",
       "    }\n",
       "</style>\n",
       "<table border=\"1\" class=\"dataframe\">\n",
       "  <thead>\n",
       "    <tr style=\"text-align: right;\">\n",
       "      <th></th>\n",
       "      <th>session_id</th>\n",
       "      <th>muse_id</th>\n",
       "      <th>indicator_code_merged</th>\n",
       "      <th>n_indicator_matches</th>\n",
       "      <th>session_time</th>\n",
       "      <th>musname</th>\n",
       "      <th>town</th>\n",
       "      <th>postcode</th>\n",
       "      <th>accreditation</th>\n",
       "      <th>governance</th>\n",
       "      <th>...</th>\n",
       "      <th>closing_date</th>\n",
       "      <th>provenance</th>\n",
       "      <th>deprivation_index</th>\n",
       "      <th>geodemographic_group</th>\n",
       "      <th>geodemographic_subgroup</th>\n",
       "      <th>admin_area</th>\n",
       "      <th>governance_simpl</th>\n",
       "      <th>subject_matter_simpl</th>\n",
       "      <th>country</th>\n",
       "      <th>region</th>\n",
       "    </tr>\n",
       "  </thead>\n",
       "  <tbody>\n",
       "    <tr>\n",
       "      <th>36659</th>\n",
       "      <td>20210914</td>\n",
       "      <td>mm.domus.NE005</td>\n",
       "      <td>open_cur</td>\n",
       "      <td>1</td>\n",
       "      <td>2021-09-14</td>\n",
       "      <td>Jarrow Hall - Anglo Saxon Farm, Village And Be...</td>\n",
       "      <td>Jarrow</td>\n",
       "      <td>NE32 3DY</td>\n",
       "      <td>Unaccredited</td>\n",
       "      <td>Independent:Not for profit</td>\n",
       "      <td>...</td>\n",
       "      <td>Still open</td>\n",
       "      <td>domus</td>\n",
       "      <td>1.0</td>\n",
       "      <td>Services Manufacturing and Mining Legacy</td>\n",
       "      <td>Service Economy</td>\n",
       "      <td>/England/North East (English Region)/North Eas...</td>\n",
       "      <td>independent</td>\n",
       "      <td>Personality</td>\n",
       "      <td>England</td>\n",
       "      <td>North East</td>\n",
       "    </tr>\n",
       "    <tr>\n",
       "      <th>38458</th>\n",
       "      <td>20210914</td>\n",
       "      <td>mm.domus.SE050</td>\n",
       "      <td>reopen_intent</td>\n",
       "      <td>7</td>\n",
       "      <td>2021-09-14</td>\n",
       "      <td>Museum Of Richmond</td>\n",
       "      <td>Richmond-upon-Thames</td>\n",
       "      <td>TW9 1TP</td>\n",
       "      <td>Accredited</td>\n",
       "      <td>Independent:Not for profit</td>\n",
       "      <td>...</td>\n",
       "      <td>Still open</td>\n",
       "      <td>domus</td>\n",
       "      <td>8.0</td>\n",
       "      <td>Rural-Urban Fringe</td>\n",
       "      <td>Rural-Urban Fringe</td>\n",
       "      <td>/England/London (English Region)/Richmond upon...</td>\n",
       "      <td>independent</td>\n",
       "      <td>Local Histories</td>\n",
       "      <td>England</td>\n",
       "      <td>London</td>\n",
       "    </tr>\n",
       "    <tr>\n",
       "      <th>18028</th>\n",
       "      <td>20210404</td>\n",
       "      <td>mm.domus.SW165</td>\n",
       "      <td>closed_cur</td>\n",
       "      <td>3</td>\n",
       "      <td>2021-04-04</td>\n",
       "      <td>Padstow Museum</td>\n",
       "      <td>Padstow</td>\n",
       "      <td>PL28 8AD</td>\n",
       "      <td>Accredited</td>\n",
       "      <td>Independent:Not for profit</td>\n",
       "      <td>...</td>\n",
       "      <td>Still open</td>\n",
       "      <td>domus</td>\n",
       "      <td>3.0</td>\n",
       "      <td>Remoter Coastal Living</td>\n",
       "      <td>Ageing Coastal Living</td>\n",
       "      <td>/England/South West (English Region)/Cornwall ...</td>\n",
       "      <td>independent</td>\n",
       "      <td>Local Histories</td>\n",
       "      <td>England</td>\n",
       "      <td>South West</td>\n",
       "    </tr>\n",
       "    <tr>\n",
       "      <th>29050</th>\n",
       "      <td>20210629</td>\n",
       "      <td>mm.domus.SW034</td>\n",
       "      <td>open_cur</td>\n",
       "      <td>1</td>\n",
       "      <td>2021-06-29</td>\n",
       "      <td>Cricklade Museum</td>\n",
       "      <td>Cricklade</td>\n",
       "      <td>SN6 6DD</td>\n",
       "      <td>Unaccredited</td>\n",
       "      <td>Independent:Not for profit</td>\n",
       "      <td>...</td>\n",
       "      <td>Still open</td>\n",
       "      <td>domus</td>\n",
       "      <td>9.0</td>\n",
       "      <td>Country Living</td>\n",
       "      <td>Country Living</td>\n",
       "      <td>/England/South West (English Region)/Wiltshire...</td>\n",
       "      <td>independent</td>\n",
       "      <td>Local Histories</td>\n",
       "      <td>England</td>\n",
       "      <td>South West</td>\n",
       "    </tr>\n",
       "    <tr>\n",
       "      <th>28089</th>\n",
       "      <td>20210629</td>\n",
       "      <td>mm.domus.SE364</td>\n",
       "      <td>open_cur</td>\n",
       "      <td>5</td>\n",
       "      <td>2021-06-29</td>\n",
       "      <td>Verulamium Museum</td>\n",
       "      <td>St Albans</td>\n",
       "      <td>AL3 4SW</td>\n",
       "      <td>Accredited</td>\n",
       "      <td>Government:Local Authority</td>\n",
       "      <td>...</td>\n",
       "      <td>Still open</td>\n",
       "      <td>domus</td>\n",
       "      <td>10.0</td>\n",
       "      <td>Rural-Urban Fringe</td>\n",
       "      <td>Rural-Urban Fringe</td>\n",
       "      <td>/England/East of England (English Region)/Hert...</td>\n",
       "      <td>government</td>\n",
       "      <td>Archaeology</td>\n",
       "      <td>England</td>\n",
       "      <td>East of England</td>\n",
       "    </tr>\n",
       "    <tr>\n",
       "      <th>42736</th>\n",
       "      <td>20210914</td>\n",
       "      <td>mm.hha.187</td>\n",
       "      <td>closed_cur</td>\n",
       "      <td>1</td>\n",
       "      <td>2021-09-14</td>\n",
       "      <td>Fonmon Castle</td>\n",
       "      <td>Barry</td>\n",
       "      <td>CF62 3ZN</td>\n",
       "      <td>Unaccredited</td>\n",
       "      <td>Independent:Private</td>\n",
       "      <td>...</td>\n",
       "      <td>Still open</td>\n",
       "      <td>hha</td>\n",
       "      <td>9.0</td>\n",
       "      <td>Town Living</td>\n",
       "      <td>Prosperous Towns</td>\n",
       "      <td>/Wales/Vale of Glamorgan (Welsh UA)</td>\n",
       "      <td>independent</td>\n",
       "      <td>War and conflict</td>\n",
       "      <td>Wales</td>\n",
       "      <td>Wales</td>\n",
       "    </tr>\n",
       "    <tr>\n",
       "      <th>18499</th>\n",
       "      <td>20210404</td>\n",
       "      <td>mm.domus.WA052</td>\n",
       "      <td>staff_working</td>\n",
       "      <td>3</td>\n",
       "      <td>2021-04-04</td>\n",
       "      <td>Tredegar House And Park</td>\n",
       "      <td>Newport</td>\n",
       "      <td>NP10 8YW</td>\n",
       "      <td>Accredited</td>\n",
       "      <td>Independent:National Trust</td>\n",
       "      <td>...</td>\n",
       "      <td>Still open</td>\n",
       "      <td>domus</td>\n",
       "      <td>8.0</td>\n",
       "      <td>Manufacturing Traits</td>\n",
       "      <td>Industrial and Multi-ethnic</td>\n",
       "      <td>/Wales/Newport (Welsh UA)</td>\n",
       "      <td>independent</td>\n",
       "      <td>Buildings</td>\n",
       "      <td>Wales</td>\n",
       "      <td>Wales</td>\n",
       "    </tr>\n",
       "    <tr>\n",
       "      <th>11129</th>\n",
       "      <td>20210304</td>\n",
       "      <td>mm.wiki.393</td>\n",
       "      <td>open_cur</td>\n",
       "      <td>2</td>\n",
       "      <td>2021-03-04</td>\n",
       "      <td>Arundells</td>\n",
       "      <td>Salisbury</td>\n",
       "      <td>SP1 2EN</td>\n",
       "      <td>Unaccredited</td>\n",
       "      <td>Independent:Not for profit</td>\n",
       "      <td>...</td>\n",
       "      <td>Still open</td>\n",
       "      <td>wiki</td>\n",
       "      <td>5.0</td>\n",
       "      <td>Country Living</td>\n",
       "      <td>Country Living</td>\n",
       "      <td>/England/South West (English Region)/Wiltshire...</td>\n",
       "      <td>independent</td>\n",
       "      <td>Personality</td>\n",
       "      <td>England</td>\n",
       "      <td>South West</td>\n",
       "    </tr>\n",
       "    <tr>\n",
       "      <th>3433</th>\n",
       "      <td>20210304</td>\n",
       "      <td>mm.domus.SC017</td>\n",
       "      <td>closed_cur</td>\n",
       "      <td>1</td>\n",
       "      <td>2021-03-04</td>\n",
       "      <td>Annan Museum</td>\n",
       "      <td>Annan</td>\n",
       "      <td>DG12 6AA</td>\n",
       "      <td>Accredited</td>\n",
       "      <td>Government:Local Authority</td>\n",
       "      <td>...</td>\n",
       "      <td>Still open</td>\n",
       "      <td>domus</td>\n",
       "      <td>4.0</td>\n",
       "      <td>Scottish Countryside</td>\n",
       "      <td>Scottish Countryside</td>\n",
       "      <td>/Scotland/Dumfries and Galloway (Scottish Coun...</td>\n",
       "      <td>government</td>\n",
       "      <td>Local Histories</td>\n",
       "      <td>Scotland</td>\n",
       "      <td>Scotland</td>\n",
       "    </tr>\n",
       "    <tr>\n",
       "      <th>44979</th>\n",
       "      <td>20210914</td>\n",
       "      <td>mm.wiki.381</td>\n",
       "      <td>online_engag</td>\n",
       "      <td>1</td>\n",
       "      <td>2021-09-14</td>\n",
       "      <td>Dewsbury Minster Heritage Centre</td>\n",
       "      <td>Dewsbury</td>\n",
       "      <td>WF12 8DD</td>\n",
       "      <td>Unaccredited</td>\n",
       "      <td>Independent:Not for profit</td>\n",
       "      <td>...</td>\n",
       "      <td>Still open</td>\n",
       "      <td>wiki</td>\n",
       "      <td>1.0</td>\n",
       "      <td>Manufacturing Traits</td>\n",
       "      <td>Industrial and Multi-ethnic</td>\n",
       "      <td>/England/Yorkshire and The Humber (English Reg...</td>\n",
       "      <td>independent</td>\n",
       "      <td>Belief and identity</td>\n",
       "      <td>England</td>\n",
       "      <td>Yorkshire and The Humber</td>\n",
       "    </tr>\n",
       "  </tbody>\n",
       "</table>\n",
       "<p>10 rows × 22 columns</p>\n",
       "</div>"
      ],
      "text/plain": [
       "      session_id         muse_id indicator_code_merged  n_indicator_matches  \\\n",
       "36659   20210914  mm.domus.NE005              open_cur                    1   \n",
       "38458   20210914  mm.domus.SE050         reopen_intent                    7   \n",
       "18028   20210404  mm.domus.SW165            closed_cur                    3   \n",
       "29050   20210629  mm.domus.SW034              open_cur                    1   \n",
       "28089   20210629  mm.domus.SE364              open_cur                    5   \n",
       "42736   20210914      mm.hha.187            closed_cur                    1   \n",
       "18499   20210404  mm.domus.WA052         staff_working                    3   \n",
       "11129   20210304     mm.wiki.393              open_cur                    2   \n",
       "3433    20210304  mm.domus.SC017            closed_cur                    1   \n",
       "44979   20210914     mm.wiki.381          online_engag                    1   \n",
       "\n",
       "      session_time                                            musname  \\\n",
       "36659   2021-09-14  Jarrow Hall - Anglo Saxon Farm, Village And Be...   \n",
       "38458   2021-09-14                                 Museum Of Richmond   \n",
       "18028   2021-04-04                                     Padstow Museum   \n",
       "29050   2021-06-29                                   Cricklade Museum   \n",
       "28089   2021-06-29                                  Verulamium Museum   \n",
       "42736   2021-09-14                                      Fonmon Castle   \n",
       "18499   2021-04-04                            Tredegar House And Park   \n",
       "11129   2021-03-04                                          Arundells   \n",
       "3433    2021-03-04                                       Annan Museum   \n",
       "44979   2021-09-14                   Dewsbury Minster Heritage Centre   \n",
       "\n",
       "                       town  postcode accreditation  \\\n",
       "36659                Jarrow  NE32 3DY  Unaccredited   \n",
       "38458  Richmond-upon-Thames   TW9 1TP    Accredited   \n",
       "18028               Padstow  PL28 8AD    Accredited   \n",
       "29050             Cricklade   SN6 6DD  Unaccredited   \n",
       "28089             St Albans   AL3 4SW    Accredited   \n",
       "42736                 Barry  CF62 3ZN  Unaccredited   \n",
       "18499               Newport  NP10 8YW    Accredited   \n",
       "11129             Salisbury   SP1 2EN  Unaccredited   \n",
       "3433                  Annan  DG12 6AA    Accredited   \n",
       "44979              Dewsbury  WF12 8DD  Unaccredited   \n",
       "\n",
       "                       governance  ... closing_date provenance  \\\n",
       "36659  Independent:Not for profit  ...   Still open      domus   \n",
       "38458  Independent:Not for profit  ...   Still open      domus   \n",
       "18028  Independent:Not for profit  ...   Still open      domus   \n",
       "29050  Independent:Not for profit  ...   Still open      domus   \n",
       "28089  Government:Local Authority  ...   Still open      domus   \n",
       "42736         Independent:Private  ...   Still open        hha   \n",
       "18499  Independent:National Trust  ...   Still open      domus   \n",
       "11129  Independent:Not for profit  ...   Still open       wiki   \n",
       "3433   Government:Local Authority  ...   Still open      domus   \n",
       "44979  Independent:Not for profit  ...   Still open       wiki   \n",
       "\n",
       "      deprivation_index                      geodemographic_group  \\\n",
       "36659               1.0  Services Manufacturing and Mining Legacy   \n",
       "38458               8.0                        Rural-Urban Fringe   \n",
       "18028               3.0                    Remoter Coastal Living   \n",
       "29050               9.0                            Country Living   \n",
       "28089              10.0                        Rural-Urban Fringe   \n",
       "42736               9.0                               Town Living   \n",
       "18499               8.0                      Manufacturing Traits   \n",
       "11129               5.0                            Country Living   \n",
       "3433                4.0                      Scottish Countryside   \n",
       "44979               1.0                      Manufacturing Traits   \n",
       "\n",
       "           geodemographic_subgroup  \\\n",
       "36659              Service Economy   \n",
       "38458           Rural-Urban Fringe   \n",
       "18028        Ageing Coastal Living   \n",
       "29050               Country Living   \n",
       "28089           Rural-Urban Fringe   \n",
       "42736             Prosperous Towns   \n",
       "18499  Industrial and Multi-ethnic   \n",
       "11129               Country Living   \n",
       "3433          Scottish Countryside   \n",
       "44979  Industrial and Multi-ethnic   \n",
       "\n",
       "                                              admin_area governance_simpl  \\\n",
       "36659  /England/North East (English Region)/North Eas...      independent   \n",
       "38458  /England/London (English Region)/Richmond upon...      independent   \n",
       "18028  /England/South West (English Region)/Cornwall ...      independent   \n",
       "29050  /England/South West (English Region)/Wiltshire...      independent   \n",
       "28089  /England/East of England (English Region)/Hert...       government   \n",
       "42736                /Wales/Vale of Glamorgan (Welsh UA)      independent   \n",
       "18499                          /Wales/Newport (Welsh UA)      independent   \n",
       "11129  /England/South West (English Region)/Wiltshire...      independent   \n",
       "3433   /Scotland/Dumfries and Galloway (Scottish Coun...       government   \n",
       "44979  /England/Yorkshire and The Humber (English Reg...      independent   \n",
       "\n",
       "      subject_matter_simpl   country                     region  \n",
       "36659          Personality   England                North East   \n",
       "38458      Local Histories   England                    London   \n",
       "18028      Local Histories   England                South West   \n",
       "29050      Local Histories   England                South West   \n",
       "28089          Archaeology   England           East of England   \n",
       "42736     War and conflict     Wales                      Wales  \n",
       "18499            Buildings     Wales                      Wales  \n",
       "11129          Personality   England                South West   \n",
       "3433       Local Histories  Scotland                   Scotland  \n",
       "44979  Belief and identity   England  Yorkshire and The Humber   \n",
       "\n",
       "[10 rows x 22 columns]"
      ]
     },
     "execution_count": 63,
     "metadata": {},
     "output_type": "execute_result"
    }
   ],
   "source": [
    "len(mus_indic_df)\n",
    "mdf = load_input_museums_wattributes(out_folder)\n",
    "mdf = get_extra_museum_attributes(mdf)\n",
    "mus_indic_attrib_df = mus_indic_df.merge(mdf, on='muse_id', how='left')\n",
    "print('df rows=',len(mus_indic_attrib_df))\n",
    "print(mus_indic_attrib_df.columns)\n",
    "mus_indic_attrib_df.sample(10)"
   ]
  },
  {
   "cell_type": "code",
   "execution_count": 128,
   "metadata": {},
   "outputs": [
    {
     "name": "stdout",
     "output_type": "stream",
     "text": [
      "../../data/analysis/indicators//indic_pivot_tables/\n",
      "> pivot_indic_by_attributes: governance_simpl\n",
      "Index(['governance_simpl', 'tot_attr_museums'], dtype='object')\n",
      "../../data/analysis/indicators//indic_pivot_tables/indic-governance_simpl//indic_counts-governance_simpl.xlsx\n",
      "plot_indic_small_mult indicator_code_merged governance_simpl\n",
      "../../data/analysis/indicators//indic_pivot_tables/indic-governance_simpl//indic_linechart-indicator_code_merged-governance_simpl-n_museums.pdf\n",
      "plot_indic_small_mult governance_simpl indicator_code_merged\n",
      "../../data/analysis/indicators//indic_pivot_tables/indic-governance_simpl//indic_linechart-governance_simpl-indicator_code_merged-n_museums.pdf\n",
      "plot_indic_small_mult indicator_code_merged governance_simpl\n",
      "../../data/analysis/indicators//indic_pivot_tables/indic-governance_simpl//indic_linechart-indicator_code_merged-governance_simpl-pc_museums.pdf\n",
      "plot_indic_small_mult governance_simpl indicator_code_merged\n",
      "../../data/analysis/indicators//indic_pivot_tables/indic-governance_simpl//indic_linechart-governance_simpl-indicator_code_merged-pc_museums.pdf\n",
      "> pivot_indic_by_attributes: size\n",
      "Index(['size', 'tot_attr_museums'], dtype='object')\n",
      "../../data/analysis/indicators//indic_pivot_tables/indic-size//indic_counts-m_size.xlsx\n",
      "plot_indic_small_mult indicator_code_merged m_size\n",
      "../../data/analysis/indicators//indic_pivot_tables/indic-size//indic_linechart-indicator_code_merged-m_size-n_museums.pdf\n",
      "plot_indic_small_mult m_size indicator_code_merged\n",
      "../../data/analysis/indicators//indic_pivot_tables/indic-size//indic_linechart-m_size-indicator_code_merged-n_museums.pdf\n",
      "plot_indic_small_mult indicator_code_merged m_size\n",
      "../../data/analysis/indicators//indic_pivot_tables/indic-size//indic_linechart-indicator_code_merged-m_size-pc_museums.pdf\n",
      "plot_indic_small_mult m_size indicator_code_merged\n",
      "../../data/analysis/indicators//indic_pivot_tables/indic-size//indic_linechart-m_size-indicator_code_merged-pc_museums.pdf\n",
      "> pivot_indic_by_attributes: governance\n",
      "Index(['governance', 'tot_attr_museums'], dtype='object')\n",
      "../../data/analysis/indicators//indic_pivot_tables/indic-governance//indic_counts-governance.xlsx\n",
      "plot_indic_small_mult indicator_code_merged governance\n",
      "../../data/analysis/indicators//indic_pivot_tables/indic-governance//indic_linechart-indicator_code_merged-governance-n_museums.pdf\n",
      "plot_indic_small_mult governance indicator_code_merged\n",
      "../../data/analysis/indicators//indic_pivot_tables/indic-governance//indic_linechart-governance-indicator_code_merged-n_museums.pdf\n",
      "plot_indic_small_mult indicator_code_merged governance\n",
      "../../data/analysis/indicators//indic_pivot_tables/indic-governance//indic_linechart-indicator_code_merged-governance-pc_museums.pdf\n",
      "plot_indic_small_mult governance indicator_code_merged\n",
      "../../data/analysis/indicators//indic_pivot_tables/indic-governance//indic_linechart-governance-indicator_code_merged-pc_museums.pdf\n",
      "> pivot_indic_by_attributes: region\n",
      "Index(['region', 'tot_attr_museums'], dtype='object')\n",
      "../../data/analysis/indicators//indic_pivot_tables/indic-region//indic_counts-region.xlsx\n",
      "plot_indic_small_mult indicator_code_merged region\n",
      "../../data/analysis/indicators//indic_pivot_tables/indic-region//indic_linechart-indicator_code_merged-region-n_museums.pdf\n",
      "plot_indic_small_mult region indicator_code_merged\n",
      "../../data/analysis/indicators//indic_pivot_tables/indic-region//indic_linechart-region-indicator_code_merged-n_museums.pdf\n",
      "plot_indic_small_mult indicator_code_merged region\n",
      "../../data/analysis/indicators//indic_pivot_tables/indic-region//indic_linechart-indicator_code_merged-region-pc_museums.pdf\n",
      "plot_indic_small_mult region indicator_code_merged\n",
      "../../data/analysis/indicators//indic_pivot_tables/indic-region//indic_linechart-region-indicator_code_merged-pc_museums.pdf\n",
      "> pivot_indic_by_attributes: subject_matter_simpl\n",
      "Index(['subject_matter_simpl', 'tot_attr_museums'], dtype='object')\n",
      "../../data/analysis/indicators//indic_pivot_tables/indic-subject_matter_simpl//indic_counts-subject_matter_simpl.xlsx\n",
      "plot_indic_small_mult indicator_code_merged subject_matter_simpl\n",
      "../../data/analysis/indicators//indic_pivot_tables/indic-subject_matter_simpl//indic_linechart-indicator_code_merged-subject_matter_simpl-n_museums.pdf\n",
      "plot_indic_small_mult subject_matter_simpl indicator_code_merged\n",
      "../../data/analysis/indicators//indic_pivot_tables/indic-subject_matter_simpl//indic_linechart-subject_matter_simpl-indicator_code_merged-n_museums.pdf\n",
      "plot_indic_small_mult indicator_code_merged subject_matter_simpl\n",
      "../../data/analysis/indicators//indic_pivot_tables/indic-subject_matter_simpl//indic_linechart-indicator_code_merged-subject_matter_simpl-pc_museums.pdf\n",
      "plot_indic_small_mult subject_matter_simpl indicator_code_merged\n",
      "../../data/analysis/indicators//indic_pivot_tables/indic-subject_matter_simpl//indic_linechart-subject_matter_simpl-indicator_code_merged-pc_museums.pdf\n"
     ]
    },
    {
     "data": {
      "text/plain": [
       "<Figure size 1387.25x216 with 0 Axes>"
      ]
     },
     "metadata": {},
     "output_type": "display_data"
    },
    {
     "data": {
      "text/plain": [
       "<Figure size 1393.5x216 with 0 Axes>"
      ]
     },
     "metadata": {},
     "output_type": "display_data"
    },
    {
     "data": {
      "text/plain": [
       "<Figure size 1387.25x216 with 0 Axes>"
      ]
     },
     "metadata": {},
     "output_type": "display_data"
    },
    {
     "data": {
      "text/plain": [
       "<Figure size 1393.5x216 with 0 Axes>"
      ]
     },
     "metadata": {},
     "output_type": "display_data"
    },
    {
     "data": {
      "text/plain": [
       "<Figure size 1372.38x216 with 0 Axes>"
      ]
     },
     "metadata": {},
     "output_type": "display_data"
    },
    {
     "data": {
      "text/plain": [
       "<Figure size 1393.5x216 with 0 Axes>"
      ]
     },
     "metadata": {},
     "output_type": "display_data"
    },
    {
     "data": {
      "text/plain": [
       "<Figure size 1372.38x216 with 0 Axes>"
      ]
     },
     "metadata": {},
     "output_type": "display_data"
    },
    {
     "data": {
      "text/plain": [
       "<Figure size 1393.5x216 with 0 Axes>"
      ]
     },
     "metadata": {},
     "output_type": "display_data"
    },
    {
     "data": {
      "text/plain": [
       "<Figure size 1525.25x216 with 0 Axes>"
      ]
     },
     "metadata": {},
     "output_type": "display_data"
    },
    {
     "data": {
      "text/plain": [
       "<Figure size 1393.5x648 with 0 Axes>"
      ]
     },
     "metadata": {},
     "output_type": "display_data"
    },
    {
     "data": {
      "text/plain": [
       "<Figure size 1525.25x216 with 0 Axes>"
      ]
     },
     "metadata": {},
     "output_type": "display_data"
    },
    {
     "data": {
      "text/plain": [
       "<Figure size 1393.5x648 with 0 Axes>"
      ]
     },
     "metadata": {},
     "output_type": "display_data"
    },
    {
     "data": {
      "text/plain": [
       "<Figure size 1453.88x216 with 0 Axes>"
      ]
     },
     "metadata": {},
     "output_type": "display_data"
    },
    {
     "data": {
      "text/plain": [
       "<Figure size 1393.5x648 with 0 Axes>"
      ]
     },
     "metadata": {},
     "output_type": "display_data"
    },
    {
     "data": {
      "text/plain": [
       "<Figure size 1453.88x216 with 0 Axes>"
      ]
     },
     "metadata": {},
     "output_type": "display_data"
    },
    {
     "data": {
      "text/plain": [
       "<Figure size 1393.5x648 with 0 Axes>"
      ]
     },
     "metadata": {},
     "output_type": "display_data"
    },
    {
     "data": {
      "text/plain": [
       "<Figure size 1446.38x216 with 0 Axes>"
      ]
     },
     "metadata": {},
     "output_type": "display_data"
    },
    {
     "data": {
      "text/plain": [
       "<Figure size 1393.5x864 with 0 Axes>"
      ]
     },
     "metadata": {},
     "output_type": "display_data"
    },
    {
     "data": {
      "text/plain": [
       "<Figure size 1446.38x216 with 0 Axes>"
      ]
     },
     "metadata": {},
     "output_type": "display_data"
    },
    {
     "data": {
      "text/plain": [
       "<Figure size 1393.5x864 with 0 Axes>"
      ]
     },
     "metadata": {},
     "output_type": "display_data"
    }
   ],
   "source": [
    "for x in [an_folder+'/indic_pivot_tables/']:\n",
    "    print(x)\n",
    "    if not os.path.exists(x):\n",
    "        os.makedirs(x)\n",
    "\n",
    "def plot_indic_small_mult(df, col, group_var, y_var, y_label, fold):\n",
    "    # plot line chart of indicators (small multiples)\n",
    "    print('plot_indic_small_mult', col, group_var)\n",
    "    g = sns.FacetGrid(df, col=col, col_wrap=6)\n",
    "    g.map_dataframe(sns.lineplot, x=\"session_time\", y=y_var, hue=group_var, style=group_var, marker='.')\n",
    "    g.add_legend() #loc='lower right')\n",
    "\n",
    "    # fix up axes and labels\n",
    "    [ax.set(ylabel=y_label) for ax in g.axes.flat]\n",
    "    #for ax in g.axes.flatten():\n",
    "    #    ax.tick_params(labelbottom=True)\n",
    "    [plt.setp(ax.get_xticklabels(), rotation=45) for ax in g.axes.flat]\n",
    "    # save figure\n",
    "    figfn = \"{}/indic_linechart-{}-{}-{}.pdf\".format(fold, col, group_var, y_label.lower().replace(' ','_'))\n",
    "    #plt.tight_layout()\n",
    "    plt.savefig(figfn,bbox_inches='tight')\n",
    "    plt.clf()\n",
    "    print(figfn)\n",
    "        \n",
    "def pivot_indic_by_attributes(df, col, mus_df):\n",
    "    \"\"\" generate indicators pivoted by attributes \"\"\"\n",
    "    assert col\n",
    "    print(\"> pivot_indic_by_attributes:\",col)\n",
    "    fold = an_folder+'/indic_pivot_tables/indic-'+col+'/'\n",
    "    if not os.path.exists(fold): os.makedirs(fold)\n",
    "    # calc museum totals \n",
    "    mus_counts_df = mus_df.groupby(col).size().to_frame('tot_attr_museums').reset_index()\n",
    "    # fix for size ('size' is reserved in pandas)\n",
    "    print(mus_counts_df.columns)\n",
    "    if 'size' in mus_counts_df.columns:\n",
    "        mus_counts_df = mus_counts_df.rename(columns={'size':'m_size'})\n",
    "        col = 'm_size'\n",
    "    #print(mus_counts_df)\n",
    "    \n",
    "    df = df.copy()\n",
    "    df = df.rename(columns={'size':'m_size'})\n",
    "    cols = ['session_id','indicator_code_merged']\n",
    "    cols.append(col)\n",
    "    piv_df = df.groupby(cols, as_index=False).size()\n",
    "    piv_df = piv_df.merge(mus_counts_df, on=col, how='left')\n",
    "    \n",
    "    piv_df['indic_museum_attr_pc'] = round(piv_df['size'] / piv_df['tot_attr_museums'] * 100,1)\n",
    "    piv_df['session_time'] = piv_df['session_id'].apply(sessionid_to_time)\n",
    "    fn = \"{}/indic_counts-{}.xlsx\".format(fold, col)\n",
    "    print(fn)\n",
    "    piv_df.to_excel(fn, index=False)\n",
    "    \n",
    "    # plot line chart of indicators (small multiples)\n",
    "    # plot 1 by indicators\n",
    "    plot_indic_small_mult(piv_df, 'indicator_code_merged', col, 'size', 'N museums', fold)\n",
    "    plot_indic_small_mult(piv_df, col, 'indicator_code_merged', 'size', 'N museums', fold)\n",
    "    plot_indic_small_mult(piv_df, 'indicator_code_merged', col, 'indic_museum_attr_pc', 'PC museums', fold)\n",
    "    plot_indic_small_mult(piv_df, col, 'indicator_code_merged', 'indic_museum_attr_pc', 'PC museums', fold)\n",
    "    \n",
    "    return piv_df\n",
    "\n",
    "attrib_combs = ['governance_simpl','size','governance','region','country','subject_matter_simpl']\n",
    "#attrib_combs = ['governance_simpl'] # DEBUG\n",
    "for attrs in attrib_combs:\n",
    "    df = pivot_indic_by_attributes(mus_indic_attrib_df, attrs, mdf)"
   ]
  },
  {
   "cell_type": "code",
   "execution_count": 99,
   "metadata": {},
   "outputs": [
    {
     "name": "stdout",
     "output_type": "stream",
     "text": [
      "> pivot_indic_by_attributes: governance_simpl\n",
      "Index(['governance_simpl', 'tot_attr_museums'], dtype='object')\n",
      "../../data/analysis/indicators//indic_pivot_tables/indic-governance_simpl//indic_counts-governance_simpl.xlsx\n",
      "plot_indic_small_mult indicator_code_merged governance_simpl\n",
      "../../data/analysis/indicators//indic_pivot_tables/indic-governance_simpl//indic_counts_linechart-indicator_code_merged-governance_simpl.pdf\n",
      "plot_indic_small_mult governance_simpl indicator_code_merged\n",
      "../../data/analysis/indicators//indic_pivot_tables/indic-governance_simpl//indic_counts_linechart-governance_simpl-indicator_code_merged.pdf\n"
     ]
    },
    {
     "data": {
      "text/plain": [
       "<Figure size 739.25x432 with 0 Axes>"
      ]
     },
     "metadata": {},
     "output_type": "display_data"
    },
    {
     "data": {
      "text/plain": [
       "<Figure size 761.25x432 with 0 Axes>"
      ]
     },
     "metadata": {},
     "output_type": "display_data"
    }
   ],
   "source": [
    "df = pivot_indic_by_attributes(mus_indic_attrib_df, 'governance_simpl', mdf)"
   ]
  },
  {
   "cell_type": "code",
   "execution_count": 105,
   "metadata": {},
   "outputs": [
    {
     "data": {
      "text/plain": [
       "<seaborn.axisgrid.FacetGrid at 0x7f8ae6eea730>"
      ]
     },
     "execution_count": 105,
     "metadata": {},
     "output_type": "execute_result"
    },
    {
     "data": {
      "image/png": "[encoded data removed]",
      "text/plain": [
       "<Figure size 739.25x432 with 6 Axes>"
      ]
     },
     "metadata": {},
     "output_type": "display_data"
    }
   ],
   "source": [
    "g = sns.FacetGrid(df, col='indicator_code_merged', col_wrap=3)\n",
    "g.map_dataframe(sns.lineplot, x=\"session_time\", y=\"size\", hue='governance_simpl', style='governance_simpl', marker='x')\n",
    "g.add_legend()\n",
    "g"
   ]
  },
  {
   "cell_type": "code",
   "execution_count": null,
   "metadata": {},
   "outputs": [],
   "source": []
  },
  {
   "cell_type": "markdown",
   "metadata": {},
   "source": [
    "End of notebook."
   ]
  }
 ],
 "metadata": {
  "kernelspec": {
   "display_name": "Python 3 (ipykernel)",
   "language": "python",
   "name": "python3"
  },
  "language_info": {
   "codemirror_mode": {
    "name": "ipython",
    "version": 3
   },
   "file_extension": ".py",
   "mimetype": "text/x-python",
   "name": "python",
   "nbconvert_exporter": "python",
   "pygments_lexer": "ipython3",
   "version": "3.8.11"
  },
  "toc-autonumbering": false,
  "toc-showcode": false,
  "toc-showmarkdowntxt": false,
  "toc-showtags": false
 },
 "nbformat": 4,
 "nbformat_minor": 4
}
